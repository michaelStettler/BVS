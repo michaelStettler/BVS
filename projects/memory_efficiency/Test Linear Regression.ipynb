{
 "cells": [
  {
   "cell_type": "markdown",
   "metadata": {},
   "source": [
    "# Test linear regression"
   ]
  },
  {
   "cell_type": "code",
   "execution_count": 1,
   "metadata": {},
   "outputs": [],
   "source": [
    "import numpy as np\n",
    "np.set_printoptions(precision=4)"
   ]
  },
  {
   "cell_type": "markdown",
   "metadata": {},
   "source": [
    "data is a nxm array with\n",
    "* n := number of data point\n",
    "* m := variables as id/b0/b1/b2/.../bn"
   ]
  },
  {
   "cell_type": "code",
   "execution_count": 20,
   "metadata": {},
   "outputs": [],
   "source": [
    "data = np.array([[0, 1, 1, 1, 1, 1], [1, 1, -1, -1, -1, -1], [2, 1, 2, 2, 2, 2]])"
   ]
  },
  {
   "cell_type": "code",
   "execution_count": 21,
   "metadata": {},
   "outputs": [
    {
     "name": "stdout",
     "output_type": "stream",
     "text": [
      "[[ 0  1  1  1  1  1]\n",
      " [ 1  1 -1 -1 -1 -1]\n",
      " [ 2  1  2  2  2  2]]\n"
     ]
    }
   ],
   "source": [
    "print(data)"
   ]
  },
  {
   "cell_type": "code",
   "execution_count": 52,
   "metadata": {},
   "outputs": [],
   "source": [
    "def fit_linear_regression(x, y, lr=0.1, n_iter=10):\n",
    "    print(\"x\", np.shape(x))\n",
    "    print(x)\n",
    "    print(\"y\", np.shape(y))\n",
    "    print(y)\n",
    "    print()\n",
    "    \n",
    "    # retrieve parameters\n",
    "    n_variable = np.shape(x)[-1]\n",
    "    n_points = np.shape(x)[0]\n",
    "    print(\"n_variable\", n_variable)\n",
    "    # declare a weight for each variable\n",
    "    weights = np.zeros(n_variable)\n",
    "    # weights = np.array([2.0, 5.0])\n",
    "    print(\"weights\", np.shape(weights))\n",
    "    print(weights)\n",
    "    print()\n",
    "    \n",
    "    for i in range(n_iter):\n",
    "        # compute predictions y^\n",
    "        y_hat = np.dot(x, weights)\n",
    "\n",
    "        # compute errors \n",
    "        diffs = np.expand_dims(y - y_hat, 0)\n",
    "        SSE = np.sum(np.power(diffs, 2))\n",
    "        print(\"{} SSE:{:0.4f}, MSE:{:0.4f}\".format(i, SSE, np.sqrt(SSE)))\n",
    "\n",
    "        # compute gradient for each points\n",
    "        grads = np.squeeze(2 * np.dot(diffs, x))\n",
    "\n",
    "        # update parameters\n",
    "        weights += lr / n_points * grads\n",
    "     \n",
    "    print()\n",
    "    print(\"weights\")\n",
    "    print(weights)\n",
    "    "
   ]
  },
  {
   "cell_type": "code",
   "execution_count": 54,
   "metadata": {},
   "outputs": [
    {
     "name": "stdout",
     "output_type": "stream",
     "text": [
      "x (3, 2)\n",
      "[[ 1  1]\n",
      " [ 1 -1]\n",
      " [ 1  2]]\n",
      "y (3,)\n",
      "[ 1 -1  2]\n",
      "\n",
      "n_variable 2\n",
      "weights (2,)\n",
      "[0. 0.]\n",
      "\n",
      "[0. 0. 0.]\n",
      "[[ 1. -1.  2.]]\n",
      "0 SSE:6.0000, MSE:2.4495\n",
      "[ 4. 12.]\n",
      "[0.1333 0.4   ]\n",
      "\n",
      "[ 0.5333 -0.2667  0.9333]\n",
      "[[ 0.4667 -0.7333  1.0667]]\n",
      "1 SSE:1.8933, MSE:1.3760\n",
      "[1.6    6.6667]\n",
      "[0.1867 0.6222]\n",
      "\n",
      "[ 0.8089 -0.4356  1.4311]\n",
      "[[ 0.1911 -0.5644  0.5689]]\n",
      "2 SSE:0.6788, MSE:0.8239\n",
      "[0.3911 3.7867]\n",
      "[0.1997 0.7484]\n",
      "\n",
      "[ 0.9481 -0.5487  1.6966]\n",
      "[[ 0.0519 -0.4513  0.3034]]\n",
      "3 SSE:0.2984, MSE:0.5462\n",
      "[-0.192   2.2199]\n",
      "[0.1933 0.8224]\n",
      "\n",
      "[ 1.0157 -0.6291  1.8382]\n",
      "[[-0.0157 -0.3709  0.1618]]\n",
      "4 SSE:0.1640, MSE:0.4049\n",
      "[-0.4496  1.3575]\n",
      "[0.1783 0.8677]\n",
      "\n",
      "[ 1.046  -0.6894  1.9137]\n",
      "[[-0.046  -0.3106  0.0863]]\n",
      "5 SSE:0.1061, MSE:0.3257\n",
      "[-0.5407  0.8745]\n",
      "[0.1603 0.8968]\n",
      "\n",
      "\n",
      "weights\n",
      "[0.1603 0.8968]\n"
     ]
    }
   ],
   "source": [
    "fit_linear_regression(data[:, 1:3], data[:, -1], lr=0.1, n_iter=6)"
   ]
  },
  {
   "cell_type": "code",
   "execution_count": null,
   "metadata": {},
   "outputs": [],
   "source": []
  },
  {
   "cell_type": "code",
   "execution_count": null,
   "metadata": {},
   "outputs": [],
   "source": []
  }
 ],
 "metadata": {
  "kernelspec": {
   "display_name": "Python 3",
   "language": "python",
   "name": "python3"
  },
  "language_info": {
   "codemirror_mode": {
    "name": "ipython",
    "version": 3
   },
   "file_extension": ".py",
   "mimetype": "text/x-python",
   "name": "python",
   "nbconvert_exporter": "python",
   "pygments_lexer": "ipython3",
   "version": "3.7.3"
  }
 },
 "nbformat": 4,
 "nbformat_minor": 2
}
