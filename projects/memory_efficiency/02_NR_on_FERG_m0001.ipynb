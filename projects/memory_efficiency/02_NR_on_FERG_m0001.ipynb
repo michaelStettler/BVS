{
 "cells": [
  {
   "cell_type": "markdown",
   "source": [
    "# Training Norm-reference encoding on FERG dataset"
   ],
   "metadata": {
    "collapsed": false,
    "pycharm": {
     "name": "#%% md\n"
    }
   }
  },
  {
   "cell_type": "code",
   "execution_count": 1,
   "outputs": [],
   "source": [
    "import os\n",
    "import numpy as np\n",
    "import face_alignment\n",
    "from skimage import io\n",
    "import matplotlib.pyplot as plt\n",
    "import tqdm\n",
    "\n",
    "from utils.load_config import load_config\n",
    "from utils.load_data import load_data\n",
    "\n",
    "np.random.seed(0)\n",
    "np.set_printoptions(precision=3, suppress=True, linewidth=150)"
   ],
   "metadata": {
    "collapsed": false,
    "pycharm": {
     "name": "#%%\n"
    }
   }
  },
  {
   "cell_type": "markdown",
   "source": [
    "### declare parameters"
   ],
   "metadata": {
    "collapsed": false,
    "pycharm": {
     "name": "#%% md\n"
    }
   }
  },
  {
   "cell_type": "code",
   "execution_count": 2,
   "outputs": [],
   "source": [
    "# define configuration\n",
    "config_path = 'NR_02_FERG_m0001.json'\n",
    "\n",
    "# load config\n",
    "config = load_config(config_path, path='../../configs/norm_reference')"
   ],
   "metadata": {
    "collapsed": false,
    "pycharm": {
     "name": "#%%\n"
    }
   }
  },
  {
   "cell_type": "code",
   "execution_count": null,
   "outputs": [
    {
     "name": "stderr",
     "output_type": "stream",
     "text": [
      " 21%|██        | 9185/43767 [00:48<03:24, 169.48it/s]"
     ]
    }
   ],
   "source": [
    "### Load training data\n",
    "train_data = load_data(config)"
   ],
   "metadata": {
    "collapsed": false,
    "pycharm": {
     "name": "#%%\n",
     "is_executing": true
    }
   }
  },
  {
   "cell_type": "code",
   "execution_count": null,
   "outputs": [],
   "source": [],
   "metadata": {
    "collapsed": false,
    "pycharm": {
     "name": "#%%\n"
    }
   }
  }
 ],
 "metadata": {
  "kernelspec": {
   "display_name": "Python 3",
   "language": "python",
   "name": "python3"
  },
  "language_info": {
   "codemirror_mode": {
    "name": "ipython",
    "version": 2
   },
   "file_extension": ".py",
   "mimetype": "text/x-python",
   "name": "python",
   "nbconvert_exporter": "python",
   "pygments_lexer": "ipython2",
   "version": "2.7.6"
  }
 },
 "nbformat": 4,
 "nbformat_minor": 0
}