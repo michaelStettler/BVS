{
 "cells": [
  {
   "cell_type": "markdown",
   "metadata": {
    "collapsed": true,
    "pycharm": {
     "name": "#%% md\n"
    }
   },
   "source": [
    "# import librairies"
   ]
  },
  {
   "cell_type": "code",
   "execution_count": 99,
   "outputs": [],
   "source": [
    "import numpy as np\n",
    "import matplotlib.pyplot as plt\n",
    "import tensorflow as tf"
   ],
   "metadata": {
    "collapsed": false,
    "pycharm": {
     "name": "#%%\n"
    }
   }
  },
  {
   "cell_type": "markdown",
   "source": [
    "# load data"
   ],
   "metadata": {
    "collapsed": false,
    "pycharm": {
     "name": "#%% md\n"
    }
   }
  },
  {
   "cell_type": "code",
   "execution_count": 100,
   "outputs": [],
   "source": [
    "(x_train, y_train), (x_test, y_test) = tf.keras.datasets.mnist.load_data()"
   ],
   "metadata": {
    "collapsed": false,
    "pycharm": {
     "name": "#%%\n"
    }
   }
  },
  {
   "cell_type": "code",
   "execution_count": 101,
   "outputs": [
    {
     "name": "stdout",
     "output_type": "stream",
     "text": [
      "shape test_image (28, 28)\n"
     ]
    },
    {
     "data": {
      "text/plain": "<matplotlib.image.AxesImage at 0x134c7b3c8>"
     },
     "execution_count": 101,
     "metadata": {},
     "output_type": "execute_result"
    },
    {
     "data": {
      "text/plain": "<Figure size 432x288 with 1 Axes>",
      "image/png": "[encoded data removed]"
     },
     "metadata": {
      "needs_background": "light"
     },
     "output_type": "display_data"
    }
   ],
   "source": [
    "idx = 3  # label 1\n",
    "test_image = x_train[idx]\n",
    "print(\"shape test_image\", np.shape(test_image))\n",
    "plt.imshow(test_image, cmap='Greys')"
   ],
   "metadata": {
    "collapsed": false,
    "pycharm": {
     "name": "#%%\n"
    }
   }
  },
  {
   "cell_type": "markdown",
   "source": [
    "# find primers"
   ],
   "metadata": {
    "collapsed": false,
    "pycharm": {
     "name": "#%% md\n"
    }
   }
  },
  {
   "cell_type": "code",
   "execution_count": 102,
   "outputs": [
    {
     "name": "stdout",
     "output_type": "stream",
     "text": [
      "shape f_vert_top_primer (3, 3, 1, 1)\n",
      "shape input_image (1, 28, 28, 1)\n"
     ]
    }
   ],
   "source": [
    "# build a filter\n",
    "f_vert_top_primer = np.array([[0, -1, 0],\n",
    "                              [0, 1, 0],\n",
    "                              [0, 1, 0]])\n",
    "f_vert_top_primer = np.expand_dims(f_vert_top_primer, axis=[2, 3])\n",
    "print(\"shape f_vert_top_primer\", np.shape(f_vert_top_primer))\n",
    "tf.convert_to_tensor(f_vert_top_primer, dtype='float32')\n",
    "\n",
    "# convert image to tensor\n",
    "input_image = np.expand_dims(test_image, axis=[0, 3])\n",
    "print(\"shape input_image\", np.shape(input_image))\n",
    "input_image = tf.convert_to_tensor(input_image, dtype='float32')\n",
    "\n",
    "# apply convolution\n",
    "primers = tf.nn.conv2d(input_image, f_vert_top_primer, strides=1, padding='VALID', name=\"conv1\")"
   ],
   "metadata": {
    "collapsed": false,
    "pycharm": {
     "name": "#%%\n"
    }
   }
  },
  {
   "cell_type": "code",
   "execution_count": 103,
   "outputs": [
    {
     "data": {
      "text/plain": "<matplotlib.image.AxesImage at 0x134cd7240>"
     },
     "execution_count": 103,
     "metadata": {},
     "output_type": "execute_result"
    },
    {
     "data": {
      "text/plain": "<Figure size 432x288 with 1 Axes>",
      "image/png": "[encoded data removed]"
     },
     "metadata": {
      "needs_background": "light"
     },
     "output_type": "display_data"
    }
   ],
   "source": [
    "# plot primers\n",
    "plt.imshow(primers[0, ..., 0], cmap='Greys')"
   ],
   "metadata": {
    "collapsed": false,
    "pycharm": {
     "name": "#%%\n"
    }
   }
  },
  {
   "cell_type": "code",
   "execution_count": 104,
   "outputs": [
    {
     "name": "stdout",
     "output_type": "stream",
     "text": [
      "(26, 26)\n",
      "primer pos; (19, 4)\n"
     ]
    }
   ],
   "source": [
    "# keep max value\n",
    "np_primers = primers.numpy()\n",
    "np_primers = np_primers[0, ..., 0]\n",
    "print(np.shape(np_primers))\n",
    "primer_pos_x = np.argmax(np.amax(np_primers, axis=0))\n",
    "primer_pos_y = np.argmax(np.amax(np_primers, axis=1))\n",
    "print(\"primer pos; ({}, {})\".format(primer_pos_x, primer_pos_y))\n"
   ],
   "metadata": {
    "collapsed": false,
    "pycharm": {
     "name": "#%%\n"
    }
   }
  },
  {
   "cell_type": "code",
   "execution_count": 105,
   "outputs": [],
   "source": [
    "def find_primer(image, filter, do_plot=False):\n",
    "    filter = np.expand_dims(filter, axis=[2, 3])\n",
    "    tf.convert_to_tensor(filter, dtype='float32')\n",
    "\n",
    "    # convert image to tensor\n",
    "    if len(np.shape(image)) == 2:\n",
    "        image = np.expand_dims(image, axis=[0, 3])\n",
    "    else:\n",
    "        print(\"image shape is wrong! Expected 2 got \", len(np.shape(image)))\n",
    "    image = tf.convert_to_tensor(image, dtype='float32')\n",
    "\n",
    "    # apply convolution\n",
    "    primers = tf.nn.conv2d(image, filter, strides=1, padding='VALID', name=\"conv1\")\n",
    "\n",
    "    # keep max value\n",
    "    np_primers = primers.numpy()\n",
    "    np_primers = np_primers[0, ..., 0]\n",
    "    primer_pos_x = np.argmax(np.amax(np_primers, axis=0))\n",
    "    primer_pos_y = np.argmax(np.amax(np_primers, axis=1))\n",
    "\n",
    "    if do_plot:\n",
    "        # plot primers\n",
    "        plt.imshow(primers[0, ..., 0], cmap='Greys')\n",
    "\n",
    "    return (primer_pos_x, primer_pos_y)"
   ],
   "metadata": {
    "collapsed": false,
    "pycharm": {
     "name": "#%%\n"
    }
   }
  },
  {
   "cell_type": "code",
   "execution_count": 106,
   "outputs": [
    {
     "name": "stdout",
     "output_type": "stream",
     "text": [
      "primer_top_pos (19, 4)\n"
     ]
    }
   ],
   "source": [
    "# find top primers for vertical lines\n",
    "f_vert_top_primer = np.array([[0, -1, 0],\n",
    "                              [0, 1, 0],\n",
    "                              [0, 1, 0]])\n",
    "primer_top_pos = find_primer(test_image, f_vert_top_primer)\n",
    "print(\"primer_top_pos\", primer_top_pos)"
   ],
   "metadata": {
    "collapsed": false,
    "pycharm": {
     "name": "#%%\n"
    }
   }
  },
  {
   "cell_type": "code",
   "execution_count": 119,
   "outputs": [
    {
     "name": "stdout",
     "output_type": "stream",
     "text": [
      "primer_down_pos (9, 23)\n"
     ]
    }
   ],
   "source": [
    "# find down primers for vertical lines\n",
    "f_vert_down_primer = np.array([[0, 1, 0],\n",
    "                              [0, 1, 0],\n",
    "                              [0, -1, 0]])\n",
    "primer_down_pos = find_primer(test_image, f_vert_down_primer)\n",
    "print(\"primer_down_pos\", primer_down_pos)"
   ],
   "metadata": {
    "collapsed": false,
    "pycharm": {
     "name": "#%%\n"
    }
   }
  },
  {
   "cell_type": "code",
   "execution_count": 121,
   "outputs": [
    {
     "name": "stdout",
     "output_type": "stream",
     "text": [
      "primers_pos\n",
      "[[19  4]\n",
      " [ 9 23]]\n"
     ]
    }
   ],
   "source": [
    "# merge primers\n",
    "primers_pos = np.array([primer_top_pos, primer_down_pos])\n",
    "print(\"primers_pos\")\n",
    "print(primers_pos)"
   ],
   "metadata": {
    "collapsed": false,
    "pycharm": {
     "name": "#%%\n"
    }
   }
  },
  {
   "cell_type": "code",
   "execution_count": 122,
   "outputs": [
    {
     "data": {
      "text/plain": "<matplotlib.image.AxesImage at 0x134f610f0>"
     },
     "execution_count": 122,
     "metadata": {},
     "output_type": "execute_result"
    },
    {
     "data": {
      "text/plain": "<Figure size 432x288 with 1 Axes>",
      "image/png": "[encoded data removed]"
     },
     "metadata": {
      "needs_background": "light"
     },
     "output_type": "display_data"
    }
   ],
   "source": [
    "# plot both primers\n",
    "\n",
    "# transform img into RGB\n",
    "rgb_im = np.repeat(np.expand_dims(test_image, axis=2), 3, axis=2)\n",
    "\n",
    "# add primers\n",
    "plt.plot([primers_pos[0, 0], primers_pos[1, 0]],[primers_pos[0, 1], primers_pos[1, 1]], color='blue', linestyle='dashed', marker='o', linewidth=3)\n",
    "\n",
    "# show primers\n",
    "plt.imshow(rgb_im)"
   ],
   "metadata": {
    "collapsed": false,
    "pycharm": {
     "name": "#%%\n"
    }
   }
  },
  {
   "cell_type": "code",
   "execution_count": 146,
   "outputs": [],
   "source": [
    "# build pattern for digit \"1\"\n",
    "patterns = np.array([[[14, 4], [14, 22]], [[8, 10], [14, 4]]])"
   ],
   "metadata": {
    "collapsed": false,
    "pycharm": {
     "name": "#%%\n"
    }
   }
  },
  {
   "cell_type": "code",
   "execution_count": 147,
   "outputs": [
    {
     "data": {
      "text/plain": "<matplotlib.image.AxesImage at 0x1350b2f60>"
     },
     "execution_count": 147,
     "metadata": {},
     "output_type": "execute_result"
    },
    {
     "data": {
      "text/plain": "<Figure size 432x288 with 1 Axes>",
      "image/png": "[encoded data removed]"
     },
     "metadata": {
      "needs_background": "light"
     },
     "output_type": "display_data"
    }
   ],
   "source": [
    "# plot pattern\n",
    "\n",
    "# transform img into RGB\n",
    "rgb_im = np.repeat(np.expand_dims(test_image, axis=2), 3, axis=2)\n",
    "\n",
    "# add patterns\n",
    "for pattern in patterns:\n",
    "    plt.plot([pattern[0, 0], pattern[1, 0]],[pattern[0, 1], pattern[1, 1]], color='green', linestyle='solid', marker='o', linewidth=3)\n",
    "\n",
    "# show primers\n",
    "plt.imshow(rgb_im)"
   ],
   "metadata": {
    "collapsed": false,
    "pycharm": {
     "name": "#%%\n"
    }
   }
  },
  {
   "cell_type": "code",
   "execution_count": 157,
   "outputs": [
    {
     "name": "stdout",
     "output_type": "stream",
     "text": [
      "refs\n",
      "[[14  4]\n",
      " [ 8 10]]\n",
      "tunings\n",
      "[[ 0 18]\n",
      " [ 6 -6]]\n",
      "v\n",
      "[[-10  19]]\n",
      "\n",
      "len tun 18.0\n",
      "len v 21.470910553583888\n",
      "len proj 19.0\n",
      "len tun 8.48528137423857\n",
      "pattern not found\n",
      "len proj 19.0\n"
     ]
    }
   ],
   "source": [
    "# compute norm-referenced\n",
    "refs = patterns[:, 0]\n",
    "tunings = patterns[:, 1] - refs\n",
    "print(\"refs\")\n",
    "print(refs)\n",
    "print(\"tunings\")\n",
    "print(tunings)\n",
    "\n",
    "# compute relative tuning difference from ref set at (0, 0)\n",
    "v = np.array([primers_pos[1] - primers_pos[0]])\n",
    "print(\"v\")\n",
    "print(v)\n",
    "\n",
    "# compute projections\n",
    "print()\n",
    "proj = 0\n",
    "for p in range(len(patterns)):\n",
    "    try:\n",
    "        print(\"len tun\", np.linalg.norm(tunings[p]))\n",
    "        print(\"len v\", np.linalg.norm(v[p]))\n",
    "        proj += np.amax(np.dot(v[p], tunings[p] / np.linalg.norm(tunings[p])), 0)\n",
    "    except:\n",
    "        print(\"pattern not found\")\n",
    "    print(\"len proj\", proj)"
   ],
   "metadata": {
    "collapsed": false,
    "pycharm": {
     "name": "#%%\n"
    }
   }
  },
  {
   "cell_type": "code",
   "execution_count": null,
   "outputs": [],
   "source": [
    "\"\"\"\n",
    "find a way to test that a one with non touching lines fails\n",
    "test with a one that has the first upwards line (need to add filters)\n",
    "test with a seven (possibly needs to add a new filter as well for the horizontal line)\n",
    "\n",
    "\"\"\""
   ],
   "metadata": {
    "collapsed": false,
    "pycharm": {
     "name": "#%%\n"
    }
   }
  }
 ],
 "metadata": {
  "kernelspec": {
   "display_name": "Python 3",
   "language": "python",
   "name": "python3"
  },
  "language_info": {
   "codemirror_mode": {
    "name": "ipython",
    "version": 2
   },
   "file_extension": ".py",
   "mimetype": "text/x-python",
   "name": "python",
   "nbconvert_exporter": "python",
   "pygments_lexer": "ipython2",
   "version": "2.7.6"
  }
 },
 "nbformat": 4,
 "nbformat_minor": 0
}