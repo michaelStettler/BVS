{
 "cells": [
  {
   "cell_type": "markdown",
   "metadata": {
    "collapsed": true,
    "pycharm": {
     "name": "#%% md\n"
    }
   },
   "source": [
    "# IMPORT LIBRAIRIES"
   ]
  },
  {
   "cell_type": "code",
   "execution_count": 1,
   "outputs": [],
   "source": [
    "import numpy as np\n",
    "import matplotlib.pyplot as plt\n",
    "import matplotlib.cm as cm\n",
    "import tensorflow as tf\n",
    "\n",
    "# from utils.load_custom_filters_for_primer2 import get_filters_multi_scale\n",
    "\n",
    "np.set_printoptions(precision=3, suppress=True)"
   ],
   "metadata": {
    "collapsed": false,
    "pycharm": {
     "name": "#%%\n"
    }
   }
  },
  {
   "cell_type": "code",
   "execution_count": 2,
   "outputs": [],
   "source": [
    "PATCH_SIZE = 4\n",
    "FILTER_THRESHOLD = 0.7\n",
    "CLUSTER_DISTANCE = 3"
   ],
   "metadata": {
    "collapsed": false,
    "pycharm": {
     "name": "#%%\n"
    }
   }
  },
  {
   "cell_type": "markdown",
   "source": [
    "# LOAD DATA"
   ],
   "metadata": {
    "collapsed": false,
    "pycharm": {
     "name": "#%% md\n"
    }
   }
  },
  {
   "cell_type": "code",
   "execution_count": 107,
   "outputs": [
    {
     "name": "stdout",
     "output_type": "stream",
     "text": [
      "Loaded 323 primers\n",
      "num_digits: 64\n",
      "n_cat: 12\n"
     ]
    }
   ],
   "source": [
    "(x_train, y_train), (x_test, y_test) = tf.keras.datasets.mnist.load_data()\n",
    "lmks_pos = np.load(\"_lmk_pos_train65.npy\")\n",
    "print(\"Loaded {} primers\".format(len(lmks_pos)))\n",
    "num_digits = int(np.amax(lmks_pos[:, 0]))\n",
    "print(\"num_digits:\", num_digits)\n",
    "n_cat = int(np.amax(lmks_pos[:, 3]))\n",
    "print(\"n_cat:\", n_cat)"
   ],
   "metadata": {
    "collapsed": false,
    "pycharm": {
     "name": "#%%\n"
    }
   }
  },
  {
   "cell_type": "markdown",
   "source": [
    "## display digits"
   ],
   "metadata": {
    "collapsed": false,
    "pycharm": {
     "name": "#%% md\n"
    }
   }
  },
  {
   "cell_type": "code",
   "execution_count": 606,
   "outputs": [
    {
     "name": "stdout",
     "output_type": "stream",
     "text": [
      "shape lmks_pos (134, 4)\n"
     ]
    }
   ],
   "source": [
    "# label digits\n",
    "lmks_pos = []\n",
    "lmks_pos.append([65, 25, 9, 3])\n",
    "lmks_pos.append([65, 6, 20, 1])\n",
    "lmks_pos.append([65, 11, 12, 8])\n",
    "lmks_pos.append([65, 10, 15, 9])\n",
    "lmks_pos.append([65, 14, 15, 11])\n",
    "lmks_pos.append([65, 12, 20, 10])\n",
    "lmks_pos.append([66, 18, 2, 0])\n",
    "lmks_pos.append([66, 11, 13, 5])\n",
    "lmks_pos.append([66, 10, 20, 9])\n",
    "lmks_pos.append([66, 19, 17, 10])\n",
    "lmks_pos.append([66, 19, 13, 11])\n",
    "lmks_pos.append([67, 15, 7, 0])\n",
    "lmks_pos.append([67, 10, 24, 2])\n",
    "lmks_pos.append([68, 6, 11, 8])\n",
    "lmks_pos.append([68, 6, 17, 9])\n",
    "lmks_pos.append([68, 23, 20, 10])\n",
    "lmks_pos.append([68, 23, 11, 11])\n",
    "lmks_pos.append([69, 13, 8, 8])\n",
    "lmks_pos.append([69, 10, 21, 9])\n",
    "lmks_pos.append([69, 17, 21, 10])\n",
    "lmks_pos.append([69, 18, 9, 11])\n",
    "lmks_pos.append([70, 9, 8, 1])\n",
    "lmks_pos.append([70, 14, 6, 11])\n",
    "lmks_pos.append([70, 13, 20, 10])\n",
    "lmks_pos.append([70, 20, 18, 2])\n",
    "lmks_pos.append([71, 7, 12, 1])\n",
    "lmks_pos.append([71, 19, 9, 11])\n",
    "lmks_pos.append([71, 8, 26, 2])\n",
    "lmks_pos.append([72, 13, 4, 0])\n",
    "lmks_pos.append([72, 13, 23, 2])\n",
    "lmks_pos.append([73, 16, 2, 0])\n",
    "lmks_pos.append([73, 10, 20, 9])\n",
    "lmks_pos.append([73, 13, 20, 6])\n",
    "lmks_pos.append([73, 19, 17, 10])\n",
    "lmks_pos.append([73, 19, 12, 11])\n",
    "lmks_pos.append([73, 13, 15, 8])\n",
    "lmks_pos.append([74, 8, 7, 1])\n",
    "lmks_pos.append([74, 9, 13, 1])\n",
    "lmks_pos.append([74, 9, 22, 1])\n",
    "lmks_pos.append([74, 14, 7, 11])\n",
    "lmks_pos.append([74, 14, 11, 7])\n",
    "lmks_pos.append([74, 16, 21, 10])\n",
    "lmks_pos.append([75, 14, 8, 8])\n",
    "lmks_pos.append([75, 8, 21, 9])\n",
    "lmks_pos.append([75, 19, 18, 10])\n",
    "lmks_pos.append([75, 18, 8, 11])\n",
    "lmks_pos.append([76, 5, 8, 1])\n",
    "lmks_pos.append([76, 16, 6, 11])\n",
    "lmks_pos.append([76, 11, 20, 9])\n",
    "lmks_pos.append([76, 24, 21, 3])\n",
    "lmks_pos.append([77, 18, 5, 0])\n",
    "lmks_pos.append([77, 10, 24, 2])\n",
    "lmks_pos.append([78, 16, 4, 0])\n",
    "lmks_pos.append([78, 10, 23, 2])\n",
    "lmks_pos.append([79, 7, 12, 1])\n",
    "lmks_pos.append([79, 18, 9, 11])\n",
    "lmks_pos.append([79, 8, 26, 2])\n",
    "lmks_pos.append([80, 17, 5, 3])\n",
    "lmks_pos.append([80, 12, 5, 8])\n",
    "lmks_pos.append([80, 11, 11, 9])\n",
    "lmks_pos.append([80, 19, 10, 11])\n",
    "lmks_pos.append([80, 19, 19, 10])\n",
    "lmks_pos.append([80, 10, 20, 9])\n",
    "lmks_pos.append([80, 9, 15, 0])\n",
    "lmks_pos.append([81, 15, 7, 8])\n",
    "lmks_pos.append([81, 8, 22, 9])\n",
    "lmks_pos.append([81, 17, 19, 10])\n",
    "lmks_pos.append([81, 19, 6, 11])\n",
    "lmks_pos.append([82, 9, 6, 1])\n",
    "lmks_pos.append([82, 16, 6, 11])\n",
    "lmks_pos.append([82, 19, 17, 12])\n",
    "lmks_pos.append([82, 16, 21, 10])\n",
    "lmks_pos.append([82, 8, 21, 9])\n",
    "lmks_pos.append([82, 9, 16, 8])\n",
    "lmks_pos.append([82, 22, 19, 3])\n",
    "lmks_pos.append([83, 16, 2, 0])\n",
    "lmks_pos.append([83, 9, 20, 9])\n",
    "lmks_pos.append([83, 15, 19, 6])\n",
    "lmks_pos.append([83, 21, 17, 10])\n",
    "lmks_pos.append([83, 21, 11, 11])\n",
    "lmks_pos.append([83, 16, 12, 8])\n",
    "lmks_pos.append([84, 4, 8, 1])\n",
    "lmks_pos.append([84, 19, 8, 11])\n",
    "lmks_pos.append([84, 14, 26, 2])\n",
    "lmks_pos.append([85, 12, 6, 8])\n",
    "lmks_pos.append([85, 14, 13, 12])\n",
    "lmks_pos.append([85, 8, 23, 9])\n",
    "lmks_pos.append([85, 15, 22, 10])\n",
    "lmks_pos.append([85, 18, 6, 11])\n",
    "lmks_pos.append([85, 22, 5, 0])\n",
    "lmks_pos.append([86, 3, 7, 1])\n",
    "lmks_pos.append([86, 10, 12, 1])\n",
    "lmks_pos.append([86, 12, 23, 1])\n",
    "lmks_pos.append([86, 13, 7, 11])\n",
    "lmks_pos.append([86, 21, 17, 11])\n",
    "lmks_pos.append([86, 21, 23, 10])\n",
    "lmks_pos.append([87, 19, 8, 11])\n",
    "lmks_pos.append([87, 11, 8, 8])\n",
    "lmks_pos.append([87, 9, 15, 9])\n",
    "lmks_pos.append([87, 16, 16, 7])\n",
    "lmks_pos.append([87, 9, 26, 2])\n",
    "lmks_pos.append([88, 11, 5, 8])\n",
    "lmks_pos.append([88, 10, 22, 9])\n",
    "lmks_pos.append([88, 17, 22, 10])\n",
    "lmks_pos.append([89, 12, 8, 0])\n",
    "lmks_pos.append([89, 22, 6, 0])\n",
    "lmks_pos.append([89, 8, 15, 9])\n",
    "lmks_pos.append([89, 16, 16, 7])\n",
    "lmks_pos.append([89, 10, 25, 2])\n",
    "lmks_pos.append([90, 19, 3, 3])\n",
    "lmks_pos.append([90, 10, 11, 8])\n",
    "lmks_pos.append([90, 10, 17, 5])\n",
    "lmks_pos.append([90, 12, 20, 9])\n",
    "lmks_pos.append([90, 20, 18, 10])\n",
    "lmks_pos.append([90, 20, 14, 11])\n",
    "lmks_pos.append([91, 5, 12, 1])\n",
    "lmks_pos.append([91, 19, 10, 11])\n",
    "lmks_pos.append([91, 7, 26, 2])\n",
    "lmks_pos.append([92, 10, 7, 0])\n",
    "lmks_pos.append([92, 18, 5, 0])\n",
    "lmks_pos.append([92, 10, 15, 9])\n",
    "lmks_pos.append([92, 18, 15, 7])\n",
    "lmks_pos.append([92, 17, 24, 2])\n",
    "lmks_pos.append([93, 16, 3, 0])\n",
    "lmks_pos.append([93, 10, 21, 9])\n",
    "lmks_pos.append([93, 14, 20, 6])\n",
    "lmks_pos.append([93, 20, 17, 10])\n",
    "lmks_pos.append([93, 19, 13, 11])\n",
    "lmks_pos.append([93, 14, 15, 8])\n",
    "lmks_pos.append([94, 10, 8, 8])\n",
    "lmks_pos.append([94, 14, 15, 12])\n",
    "lmks_pos.append([94, 9, 23, 9])\n",
    "lmks_pos.append([94, 14, 22, 10])\n",
    "lmks_pos.append([94, 19, 6, 11])\n",
    "print(\"shape lmks_pos\", np.shape(lmks_pos))\n",
    "lmks_pos = np.array(lmks_pos)"
   ],
   "metadata": {
    "collapsed": false,
    "pycharm": {
     "name": "#%%\n"
    }
   }
  },
  {
   "cell_type": "code",
   "execution_count": 607,
   "outputs": [
    {
     "data": {
      "text/plain": "<Figure size 432x288 with 1 Axes>",
      "image/png": "[encoded data removed]"
     },
     "metadata": {
      "needs_background": "light"
     },
     "output_type": "display_data"
    }
   ],
   "source": [
    "colors = cm.rainbow(np.linspace(0, 1, n_cat + 1))\n",
    "digits = [94]\n",
    "\n",
    "# plot primers on digit\n",
    "for d in digits:\n",
    "    plt.figure()\n",
    "\n",
    "    test_image = x_train[d]\n",
    "    rgb_im = np.repeat(np.expand_dims(test_image, axis=2), 3, axis=2)\n",
    "\n",
    "    # retrieve primers\n",
    "    primers = lmks_pos[lmks_pos[:, 0] == d]\n",
    "\n",
    "    for primer in primers:\n",
    "        color = colors[int(primer[3])]\n",
    "        rgb_im[np.round(primer[2]).astype(int), np.round(primer[1]).astype(int)] = color[:3] * 255\n",
    "\n",
    "    # plot legend\n",
    "    for i in range(n_cat + 1):\n",
    "        color = colors[i]\n",
    "        rgb_im[-1, i] = color[:3] * 255\n",
    "\n",
    "    plt.title(\"Input {}\".format(d))\n",
    "    plt.imshow(rgb_im)"
   ],
   "metadata": {
    "collapsed": false,
    "pycharm": {
     "name": "#%%\n"
    }
   }
  },
  {
   "cell_type": "markdown",
   "source": [
    "# BUILD PRIMERS"
   ],
   "metadata": {
    "collapsed": false,
    "pycharm": {
     "name": "#%% md\n"
    }
   }
  },
  {
   "cell_type": "code",
   "execution_count": 113,
   "outputs": [],
   "source": [
    "def simple_patch_wh_neg_value(filter, patch, thresh_activation, neg_factor):\n",
    "    # compute the number of zeros within the patch\n",
    "    n_zeros = np.count_nonzero(patch == 0)\n",
    "\n",
    "    # compute alpha factor to reach the thresh_value\n",
    "    max_matching_val = np.sum(filter * patch)\n",
    "    alpha = thresh_activation / max_matching_val\n",
    "\n",
    "    # normalize filter\n",
    "    filter *= alpha\n",
    "\n",
    "    # set filter to neutral with the zeros\n",
    "    offset_neg_val = - neg_factor * np.sum(filter) / n_zeros\n",
    "    filter[filter == 0] = offset_neg_val\n",
    "\n",
    "    return filter\n",
    "\n",
    "\n",
    "def build_primer(idx, lmk_pos, thresh_val=0.75, filt_size=(7, 7), neg_factor=6):\n",
    "    \"\"\"\n",
    "\n",
    "    :param lmk_pos: nx4 matrix, with 4 the following parameters: 0: idx of the mnsit img, 1: posX, 2: posX, 3: n_rotate\n",
    "    :param thresh_val:\n",
    "    :param filt_size:\n",
    "    :param neg_factor: value to which the negative parts of the filters get multiplied\n",
    "    :return:\n",
    "    \"\"\"\n",
    "    pad_x = int(filt_size[0] / 2)\n",
    "    pad_y = int(filt_size[1] / 2)\n",
    "\n",
    "    # define start and stop\n",
    "    start_x = lmk_pos[0]-pad_x\n",
    "    end_x = lmk_pos[0]+pad_x+1\n",
    "    start_y = lmk_pos[1]-pad_y\n",
    "    end_y = lmk_pos[1]+pad_y+1\n",
    "    # print(start_x, end_x, start_y, end_y)\n",
    "\n",
    "    # define filter for primer\n",
    "    img = x_train[idx] / 255.\n",
    "    patch = img[np.maximum(start_x, 0):end_x, np.maximum(start_y, 0):end_y]\n",
    "\n",
    "    # add zeros if patch is smaller than the dimension\n",
    "    if start_x < 0:\n",
    "        zeros_patch = np.zeros((filt_size[0] - np.shape(patch)[0], np.shape(patch)[1]))\n",
    "        patch = np.vstack([zeros_patch, patch])\n",
    "    elif end_x > np.shape(img)[0]:\n",
    "        zeros_patch = np.zeros((end_x - np.shape(img)[0], np.shape(patch)[1]))\n",
    "        patch = np.vstack([patch, zeros_patch])\n",
    "    if start_y < 0:\n",
    "        zeros_patch = np.zeros((np.shape(patch)[0], filt_size[1] - np.shape(patch)[1]))\n",
    "        patch = np.hstack([zeros_patch, patch])\n",
    "    elif end_y > np.shape(img)[1]:\n",
    "        zeros_patch = np.zeros((np.shape(patch)[0], end_y - np.shape(img)[1]))\n",
    "        patch = np.hstack([patch, zeros_patch])\n",
    "\n",
    "    # create filter\n",
    "    filter = np.copy(patch)\n",
    "\n",
    "    # control size\n",
    "    if np.shape(filter)[0] != filt_size[0]:\n",
    "        print(\"Dimension 0 of patch is not matching ,expected {}, received {}\".format(filt_size[0], np.shape(patch)[0]))\n",
    "    if np.shape(filter)[1] != filt_size[1]:\n",
    "        print(\"Dimension 1 of patch is not matching ,expected {}, received {}\".format(filt_size[1], np.shape(patch)[1]))\n",
    "\n",
    "    # build filter\n",
    "    filter = simple_patch_wh_neg_value(filter, patch, thresh_val, neg_factor)\n",
    "    # filter = simple_ones_patch_wh_neg_value(filter, patch, thresh_val, neg_factor)\n",
    "\n",
    "    return filter"
   ],
   "metadata": {
    "collapsed": false,
    "pycharm": {
     "name": "#%%\n"
    }
   }
  },
  {
   "cell_type": "code",
   "execution_count": 114,
   "outputs": [],
   "source": [
    "def get_filters(lmks, n_types, group_types=None, filt_size=(7, 7), thresh_val=0.75, neg_factor=6, verbose=False):\n",
    "    # count the number of filter there's per type/group\n",
    "    filter_counts = np.zeros(n_types)\n",
    "    for i in range(n_types):\n",
    "        # count number of filter per group\n",
    "        filter_counts[i] = len(lmks[lmks[:, 3] == i])\n",
    "    n_max_filter = int(np.amax(filter_counts))\n",
    "\n",
    "    if group_types is not None:\n",
    "        n_groups = len(group_types)\n",
    "        filter_group_counts = np.zeros(n_groups)\n",
    "        for i in range(n_groups):\n",
    "            for j in range(len(group_types[i])):\n",
    "                filter_group_counts[i] += filter_counts[group_types[i][j]]\n",
    "        # get max number of filters\n",
    "        n_max_filter = int(np.amax(filter_group_counts))\n",
    "\n",
    "    if verbose:\n",
    "        print(\"filteer counts\")\n",
    "        print(filter_counts)\n",
    "        if group_types is not None:\n",
    "            print(\"filter_group_counts\", filter_group_counts)\n",
    "\n",
    "    # declare filters\n",
    "    filters = np.zeros((n_types, filt_size[0], filt_size[1], n_max_filter))\n",
    "\n",
    "    n_type_counter = np.zeros(n_types)\n",
    "    for lmk in lmks:\n",
    "        # build filter\n",
    "        filt = build_primer(int(lmk[0]), [int(np.round(lmk[2])), int(np.round(lmk[1]))], filt_size=filt_size)\n",
    "\n",
    "        # get filter type\n",
    "        lmk_type = int(lmk[3])\n",
    "\n",
    "        # rotate to extend by group type\n",
    "        if group_types is not None:\n",
    "            n_types_in_group = None\n",
    "            lmk_group_type = None\n",
    "\n",
    "            # get in which group this category belong\n",
    "            for i in range(n_groups):\n",
    "                if lmk_type in group_types[i]:\n",
    "                    n_types_in_group = len(group_types[i])\n",
    "                    lmk_group_type = i\n",
    "\n",
    "            if n_types_in_group is None:\n",
    "                print(\"issue with group type not found!\")\n",
    "\n",
    "            if verbose:\n",
    "                print(\"lmk_type {}, turned {} time(s)\".format(lmk_type, (n_types_in_group - lmk_type) % n_types_in_group))\n",
    "            filt = np.rot90(filt, (n_types_in_group - lmk_type) % n_types_in_group)\n",
    "\n",
    "            # append all the filters to the group\n",
    "            for t, type in enumerate(group_types[lmk_group_type]):\n",
    "                filt_rot = np.rot90(filt, t)\n",
    "                filters[type, ..., int(n_type_counter[type])] = filt_rot\n",
    "                n_type_counter[type] += 1\n",
    "\n",
    "        else:\n",
    "            filters[lmk_type, ..., n_type_counter[lmk_type]] = filt\n",
    "            n_type_counter[lmk_type] += 1\n",
    "\n",
    "    return filters"
   ],
   "metadata": {
    "collapsed": false,
    "pycharm": {
     "name": "#%%\n"
    }
   }
  },
  {
   "cell_type": "code",
   "execution_count": 134,
   "outputs": [
    {
     "name": "stdout",
     "output_type": "stream",
     "text": [
      "shape filters (13, 9, 9, 4)\n"
     ]
    }
   ],
   "source": [
    "# build filters\n",
    "group_types = [[0, 1, 2, 3], [4, 5, 6, 7], [8, 9, 10, 11], [12]]\n",
    "filters = get_filters(lmks_pos[:8], 13, group_types=group_types, filt_size=(9, 9), thresh_val=0.75, neg_factor=6, verbose=False)\n",
    "print(\"shape filters\", np.shape(filters))"
   ],
   "metadata": {
    "collapsed": false,
    "pycharm": {
     "name": "#%%\n"
    }
   }
  },
  {
   "cell_type": "markdown",
   "source": [
    "# COMPUTE PRIMER POSITIONS"
   ],
   "metadata": {
    "collapsed": false,
    "pycharm": {
     "name": "#%% md\n"
    }
   }
  },
  {
   "cell_type": "code",
   "execution_count": 146,
   "outputs": [],
   "source": [
    "def compute_center_of_activity(ft_map, verbose=False):\n",
    "    # initialize indices (x, y) for each entry\n",
    "    indices = np.arange(np.shape(ft_map)[0])\n",
    "\n",
    "    # compute weighted average of the activity, weighted by the indices\n",
    "    average_x = np.average(ft_map, axis=1, weights=indices)\n",
    "    average_y = np.average(ft_map, axis=0, weights=indices)\n",
    "\n",
    "    # compute mean of each pos\n",
    "    center_x = np.sum(average_x) * np.sum(indices) / np.sum(np.sum(ft_map + 1e-7, axis=1))\n",
    "    center_y = np.sum(average_y) * np.sum(indices) / np.sum(np.sum(ft_map + 1e-7, axis=0))\n",
    "\n",
    "    if verbose:\n",
    "        print(\"feat_map\")\n",
    "        print(ft_map)\n",
    "        print(\"center ({}, {})\".format(center_x, center_y))\n",
    "\n",
    "    return center_x, center_y"
   ],
   "metadata": {
    "collapsed": false,
    "pycharm": {
     "name": "#%%\n"
    }
   }
  },
  {
   "cell_type": "code",
   "execution_count": 147,
   "outputs": [],
   "source": [
    "def find_primer(image, filters, patch_size=7, threshold=0.5, do_plot=False, verbose=False, plot_title=\"\"):\n",
    "    # convert image to tensor\n",
    "    if len(np.shape(image)) == 2:\n",
    "        image = np.expand_dims(image, axis=[0, 3])\n",
    "    else:\n",
    "        print(\"image shape is wrong! Expected 2 got \", len(np.shape(image)))\n",
    "    image = tf.convert_to_tensor(image, dtype='float32')\n",
    "\n",
    "    # control filters\n",
    "    if len(np.shape(filters)) == 2:\n",
    "        filters = np.expand_dims(filters, axis=[2, 3])\n",
    "    elif len(np.shape(filters)) == 3:  # multi scale\n",
    "        filters = np.expand_dims(filters, axis=2)\n",
    "    tf.convert_to_tensor(filters, dtype='float32')\n",
    "\n",
    "    # apply convolution\n",
    "    primers = tf.nn.conv2d(image, filters, strides=1, padding='SAME', name=\"conv1\")\n",
    "\n",
    "    if verbose:\n",
    "        print(\"min max patch\", np.min(primers), np.max(primers))\n",
    "        print(\"shape primers\", np.shape(primers))\n",
    "        max_per_filt = np.amax(primers, axis=(0, 1, 2))\n",
    "        max_arg_idx = np.flip(np.argsort(max_per_filt)[-5:])\n",
    "        print(\"filter idx:\", max_arg_idx)\n",
    "        print(\"filter value:\", max_per_filt[max_arg_idx])\n",
    "\n",
    "    # filters primers and discard the one under the threshold\n",
    "    filt_primers = primers.numpy()\n",
    "    filt_primers = np.amax(filt_primers, axis=(0, -1))\n",
    "    filt_primers = np.expand_dims(filt_primers, axis=[0, 3])\n",
    "    filt_primers[filt_primers < threshold] = 0\n",
    "    if np.max(filt_primers) > 1:\n",
    "        print(\"Max of nb_primers is greater than 1! This could mean that the the filter is not normalized, imaged clamped to 1 to avoid issues with the center of activity\")\n",
    "        filt_primers[filt_primers > 1] = 1.0\n",
    "\n",
    "    # split in patches\n",
    "    patches = tf.image.extract_patches(\n",
    "        images=filt_primers,\n",
    "        sizes=[1, patch_size, patch_size, 1],\n",
    "        strides=[1, patch_size, patch_size, 1],\n",
    "        rates=[1, 1, 1, 1],\n",
    "        padding=\"VALID\",\n",
    "    )\n",
    "    patches = patches.numpy()\n",
    "\n",
    "    # show each patch\n",
    "    if do_plot:\n",
    "        plt.figure()\n",
    "        plt.title(\"patch \" + plot_title)\n",
    "        n_patch_x = np.shape(patches)[1]\n",
    "        n_patch_y = np.shape(patches)[2]\n",
    "        for i in range(n_patch_x):\n",
    "            for j in range(n_patch_y):\n",
    "                patch = np.reshape(patches[0, i, j], [patch_size, patch_size])\n",
    "                rgb_patch = np.repeat(np.expand_dims(patch, axis=2), 3, axis=2)\n",
    "                plt.subplot(n_patch_x, n_patch_y, i*np.shape(patches)[2] + j + 1)\n",
    "                plt.axis('off')\n",
    "                plt.imshow(rgb_patch)\n",
    "                # print(\"min max patch\", np.min(patch), np.max(patch))\n",
    "\n",
    "    # compute center of activity for each patch\n",
    "    centers = []\n",
    "    max_patch = []\n",
    "    for i in range(np.shape(patches)[1]):\n",
    "        for j in range(np.shape(patches)[2]):\n",
    "            # control if patches is not all zeros\n",
    "            f_patch = patches[0, i, j]\n",
    "            if np.sum(f_patch) > 0:\n",
    "                if verbose:\n",
    "                    print()\n",
    "                    print(\"p:\", plot_title)\n",
    "\n",
    "                coa = compute_center_of_activity(np.reshape(f_patch, [patch_size, patch_size]), verbose=verbose)\n",
    "                # compensate with patch positions\n",
    "                centers.append([coa[0] + j*patch_size, coa[1] + i*patch_size])\n",
    "\n",
    "                # keep maximum activity of the patch\n",
    "                max_patch.append(np.amax(f_patch))\n",
    "\n",
    "    if do_plot:\n",
    "        # plot primers\n",
    "        plt.figure()\n",
    "        plt.title(\"primers \" + plot_title)\n",
    "        rgb_image = np.repeat(np.expand_dims(filt_primers[0, ..., 0], axis=2), 3, axis=2)\n",
    "        for center in centers:\n",
    "            rgb_image[int(round(center[1])), int(round(center[0]))] = [1.0, 0, 0]\n",
    "        plt.imshow(rgb_image)\n",
    "\n",
    "    return centers, max_patch"
   ],
   "metadata": {
    "collapsed": false,
    "pycharm": {
     "name": "#%%\n"
    }
   }
  },
  {
   "cell_type": "code",
   "execution_count": 148,
   "outputs": [],
   "source": [
    "# compute all primers\n",
    "def find_primers(image, filters, patch_size=7, threshold=0.5, do_plot=False, verbose=False):\n",
    "    n_primer = 0\n",
    "    primers = {}\n",
    "\n",
    "    for p, filt in enumerate(filters):\n",
    "        if verbose:\n",
    "            print(\"filt p\", p)\n",
    "\n",
    "        primers_pos, max_patch = find_primer(image, filt,\n",
    "                                             patch_size=patch_size,\n",
    "                                             threshold=threshold,\n",
    "                                             do_plot=do_plot,\n",
    "                                             verbose=verbose,\n",
    "                                             plot_title=str(p))\n",
    "\n",
    "        if len(primers_pos) > 0:\n",
    "            for i in range(len(primers_pos)):\n",
    "                primers[n_primer] = {\"type\": p, \"pos\": primers_pos[i], \"max\": max_patch[i]}\n",
    "                n_primer += 1\n",
    "\n",
    "            if verbose:\n",
    "                print(\"primers_pos\")\n",
    "                print(primers_pos)\n",
    "                print(\"max patch\")\n",
    "                print(max_patch)\n",
    "        if verbose:\n",
    "            print()\n",
    "\n",
    "    return primers"
   ],
   "metadata": {
    "collapsed": false,
    "pycharm": {
     "name": "#%%\n"
    }
   }
  },
  {
   "cell_type": "code",
   "execution_count": 150,
   "outputs": [
    {
     "name": "stdout",
     "output_type": "stream",
     "text": [
      "filt p 0\n",
      "min max patch -2.9078684 0.3905415\n",
      "shape primers (1, 28, 28, 4)\n",
      "filter idx: [0 1 2 3]\n",
      "filter value: [0.391 0.059 0.041 0.   ]\n",
      "\n",
      "filt p 1\n",
      "min max patch -3.611073 0.80490637\n",
      "shape primers (1, 28, 28, 4)\n",
      "filter idx: [2 0 1 3]\n",
      "filter value: [0.805 0.75  0.75  0.   ]\n",
      "\n",
      "p: 1\n",
      "feat_map\n",
      "[[0.75 0.   0.   0.  ]\n",
      " [0.   0.   0.   0.  ]\n",
      " [0.   0.   0.   0.  ]\n",
      " [0.   0.   0.   0.  ]]\n",
      "center (0.0, 0.0)\n",
      "\n",
      "p: 1\n",
      "feat_map\n",
      "[[0.    0.    0.    0.   ]\n",
      " [0.    0.    0.    0.   ]\n",
      " [0.    0.    0.    0.   ]\n",
      " [0.    0.805 0.719 0.   ]]\n",
      "center (1.4717796681306528, 2.9999967143042996)\n",
      "primers_pos\n",
      "[[8.0, 8.0], [5.471779668130653, 22.9999967143043]]\n",
      "max patch\n",
      "[0.75000006, 0.80490637]\n",
      "\n",
      "filt p 2\n",
      "min max patch -2.9652324 0.43553078\n",
      "shape primers (1, 28, 28, 4)\n",
      "filter idx: [0 1 3 2]\n",
      "filter value: [0.436 0.038 0.    0.   ]\n",
      "\n",
      "filt p 3\n",
      "min max patch -3.5403957 0.75\n",
      "shape primers (1, 28, 28, 4)\n",
      "filter idx: [2 1 0 3]\n",
      "filter value: [0.75  0.556 0.547 0.   ]\n",
      "\n",
      "p: 3\n",
      "feat_map\n",
      "[[0.   0.   0.   0.  ]\n",
      " [0.   0.   0.   0.  ]\n",
      " [0.   0.   0.75 0.  ]\n",
      " [0.   0.   0.   0.  ]]\n",
      "center (1.9999957084747848, 1.9999957084747848)\n",
      "primers_pos\n",
      "[[21.999995708474785, 5.999995708474785]]\n",
      "max patch\n",
      "[0.75]\n",
      "\n",
      "filt p 4\n",
      "min max patch -3.2405086 0.7500001\n",
      "shape primers (1, 28, 28, 4)\n",
      "filter idx: [0 3 2 1]\n",
      "filter value: [0.75 0.   0.   0.  ]\n",
      "\n",
      "p: 4\n",
      "feat_map\n",
      "[[0.75 0.   0.   0.  ]\n",
      " [0.   0.   0.   0.  ]\n",
      " [0.   0.   0.   0.  ]\n",
      " [0.   0.   0.   0.  ]]\n",
      "center (0.0, 0.0)\n",
      "primers_pos\n",
      "[[12.0, 8.0]]\n",
      "max patch\n",
      "[0.7500001]\n",
      "\n",
      "filt p 5\n",
      "min max patch -2.4705114 0.2758302\n",
      "shape primers (1, 28, 28, 4)\n",
      "filter idx: [0 3 2 1]\n",
      "filter value: [0.276 0.    0.    0.   ]\n",
      "\n",
      "filt p 6\n",
      "min max patch -3.118517 0.45736215\n",
      "shape primers (1, 28, 28, 4)\n",
      "filter idx: [0 3 2 1]\n",
      "filter value: [0.457 0.    0.    0.   ]\n",
      "\n",
      "filt p 7\n",
      "min max patch -2.654771 0.3540175\n",
      "shape primers (1, 28, 28, 4)\n",
      "filter idx: [0 3 2 1]\n",
      "filter value: [0.354 0.    0.    0.   ]\n",
      "\n",
      "filt p 8\n",
      "min max patch -3.7456024 0.47362715\n",
      "shape primers (1, 28, 28, 4)\n",
      "filter idx: [2 1 0 3]\n",
      "filter value: [0.474 0.418 0.338 0.305]\n",
      "\n",
      "filt p 9\n",
      "min max patch -3.308424 0.7500001\n",
      "shape primers (1, 28, 28, 4)\n",
      "filter idx: [0 2 1 3]\n",
      "filter value: [0.75  0.353 0.285 0.229]\n",
      "\n",
      "p: 9\n",
      "feat_map\n",
      "[[0.   0.75 0.   0.  ]\n",
      " [0.   0.   0.   0.  ]\n",
      " [0.   0.   0.   0.  ]\n",
      " [0.   0.   0.   0.  ]]\n",
      "center (0.9999976952927467, 0.0)\n",
      "primers_pos\n",
      "[[12.999997695292747, 12.0]]\n",
      "max patch\n",
      "[0.7500001]\n",
      "\n",
      "filt p 10\n",
      "min max patch -3.7194462 0.75\n",
      "shape primers (1, 28, 28, 4)\n",
      "filter idx: [1 2 0 3]\n",
      "filter value: [0.75  0.392 0.301 0.236]\n",
      "\n",
      "p: 10\n",
      "feat_map\n",
      "[[0.   0.   0.   0.  ]\n",
      " [0.   0.   0.   0.  ]\n",
      " [0.   0.   0.   0.  ]\n",
      " [0.   0.   0.75 0.  ]]\n",
      "center (1.9999957084747848, 2.999993562712177)\n",
      "primers_pos\n",
      "[[17.999995708474785, 18.999993562712177]]\n",
      "max patch\n",
      "[0.75]\n",
      "\n",
      "filt p 11\n",
      "min max patch -3.3940053 0.74999994\n",
      "shape primers (1, 28, 28, 4)\n",
      "filter idx: [2 0 1 3]\n",
      "filter value: [0.75  0.449 0.251 0.226]\n",
      "\n",
      "p: 11\n",
      "feat_map\n",
      "[[0.   0.   0.   0.  ]\n",
      " [0.   0.   0.   0.  ]\n",
      " [0.   0.   0.   0.  ]\n",
      " [0.   0.   0.75 0.  ]]\n",
      "center (1.9999957084744437, 2.9999935627116656)\n",
      "primers_pos\n",
      "[[17.999995708474444, 14.999993562711666]]\n",
      "max patch\n",
      "[0.74999994]\n",
      "\n",
      "filt p 12\n",
      "min max patch 0.0 0.0\n",
      "shape primers (1, 28, 28, 4)\n",
      "filter idx: [3 2 1 0]\n",
      "filter value: [0. 0. 0. 0.]\n",
      "\n",
      "primers_dict\n",
      "{'type': 1, 'pos': [8.0, 8.0], 'max': 0.75000006}\n",
      "{'type': 1, 'pos': [5.471779668130653, 22.9999967143043], 'max': 0.80490637}\n",
      "{'type': 3, 'pos': [21.999995708474785, 5.999995708474785], 'max': 0.75}\n",
      "{'type': 4, 'pos': [12.0, 8.0], 'max': 0.7500001}\n",
      "{'type': 9, 'pos': [12.999997695292747, 12.0], 'max': 0.7500001}\n",
      "{'type': 10, 'pos': [17.999995708474785, 18.999993562712177], 'max': 0.75}\n",
      "{'type': 11, 'pos': [17.999995708474444, 14.999993562711666], 'max': 0.74999994}\n"
     ]
    }
   ],
   "source": [
    "# normalize input and filters\n",
    "test_image = x_train[0]\n",
    "primers_dict = find_primers(test_image / 255., filters, patch_size=PATCH_SIZE, threshold=FILTER_THRESHOLD, do_plot=False, verbose=True)\n",
    "print(\"primers_dict\")\n",
    "for p in primers_dict:\n",
    "    print(primers_dict[p])"
   ],
   "metadata": {
    "collapsed": false,
    "pycharm": {
     "name": "#%%\n"
    }
   }
  },
  {
   "cell_type": "code",
   "execution_count": 151,
   "outputs": [],
   "source": [
    "def max_pool_primers(primers, dist_threshold=3, sorting='max', verbose=False):\n",
    "    \"\"\"\n",
    "    filter primers with surroundings, i.e. if a primer is within a distance smaller than another one, keep the highest\n",
    "\n",
    "    :param primers:\n",
    "    :return:\n",
    "    \"\"\"\n",
    "\n",
    "    filt_dictionary = {}\n",
    "    discarded_primer_idx = []\n",
    "\n",
    "    for p_t in range(len(primers)):\n",
    "        for p_a in range(p_t + 1, len(primers)):  # only upward diagonal\n",
    "            # get primers\n",
    "            p_target = primers[p_t]\n",
    "            p_agent = primers[p_a]\n",
    "\n",
    "            # retrieve positions\n",
    "            pos_target = np.array(p_target[\"pos\"])\n",
    "            pos_agent = np.array(p_agent[\"pos\"])\n",
    "            distance = np.linalg.norm(pos_target - pos_agent)\n",
    "\n",
    "            if verbose:\n",
    "                print(\"distance\", distance)\n",
    "\n",
    "            # sort if distance is smaller than the threshold\n",
    "            if distance < dist_threshold:\n",
    "                # todo add possibility to sort by clustering the mean\n",
    "                if sorting == 'max':\n",
    "                    if p_target[\"max\"] > p_agent[\"max\"]:\n",
    "                        discarded_primer_idx.append(p_a)\n",
    "                    else:\n",
    "                        discarded_primer_idx.append(p_t)\n",
    "\n",
    "    if verbose:\n",
    "        print(\"discarded primers\")\n",
    "        print(discarded_primer_idx)\n",
    "\n",
    "    # append all non discarded primers\n",
    "    n_primer = 0\n",
    "    for p in primers:\n",
    "        if p not in discarded_primer_idx:\n",
    "            primer = primers[p]\n",
    "            filt_dictionary[n_primer] = {\"type\": primer[\"type\"], \"pos\": primer[\"pos\"], \"max\": primer[\"max\"]}\n",
    "            n_primer += 1\n",
    "\n",
    "    return filt_dictionary"
   ],
   "metadata": {
    "collapsed": false,
    "pycharm": {
     "name": "#%%\n"
    }
   }
  },
  {
   "cell_type": "code",
   "execution_count": 152,
   "outputs": [
    {
     "name": "stdout",
     "output_type": "stream",
     "text": [
      "distance 15.2115679492818\n",
      "distance 14.142131982251886\n",
      "distance 4.0\n",
      "distance 6.403122437759001\n",
      "distance 14.866061097319069\n",
      "distance 12.206548408436843\n",
      "distance 23.71037662447591\n",
      "distance 16.359020818208286\n",
      "distance 13.329440887718947\n",
      "distance 13.151282156743612\n",
      "distance 14.864597121315448\n",
      "distance 10.198035660637464\n",
      "distance 10.816654553770386\n",
      "distance 13.6014684578606\n",
      "distance 9.848855840973163\n",
      "distance 4.123105066644652\n",
      "distance 12.529956379869212\n",
      "distance 9.219536776851454\n",
      "distance 8.602318873991841\n",
      "distance 5.830946879206872\n",
      "distance 4.000000000000512\n",
      "discarded primers\n",
      "[]\n",
      "filt_primers 7\n",
      "{'type': 1, 'pos': [8.0, 8.0], 'max': 0.75000006}\n",
      "{'type': 1, 'pos': [5.471779668130653, 22.9999967143043], 'max': 0.80490637}\n",
      "{'type': 3, 'pos': [21.999995708474785, 5.999995708474785], 'max': 0.75}\n",
      "{'type': 4, 'pos': [12.0, 8.0], 'max': 0.7500001}\n",
      "{'type': 9, 'pos': [12.999997695292747, 12.0], 'max': 0.7500001}\n",
      "{'type': 10, 'pos': [17.999995708474785, 18.999993562712177], 'max': 0.75}\n",
      "{'type': 11, 'pos': [17.999995708474444, 14.999993562711666], 'max': 0.74999994}\n"
     ]
    }
   ],
   "source": [
    "filt_primers = max_pool_primers(primers_dict, dist_threshold=CLUSTER_DISTANCE, verbose=True)\n",
    "print(\"filt_primers\", len(filt_primers))\n",
    "for p in filt_primers:\n",
    "    print(filt_primers[p])"
   ],
   "metadata": {
    "collapsed": false,
    "pycharm": {
     "name": "#%%\n"
    }
   }
  },
  {
   "cell_type": "code",
   "execution_count": 153,
   "outputs": [
    {
     "name": "stdout",
     "output_type": "stream",
     "text": [
      "primer (0) type: 1  (8, 8)\n",
      "primer (1) type: 1  (23, 5)\n",
      "primer (2) type: 3  (6, 22)\n",
      "primer (3) type: 4  (8, 12)\n",
      "primer (4) type: 9  (12, 13)\n",
      "primer (5) type: 10  (19, 18)\n",
      "primer (6) type: 11  (15, 18)\n"
     ]
    },
    {
     "data": {
      "text/plain": "<matplotlib.image.AxesImage at 0x147de35c0>"
     },
     "execution_count": 153,
     "metadata": {},
     "output_type": "execute_result"
    },
    {
     "data": {
      "text/plain": "<Figure size 432x288 with 1 Axes>",
      "image/png": "[encoded data removed]"
     },
     "metadata": {
      "needs_background": "light"
     },
     "output_type": "display_data"
    }
   ],
   "source": [
    "# plot primers on digit\n",
    "plt.figure()\n",
    "colors = cm.rainbow(np.linspace(0, 1, np.shape(filters)[0]))\n",
    "rgb_im = np.repeat(np.expand_dims(test_image, axis=2), 3, axis=2)\n",
    "\n",
    "for p in filt_primers:\n",
    "    primer = filt_primers[p]\n",
    "    primer_type = primer[\"type\"]\n",
    "    primer_pos = primer[\"pos\"]\n",
    "    print(\"primer ({}) type: {}  ({}, {})\".format(p, primer_type, np.round(primer_pos[1]).astype(int), np.round(primer_pos[0]).astype(int)))\n",
    "    color = colors[primer_type]\n",
    "    rgb_im[np.round(primer_pos[1]).astype(int), np.round(primer_pos[0]).astype(int)] = color[:3] * 255\n",
    "\n",
    "# plot legend\n",
    "for i in range(np.shape(filters)[0]):\n",
    "    color = colors[i]\n",
    "    rgb_im[-1, i] = color[:3] * 255\n",
    "\n",
    "plt.imshow(rgb_im)"
   ],
   "metadata": {
    "collapsed": false,
    "pycharm": {
     "name": "#%%\n"
    }
   }
  },
  {
   "cell_type": "code",
   "execution_count": 153,
   "outputs": [],
   "source": [],
   "metadata": {
    "collapsed": false,
    "pycharm": {
     "name": "#%%\n"
    }
   }
  },
  {
   "cell_type": "code",
   "execution_count": null,
   "outputs": [],
   "source": [],
   "metadata": {
    "collapsed": false,
    "pycharm": {
     "name": "#%%\n"
    }
   }
  }
 ],
 "metadata": {
  "kernelspec": {
   "display_name": "Python 3",
   "language": "python",
   "name": "python3"
  },
  "language_info": {
   "codemirror_mode": {
    "name": "ipython",
    "version": 2
   },
   "file_extension": ".py",
   "mimetype": "text/x-python",
   "name": "python",
   "nbconvert_exporter": "python",
   "pygments_lexer": "ipython2",
   "version": "2.7.6"
  }
 },
 "nbformat": 4,
 "nbformat_minor": 0
}