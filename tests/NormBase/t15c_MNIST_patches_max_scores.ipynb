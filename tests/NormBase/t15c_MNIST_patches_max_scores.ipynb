{
 "cells": [
  {
   "cell_type": "markdown",
   "metadata": {
    "collapsed": true,
    "pycharm": {
     "name": "#%% md\n"
    }
   },
   "source": [
    "# Import Libraries"
   ]
  },
  {
   "cell_type": "code",
   "execution_count": 1,
   "outputs": [],
   "source": [
    "import numpy as np\n",
    "import matplotlib.pyplot as plt\n",
    "import matplotlib.cm as cm\n",
    "import tensorflow as tf\n",
    "\n",
    "# from utils.load_filters_for_primer2 import get_filters_multi_scale\n",
    "from utils.load_custom_filters_for_primer import get_filters_multi_scale\n",
    "\n",
    "np.set_printoptions(precision=3, suppress=True)"
   ],
   "metadata": {
    "collapsed": false,
    "pycharm": {
     "name": "#%%\n"
    }
   }
  },
  {
   "cell_type": "markdown",
   "source": [
    "# declare hyperparameters"
   ],
   "metadata": {
    "collapsed": false,
    "pycharm": {
     "name": "#%% md\n"
    }
   }
  },
  {
   "cell_type": "code",
   "execution_count": 1032,
   "outputs": [],
   "source": [
    "PATCH_SIZE = 7  # 28/7=4 which is convenient\n",
    "FILTER_THRESHOLD = 0.7\n",
    "CLUSTER_DISTANCE = 3  # distance within primers that are considered as identical\n",
    "DECREASE_FACTOR = 0.6  # factor that decrease an end weight after being used\n",
    "#               [end, c-cl,c-co, Ts,  cross, other]\n",
    "TYPE_FACTORS1 = [0.7, 1.0, 0.85, 0.95, 0.95, 0.001]  # for primers 0-3   ends\n",
    "TYPE_FACTORS2 = [0.8, 0.8, 0.7, 0.9, 0.7, 0.001]  # for primers 4-7   Ts\n",
    "TYPE_FACTORS3 = [0.7, 0.7, 0.7, 0.65, 0.7, 0.001]  # for primers 8-11  corners\n",
    "TYPE_FACTORS4 = [0.9, 1.0, 1.0, 0.8, 1.0, 0.001]  # for primers 12    cross"
   ],
   "metadata": {
    "collapsed": false,
    "pycharm": {
     "name": "#%%\n"
    }
   }
  },
  {
   "cell_type": "markdown",
   "source": [
    "# load data"
   ],
   "metadata": {
    "collapsed": false,
    "pycharm": {
     "name": "#%% md\n"
    }
   }
  },
  {
   "cell_type": "code",
   "execution_count": 1033,
   "outputs": [],
   "source": [
    "(x_train, y_train), (x_test, y_test) = tf.keras.datasets.mnist.load_data()"
   ],
   "metadata": {
    "collapsed": false,
    "pycharm": {
     "name": "#%%\n"
    }
   }
  },
  {
   "cell_type": "code",
   "execution_count": 1092,
   "outputs": [
    {
     "name": "stdout",
     "output_type": "stream",
     "text": [
      "shape test_image (28, 28)\n"
     ]
    },
    {
     "data": {
      "text/plain": "<matplotlib.image.AxesImage at 0x14a85eb00>"
     },
     "execution_count": 1092,
     "metadata": {},
     "output_type": "execute_result"
    },
    {
     "data": {
      "text/plain": "<Figure size 432x288 with 1 Axes>",
      "image/png": "[encoded data removed]"
     },
     "metadata": {
      "needs_background": "light"
     },
     "output_type": "display_data"
    }
   ],
   "source": [
    "# idx = 0  # label 5\n",
    "# idx = 1  # label 0\n",
    "# idx = 2  # label 4\n",
    "# idx = 3  # label 1\n",
    "# idx = 4  # label 9\n",
    "# idx = 5  # label 2\n",
    "# idx = 6  # label 1\n",
    "# idx = 7  # label 3\n",
    "# idx = 8  # label 1\n",
    "# idx = 9  # label 4\n",
    "# idx = 10  # label 3\n",
    "# idx = 11  # label 5\n",
    "# idx = 12  # label 3\n",
    "# idx = 13  # label 6\n",
    "# idx = 15  # label 7\n",
    "# idx = 16  # label 2\n",
    "# idx = 17  # label 8\n",
    "# idx = 18  # label 6\n",
    "# idx = 19  # label 9\n",
    "idx = 38\n",
    "# idx = 42  # label 7\n",
    "test_image = x_train[idx]\n",
    "# test_image = x_test[11]\n",
    "# test_image = x_test[1]\n",
    "print(\"shape test_image\", np.shape(test_image))\n",
    "plt.imshow(test_image, cmap='Greys')"
   ],
   "metadata": {
    "collapsed": false,
    "pycharm": {
     "name": "#%%\n"
    }
   }
  },
  {
   "cell_type": "markdown",
   "source": [
    "# compute bank of primers"
   ],
   "metadata": {
    "collapsed": false,
    "pycharm": {
     "name": "#%% md\n"
    }
   }
  },
  {
   "cell_type": "code",
   "execution_count": 1093,
   "outputs": [],
   "source": [
    "def compute_center_of_activity(ft_map, verbose=False):\n",
    "    # initialize indices (x, y) for each entry\n",
    "    indices = np.arange(np.shape(ft_map)[0])\n",
    "\n",
    "    # compute weighted average of the activity, weighted by the indices\n",
    "    average_x = np.average(ft_map, axis=1, weights=indices)\n",
    "    average_y = np.average(ft_map, axis=0, weights=indices)\n",
    "\n",
    "    # compute mean of each pos\n",
    "    center_x = np.sum(average_x) * np.sum(indices) / np.sum(np.sum(ft_map + 1e-7, axis=1))\n",
    "    center_y = np.sum(average_y) * np.sum(indices) / np.sum(np.sum(ft_map + 1e-7, axis=0))\n",
    "\n",
    "    if verbose:\n",
    "        print(\"feat_map\")\n",
    "        print(ft_map)\n",
    "        print(\"center ({}, {})\".format(center_x, center_y))\n",
    "\n",
    "    return center_x, center_y"
   ],
   "metadata": {
    "collapsed": false,
    "pycharm": {
     "name": "#%%\n"
    }
   }
  },
  {
   "cell_type": "code",
   "execution_count": 1094,
   "outputs": [],
   "source": [
    "def find_primer(image, filters, patch_size=7, threshold=0.5, do_plot=False, verbose=False, plot_title=\"\"):\n",
    "    # convert image to tensor\n",
    "    if len(np.shape(image)) == 2:\n",
    "        image = np.expand_dims(image, axis=[0, 3])\n",
    "    else:\n",
    "        print(\"image shape is wrong! Expected 2 got \", len(np.shape(image)))\n",
    "    image = tf.convert_to_tensor(image, dtype='float32')\n",
    "\n",
    "    # control filters\n",
    "    if len(np.shape(filters)) == 2:\n",
    "        filters = np.expand_dims(filters, axis=[2, 3])\n",
    "    elif len(np.shape(filters)) == 3:  # multi scale\n",
    "        filters = np.expand_dims(filters, axis=2)\n",
    "    tf.convert_to_tensor(filters, dtype='float32')\n",
    "\n",
    "    # apply convolution\n",
    "    primers = tf.nn.conv2d(image, filters, strides=1, padding='SAME', name=\"conv1\")\n",
    "\n",
    "    if verbose:\n",
    "        print(\"min max patch\", np.min(primers), np.max(primers))\n",
    "        print(\"shape primers\", np.shape(primers))\n",
    "        max_per_filt = np.amax(primers, axis=(0, 1, 2))\n",
    "        print(\"filter number:\", np.argmax(max_per_filt))\n",
    "\n",
    "    # filters primers and discard the one under the threshold\n",
    "    filt_primers = primers.numpy()\n",
    "    filt_primers = np.amax(filt_primers, axis=(0, -1))\n",
    "    filt_primers = np.expand_dims(filt_primers, axis=[0, 3])\n",
    "    filt_primers[filt_primers < threshold] = 0\n",
    "    if np.max(filt_primers) > 1:\n",
    "        print(\"Max of nb_primers is greater than 1! This could mean that the the filter is not normalized, imaged clamped to 1 to avoid issues with the center of activity\")\n",
    "        filt_primers[filt_primers > 1] = 1.0\n",
    "\n",
    "    # split in patches\n",
    "    patches = tf.image.extract_patches(\n",
    "        images=filt_primers,\n",
    "        sizes=[1, patch_size, patch_size, 1],\n",
    "        strides=[1, patch_size, patch_size, 1],\n",
    "        rates=[1, 1, 1, 1],\n",
    "        padding=\"VALID\",\n",
    "    )\n",
    "    patches = patches.numpy()\n",
    "\n",
    "    # show each patch\n",
    "    if do_plot:\n",
    "        plt.figure()\n",
    "        plt.title(\"patch \" + plot_title)\n",
    "        for i in range(np.shape(patches)[1]):\n",
    "            for j in range(np.shape(patches)[2]):\n",
    "                patch = np.reshape(patches[0, i, j], [patch_size, patch_size])\n",
    "                rgb_patch = np.repeat(np.expand_dims(patch, axis=2), 3, axis=2)\n",
    "                plt.subplot(4, 4, i*np.shape(patches)[2] + j + 1)\n",
    "                plt.axis('off')\n",
    "                plt.imshow(rgb_patch)\n",
    "                # print(\"min max patch\", np.min(patch), np.max(patch))\n",
    "\n",
    "    # compute center of activity for each patch\n",
    "    centers = []\n",
    "    max_patch = []\n",
    "    for i in range(np.shape(patches)[1]):\n",
    "        for j in range(np.shape(patches)[2]):\n",
    "            # control if patches is not all zeros\n",
    "            f_patch = patches[0, i, j]\n",
    "            if np.sum(f_patch) > 0:\n",
    "                if verbose:\n",
    "                    print()\n",
    "                    print(\"p:\", plot_title)\n",
    "\n",
    "                coa = compute_center_of_activity(np.reshape(f_patch, [patch_size, patch_size]), verbose=verbose)\n",
    "                # compensate with patch positions\n",
    "                centers.append([coa[0] + j*patch_size, coa[1] + i*patch_size])\n",
    "\n",
    "                # keep maximum activity of the patch\n",
    "                max_patch.append(np.amax(f_patch))\n",
    "\n",
    "    if do_plot:\n",
    "        # plot primers\n",
    "        plt.figure()\n",
    "        plt.title(\"primers \" + plot_title)\n",
    "        rgb_image = np.repeat(np.expand_dims(filt_primers[0, ..., 0], axis=2), 3, axis=2)\n",
    "        for center in centers:\n",
    "            rgb_image[int(round(center[1])), int(round(center[0]))] = [1.0, 0, 0]\n",
    "        plt.imshow(rgb_image)\n",
    "\n",
    "    return centers, max_patch"
   ],
   "metadata": {
    "collapsed": false,
    "pycharm": {
     "name": "#%%\n"
    }
   }
  },
  {
   "cell_type": "code",
   "execution_count": 1095,
   "outputs": [],
   "source": [
    "# compute all primers\n",
    "def find_primers(image, filters, patch_size=7, threshold=0.5, do_plot=False, verbose=False):\n",
    "    n_primer = 0\n",
    "    primers = {}\n",
    "\n",
    "    for p, filt in enumerate(filters):\n",
    "        if verbose:\n",
    "            print(\"filt p\", p)\n",
    "\n",
    "        primers_pos, max_patch = find_primer(image, filt,\n",
    "                                             patch_size=patch_size,\n",
    "                                             threshold=threshold,\n",
    "                                             do_plot=do_plot,\n",
    "                                             verbose=verbose,\n",
    "                                             plot_title=str(p))\n",
    "\n",
    "        if len(primers_pos) > 0:\n",
    "            for i in range(len(primers_pos)):\n",
    "                primers[n_primer] = {\"type\": p, \"pos\": primers_pos[i], \"max\": max_patch[i]}\n",
    "                n_primer += 1\n",
    "\n",
    "            if verbose:\n",
    "                print(\"primers_pos\")\n",
    "                print(primers_pos)\n",
    "                print(\"max patch\")\n",
    "                print(max_patch)\n",
    "        if verbose:\n",
    "            print()\n",
    "\n",
    "    return primers"
   ],
   "metadata": {
    "collapsed": false,
    "pycharm": {
     "name": "#%%\n"
    }
   }
  },
  {
   "cell_type": "code",
   "execution_count": 1124,
   "outputs": [
    {
     "name": "stdout",
     "output_type": "stream",
     "text": [
      "max filters: 88\n",
      "shape ends_filters (4, 9, 9, 88)\n",
      "shape corners_filters (4, 9, 9, 88)\n",
      "shape T_filters (4, 9, 9, 88)\n",
      "shape cross_filters (1, 9, 9, 88)\n",
      "shape filters (13, 9, 9, 88)\n",
      "filt p 0\n",
      "min max patch -6.3144045 0.43931973\n",
      "shape primers (1, 28, 28, 88)\n",
      "filter number: 45\n",
      "\n",
      "filt p 1\n",
      "min max patch -6.175876 0.8698265\n",
      "shape primers (1, 28, 28, 88)\n",
      "filter number: 51\n",
      "\n",
      "p: 1\n",
      "feat_map\n",
      "[[0.    0.    0.    0.    0.    0.    0.   ]\n",
      " [0.    0.    0.    0.    0.747 0.87  0.797]\n",
      " [0.    0.    0.    0.    0.    0.    0.   ]\n",
      " [0.    0.    0.    0.    0.    0.    0.   ]\n",
      " [0.    0.    0.    0.    0.    0.    0.   ]\n",
      " [0.    0.    0.    0.    0.    0.    0.   ]\n",
      " [0.    0.    0.    0.    0.    0.    0.   ]]\n",
      "center (5.02052531606553, 0.9999977771784392)\n",
      "\n",
      "p: 1\n",
      "feat_map\n",
      "[[0.    0.    0.    0.    0.    0.    0.   ]\n",
      " [0.    0.    0.    0.    0.    0.    0.   ]\n",
      " [0.    0.    0.    0.    0.    0.    0.   ]\n",
      " [0.    0.    0.    0.    0.    0.    0.728]\n",
      " [0.    0.    0.    0.    0.    0.    0.   ]\n",
      " [0.    0.    0.    0.    0.    0.    0.   ]\n",
      " [0.    0.    0.    0.    0.    0.    0.   ]]\n",
      "center (5.999959210789385, 2.9999796053946923)\n",
      "\n",
      "p: 1\n",
      "feat_map\n",
      "[[0.    0.    0.    0.    0.    0.    0.   ]\n",
      " [0.    0.    0.    0.    0.    0.    0.   ]\n",
      " [0.    0.    0.    0.    0.    0.    0.   ]\n",
      " [0.758 0.    0.    0.    0.    0.    0.   ]\n",
      " [0.    0.    0.    0.    0.    0.    0.   ]\n",
      " [0.    0.    0.    0.    0.    0.    0.   ]\n",
      " [0.    0.    0.    0.    0.    0.    0.   ]]\n",
      "center (0.0, 2.9999799425554787)\n",
      "primers_pos\n",
      "[[5.02052531606553, 7.999997777178439], [5.999959210789385, 16.999979605394692], [7.0, 16.999979942555477]]\n",
      "max patch\n",
      "[0.8698265, 0.7277148, 0.75777763]\n",
      "\n",
      "filt p 2\n",
      "min max patch -6.1750703 0.75125885\n",
      "shape primers (1, 28, 28, 88)\n",
      "filter number: 37\n",
      "\n",
      "p: 2\n",
      "feat_map\n",
      "[[0.    0.    0.    0.    0.    0.    0.   ]\n",
      " [0.    0.704 0.719 0.    0.    0.    0.   ]\n",
      " [0.    0.745 0.751 0.    0.    0.    0.   ]\n",
      " [0.    0.    0.    0.    0.    0.    0.   ]\n",
      " [0.    0.    0.    0.    0.    0.    0.   ]\n",
      " [0.    0.    0.    0.    0.    0.    0.   ]\n",
      " [0.    0.    0.    0.    0.    0.    0.   ]]\n",
      "center (1.5037324865272812, 1.5125611859944808)\n",
      "primers_pos\n",
      "[[15.503732486527282, 22.512561185994482]]\n",
      "max patch\n",
      "[0.75125885]\n",
      "\n",
      "filt p 3\n",
      "min max patch -6.6950583 0.75\n",
      "shape primers (1, 28, 28, 88)\n",
      "filter number: 51\n",
      "\n",
      "p: 3\n",
      "feat_map\n",
      "[[0.   0.   0.   0.   0.   0.   0.  ]\n",
      " [0.   0.   0.   0.75 0.   0.   0.  ]\n",
      " [0.   0.   0.   0.   0.   0.   0.  ]\n",
      " [0.   0.   0.   0.   0.   0.   0.  ]\n",
      " [0.   0.   0.   0.   0.   0.   0.  ]\n",
      " [0.   0.   0.   0.   0.   0.   0.  ]\n",
      " [0.   0.   0.   0.   0.   0.   0.  ]]\n",
      "center (2.9999797345576735, 0.9999932448525578)\n",
      "primers_pos\n",
      "[[23.999979734557673, 14.999993244852558]]\n",
      "max patch\n",
      "[0.75]\n",
      "\n",
      "filt p 4\n",
      "min max patch -7.7659874 0.54288393\n",
      "shape primers (1, 28, 28, 88)\n",
      "filter number: 9\n",
      "\n",
      "filt p 5\n",
      "min max patch -6.985446 0.4627655\n",
      "shape primers (1, 28, 28, 88)\n",
      "filter number: 3\n",
      "\n",
      "filt p 6\n",
      "min max patch -6.7174096 0.5684731\n",
      "shape primers (1, 28, 28, 88)\n",
      "filter number: 8\n",
      "\n",
      "filt p 7\n",
      "min max patch -7.2503676 0.47189313\n",
      "shape primers (1, 28, 28, 88)\n",
      "filter number: 0\n",
      "\n",
      "filt p 8\n",
      "min max patch -7.2626476 0.5368531\n",
      "shape primers (1, 28, 28, 88)\n",
      "filter number: 22\n",
      "\n",
      "filt p 9\n",
      "min max patch -7.423054 0.44651228\n",
      "shape primers (1, 28, 28, 88)\n",
      "filter number: 55\n",
      "\n",
      "filt p 10\n",
      "min max patch -7.7542744 0.43292788\n",
      "shape primers (1, 28, 28, 88)\n",
      "filter number: 15\n",
      "\n",
      "filt p 11\n",
      "min max patch -7.9140706 0.75000006\n",
      "shape primers (1, 28, 28, 88)\n",
      "filter number: 87\n",
      "\n",
      "p: 11\n",
      "feat_map\n",
      "[[0.   0.   0.   0.   0.   0.   0.  ]\n",
      " [0.   0.   0.   0.75 0.   0.   0.  ]\n",
      " [0.   0.   0.   0.   0.   0.   0.  ]\n",
      " [0.   0.   0.   0.   0.   0.   0.  ]\n",
      " [0.   0.   0.   0.   0.   0.   0.  ]\n",
      " [0.   0.   0.   0.   0.   0.   0.  ]\n",
      " [0.   0.   0.   0.   0.   0.   0.  ]]\n",
      "center (2.999979734559284, 0.9999932448530946)\n",
      "primers_pos\n",
      "[[16.999979734559282, 7.999993244853094]]\n",
      "max patch\n",
      "[0.75000006]\n",
      "\n",
      "filt p 12\n",
      "min max patch -7.3416953 0.7500002\n",
      "shape primers (1, 28, 28, 88)\n",
      "filter number: 6\n",
      "\n",
      "p: 12\n",
      "feat_map\n",
      "[[0.   0.   0.   0.   0.   0.   0.  ]\n",
      " [0.   0.   0.   0.   0.   0.   0.  ]\n",
      " [0.   0.   0.75 0.   0.   0.   0.  ]\n",
      " [0.   0.   0.   0.   0.   0.   0.  ]\n",
      " [0.   0.   0.   0.   0.   0.   0.  ]\n",
      " [0.   0.   0.   0.   0.   0.   0.  ]\n",
      " [0.   0.   0.   0.   0.   0.   0.  ]]\n",
      "center (1.9999866486518831, 1.9999866486518831)\n",
      "primers_pos\n",
      "[[15.999986648651884, 15.999986648651884]]\n",
      "max patch\n",
      "[0.7500002]\n",
      "\n",
      "primers_dict\n",
      "{'type': 1, 'pos': [5.02052531606553, 7.999997777178439], 'max': 0.8698265}\n",
      "{'type': 1, 'pos': [5.999959210789385, 16.999979605394692], 'max': 0.7277148}\n",
      "{'type': 1, 'pos': [7.0, 16.999979942555477], 'max': 0.75777763}\n",
      "{'type': 2, 'pos': [15.503732486527282, 22.512561185994482], 'max': 0.75125885}\n",
      "{'type': 3, 'pos': [23.999979734557673, 14.999993244852558], 'max': 0.75}\n",
      "{'type': 11, 'pos': [16.999979734559282, 7.999993244853094], 'max': 0.75000006}\n",
      "{'type': 12, 'pos': [15.999986648651884, 15.999986648651884], 'max': 0.7500002}\n"
     ]
    }
   ],
   "source": [
    "# define custom filters\n",
    "# top_primers = [[0, 8, 8, 3], [0, 6, 22, 1], [0, 23, 6, 3], [2, 7, 5, 0], [2, 5, 21, 0], [2, 24, 18, 2], [3, 7, 19, 0], [4, 24, 16, 2], [5, 10, 10, 3], [5, 18, 24, 1], [7, 21, 6, 3], [7, 15, 9, 3], [9, 16, 7, 2], [9, 16, 19, 1], [10, 5, 10, 3], [10, 13, 10, 3], [10, 20, 7, 3]]\n",
    "top_primers = [[0, 8, 8, 3], [0, 6, 22, 1], [0, 23, 6, 3], [2, 7, 5, 0], [2, 5, 21, 0], [2, 24, 18, 2], [3, 6, 19, 0], [3, 23, 10, 2], [4, 25, 16, 2], [5, 9, 10, 3], [5, 18, 23, 1], [6, 5, 13, 0], [6, 23, 16, 2], [7, 7, 10, 3], [7, 21, 6, 3], [7, 15, 9, 3], [9, 8, 13, 0], [9, 16, 7, 2], [9, 16, 19, 1], [9, 23, 11, 2], [10, 5, 11, 3], [10, 13, 11, 3], [10, 20, 7, 3], [11, 19, 7, 3], [12, 13, 11, 3], [12, 22, 8, 3], [13, 4, 16, 0], [15, 13, 7, 3], [15, 25, 10, 2], [16, 9, 9, 2], [16, 15, 23, 1], [18, 4, 17, 0], [19, 25, 9, 2], [20, 6, 4, 0], [20, 5, 18, 0], [22, 25, 10, 2], [23, 5, 18, 0], [24, 12, 7, 3], [24, 21, 6, 3], [24, 19, 21, 1],\n",
    "               [25, 7, 7, 3], [26, 8, 9, 0], [27, 7, 6, 3], [27, 13, 11, 3], [29, 11, 9, 3], [30, 14, 11, 3], [30, 17, 13, 0], [32, 18, 14, 2], [35, 15, 10, 2],\n",
    "               [36, 3, 16, 0], [38, 17, 7, 3], [38, 15, 24, 1]]\n",
    "\n",
    "T_filters = [[0, 8, 12, 0], [2, 14, 18, 1], [4, 15, 15, 1], [9, 14, 11, 3], [13, 20, 13, 2], [19, 14, 15, 1], [20, 14, 18, 1], [22, 16, 15, 1], [24, 19, 16, 2],\n",
    "             [24, 8, 15, 1], [33, 13, 17, 1], [35, 12, 13, 3], [36, 15, 12, 3]]\n",
    "\n",
    "corner_filters = [[0, 12, 13, 3], [0, 15, 18, 1], [0, 19, 18, 2], [1, 15, 8, 0], [1, 21, 8, 3], [1, 15, 20, 2], [1, 6, 19, 1], [2, 15, 5, 3], [4, 9, 12, 0], [4, 14, 8, 3], [4, 9, 18, 1], [5, 6, 18, 1], [5, 14, 13, 0], [5, 20, 7, 3], [7, 7, 18, 1], [7, 15, 17, 1], [7, 21, 14, 2], [10, 7, 16, 1], [10, 14, 17, 1], [10, 21, 14, 2], [11, 12, 12, 0], [11, 15, 11, 3], [11, 16, 14, 1], [11, 19, 12, 2], [12, 7, 16, 1], [12, 16, 19, 1], [13, 19, 9, 3], [13, 15, 20, 2], [13, 12, 18, 1], [13, 16, 13, 0], [15, 8, 19, 1], [16, 5, 11, 0], [16, 6, 17, 1], [16, 17, 7, 0], [16, 22, 7, 3], [16, 22, 13, 2], [17, 8, 12, 0], [17, 21, 13, 2], [17, 23, 8, 3], [17, 19, 9, 0], [17, 7, 20, 1], [18, 21, 11, 3], [18, 21, 17, 2], [18, 14, 18, 1], [18, 14, 14, 0], [19, 8, 18, 1], [19, 8, 12, 0], [19, 14, 11, 3], [20, 15, 8, 3], [21, 12, 9, 0], [21, 20, 8, 3], [21, 17, 20, 2], [21, 6, 19, 1], [22, 7, 15, 0], [22, 16, 10, 3], [22, 6, 19, 1], [25, 7, 19, 1], [25, 21, 9, 3],\n",
    "                  [27, 8, 18, 1], [27, 15, 18, 1], [27, 21, 16, 2], [28, 9, 19, 1], [28, 22, 12, 3], [30, 8, 15, 1], [30, 14, 18, 1], [31, 7, 21, 1],\n",
    "                  [31, 18, 7, 0], [31, 22, 13, 2], [32, 20, 11, 3], [32, 20, 17, 2], [32, 15, 20, 1], [33, 8, 13, 0], [33, 12, 13, 3], [34, 8, 15, 0],\n",
    "                  [34, 22, 10, 3], [34, 15, 18, 2], [34, 7, 19, 1], [35, 8, 15, 0], [35, 13, 16, 1], [35, 19, 13, 2], [36, 19, 13, 3], [36, 20, 18, 2],\n",
    "                  [36, 16, 18, 1], [37, 13, 10, 0], [37, 21, 9, 3], [37, 18, 18, 2], [37, 8, 19, 1], [38, 8, 17, 1]]\n",
    "\n",
    "cross_filters = [[5, 15, 17, 0], [9, 17, 15, 0], [16, 16, 17, 0], [17, 14, 13, 0], [26, 14, 16, 0], [31, 14, 14, 0], [38, 16, 16, 0]]\n",
    "\n",
    "# top_primers = []\n",
    "# T_filters = []\n",
    "# corner_filters = []\n",
    "# cross_filters = []\n",
    "\n",
    "lmks_pos = [top_primers, T_filters, corner_filters, cross_filters]\n",
    "\n",
    "filters = get_filters_multi_scale(lmks_pos, filt_size=(9, 9), neg_factor=10)\n",
    "print(\"shape filters\", np.shape(filters))\n",
    "\n",
    "# normalize input and filters\n",
    "test_image_norm = test_image / 255.\n",
    "primers_dict = find_primers(test_image_norm, filters, patch_size=PATCH_SIZE, threshold=FILTER_THRESHOLD, do_plot=False, verbose=True)\n",
    "print(\"primers_dict\")\n",
    "for p in primers_dict:\n",
    "    print(primers_dict[p])"
   ],
   "metadata": {
    "collapsed": false,
    "pycharm": {
     "name": "#%%\n"
    }
   }
  },
  {
   "cell_type": "code",
   "execution_count": 1125,
   "outputs": [],
   "source": [
    "def max_pool_primers(primers, dist_threshold=3, sorting='max', verbose=False):\n",
    "    \"\"\"\n",
    "    filter primers with surroundings, i.e. if a primer is within a distance smaller than another one, keep the highest\n",
    "\n",
    "    :param primers:\n",
    "    :return:\n",
    "    \"\"\"\n",
    "\n",
    "    filt_dictionary = {}\n",
    "    discarded_primer_idx = []\n",
    "\n",
    "    for p_t in range(len(primers)):\n",
    "        for p_a in range(p_t + 1, len(primers)):  # only upward diagonal\n",
    "            # get primers\n",
    "            p_target = primers[p_t]\n",
    "            p_agent = primers[p_a]\n",
    "\n",
    "            # retrieve positions\n",
    "            pos_target = np.array(p_target[\"pos\"])\n",
    "            pos_agent = np.array(p_agent[\"pos\"])\n",
    "            distance = np.linalg.norm(pos_target - pos_agent)\n",
    "\n",
    "            if verbose:\n",
    "                print(\"distance\", distance)\n",
    "\n",
    "            # sort if distance is smaller than the threshold\n",
    "            if distance < dist_threshold:\n",
    "                # todo add possibility to sort by clustering the mean\n",
    "                if sorting == 'max':\n",
    "                    if p_target[\"max\"] > p_agent[\"max\"]:\n",
    "                        discarded_primer_idx.append(p_a)\n",
    "                    else:\n",
    "                        discarded_primer_idx.append(p_t)\n",
    "\n",
    "    if verbose:\n",
    "        print(\"discarded primers\")\n",
    "        print(discarded_primer_idx)\n",
    "\n",
    "    # append all non discarded primers\n",
    "    n_primer = 0\n",
    "    for p in primers:\n",
    "        if p not in discarded_primer_idx:\n",
    "            primer = primers[p]\n",
    "            filt_dictionary[n_primer] = {\"type\": primer[\"type\"], \"pos\": primer[\"pos\"], \"max\": primer[\"max\"]}\n",
    "            n_primer += 1\n",
    "\n",
    "    return filt_dictionary"
   ],
   "metadata": {
    "collapsed": false,
    "pycharm": {
     "name": "#%%\n"
    }
   }
  },
  {
   "cell_type": "code",
   "execution_count": 1126,
   "outputs": [
    {
     "name": "stdout",
     "output_type": "stream",
     "text": [
      "distance 9.053119001888614\n",
      "distance 9.21509625567971\n",
      "distance 17.902852545718154\n",
      "distance 20.229177604912145\n",
      "distance 11.97945441849461\n",
      "distance 13.584858964945417\n",
      "distance 1.0000407892106722\n",
      "distance 10.986822204777772\n",
      "distance 18.110789168295074\n",
      "distance 14.212677651072433\n",
      "distance 10.049902221988932\n",
      "distance 10.134200420750272\n",
      "distance 17.117221087733846\n",
      "distance 13.4536000851228\n",
      "distance 9.055371127886715\n",
      "distance 11.341291565334938\n",
      "distance 14.589495675776051\n",
      "distance 6.531454301904679\n",
      "distance 9.899494936610148\n",
      "distance 8.062250069439832\n",
      "distance 8.062250345448641\n",
      "discarded primers\n",
      "[1]\n",
      "filt_primers 6\n",
      "{'type': 1, 'pos': [5.02052531606553, 7.999997777178439], 'max': 0.8698265}\n",
      "{'type': 1, 'pos': [7.0, 16.999979942555477], 'max': 0.75777763}\n",
      "{'type': 2, 'pos': [15.503732486527282, 22.512561185994482], 'max': 0.75125885}\n",
      "{'type': 3, 'pos': [23.999979734557673, 14.999993244852558], 'max': 0.75}\n",
      "{'type': 11, 'pos': [16.999979734559282, 7.999993244853094], 'max': 0.75000006}\n",
      "{'type': 12, 'pos': [15.999986648651884, 15.999986648651884], 'max': 0.7500002}\n"
     ]
    }
   ],
   "source": [
    "filt_primers = max_pool_primers(primers_dict, dist_threshold=CLUSTER_DISTANCE, verbose=True)\n",
    "print(\"filt_primers\", len(filt_primers))\n",
    "for p in filt_primers:\n",
    "    print(filt_primers[p])"
   ],
   "metadata": {
    "collapsed": false,
    "pycharm": {
     "name": "#%%\n"
    }
   }
  },
  {
   "cell_type": "code",
   "execution_count": 1127,
   "outputs": [
    {
     "name": "stdout",
     "output_type": "stream",
     "text": [
      "primer (0) type: 1\n",
      "primer (1) type: 1\n",
      "primer (2) type: 2\n",
      "primer (3) type: 3\n",
      "primer (4) type: 11\n",
      "primer (5) type: 12\n"
     ]
    },
    {
     "data": {
      "text/plain": "<matplotlib.image.AxesImage at 0x14b1132b0>"
     },
     "execution_count": 1127,
     "metadata": {},
     "output_type": "execute_result"
    },
    {
     "data": {
      "text/plain": "<Figure size 432x288 with 1 Axes>",
      "image/png": "[encoded data removed]"
     },
     "metadata": {
      "needs_background": "light"
     },
     "output_type": "display_data"
    }
   ],
   "source": [
    "# plot primers on digit\n",
    "plt.figure()\n",
    "colors = cm.rainbow(np.linspace(0, 1, np.shape(filters)[0]))\n",
    "rgb_im = np.repeat(np.expand_dims(test_image, axis=2), 3, axis=2)\n",
    "\n",
    "for p in filt_primers:\n",
    "    primer = filt_primers[p]\n",
    "    primer_type = primer[\"type\"]\n",
    "    print(\"primer ({}) type: {}\".format(p, primer_type))\n",
    "    primer_pos = primer[\"pos\"]\n",
    "    color = colors[primer_type]\n",
    "    rgb_im[np.round(primer_pos[1]).astype(int), np.round(primer_pos[0]).astype(int)] = color[:3] * 255\n",
    "\n",
    "# plot legend\n",
    "for i in range(np.shape(filters)[0]):\n",
    "    color = colors[i]\n",
    "    rgb_im[-1, i] = color[:3] * 255\n",
    "\n",
    "plt.imshow(rgb_im)"
   ],
   "metadata": {
    "collapsed": false,
    "pycharm": {
     "name": "#%%\n"
    }
   }
  },
  {
   "cell_type": "markdown",
   "source": [
    "# compute Sequence"
   ],
   "metadata": {
    "collapsed": false,
    "pycharm": {
     "name": "#%% md\n"
    }
   }
  },
  {
   "cell_type": "code",
   "execution_count": 1128,
   "outputs": [],
   "source": [
    "def compute_type_factor_btw_primers(type1, type2):\n",
    "    factor = TYPE_FACTORS1[-1]\n",
    "\n",
    "    def go_down(type, type_factors):\n",
    "        if type == 2:  # I\n",
    "            factor = type_factors[0]\n",
    "        elif type == 9:  # |_\n",
    "            factor = type_factors[1]\n",
    "        elif type == 10:  # _|\n",
    "            factor = type_factors[2]\n",
    "        elif type == 5:\n",
    "            factor = type_factors[3]\n",
    "        elif type == 6:  # _|_\n",
    "            factor = type_factors[3]\n",
    "        elif type == 7:  # _|_\n",
    "            factor = type_factors[3]\n",
    "        elif type == 12:  # +\n",
    "            factor = type_factors[4]\n",
    "        else:\n",
    "            factor = type_factors[-1]\n",
    "        return factor\n",
    "\n",
    "    def go_left(type, type_factors):\n",
    "        if type == 1:\n",
    "            factor = type_factors[0]  # -\n",
    "        elif type == 8:\n",
    "            factor = type_factors[2]  # -:\n",
    "        elif type == 9:\n",
    "            factor = type_factors[1]  # -:|\n",
    "        elif type == 4:\n",
    "            factor = type_factors[3]  # -:|\n",
    "        elif type == 5:\n",
    "            factor = type_factors[3]\n",
    "        elif type == 6:\n",
    "            factor = type_factors[3]\n",
    "        elif type == 12:\n",
    "            factor = type_factors[4]\n",
    "        else:\n",
    "            factor = type_factors[-1]\n",
    "        return factor\n",
    "\n",
    "    def go_up(type, type_factors):\n",
    "        if type == 0:\n",
    "            factor = type_factors[0]\n",
    "        elif type == 11:\n",
    "            factor = type_factors[1]\n",
    "        elif type == 8:\n",
    "            factor = type_factors[2]\n",
    "        elif type == 4:\n",
    "            factor = type_factors[3]\n",
    "        elif type == 5:\n",
    "            factor = type_factors[3]\n",
    "        elif type == 7:\n",
    "            factor = type_factors[3]\n",
    "        elif type == 12:\n",
    "            factor = type_factors[4]\n",
    "        else:\n",
    "            factor = type_factors[-1]\n",
    "        return factor\n",
    "\n",
    "    def go_right(type, type_factors):\n",
    "        if type == 3:\n",
    "            factor = type_factors[0]\n",
    "        elif type == 11:\n",
    "            factor = type_factors[1]\n",
    "        elif type == 10:\n",
    "            factor = type_factors[2]\n",
    "        elif type == 4:\n",
    "            factor = type_factors[3]\n",
    "        elif type == 6:\n",
    "            factor = type_factors[3]\n",
    "        elif type == 7:\n",
    "            factor = type_factors[3]\n",
    "        elif type == 12:\n",
    "            factor = type_factors[4]\n",
    "        else:\n",
    "            factor = type_factors[-1]\n",
    "        return factor\n",
    "\n",
    "    if type1 == 0:\n",
    "        factor = go_down(type2, TYPE_FACTORS1)\n",
    "    elif type1 == 1:\n",
    "        factor = go_right(type2, TYPE_FACTORS1)\n",
    "    elif type1 == 2:\n",
    "        factor = go_up(type2, TYPE_FACTORS1)\n",
    "    elif type1 == 3:\n",
    "        factor = go_left(type2, TYPE_FACTORS1)\n",
    "\n",
    "    elif type1 == 4:\n",
    "        factor = go_down(type2, TYPE_FACTORS2)\n",
    "        if factor == TYPE_FACTORS1[-1]:\n",
    "            factor = go_right(type2, TYPE_FACTORS2)\n",
    "            if factor == TYPE_FACTORS1[-1]:\n",
    "                factor = go_left(type2, TYPE_FACTORS2)\n",
    "    elif type1 == 5:\n",
    "        factor = go_right(type2, TYPE_FACTORS2)\n",
    "        if factor == TYPE_FACTORS1[-1]:\n",
    "            factor = go_up(type2, TYPE_FACTORS2)\n",
    "            if factor == TYPE_FACTORS1[-1]:\n",
    "                factor = go_down(type2, TYPE_FACTORS2)\n",
    "    elif type1 == 6:\n",
    "        factor = go_up(type2, TYPE_FACTORS2)\n",
    "        if factor == TYPE_FACTORS1[-1]:\n",
    "            factor = go_right(type2, TYPE_FACTORS2)\n",
    "            if factor == TYPE_FACTORS1[-1]:\n",
    "                factor = go_left(type2, TYPE_FACTORS2)\n",
    "    elif type1 == 7:\n",
    "        factor = go_left(type2, TYPE_FACTORS2)\n",
    "        if factor == TYPE_FACTORS1[-1]:\n",
    "            factor = go_up(type2, TYPE_FACTORS2)\n",
    "            if factor == TYPE_FACTORS1[-1]:\n",
    "                factor = go_down(type2, TYPE_FACTORS2)\n",
    "\n",
    "    elif type1 == 8:\n",
    "        factor = go_down(type2, TYPE_FACTORS3)\n",
    "        if factor == TYPE_FACTORS1[-1]:\n",
    "            factor = go_right(type2, TYPE_FACTORS3)\n",
    "    elif type1 == 9:\n",
    "        factor = go_right(type2, TYPE_FACTORS3)\n",
    "        if factor == TYPE_FACTORS1[-1]:\n",
    "            factor = go_up(type2, TYPE_FACTORS3)\n",
    "    elif type1 == 10:\n",
    "        factor = go_left(type2, TYPE_FACTORS3)\n",
    "        if factor == TYPE_FACTORS1[-1]:\n",
    "            factor = go_up(type2, TYPE_FACTORS3)\n",
    "    elif type1 == 11:\n",
    "        factor = go_left(type2, TYPE_FACTORS3)\n",
    "        if factor == TYPE_FACTORS1[-1]:\n",
    "            factor = go_down(type2, TYPE_FACTORS3)\n",
    "\n",
    "    elif type1 == 12:\n",
    "        factor = go_right(type2, TYPE_FACTORS4)\n",
    "\n",
    "        if factor == TYPE_FACTORS1[-1]:\n",
    "            factor = go_down(type2, TYPE_FACTORS4)\n",
    "\n",
    "            if factor == TYPE_FACTORS1[-1]:\n",
    "                factor = go_left(type2, TYPE_FACTORS4)\n",
    "\n",
    "                if factor == TYPE_FACTORS1[-1]:\n",
    "                    factor = go_up(type2, TYPE_FACTORS4)\n",
    "    else:\n",
    "        print(\"Todo type1:\", type1)\n",
    "\n",
    "    return factor"
   ],
   "metadata": {
    "collapsed": false,
    "pycharm": {
     "name": "#%%\n"
    }
   }
  },
  {
   "cell_type": "code",
   "execution_count": 1129,
   "outputs": [],
   "source": [
    "def compute_distance_btw_primers(pos1, pos2, alpha=3):\n",
    "    return np.log(np.linalg.norm(np.array(pos1) - np.array(pos2)))"
   ],
   "metadata": {
    "collapsed": false,
    "pycharm": {
     "name": "#%%\n"
    }
   }
  },
  {
   "cell_type": "code",
   "execution_count": 1130,
   "outputs": [],
   "source": [
    "def compute_score_matrix(primers, verbose=False):\n",
    "    # group primers' positions\n",
    "    score_mat = np.zeros((len(primers), len(primers)))\n",
    "    for p_t in range(len(primers)):\n",
    "        # get target primer\n",
    "        p_target = primers[p_t]\n",
    "\n",
    "        if verbose:\n",
    "            print(p_t, \": primer - \", p_target)\n",
    "\n",
    "        # compute for full matrix since it may not be symmetric due to the different idx_factors\n",
    "        for p_a in range(len(primers)):\n",
    "            if p_a != p_t:  # remove self connections\n",
    "                # get agent primer\n",
    "                p_agent = primers[p_a]\n",
    "\n",
    "                type_factor = compute_type_factor_btw_primers(p_target[\"type\"], p_agent[\"type\"])\n",
    "                dist = compute_distance_btw_primers(p_target[\"pos\"], p_agent[\"pos\"])\n",
    "                score = type_factor / dist\n",
    "                score_mat[p_t, p_a] = score\n",
    "\n",
    "\n",
    "    if verbose:\n",
    "        print(\"score_mat\")\n",
    "        print(score_mat)\n",
    "        print()\n",
    "\n",
    "    return score_mat"
   ],
   "metadata": {
    "collapsed": false,
    "pycharm": {
     "name": "#%%\n"
    }
   }
  },
  {
   "cell_type": "code",
   "execution_count": 1131,
   "outputs": [],
   "source": [
    "def compute_n_vectors(primers, verbose=False):\n",
    "    n_vectors = 0\n",
    "    n_ends = 0\n",
    "    n_Ts = 0\n",
    "    n_cross = 0\n",
    "    n_corners = 0\n",
    "    for p in range(len(primers)):\n",
    "        \"ends and T adds only half a vector since we need two to make a vector, while the corner adds a full vector as it is between two others\"\n",
    "        \"Ts are considered half since the matching factor draws a vector that 'bypass' the T and thus has only one end to it\"\n",
    "        primer = primers[p]\n",
    "        if primer[\"type\"] in [0, 1, 2, 3]:\n",
    "            n_vectors += 0.5\n",
    "            n_ends +=1\n",
    "        elif primer[\"type\"] in [4, 5, 6, 7]:\n",
    "            # n_vectors += 1.0\n",
    "            n_vectors += 1.5\n",
    "            n_Ts += 1\n",
    "        elif primer[\"type\"] == 12:  # cross adds two vectors\n",
    "            n_vectors += 2\n",
    "            n_cross += 1\n",
    "        else:\n",
    "            n_vectors += 1\n",
    "            n_corners += 1\n",
    "\n",
    "    # remove a vector if there's only one end, that may mean that the other end has not been found because there's some small corner at the tip\n",
    "    # but this should not remove the case of a 6 that has one end a T\n",
    "    if n_ends == 1 and n_Ts == 0:\n",
    "        n_vectors -= 1\n",
    "\n",
    "    #remove a vector if there's an odd number of Ts for an even number of ends, that's perhaps a T found within a bar\n",
    "    elif n_ends%2 == 0 and (n_ends + n_Ts)%2 != 0:\n",
    "        n_vectors -= 1\n",
    "\n",
    "    # remove vectors if the number of corners is odd\n",
    "    # this case can happen with 6\n",
    "    # if n_ends == 0 and n_Ts == 0 and n_corners%2 != 0:\n",
    "    #     n_vectors -= 1\n",
    "\n",
    "    # remove the \"double\" vector between cross\n",
    "    if n_cross == 2:\n",
    "        n_vectors -=1\n",
    "\n",
    "    n_vectors = np.ceil(n_vectors).astype(int)\n",
    "\n",
    "    if verbose:\n",
    "        print(\"Found {} vectors from {} primers\".format(n_vectors, len(primers)))\n",
    "        print()\n",
    "\n",
    "    return n_vectors"
   ],
   "metadata": {
    "collapsed": false,
    "pycharm": {
     "name": "#%%\n"
    }
   }
  },
  {
   "cell_type": "code",
   "execution_count": 1132,
   "outputs": [],
   "source": [
    "def build_vector_sequence(score_mat, n_vectors, primers, verbose=False):\n",
    "    sequence = {}\n",
    "\n",
    "    agent_idx = 0\n",
    "    new_chain = True\n",
    "    # build sequence of primers from the highest matching score\n",
    "    for v in range(n_vectors):  # one vector less than the number of primers\n",
    "        # get new chain\n",
    "        if new_chain and v != 0:\n",
    "            agent_idx = np.argmax(np.amax(score_mat, axis=1))\n",
    "\n",
    "        # copy just for verbose purpose\n",
    "        score_mat_copy = np.copy(score_mat)\n",
    "        agent_idx_copy = agent_idx\n",
    "\n",
    "        # get scores for target\n",
    "        target_idx = np.argmax(score_mat[agent_idx, :])\n",
    "\n",
    "        # retrieve primers from pair\n",
    "        p_agent = primers[agent_idx]\n",
    "        p_target = primers[target_idx]\n",
    "\n",
    "        # remove connections from selected agent and target\n",
    "        score_mat[agent_idx, target_idx] = 0.0\n",
    "        score_mat[target_idx, agent_idx] = 0.0\n",
    "\n",
    "        # dampen connection for all the primers when used, this ensures that we try first with other primers\n",
    "        score_mat[agent_idx, :] *= DECREASE_FACTOR\n",
    "        if new_chain:\n",
    "            score_mat[:, agent_idx] *= DECREASE_FACTOR\n",
    "\n",
    "        # set new chain to false\n",
    "        new_chain = False\n",
    "\n",
    "        # remove end primers when used, set that we also reach the end of a chain\n",
    "        if p_target[\"type\"] in [0, 1, 2, 3]:\n",
    "            new_chain = True\n",
    "            score_mat[:, target_idx] = 0\n",
    "            score_mat[target_idx, :] *= .9  # Decrease primer when it reached the end chain\n",
    "        # remove corner primers when used, we don't want to go back to a corner since it has only two vectors\n",
    "        elif p_target[\"type\"] in [8, 9, 10, 11]:\n",
    "            score_mat[:, target_idx] = 0\n",
    "\n",
    "        # dampen T corners, so we emphasize the end corners more\n",
    "        elif p_target[\"type\"] in [4, 5, 6, 7]:\n",
    "            new_chain = True\n",
    "            score_mat[:, target_idx] *= 0.9\n",
    "\n",
    "        # add sequence\n",
    "        sequence[v] = {\"type\": [p_agent[\"type\"], p_target[\"type\"]], \"pos\": [p_agent[\"pos\"], p_target[\"pos\"]]}\n",
    "\n",
    "        # set target as next agent (continuity)\n",
    "        agent_idx = target_idx\n",
    "\n",
    "        if verbose:\n",
    "            print(\"select from:\", score_mat_copy[agent_idx_copy, :])\n",
    "            print(\"max value between {}-{}: {}\".format(agent_idx_copy, target_idx, score_mat_copy[agent_idx_copy, target_idx]))\n",
    "            print(\"sequence:\")\n",
    "            for s in sequence:\n",
    "                print(sequence[s])\n",
    "            print(\"new score matrix\")\n",
    "            print(score_mat)\n",
    "            if new_chain:\n",
    "                print(\"next agent:\", \"None\")\n",
    "            else:\n",
    "                print(\"next agent:\", agent_idx)\n",
    "            print()\n",
    "\n",
    "    return sequence\n"
   ],
   "metadata": {
    "collapsed": false,
    "pycharm": {
     "name": "#%%\n"
    }
   }
  },
  {
   "cell_type": "code",
   "execution_count": 1133,
   "outputs": [],
   "source": [
    "def group_primers_to_sequence(primers, verbose=False):\n",
    "    # get score matrix\n",
    "    score_mat = compute_score_matrix(primers, verbose=verbose)\n",
    "\n",
    "    # compute n_vectors\n",
    "    n_vectors = compute_n_vectors(primers, verbose=verbose)\n",
    "\n",
    "    # compute sequence\n",
    "    sequence = build_vector_sequence(score_mat, n_vectors, primers, verbose=verbose)\n",
    "\n",
    "    return sequence"
   ],
   "metadata": {
    "collapsed": false,
    "pycharm": {
     "name": "#%%\n"
    }
   }
  },
  {
   "cell_type": "code",
   "execution_count": 1134,
   "outputs": [
    {
     "name": "stdout",
     "output_type": "stream",
     "text": [
      "0 : primer -  {'type': 1, 'pos': [5.02052531606553, 7.999997777178439], 'max': 0.8698265}\n",
      "1 : primer -  {'type': 1, 'pos': [7.0, 16.999979942555477], 'max': 0.75777763}\n",
      "2 : primer -  {'type': 2, 'pos': [15.503732486527282, 22.512561185994482], 'max': 0.75125885}\n",
      "3 : primer -  {'type': 3, 'pos': [23.999979734557673, 14.999993244852558], 'max': 0.75}\n",
      "4 : primer -  {'type': 11, 'pos': [16.999979734559282, 7.999993244853094], 'max': 0.75000006}\n",
      "5 : primer -  {'type': 12, 'pos': [15.999986648651884, 15.999986648651884], 'max': 0.7500002}\n",
      "score_mat\n",
      "[[0.    0.    0.    0.233 0.403 0.364]\n",
      " [0.    0.    0.    0.246 0.385 0.431]\n",
      " [0.    0.    0.    0.    0.373 0.506]\n",
      " [0.233 0.246 0.    0.    0.    0.455]\n",
      " [0.282 0.269 0.261 0.    0.    0.335]\n",
      " [0.345 0.408 0.48  0.431 0.479 0.   ]]\n",
      "\n",
      "Found 5 vectors from 6 primers\n",
      "\n",
      "select from: [0.    0.    0.    0.233 0.403 0.364]\n",
      "max value between 0-4: 0.40270731256640147\n",
      "sequence:\n",
      "{'type': [1, 11], 'pos': [[5.02052531606553, 7.999997777178439], [16.999979734559282, 7.999993244853094]]}\n",
      "new score matrix\n",
      "[[0.    0.    0.    0.14  0.    0.218]\n",
      " [0.    0.    0.    0.246 0.    0.431]\n",
      " [0.    0.    0.    0.    0.    0.506]\n",
      " [0.14  0.246 0.    0.    0.    0.455]\n",
      " [0.    0.269 0.261 0.    0.    0.335]\n",
      " [0.207 0.408 0.48  0.431 0.    0.   ]]\n",
      "next agent: 4\n",
      "\n",
      "select from: [0.    0.269 0.261 0.    0.    0.335]\n",
      "max value between 4-5: 0.33537870958767196\n",
      "sequence:\n",
      "{'type': [1, 11], 'pos': [[5.02052531606553, 7.999997777178439], [16.999979734559282, 7.999993244853094]]}\n",
      "{'type': [11, 12], 'pos': [[16.999979734559282, 7.999993244853094], [15.999986648651884, 15.999986648651884]]}\n",
      "new score matrix\n",
      "[[0.    0.    0.    0.14  0.    0.218]\n",
      " [0.    0.    0.    0.246 0.    0.431]\n",
      " [0.    0.    0.    0.    0.    0.506]\n",
      " [0.14  0.246 0.    0.    0.    0.455]\n",
      " [0.    0.162 0.157 0.    0.    0.   ]\n",
      " [0.207 0.408 0.48  0.431 0.    0.   ]]\n",
      "next agent: 5\n",
      "\n",
      "select from: [0.207 0.408 0.48  0.431 0.    0.   ]\n",
      "max value between 5-2: 0.4795831771619245\n",
      "sequence:\n",
      "{'type': [1, 11], 'pos': [[5.02052531606553, 7.999997777178439], [16.999979734559282, 7.999993244853094]]}\n",
      "{'type': [11, 12], 'pos': [[16.999979734559282, 7.999993244853094], [15.999986648651884, 15.999986648651884]]}\n",
      "{'type': [12, 2], 'pos': [[15.999986648651884, 15.999986648651884], [15.503732486527282, 22.512561185994482]]}\n",
      "new score matrix\n",
      "[[0.    0.    0.    0.14  0.    0.218]\n",
      " [0.    0.    0.    0.246 0.    0.431]\n",
      " [0.    0.    0.    0.    0.    0.   ]\n",
      " [0.14  0.246 0.    0.    0.    0.455]\n",
      " [0.    0.162 0.    0.    0.    0.   ]\n",
      " [0.124 0.245 0.    0.259 0.    0.   ]]\n",
      "next agent: None\n",
      "\n",
      "select from: [0.14  0.246 0.    0.    0.    0.455]\n",
      "max value between 3-5: 0.45515682762030574\n",
      "sequence:\n",
      "{'type': [1, 11], 'pos': [[5.02052531606553, 7.999997777178439], [16.999979734559282, 7.999993244853094]]}\n",
      "{'type': [11, 12], 'pos': [[16.999979734559282, 7.999993244853094], [15.999986648651884, 15.999986648651884]]}\n",
      "{'type': [12, 2], 'pos': [[15.999986648651884, 15.999986648651884], [15.503732486527282, 22.512561185994482]]}\n",
      "{'type': [3, 12], 'pos': [[23.999979734557673, 14.999993244852558], [15.999986648651884, 15.999986648651884]]}\n",
      "new score matrix\n",
      "[[0.    0.    0.    0.084 0.    0.218]\n",
      " [0.    0.    0.    0.148 0.    0.431]\n",
      " [0.    0.    0.    0.    0.    0.   ]\n",
      " [0.084 0.148 0.    0.    0.    0.   ]\n",
      " [0.    0.162 0.    0.    0.    0.   ]\n",
      " [0.124 0.245 0.    0.    0.    0.   ]]\n",
      "next agent: 5\n",
      "\n",
      "select from: [0.124 0.245 0.    0.    0.    0.   ]\n",
      "max value between 5-1: 0.24508045504259654\n",
      "sequence:\n",
      "{'type': [1, 11], 'pos': [[5.02052531606553, 7.999997777178439], [16.999979734559282, 7.999993244853094]]}\n",
      "{'type': [11, 12], 'pos': [[16.999979734559282, 7.999993244853094], [15.999986648651884, 15.999986648651884]]}\n",
      "{'type': [12, 2], 'pos': [[15.999986648651884, 15.999986648651884], [15.503732486527282, 22.512561185994482]]}\n",
      "{'type': [3, 12], 'pos': [[23.999979734557673, 14.999993244852558], [15.999986648651884, 15.999986648651884]]}\n",
      "{'type': [12, 1], 'pos': [[15.999986648651884, 15.999986648651884], [7.0, 16.999979942555477]]}\n",
      "new score matrix\n",
      "[[0.    0.    0.    0.084 0.    0.218]\n",
      " [0.    0.    0.    0.133 0.    0.   ]\n",
      " [0.    0.    0.    0.    0.    0.   ]\n",
      " [0.084 0.    0.    0.    0.    0.   ]\n",
      " [0.    0.    0.    0.    0.    0.   ]\n",
      " [0.075 0.    0.    0.    0.    0.   ]]\n",
      "next agent: None\n",
      "\n",
      "Final sequence\n",
      "{'type': [1, 11], 'pos': [[5.02052531606553, 7.999997777178439], [16.999979734559282, 7.999993244853094]]}\n",
      "{'type': [11, 12], 'pos': [[16.999979734559282, 7.999993244853094], [15.999986648651884, 15.999986648651884]]}\n",
      "{'type': [12, 2], 'pos': [[15.999986648651884, 15.999986648651884], [15.503732486527282, 22.512561185994482]]}\n",
      "{'type': [3, 12], 'pos': [[23.999979734557673, 14.999993244852558], [15.999986648651884, 15.999986648651884]]}\n",
      "{'type': [12, 1], 'pos': [[15.999986648651884, 15.999986648651884], [7.0, 16.999979942555477]]}\n"
     ]
    }
   ],
   "source": [
    "sequence = group_primers_to_sequence(filt_primers, verbose=True)\n",
    "print(\"Final sequence\")\n",
    "for s in sequence:\n",
    "    print(sequence[s])"
   ],
   "metadata": {
    "collapsed": false,
    "pycharm": {
     "name": "#%%\n"
    }
   }
  },
  {
   "cell_type": "code",
   "execution_count": 1135,
   "outputs": [],
   "source": [
    "def plot_vectors(image, sequence, fig=None, subplot=None, title=None):\n",
    "\n",
    "    if fig is None:\n",
    "        plt.figure()\n",
    "    else:\n",
    "        fig.add_subplot(subplot)\n",
    "        plt.title(title)\n",
    "\n",
    "    colors = cm.rainbow(np.linspace(0, 1, len(sequence)))\n",
    "    for s, color in zip(sequence, colors):\n",
    "        vector = sequence[s][\"pos\"]\n",
    "\n",
    "        # add vectors\n",
    "        vector = np.rint(vector).astype(int)\n",
    "        # plt.plot([vector[0, 0], vector[1, 0]],[vector[0, 1], vector[1, 1]], color=color, linestyle='solid', marker='o', linewidth=3)\n",
    "        plt.arrow(vector[0, 0], vector[0, 1], vector[1, 0] - vector[0, 0], vector[1, 1]-vector[0, 1],\n",
    "                  color=color,\n",
    "                  linestyle='solid',\n",
    "                  width=0.5,\n",
    "                  length_includes_head=True)\n",
    "\n",
    "    # show image\n",
    "    plt.imshow(image)"
   ],
   "metadata": {
    "collapsed": false,
    "pycharm": {
     "name": "#%%\n"
    }
   }
  },
  {
   "cell_type": "code",
   "execution_count": 1136,
   "outputs": [
    {
     "data": {
      "text/plain": "<Figure size 432x288 with 1 Axes>",
      "image/png": "[encoded data removed]"
     },
     "metadata": {
      "needs_background": "light"
     },
     "output_type": "display_data"
    }
   ],
   "source": [
    "rgb_im = np.repeat(np.expand_dims(test_image, axis=2), 3, axis=2)\n",
    "plot_vectors(rgb_im, sequence)"
   ],
   "metadata": {
    "collapsed": false,
    "pycharm": {
     "name": "#%%\n"
    }
   }
  },
  {
   "cell_type": "markdown",
   "source": [
    "# VECTORIZE ENTIRE DIGIT"
   ],
   "metadata": {
    "collapsed": false,
    "pycharm": {
     "name": "#%% md\n"
    }
   }
  },
  {
   "cell_type": "code",
   "execution_count": 1137,
   "outputs": [],
   "source": [
    "def vectorize_digit(image, filters, do_plot=False, verbose=False):\n",
    "    # find primers\n",
    "    primers_dict = find_primers(image, filters, patch_size=PATCH_SIZE, threshold=FILTER_THRESHOLD, do_plot=do_plot, verbose=verbose)\n",
    "\n",
    "    # clearn primers\n",
    "    filt_primers = max_pool_primers(primers_dict, dist_threshold=CLUSTER_DISTANCE, verbose=verbose)\n",
    "\n",
    "    # compute vectors\n",
    "    sequence = group_primers_to_sequence(filt_primers, verbose=verbose)\n",
    "\n",
    "    return sequence"
   ],
   "metadata": {
    "collapsed": false,
    "pycharm": {
     "name": "#%%\n"
    }
   }
  },
  {
   "cell_type": "code",
   "execution_count": 1138,
   "outputs": [
    {
     "name": "stdout",
     "output_type": "stream",
     "text": [
      "shape digits_idx_oi (6265,)\n",
      "[ 15  29  38  42  52  71  79  84  91  96 101 103 123 140 141 148 158 168\n",
      " 185 193 196 212 214 223 230 243 258 263 288 301 305 307 324 337 340 349\n",
      " 353 370 371 377 384 387 411 422 426 436 446 467 468 478]\n"
     ]
    }
   ],
   "source": [
    "# get digits by labels 1\n",
    "label_oi = 7\n",
    "idx_train = np.arange(len(y_train))\n",
    "digits_idx_oi = idx_train[y_train == label_oi]\n",
    "print(\"shape digits_idx_oi\", np.shape(digits_idx_oi))\n",
    "print(digits_idx_oi[:50])\n",
    "\n",
    "train_ones = [3, 24, 70, 105, 248, 366]\n",
    "train_sevens = [15, 38]"
   ],
   "metadata": {
    "collapsed": false,
    "pycharm": {
     "name": "#%%\n"
    }
   }
  },
  {
   "cell_type": "code",
   "execution_count": 1139,
   "outputs": [
    {
     "name": "stdout",
     "output_type": "stream",
     "text": [
      "shape test_image (28, 28)\n",
      "{'type': [0, 2], 'pos': [[17.999973297295277, 4.999967018978154], [9.492429878639177, 23.99998953354327]]}\n"
     ]
    },
    {
     "data": {
      "text/plain": "<Figure size 432x288 with 2 Axes>",
      "image/png": "[encoded data removed]"
     },
     "metadata": {
      "needs_background": "light"
     },
     "output_type": "display_data"
    }
   ],
   "source": [
    "# idx = 0  # label 5\n",
    "idx = 1  # label 0\n",
    "# idx = 2  # label 4\n",
    "# idx = 3  # label 1\n",
    "# idx = 4  # label 9\n",
    "# idx = 5  # label 2\n",
    "# # idx = 6  # label 1\n",
    "# idx = 7  # label 3\n",
    "# idx = 8  # label 1\n",
    "# idx = 9  # label 4\n",
    "# idx = 10  # label 3\n",
    "# idx = 11  # label 5\n",
    "# idx = 12  # label 3\n",
    "# idx = 13  # label 6\n",
    "# # idx = 14  # label 1\n",
    "# idx = 15  # label 7\n",
    "# idx = 16  # label 2\n",
    "# idx = 17  # label 8\n",
    "# idx = 18 # label 8\n",
    "# idx = 19 # label 9\n",
    "idx = 20 # label 4\n",
    "idx = 23\n",
    "# idx = 42\n",
    "test_image = x_train[idx] / 255.\n",
    "# test_image = x_test[1] / 255.\n",
    "print(\"shape test_image\", np.shape(test_image))\n",
    "\n",
    "sequence = vectorize_digit(test_image, filters, do_plot=False, verbose=False)\n",
    "\n",
    "for i in sequence:\n",
    "    print(sequence[i])\n",
    "\n",
    "rgb_im = np.repeat(np.expand_dims(test_image, axis=2), 3, axis=2)\n",
    "\n",
    "fig = plt.figure()\n",
    "plt.subplot(121)\n",
    "plt.title(\"Input\")\n",
    "plt.imshow(rgb_im)\n",
    "plot_vectors(rgb_im, sequence, fig, subplot='122', title=\"Vectorized\")"
   ],
   "metadata": {
    "collapsed": false,
    "pycharm": {
     "name": "#%%\n"
    }
   }
  },
  {
   "cell_type": "markdown",
   "source": [
    "# TEST MULTIPLE DIGITS"
   ],
   "metadata": {
    "collapsed": false,
    "pycharm": {
     "name": "#%% md\n"
    }
   }
  },
  {
   "cell_type": "code",
   "execution_count": 1140,
   "outputs": [
    {
     "name": "stderr",
     "output_type": "stream",
     "text": [
      "/Users/michaelstettler/PycharmProjects/BVS/BVS/venv/lib/python3.7/site-packages/ipykernel_launcher.py:11: RuntimeWarning: More than 20 figures have been opened. Figures created through the pyplot interface (`matplotlib.pyplot.figure`) are retained until explicitly closed and may consume too much memory. (To control this warning, see the rcParam `figure.max_open_warning`).\n",
      "  # This is added back by InteractiveShellApp.init_path()\n"
     ]
    },
    {
     "data": {
      "text/plain": "<Figure size 432x288 with 2 Axes>",
      "image/png": "[encoded data removed]"
     },
     "metadata": {
      "needs_background": "light"
     },
     "output_type": "display_data"
    },
    {
     "data": {
      "text/plain": "<Figure size 432x288 with 2 Axes>",
      "image/png": "[encoded data removed]"
     },
     "metadata": {
      "needs_background": "light"
     },
     "output_type": "display_data"
    },
    {
     "data": {
      "text/plain": "<Figure size 432x288 with 2 Axes>",
      "image/png": "[encoded data removed]"
     },
     "metadata": {
      "needs_background": "light"
     },
     "output_type": "display_data"
    },
    {
     "data": {
      "text/plain": "<Figure size 432x288 with 2 Axes>",
      "image/png": "[encoded data removed]"
     },
     "metadata": {
      "needs_background": "light"
     },
     "output_type": "display_data"
    },
    {
     "data": {
      "text/plain": "<Figure size 432x288 with 2 Axes>",
      "image/png": "[encoded data removed]"
     },
     "metadata": {
      "needs_background": "light"
     },
     "output_type": "display_data"
    },
    {
     "data": {
      "text/plain": "<Figure size 432x288 with 2 Axes>",
      "image/png": "[encoded data removed]"
     },
     "metadata": {
      "needs_background": "light"
     },
     "output_type": "display_data"
    },
    {
     "data": {
      "text/plain": "<Figure size 432x288 with 2 Axes>",
      "image/png": "[encoded data removed]"
     },
     "metadata": {
      "needs_background": "light"
     },
     "output_type": "display_data"
    },
    {
     "data": {
      "text/plain": "<Figure size 432x288 with 2 Axes>",
      "image/png": "[encoded data removed]"
     },
     "metadata": {
      "needs_background": "light"
     },
     "output_type": "display_data"
    },
    {
     "data": {
      "text/plain": "<Figure size 432x288 with 2 Axes>",
      "image/png": "[encoded data removed]"
     },
     "metadata": {
      "needs_background": "light"
     },
     "output_type": "display_data"
    },
    {
     "data": {
      "text/plain": "<Figure size 432x288 with 2 Axes>",
      "image/png": "[encoded data removed]"
     },
     "metadata": {
      "needs_background": "light"
     },
     "output_type": "display_data"
    },
    {
     "data": {
      "text/plain": "<Figure size 432x288 with 2 Axes>",
      "image/png": "[encoded data removed]"
     },
     "metadata": {
      "needs_background": "light"
     },
     "output_type": "display_data"
    },
    {
     "data": {
      "text/plain": "<Figure size 432x288 with 2 Axes>",
      "image/png": "[encoded data removed]"
     },
     "metadata": {
      "needs_background": "light"
     },
     "output_type": "display_data"
    },
    {
     "data": {
      "text/plain": "<Figure size 432x288 with 2 Axes>",
      "image/png": "[encoded data removed]"
     },
     "metadata": {
      "needs_background": "light"
     },
     "output_type": "display_data"
    },
    {
     "data": {
      "text/plain": "<Figure size 432x288 with 2 Axes>",
      "image/png": "[encoded data removed]"
     },
     "metadata": {
      "needs_background": "light"
     },
     "output_type": "display_data"
    },
    {
     "data": {
      "text/plain": "<Figure size 432x288 with 2 Axes>",
      "image/png": "[encoded data removed]"
     },
     "metadata": {
      "needs_background": "light"
     },
     "output_type": "display_data"
    },
    {
     "data": {
      "text/plain": "<Figure size 432x288 with 2 Axes>",
      "image/png": "[encoded data removed]"
     },
     "metadata": {
      "needs_background": "light"
     },
     "output_type": "display_data"
    },
    {
     "data": {
      "text/plain": "<Figure size 432x288 with 2 Axes>",
      "image/png": "[encoded data removed]"
     },
     "metadata": {
      "needs_background": "light"
     },
     "output_type": "display_data"
    },
    {
     "data": {
      "text/plain": "<Figure size 432x288 with 2 Axes>",
      "image/png": "[encoded data removed]"
     },
     "metadata": {
      "needs_background": "light"
     },
     "output_type": "display_data"
    },
    {
     "data": {
      "text/plain": "<Figure size 432x288 with 2 Axes>",
      "image/png": "[encoded data removed]"
     },
     "metadata": {
      "needs_background": "light"
     },
     "output_type": "display_data"
    },
    {
     "data": {
      "text/plain": "<Figure size 432x288 with 2 Axes>",
      "image/png": "[encoded data removed]"
     },
     "metadata": {
      "needs_background": "light"
     },
     "output_type": "display_data"
    },
    {
     "data": {
      "text/plain": "<Figure size 432x288 with 2 Axes>",
      "image/png": "[encoded data removed]"
     },
     "metadata": {
      "needs_background": "light"
     },
     "output_type": "display_data"
    },
    {
     "data": {
      "text/plain": "<Figure size 432x288 with 2 Axes>",
      "image/png": "[encoded data removed]"
     },
     "metadata": {
      "needs_background": "light"
     },
     "output_type": "display_data"
    },
    {
     "data": {
      "text/plain": "<Figure size 432x288 with 2 Axes>",
      "image/png": "[encoded data removed]"
     },
     "metadata": {
      "needs_background": "light"
     },
     "output_type": "display_data"
    },
    {
     "data": {
      "text/plain": "<Figure size 432x288 with 2 Axes>",
      "image/png": "[encoded data removed]"
     },
     "metadata": {
      "needs_background": "light"
     },
     "output_type": "display_data"
    },
    {
     "data": {
      "text/plain": "<Figure size 432x288 with 2 Axes>",
      "image/png": "[encoded data removed]"
     },
     "metadata": {
      "needs_background": "light"
     },
     "output_type": "display_data"
    },
    {
     "data": {
      "text/plain": "<Figure size 432x288 with 2 Axes>",
      "image/png": "[encoded data removed]"
     },
     "metadata": {
      "needs_background": "light"
     },
     "output_type": "display_data"
    },
    {
     "data": {
      "text/plain": "<Figure size 432x288 with 2 Axes>",
      "image/png": "[encoded data removed]"
     },
     "metadata": {
      "needs_background": "light"
     },
     "output_type": "display_data"
    },
    {
     "data": {
      "text/plain": "<Figure size 432x288 with 2 Axes>",
      "image/png": "[encoded data removed]"
     },
     "metadata": {
      "needs_background": "light"
     },
     "output_type": "display_data"
    },
    {
     "data": {
      "text/plain": "<Figure size 432x288 with 2 Axes>",
      "image/png": "[encoded data removed]"
     },
     "metadata": {
      "needs_background": "light"
     },
     "output_type": "display_data"
    },
    {
     "data": {
      "text/plain": "<Figure size 432x288 with 2 Axes>",
      "image/png": "[encoded data removed]"
     },
     "metadata": {
      "needs_background": "light"
     },
     "output_type": "display_data"
    },
    {
     "data": {
      "text/plain": "<Figure size 432x288 with 2 Axes>",
      "image/png": "[encoded data removed]"
     },
     "metadata": {
      "needs_background": "light"
     },
     "output_type": "display_data"
    },
    {
     "data": {
      "text/plain": "<Figure size 432x288 with 2 Axes>",
      "image/png": "[encoded data removed]"
     },
     "metadata": {
      "needs_background": "light"
     },
     "output_type": "display_data"
    },
    {
     "data": {
      "text/plain": "<Figure size 432x288 with 2 Axes>",
      "image/png": "[encoded data removed]"
     },
     "metadata": {
      "needs_background": "light"
     },
     "output_type": "display_data"
    },
    {
     "data": {
      "text/plain": "<Figure size 432x288 with 2 Axes>",
      "image/png": "[encoded data removed]"
     },
     "metadata": {
      "needs_background": "light"
     },
     "output_type": "display_data"
    },
    {
     "data": {
      "text/plain": "<Figure size 432x288 with 2 Axes>",
      "image/png": "[encoded data removed]"
     },
     "metadata": {
      "needs_background": "light"
     },
     "output_type": "display_data"
    }
   ],
   "source": [
    "digits = np.arange(35)\n",
    "\n",
    "for d in digits:\n",
    "    test_image = x_train[d] / 255.\n",
    "    # test_image = x_test[d] / 255.\n",
    "\n",
    "    sequence = vectorize_digit(test_image, filters, do_plot=False, verbose=False)\n",
    "\n",
    "    rgb_im = np.repeat(np.expand_dims(test_image, axis=2), 3, axis=2)\n",
    "\n",
    "    fig = plt.figure()\n",
    "    plt.subplot(121)\n",
    "    plt.title(\"Input {}\".format(d))\n",
    "    plt.imshow(rgb_im)\n",
    "    plot_vectors(rgb_im, sequence, fig, subplot='122', title=\"Vectorized\")"
   ],
   "metadata": {
    "collapsed": false,
    "pycharm": {
     "name": "#%%\n"
    }
   }
  },
  {
   "cell_type": "markdown",
   "source": [
    "# NORM-REFERENCED CLASSIFICATION"
   ],
   "metadata": {
    "collapsed": false,
    "pycharm": {
     "name": "#%% md\n"
    }
   }
  },
  {
   "cell_type": "code",
   "execution_count": 1141,
   "outputs": [],
   "source": [
    "class NormReferenced:\n",
    "    def __init__(self):\n",
    "        self.ref = {}\n",
    "        self.tun = {}\n",
    "        self.pred_label_dict = []\n",
    "\n",
    "    def fit(self, x, y):\n",
    "        for i in range(len(x)):\n",
    "            seq = x[i]\n",
    "            label = y[i]\n",
    "            num_vector = len(x[i])\n",
    "            self.ref[label] = {'label': label, 'vectors': {}}\n",
    "            self.tun[label] = {'label': label, 'vectors': {}}\n",
    "\n",
    "            sequence_types = []\n",
    "            ref_positions = []\n",
    "            tun_positions = []\n",
    "            for v in range(num_vector):\n",
    "                sequence_types.append(seq[v]['type'])\n",
    "\n",
    "                # retrieve positions and compute tuning direction\n",
    "                ref_pos = np.array(seq[v]['pos'][0])\n",
    "                tun_pos = np.array(seq[v]['pos'][1]) - ref_pos\n",
    "\n",
    "                ref_positions.append(ref_pos)\n",
    "                tun_positions.append(tun_pos)\n",
    "\n",
    "            self.ref[label]['vectors'] = {'seq': np.array(sequence_types), 'ref_pos': np.array(ref_positions)}\n",
    "            self.tun[label]['vectors'] = {'seq': np.array(sequence_types), 'tun_pos': np.array(tun_positions)}\n",
    "            self.pred_label_dict.append(label)\n",
    "\n",
    "        print()\n",
    "        for i in self.ref:\n",
    "            print(\"reference\")\n",
    "            print(self.ref[i])\n",
    "            print(\"tuning\")\n",
    "            print(self.tun[i])\n",
    "            print()\n",
    "\n",
    "    def predict(self, x_test, verbose=False):\n",
    "        pred_lengths = []\n",
    "\n",
    "        if verbose:\n",
    "            print(\"x_test\")\n",
    "            print(x_test)\n",
    "\n",
    "        # compute projected length on all references\n",
    "        for i in self.ref:\n",
    "            # get x reference sequence type\n",
    "            x_ref_seq = self.ref[i][\"vectors\"][\"seq\"]\n",
    "\n",
    "            if verbose:\n",
    "                print(\"x_ref_seq ({})\".format(self.ref[i][\"label\"]))\n",
    "                print(x_ref_seq)\n",
    "\n",
    "            seq_length = 0\n",
    "            # for each vector of the test match types and compute length\n",
    "            for v in range(len(x_test)):\n",
    "                # declare variable that serve to know if the sequence is found\n",
    "                seq_idx = None\n",
    "\n",
    "                # get the x_test sequence type\n",
    "                x_test_type = x_test[v]['type']\n",
    "\n",
    "                # find matching sequence\n",
    "                find_idx0 = np.array((x_ref_seq == (x_test_type[0], x_test_type[1])).all(axis=1).nonzero())[0]\n",
    "                find_idx1 = np.array((x_ref_seq == (x_test_type[1], x_test_type[0])).all(axis=1).nonzero())[0]  # match in other direction as well\n",
    "\n",
    "                # retrieve index from tbe matching sequence\n",
    "                if len(find_idx0) > 0:\n",
    "                    seq_idx = find_idx0[0]\n",
    "                elif len(find_idx1) > 0:\n",
    "                    seq_idx = find_idx1[0]\n",
    "                else:\n",
    "                    if verbose:\n",
    "                        print(\"sequence type {} not found in ref seq!\".format(x_test_type))\n",
    "\n",
    "                # compute projections\n",
    "                if seq_idx is not None:\n",
    "                    # transform vect to simple 2d vector from ref (0, 0)\n",
    "                    vect = np.array(x_test[v]['pos'][1]) - np.array(x_test[v]['pos'][0])\n",
    "                    tun_vect = self.tun[i]['vectors']['tun_pos'][seq_idx]\n",
    "                    v = np.abs(np.dot(vect, tun_vect / np.linalg.norm(tun_vect)))  # v-shape encoding\n",
    "\n",
    "                    if verbose:\n",
    "                        print(\"vect: {} ({}): \".format(vect, np.linalg.norm(vect)))\n",
    "                        print(\"tun_vect:\", tun_vect)\n",
    "                        print(\"length v {} for seq {}\".format(v, x_test_type))\n",
    "\n",
    "                    seq_length += v\n",
    "\n",
    "            pred_lengths.append(seq_length)\n",
    "\n",
    "        max_length_idx = np.argmax(pred_lengths)\n",
    "        pred_label = self.pred_label_dict[max_length_idx]\n",
    "\n",
    "        if verbose:\n",
    "            print(\"pred_lengths\")\n",
    "            print(pred_lengths)\n",
    "            print(\"max_length_idx {}, label: {}\".format(max_length_idx, pred_label))\n",
    "            print()\n",
    "\n",
    "        return pred_label"
   ],
   "metadata": {
    "collapsed": false,
    "pycharm": {
     "name": "#%%\n"
    }
   }
  },
  {
   "cell_type": "code",
   "execution_count": 1142,
   "outputs": [
    {
     "name": "stdout",
     "output_type": "stream",
     "text": [
      "\n",
      "reference\n",
      "{'label': 0, 'vectors': {'seq': array([[ 8,  9],\n",
      "       [ 9, 10],\n",
      "       [10, 11],\n",
      "       [11,  8]]), 'ref_pos': array([[ 8.   , 15.   ],\n",
      "       [ 7.506, 21.494],\n",
      "       [20.   , 15.   ],\n",
      "       [19.   ,  6.   ]])}}\n",
      "tuning\n",
      "{'label': 0, 'vectors': {'seq': array([[ 8,  9],\n",
      "       [ 9, 10],\n",
      "       [10, 11],\n",
      "       [11,  8]]), 'tun_pos': array([[ -0.494,   6.494],\n",
      "       [ 12.494,  -6.494],\n",
      "       [ -1.   ,  -9.   ],\n",
      "       [-11.   ,   9.   ]])}}\n",
      "\n",
      "reference\n",
      "{'label': 1, 'vectors': {'seq': array([[0, 2]]), 'ref_pos': array([[18.517,  5.517]])}}\n",
      "tuning\n",
      "{'label': 1, 'vectors': {'seq': array([[0, 2]]), 'tun_pos': array([[-8.517, 18.463]])}}\n",
      "\n",
      "reference\n",
      "{'label': 2, 'vectors': {'seq': array([[ 1, 11],\n",
      "       [11, 12],\n",
      "       [12,  8],\n",
      "       [ 8,  9],\n",
      "       [ 9, 12],\n",
      "       [12,  3]]), 'ref_pos': array([[ 9.509,  9.   ],\n",
      "       [18.   ,  6.   ],\n",
      "       [17.   , 15.   ],\n",
      "       [13.   , 14.   ],\n",
      "       [ 7.   , 20.   ],\n",
      "       [17.   , 15.   ]])}}\n",
      "tuning\n",
      "{'label': 2, 'vectors': {'seq': array([[ 1, 11],\n",
      "       [11, 12],\n",
      "       [12,  8],\n",
      "       [ 8,  9],\n",
      "       [ 9, 12],\n",
      "       [12,  3]]), 'tun_pos': array([[ 8.491, -3.   ],\n",
      "       [-1.   ,  9.   ],\n",
      "       [-4.   , -1.   ],\n",
      "       [-6.   ,  6.   ],\n",
      "       [10.   , -5.   ],\n",
      "       [ 6.966,  3.   ]])}}\n",
      "\n",
      "reference\n",
      "{'label': 3, 'vectors': {'seq': array([[ 1, 11],\n",
      "       [11,  1],\n",
      "       [ 1, 11],\n",
      "       [11, 10],\n",
      "       [10,  1]]), 'ref_pos': array([[ 9.006,  7.   ],\n",
      "       [18.485,  7.   ],\n",
      "       [ 8.669, 14.333],\n",
      "       [17.   , 15.   ],\n",
      "       [14.   , 21.   ]])}}\n",
      "tuning\n",
      "{'label': 3, 'vectors': {'seq': array([[ 1, 11],\n",
      "       [11,  1],\n",
      "       [ 1, 11],\n",
      "       [11, 10],\n",
      "       [10,  1]]), 'tun_pos': array([[ 9.479,  0.   ],\n",
      "       [-9.815,  7.333],\n",
      "       [ 8.331,  0.667],\n",
      "       [-3.   ,  6.   ],\n",
      "       [-8.   ,  0.   ]])}}\n",
      "\n",
      "reference\n",
      "{'label': 4, 'vectors': {'seq': array([[0, 7],\n",
      "       [0, 9],\n",
      "       [9, 7],\n",
      "       [7, 2]]), 'ref_pos': array([[21.,  5.],\n",
      "       [ 5.,  7.],\n",
      "       [ 5., 15.],\n",
      "       [18., 14.]])}}\n",
      "tuning\n",
      "{'label': 4, 'vectors': {'seq': array([[0, 7],\n",
      "       [0, 9],\n",
      "       [9, 7],\n",
      "       [7, 2]]), 'tun_pos': array([[-3.   ,  9.   ],\n",
      "       [-0.   ,  8.   ],\n",
      "       [13.   , -1.   ],\n",
      "       [ 0.   , 10.486]])}}\n",
      "\n",
      "reference\n",
      "{'label': 5, 'vectors': {'seq': array([[ 1,  4],\n",
      "       [ 4,  9],\n",
      "       [ 9, 11],\n",
      "       [11, 10],\n",
      "       [10,  1],\n",
      "       [ 3,  4]]), 'ref_pos': array([[ 8.   ,  8.   ],\n",
      "       [12.   ,  8.   ],\n",
      "       [13.   , 12.   ],\n",
      "       [18.   , 15.   ],\n",
      "       [18.   , 19.   ],\n",
      "       [22.493,  6.   ]])}}\n",
      "tuning\n",
      "{'label': 5, 'vectors': {'seq': array([[ 1,  4],\n",
      "       [ 4,  9],\n",
      "       [ 9, 11],\n",
      "       [11, 10],\n",
      "       [10,  1],\n",
      "       [ 3,  4]]), 'tun_pos': array([[  4.   ,   0.   ],\n",
      "       [  1.   ,   4.   ],\n",
      "       [  5.   ,   3.   ],\n",
      "       [  0.   ,   4.   ],\n",
      "       [-13.056,   4.   ],\n",
      "       [-10.493,   2.   ]])}}\n",
      "\n",
      "reference\n",
      "{'label': 6, 'vectors': {'seq': array([[ 0,  9],\n",
      "       [ 9,  6],\n",
      "       [10, 11],\n",
      "       [11,  8],\n",
      "       [ 8,  6],\n",
      "       [ 6, 10]]), 'ref_pos': array([[16.484,  3.516],\n",
      "       [ 8.503, 19.497],\n",
      "       [20.   , 15.   ],\n",
      "       [18.   , 12.   ],\n",
      "       [13.   , 16.   ],\n",
      "       [13.   , 20.   ]])}}\n",
      "tuning\n",
      "{'label': 6, 'vectors': {'seq': array([[ 0,  9],\n",
      "       [ 9,  6],\n",
      "       [10, 11],\n",
      "       [11,  8],\n",
      "       [ 8,  6],\n",
      "       [ 6, 10]]), 'tun_pos': array([[-7.981, 15.981],\n",
      "       [ 4.497,  0.503],\n",
      "       [-2.   , -3.   ],\n",
      "       [-5.   ,  4.   ],\n",
      "       [ 0.   ,  4.   ],\n",
      "       [ 7.   , -5.   ]])}}\n",
      "\n",
      "reference\n",
      "{'label': 7, 'vectors': {'seq': array([[ 1, 11],\n",
      "       [11,  2]]), 'ref_pos': array([[ 7., 13.],\n",
      "       [19.,  8.]])}}\n",
      "tuning\n",
      "{'label': 7, 'vectors': {'seq': array([[ 1, 11],\n",
      "       [11,  2]]), 'tun_pos': array([[12., -5.],\n",
      "       [-9., 17.]])}}\n",
      "\n",
      "reference\n",
      "{'label': 8, 'vectors': {'seq': array([[ 8, 12],\n",
      "       [12,  8],\n",
      "       [ 8,  9],\n",
      "       [ 9, 10],\n",
      "       [10, 12],\n",
      "       [12, 11],\n",
      "       [11,  8]]), 'ref_pos': array([[12.,  8.],\n",
      "       [13., 14.],\n",
      "       [ 9., 19.],\n",
      "       [ 8., 23.],\n",
      "       [13., 21.],\n",
      "       [13., 14.],\n",
      "       [20.,  7.]])}}\n",
      "tuning\n",
      "{'label': 8, 'vectors': {'seq': array([[ 8, 12],\n",
      "       [12,  8],\n",
      "       [ 8,  9],\n",
      "       [ 9, 10],\n",
      "       [10, 12],\n",
      "       [12, 11],\n",
      "       [11,  8]]), 'tun_pos': array([[ 1.,  6.],\n",
      "       [-4.,  5.],\n",
      "       [-1.,  4.],\n",
      "       [ 5., -2.],\n",
      "       [ 0., -7.],\n",
      "       [ 7., -7.],\n",
      "       [-8.,  1.]])}}\n",
      "\n",
      "reference\n",
      "{'label': 9, 'vectors': {'seq': array([[ 2,  7],\n",
      "       [ 7, 11],\n",
      "       [11,  8],\n",
      "       [ 8,  9],\n",
      "       [ 9,  7]]), 'ref_pos': array([[16.   , 25.   ],\n",
      "       [15.   , 15.   ],\n",
      "       [18.   ,  9.   ],\n",
      "       [12.   ,  9.   ],\n",
      "       [ 8.   , 14.484]])}}\n",
      "tuning\n",
      "{'label': 9, 'vectors': {'seq': array([[ 2,  7],\n",
      "       [ 7, 11],\n",
      "       [11,  8],\n",
      "       [ 8,  9],\n",
      "       [ 9,  7]]), 'tun_pos': array([[ -1.   , -10.   ],\n",
      "       [  3.   ,  -6.   ],\n",
      "       [ -6.   ,  -0.   ],\n",
      "       [ -4.   ,   5.484],\n",
      "       [  7.   ,   0.516]])}}\n",
      "\n"
     ]
    }
   ],
   "source": [
    "# TRAIN MODEL\n",
    "train_digits = [1, 3, 5, 7, 2, 0, 13, 15, 17, 4]\n",
    "# train_digits = [1]\n",
    "# train_digits = [1, 42]\n",
    "labels = []\n",
    "x_ = []\n",
    "for d in train_digits:\n",
    "    seq = vectorize_digit(x_train[d] / 255., filters, do_plot=False, verbose=False)\n",
    "    x_.append(seq)\n",
    "    labels.append(y_train[d])\n",
    "# define norm-refere nce object\n",
    "NR = NormReferenced()\n",
    "\n",
    "# train reference and tuning vectors\n",
    "NR.fit(x_, labels)"
   ],
   "metadata": {
    "collapsed": false,
    "pycharm": {
     "name": "#%%\n"
    }
   }
  },
  {
   "cell_type": "code",
   "execution_count": 1143,
   "outputs": [
    {
     "name": "stdout",
     "output_type": "stream",
     "text": [
      "Max of nb_primers is greater than 1! This could mean that the the filter is not normalized, imaged clamped to 1 to avoid issues with the center of activity\n",
      "preds (10000,)\n",
      "preds_seq (6876,)\n"
     ]
    }
   ],
   "source": [
    "# TEST MODEL\n",
    "# predict data\n",
    "preds = []\n",
    "preds_seq = []\n",
    "test_seq = []\n",
    "for i in range(10000):\n",
    "    test_image = x_test[i] / 255.\n",
    "    seq = vectorize_digit(test_image, filters, do_plot=False, verbose=False)\n",
    "\n",
    "    # fig = plt.figure()\n",
    "    # plt.title(\"Input {}\".format(y_test[i]))\n",
    "    # rgb_im = np.repeat(np.expand_dims(test_image, axis=2), 3, axis=2)\n",
    "    # plt.imshow(rgb_im)\n",
    "\n",
    "    pred = NR.predict(seq, verbose=False)\n",
    "\n",
    "    preds.append(pred)\n",
    "\n",
    "    # keep only the ones that have a sequence (at least one vector)\n",
    "    if len(seq) > 0:\n",
    "        preds_seq.append(pred)\n",
    "        test_seq.append(y_test[i])\n",
    "\n",
    "print(\"preds\", np.shape(preds))\n",
    "print(\"preds_seq\", np.shape(preds_seq))\n",
    "if len(preds) < 10:\n",
    "    print(preds)"
   ],
   "metadata": {
    "collapsed": false,
    "pycharm": {
     "name": "#%%\n"
    }
   }
  },
  {
   "cell_type": "code",
   "execution_count": 1144,
   "outputs": [
    {
     "name": "stdout",
     "output_type": "stream",
     "text": [
      "accuracy: 0.2434 (n_correct: 2434, n_total: 10000)\n",
      "accuracy_seq: 0.3136998254799302 (n_correct_seq: 2157, n_total: 6876)\n"
     ]
    }
   ],
   "source": [
    "# test prediction accuracy\n",
    "n_correct = 0\n",
    "for i, pred in enumerate(preds):\n",
    "    if pred == y_test[i]:\n",
    "        n_correct += 1\n",
    "\n",
    "n_correct_seq = 0\n",
    "for i, pred in enumerate(preds_seq):\n",
    "    if pred == test_seq[i]:\n",
    "        n_correct_seq += 1\n",
    "\n",
    "accuracy = n_correct / len(preds)\n",
    "accuracy_seq = n_correct_seq / len(preds_seq)\n",
    "print(\"accuracy: {} (n_correct: {}, n_total: {})\".format(accuracy, n_correct, len(preds)))\n",
    "print(\"accuracy_seq: {} (n_correct_seq: {}, n_total: {})\".format(accuracy_seq, n_correct_seq, len(preds_seq)))"
   ],
   "metadata": {
    "collapsed": false,
    "pycharm": {
     "name": "#%%\n"
    }
   }
  },
  {
   "cell_type": "markdown",
   "source": [
    "# BUILD CUSTOM PRIMERS"
   ],
   "metadata": {
    "collapsed": false,
    "pycharm": {
     "name": "#%% md\n"
    }
   }
  },
  {
   "cell_type": "code",
   "execution_count": 62,
   "outputs": [],
   "source": [
    "def build_primer(lmk_pos, thresh_val=0.75, filt_size=(7, 7), neg_factor=6):\n",
    "    \"\"\"\n",
    "\n",
    "    :param lmk_pos: nx4 matrix, with 4 the following parameters: 0: idx of the mnsit img, 1: posX, 2: posX, 3: n_rotate\n",
    "    :param thresh_val:\n",
    "    :param filt_size:\n",
    "    :param neg_factor: value to which the negative parts of the filters get multiplied\n",
    "    :return:\n",
    "    \"\"\"\n",
    "    pad_x = int(filt_size[0] / 2)\n",
    "    pad_y = int(filt_size[1] / 2)\n",
    "\n",
    "    # define start and stop\n",
    "    start_x = lmk_pos[1]-pad_x\n",
    "    end_x = lmk_pos[1]+pad_x+1\n",
    "    start_y = lmk_pos[2]-pad_y\n",
    "    end_y = lmk_pos[2]+pad_y+1\n",
    "\n",
    "    # define filter for primer\n",
    "    img = x_train[lmk_pos[0]] / 255.\n",
    "    patch = img[np.maximum(start_x, 0):end_x, np.maximum(start_y, 0):end_y]\n",
    "    print(\"[{}:{}, {}:{}]\".format(start_x, end_x, start_y, end_y))\n",
    "    print(\"shape patch\", np.shape(patch))\n",
    "\n",
    "    # add zeros if patch is smaller than the dimension\n",
    "    if start_x < 0:\n",
    "        zeros_patch = np.zeros((filt_size[0] - np.shape(patch)[0], np.shape(patch)[1]))\n",
    "        patch = np.vstack([zeros_patch, patch])\n",
    "    elif end_x > np.shape(img)[0]:\n",
    "        zeros_patch = np.zeros((end_x - np.shape(img)[0], np.shape(patch)[1]))\n",
    "        patch = np.vstack([patch, zeros_patch])\n",
    "    if start_y < 0:\n",
    "        zeros_patch = np.zeros((np.shape(patch)[0], filt_size[1] - np.shape(patch)[1]))\n",
    "        patch = np.hstack([zeros_patch, patch])\n",
    "    elif end_y > np.shape(img)[1]:\n",
    "        zeros_patch = np.zeros((np.shape(patch)[0], end_y - np.shape(img)[1]))\n",
    "        patch = np.hstack([patch, zeros_patch])\n",
    "\n",
    "    # create filter\n",
    "    filter = np.copy(patch)\n",
    "\n",
    "    # control size\n",
    "    if np.shape(filter)[0] != filt_size[0]:\n",
    "        print(\"Dimension 0 of patch is not matching ,expected {}, received {}\".format(filt_size[0], np.shape(patch)[0]))\n",
    "    if np.shape(filter)[1] != filt_size[1]:\n",
    "        print(\"Dimension 1 of patch is not matching ,expected {}, received {}\".format(filt_size[1], np.shape(patch)[1]))\n",
    "\n",
    "    # compute the number of zeros within the patch\n",
    "    n_zeros = np.count_nonzero(patch == 0)\n",
    "\n",
    "    # compute alpha factor to reach the thresh_value\n",
    "    max_matching_val = np.sum(filter * patch)\n",
    "    alpha = thresh_val / max_matching_val\n",
    "\n",
    "    # normalize filter\n",
    "    filter *= alpha\n",
    "\n",
    "    # set filter to neutral with the zeros\n",
    "    offset_neg_val = - neg_factor * np.sum(filter) / n_zeros\n",
    "    filter[filter == 0] = offset_neg_val\n",
    "\n",
    "    # apply number of rotation\n",
    "    filter = np.rot90(filter, lmk_pos[3])\n",
    "\n",
    "    return filter"
   ],
   "metadata": {
    "collapsed": false,
    "pycharm": {
     "name": "#%%\n"
    }
   }
  },
  {
   "cell_type": "code",
   "execution_count": 63,
   "outputs": [
    {
     "name": "stdout",
     "output_type": "stream",
     "text": [
      "[21:30, 23:32]\n",
      "shape patch (7, 5)\n",
      "shape patch (9, 5)\n",
      "shape zero patch (9, 4)\n",
      "shape patch (9, 9)\n",
      "min max primer nan nan\n"
     ]
    },
    {
     "name": "stderr",
     "output_type": "stream",
     "text": [
      "/Users/michaelstettler/PycharmProjects/BVS/BVS/venv/lib/python3.7/site-packages/ipykernel_launcher.py:57: RuntimeWarning: divide by zero encountered in double_scalars\n",
      "/Users/michaelstettler/PycharmProjects/BVS/BVS/venv/lib/python3.7/site-packages/ipykernel_launcher.py:60: RuntimeWarning: invalid value encountered in multiply\n",
      "/Users/michaelstettler/PycharmProjects/BVS/BVS/venv/lib/python3.7/site-packages/ipykernel_launcher.py:36: RuntimeWarning: invalid value encountered in less\n"
     ]
    },
    {
     "data": {
      "text/plain": "<matplotlib.image.AxesImage at 0x126cb7320>"
     },
     "execution_count": 63,
     "metadata": {},
     "output_type": "execute_result"
    },
    {
     "data": {
      "text/plain": "<Figure size 432x288 with 1 Axes>",
      "image/png": "[encoded data removed]"
     },
     "metadata": {
      "needs_background": "light"
     },
     "output_type": "display_data"
    },
    {
     "data": {
      "text/plain": "<Figure size 432x288 with 2 Axes>",
      "image/png": "[encoded data removed]"
     },
     "metadata": {
      "needs_background": "light"
     },
     "output_type": "display_data"
    }
   ],
   "source": [
    "idx = 2\n",
    "n_rotate = 0\n",
    "#[0, 12, 13, 3], [0, 15, 18, 1], [0, 19, 18, 2], [1, 15, 8, 0], [1, 21, 8, 3], [1, 15, 20, 2], [1, 6, 19, 1], [2, 15, 5, 3], [4, 9, 12, 0], [4, 14, 8, 3], [4, 9, 18, 1], [5, 6, 18, 1], [5, 14, 13, 0], [5, 20, 7, 3], [7, 16, 18, 1]\n",
    "# filter = build_primer([idx, 16, 18, n_rotate])\n",
    "top_primers = [[0, 8, 8, 3], [0, 6, 22, 1], [0, 23, 6, 3], [2, 7, 5, 0], [2, 5, 21, 0], [2, 23, 18, 2], [3, 7, 19, 0], [3, 22, 10, 2], [4, 23, 16, 2], [5, 10, 10, 3], [5, 18, 23, 1], [6, 5, 13, 0], [6, 23, 16, 2], [7, 7, 10, 3], [7, 21, 6, 3], [7, 15, 9, 3], [9, 8, 13, 0], [9, 16, 7, 2], [9, 16, 19, 1], [9, 23, 11, 2], [10, 5, 10, 3], [10, 13, 10, 3], [10, 20, 7, 3]]\n",
    "\n",
    "filter = build_primer([2, 25, 27, 0], filt_size=(9, 9), neg_factor=10)\n",
    "filter = np.rot90(filter, n_rotate)\n",
    "\n",
    "# plot image\n",
    "test_image = x_train[idx] / 255.\n",
    "fig = plt.figure()\n",
    "plt.imshow(test_image, cmap='Greys')\n",
    "\n",
    "# transform to fit tf\n",
    "test_image = np.expand_dims(test_image, axis=[0, 3])\n",
    "test_image = tf.convert_to_tensor(test_image, dtype='float32')\n",
    "\n",
    "filter = np.expand_dims(filter, axis=[2, 3])\n",
    "filter = tf.convert_to_tensor(filter, dtype='float32')\n",
    "\n",
    "# apply convolution\n",
    "primer = tf.nn.conv2d(test_image, filter, strides=1, padding='SAME', name=\"conv1\")\n",
    "primer = primer.numpy()[0, ..., 0]\n",
    "print(\"min max primer\", np.amin(primer), np.amax(primer))\n",
    "\n",
    "# plot\n",
    "plt.figure()\n",
    "# plot convolution\n",
    "plt.subplot(121)\n",
    "plt.imshow(primer, cmap='Greys')\n",
    "\n",
    "# plot thresholded\n",
    "plt.subplot(122)\n",
    "max_primer = np.copy(primer)\n",
    "max_primer[max_primer < 0.7] = 0\n",
    "plt.imshow(max_primer, cmap='Greys')"
   ],
   "metadata": {
    "collapsed": false,
    "pycharm": {
     "name": "#%%\n"
    }
   }
  },
  {
   "cell_type": "code",
   "execution_count": 219,
   "outputs": [],
   "source": [],
   "metadata": {
    "collapsed": false,
    "pycharm": {
     "name": "#%%\n"
    }
   }
  },
  {
   "cell_type": "code",
   "execution_count": null,
   "outputs": [],
   "source": [],
   "metadata": {
    "collapsed": false,
    "pycharm": {
     "name": "#%%\n"
    }
   }
  }
 ],
 "metadata": {
  "kernelspec": {
   "display_name": "Python 3",
   "language": "python",
   "name": "python3"
  },
  "language_info": {
   "codemirror_mode": {
    "name": "ipython",
    "version": 2
   },
   "file_extension": ".py",
   "mimetype": "text/x-python",
   "name": "python",
   "nbconvert_exporter": "python",
   "pygments_lexer": "ipython2",
   "version": "2.7.6"
  }
 },
 "nbformat": 4,
 "nbformat_minor": 0
}