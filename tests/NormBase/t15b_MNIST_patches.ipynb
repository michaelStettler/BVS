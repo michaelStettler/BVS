{
 "cells": [
  {
   "cell_type": "markdown",
   "metadata": {
    "collapsed": true,
    "pycharm": {
     "name": "#%% md\n"
    }
   },
   "source": [
    "# Import Libraries"
   ]
  },
  {
   "cell_type": "code",
   "execution_count": 1,
   "outputs": [],
   "source": [
    "import numpy as np\n",
    "import matplotlib.pyplot as plt\n",
    "import matplotlib.cm as cm\n",
    "import tensorflow as tf\n",
    "\n",
    "from utils.load_filters_for_primer import get_filters\n",
    "from utils.load_filters_for_primer import get_filters_multi_scale\n",
    "\n",
    "np.set_printoptions(precision=3, suppress=True)"
   ],
   "metadata": {
    "collapsed": false,
    "pycharm": {
     "name": "#%%\n"
    }
   }
  },
  {
   "cell_type": "markdown",
   "source": [
    "# declare hyperparameters"
   ],
   "metadata": {
    "collapsed": false,
    "pycharm": {
     "name": "#%% md\n"
    }
   }
  },
  {
   "cell_type": "code",
   "execution_count": 2,
   "outputs": [],
   "source": [
    "PATCH_SIZE = 7  # 28/7=4 which is convenient\n",
    "# FILTER_THRESHOLD = 0.6  # was ok for digit 0-3 and 2 multi-scale filters\n",
    "FILTER_THRESHOLD = 0.7\n",
    "CLUSTER_DISTANCE = 3  # distance within primers that are considered as identical\n",
    "DECREASE_END_FACTOR = 0.6  # factor that decrease an end weight after being used\n",
    "TYPE_FACTORS1 = [1.0, 0.9, 0.85, 0.5, 0.8, 0.001]  # for primers 0-3   ends\n",
    "TYPE_FACTORS2 = [1.0, 0.8, 0.8, 0.5, 0.7, 0.001]  # for primers 4-7   Ts\n",
    "TYPE_FACTORS3 = [0.9, 1.0, 0.9, 0.8, 1.0, 0.001]  # for primers 8-11  corners\n",
    "TYPE_FACTORS4 = [0.9, 1.0, 1.0, 0.8, 1.0, 0.001]  # for primers 12    cross"
   ],
   "metadata": {
    "collapsed": false,
    "pycharm": {
     "name": "#%%\n"
    }
   }
  },
  {
   "cell_type": "markdown",
   "source": [
    "# load data"
   ],
   "metadata": {
    "collapsed": false,
    "pycharm": {
     "name": "#%% md\n"
    }
   }
  },
  {
   "cell_type": "code",
   "execution_count": 3,
   "outputs": [],
   "source": [
    "(x_train, y_train), (x_test, y_test) = tf.keras.datasets.mnist.load_data()"
   ],
   "metadata": {
    "collapsed": false,
    "pycharm": {
     "name": "#%%\n"
    }
   }
  },
  {
   "cell_type": "code",
   "execution_count": 4,
   "outputs": [
    {
     "name": "stdout",
     "output_type": "stream",
     "text": [
      "shape test_image (28, 28)\n"
     ]
    },
    {
     "data": {
      "text/plain": "<matplotlib.image.AxesImage at 0x11e6304e0>"
     },
     "execution_count": 4,
     "metadata": {},
     "output_type": "execute_result"
    },
    {
     "data": {
      "text/plain": "<Figure size 432x288 with 1 Axes>",
      "image/png": "[encoded data removed]"
     },
     "metadata": {
      "needs_background": "light"
     },
     "output_type": "display_data"
    }
   ],
   "source": [
    "# idx = 0  # label 5\n",
    "# idx = 1  # label 0\n",
    "# idx = 2  # label 4\n",
    "# idx = 3  # label 1\n",
    "# idx = 4  # label 9\n",
    "# idx = 5  # label 2\n",
    "# idx = 7  # label 3\n",
    "# idx = 9  # label 4\n",
    "# idx = 10  # label 3\n",
    "# idx = 11  # label 5\n",
    "# idx = 12  # label 3\n",
    "# idx = 13  # label 6\n",
    "# idx = 16  # label 2\n",
    "# idx = 17  # label 8\n",
    "# idx = 18  # label 6\n",
    "idx = 19  # label 9\n",
    "idx = 42  # label 7\n",
    "test_image = x_train[idx]\n",
    "print(\"shape test_image\", np.shape(test_image))\n",
    "plt.imshow(test_image, cmap='Greys')"
   ],
   "metadata": {
    "collapsed": false,
    "pycharm": {
     "name": "#%%\n"
    }
   }
  },
  {
   "cell_type": "markdown",
   "source": [
    "# compute bank of primers"
   ],
   "metadata": {
    "collapsed": false,
    "pycharm": {
     "name": "#%% md\n"
    }
   }
  },
  {
   "cell_type": "code",
   "execution_count": 5,
   "outputs": [],
   "source": [
    "def compute_center_of_activity(ft_map, verbose=False):\n",
    "    # initialize indices (x, y) for each entry\n",
    "    indices = np.arange(np.shape(ft_map)[0])\n",
    "\n",
    "    # compute weighted average of the activity, weighted by the indices\n",
    "    average_x = np.average(ft_map, axis=1, weights=indices)\n",
    "    average_y = np.average(ft_map, axis=0, weights=indices)\n",
    "\n",
    "    # compute mean of each pos\n",
    "    center_x = np.sum(average_x) * np.sum(indices) / np.sum(np.sum(ft_map + 1e-7, axis=1))\n",
    "    center_y = np.sum(average_y) * np.sum(indices) / np.sum(np.sum(ft_map + 1e-7, axis=0))\n",
    "\n",
    "    if verbose:\n",
    "        print(\"feat_map\")\n",
    "        print(ft_map)\n",
    "        print(\"center ({}, {})\".format(center_x, center_y))\n",
    "\n",
    "    return center_x, center_y"
   ],
   "metadata": {
    "collapsed": false,
    "pycharm": {
     "name": "#%%\n"
    }
   }
  },
  {
   "cell_type": "code",
   "execution_count": 6,
   "outputs": [
    {
     "name": "stdout",
     "output_type": "stream",
     "text": [
      "feat_map\n",
      "[[0. 0. 0. 0. 0. 0. 0.]\n",
      " [0. 0. 0. 0. 0. 0. 0.]\n",
      " [0. 0. 0. 0. 0. 0. 0.]\n",
      " [0. 0. 0. 0. 0. 0. 0.]\n",
      " [0. 0. 0. 0. 1. 0. 0.]\n",
      " [0. 0. 0. 0. 0. 0. 0.]\n",
      " [0. 0. 0. 0. 0. 0. 0.]]\n",
      "center (3.999980400096039, 3.999980400096039)\n"
     ]
    },
    {
     "data": {
      "text/plain": "(3.999980400096039, 3.999980400096039)"
     },
     "execution_count": 6,
     "metadata": {},
     "output_type": "execute_result"
    }
   ],
   "source": [
    "# test cell\n",
    "ft_map = np.zeros((7, 7))\n",
    "ft_map[4, 4] = 1\n",
    "# ft_map[0, 1] = 1\n",
    "\n",
    "compute_center_of_activity(ft_map, verbose=True)"
   ],
   "metadata": {
    "collapsed": false,
    "pycharm": {
     "name": "#%%\n"
    }
   }
  },
  {
   "cell_type": "code",
   "execution_count": 7,
   "outputs": [],
   "source": [
    "def find_primer(image, filters, patch_size=7, threshold=0.5, do_plot=False, verbose=False, plot_title=\"\"):\n",
    "    # convert image to tensor\n",
    "    if len(np.shape(image)) == 2:\n",
    "        image = np.expand_dims(image, axis=[0, 3])\n",
    "    else:\n",
    "        print(\"image shape is wrong! Expected 2 got \", len(np.shape(image)))\n",
    "    image = tf.convert_to_tensor(image, dtype='float32')\n",
    "\n",
    "    # control filters\n",
    "    if len(np.shape(filters)) == 2:\n",
    "        filters = np.expand_dims(filters, axis=[2, 3])\n",
    "    elif len(np.shape(filters)) == 3:  # multi scale\n",
    "        filters = np.expand_dims(filters, axis=2)\n",
    "    tf.convert_to_tensor(filters, dtype='float32')\n",
    "\n",
    "    # apply convolution\n",
    "    primers = tf.nn.conv2d(image, filters, strides=1, padding='SAME', name=\"conv1\")\n",
    "\n",
    "    if verbose:\n",
    "        print(\"min max patch\", np.min(primers), np.max(primers))\n",
    "\n",
    "    # filters primers and discard the one under the threshold\n",
    "    filt_primers = primers.numpy()\n",
    "    filt_primers = np.amax(filt_primers, axis=(0, -1))\n",
    "    filt_primers = np.expand_dims(filt_primers, axis=[0, 3])\n",
    "    filt_primers[filt_primers < threshold] = 0\n",
    "    if np.max(filt_primers) > 1:\n",
    "        print(\"Max of nb_primers is greater than 1! This could mean that the the filter is not normalized, imaged clamped to 1 to avoid issues with the center of activity\")\n",
    "        filt_primers[filt_primers > 1] = 1.0\n",
    "\n",
    "    # split in patches\n",
    "    patches = tf.image.extract_patches(\n",
    "        images=filt_primers,\n",
    "        sizes=[1, patch_size, patch_size, 1],\n",
    "        strides=[1, patch_size, patch_size, 1],\n",
    "        rates=[1, 1, 1, 1],\n",
    "        padding=\"VALID\",\n",
    "    )\n",
    "    patches = patches.numpy()\n",
    "\n",
    "    # show each patch\n",
    "    if do_plot:\n",
    "        plt.figure()\n",
    "        plt.title(\"patch \" + plot_title)\n",
    "        for i in range(np.shape(patches)[1]):\n",
    "            for j in range(np.shape(patches)[2]):\n",
    "                patch = np.reshape(patches[0, i, j], [patch_size, patch_size])\n",
    "                rgb_patch = np.repeat(np.expand_dims(patch, axis=2), 3, axis=2)\n",
    "                plt.subplot(4, 4, i*np.shape(patches)[2] + j + 1)\n",
    "                plt.axis('off')\n",
    "                plt.imshow(rgb_patch)\n",
    "                # print(\"min max patch\", np.min(patch), np.max(patch))\n",
    "\n",
    "    # compute center of activity for each patch\n",
    "    centers = []\n",
    "    max_patch = []\n",
    "    for i in range(np.shape(patches)[1]):\n",
    "        for j in range(np.shape(patches)[2]):\n",
    "            # control if patches is not all zeros\n",
    "            f_patch = patches[0, i, j]\n",
    "            if np.sum(f_patch) > 0:\n",
    "                if verbose:\n",
    "                    print()\n",
    "                    print(\"p:\", plot_title)\n",
    "\n",
    "                coa = compute_center_of_activity(np.reshape(f_patch, [patch_size, patch_size]), verbose=verbose)\n",
    "                # compensate with patch positions\n",
    "                centers.append([coa[0] + j*patch_size, coa[1] + i*patch_size])\n",
    "\n",
    "                # keep maximum activity of the patch\n",
    "                max_patch.append(np.amax(f_patch))\n",
    "\n",
    "    if do_plot:\n",
    "        # plot primers\n",
    "        plt.figure()\n",
    "        plt.title(\"primers \" + plot_title)\n",
    "        rgb_image = np.repeat(np.expand_dims(filt_primers[0, ..., 0], axis=2), 3, axis=2)\n",
    "        for center in centers:\n",
    "            rgb_image[int(round(center[1])), int(round(center[0]))] = [1.0, 0, 0]\n",
    "        plt.imshow(rgb_image)\n",
    "\n",
    "    return centers, max_patch"
   ],
   "metadata": {
    "collapsed": false,
    "pycharm": {
     "name": "#%%\n"
    }
   }
  },
  {
   "cell_type": "code",
   "execution_count": 8,
   "outputs": [],
   "source": [
    "# compute all primers\n",
    "def find_primers(image, filters, patch_size=7, threshold=0.5, do_plot=False, verbose=False):\n",
    "    n_primer = 0\n",
    "    primers = {}\n",
    "\n",
    "    for p, filt in enumerate(filters):\n",
    "        if verbose:\n",
    "            print(\"filt p\", p)\n",
    "\n",
    "        primers_pos, max_patch = find_primer(image, filt,\n",
    "                                             patch_size=patch_size,\n",
    "                                             threshold=threshold,\n",
    "                                             do_plot=do_plot,\n",
    "                                             verbose=verbose,\n",
    "                                             plot_title=str(p))\n",
    "\n",
    "        if len(primers_pos) > 0:\n",
    "            for i in range(len(primers_pos)):\n",
    "                primers[n_primer] = {\"type\": p, \"pos\": primers_pos[i], \"max\": max_patch[i]}\n",
    "                n_primer += 1\n",
    "\n",
    "            if verbose:\n",
    "                print(\"primers_pos\")\n",
    "                print(primers_pos)\n",
    "                print(\"max patch\")\n",
    "                print(max_patch)\n",
    "        if verbose:\n",
    "            print()\n",
    "\n",
    "    return primers"
   ],
   "metadata": {
    "collapsed": false,
    "pycharm": {
     "name": "#%%\n"
    }
   }
  },
  {
   "cell_type": "code",
   "execution_count": 9,
   "outputs": [
    {
     "name": "stdout",
     "output_type": "stream",
     "text": [
      "shape ends_filters (4, 7, 7, 9)\n",
      "shape corners_filters (4, 7, 7, 9)\n",
      "shape T_filters (4, 7, 7, 9)\n",
      "shape cross_filters (1, 7, 7, 9)\n",
      "shape filters (13, 7, 7, 9)\n",
      "filt p 0\n",
      "min max patch -3.4086056 0.67696077\n"
     ]
    },
    {
     "name": "stderr",
     "output_type": "stream",
     "text": [
      "2022-03-01 15:36:20.808082: I tensorflow/core/platform/cpu_feature_guard.cc:142] Your CPU supports instructions that this TensorFlow binary was not compiled to use: AVX2 FMA\n",
      "2022-03-01 15:36:20.828717: I tensorflow/compiler/xla/service/service.cc:168] XLA service 0x7fcde5b4b250 initialized for platform Host (this does not guarantee that XLA will be used). Devices:\n",
      "2022-03-01 15:36:20.828734: I tensorflow/compiler/xla/service/service.cc:176]   StreamExecutor device (0): Host, Default Version\n"
     ]
    },
    {
     "name": "stdout",
     "output_type": "stream",
     "text": [
      "\n",
      "filt p 1\n",
      "min max patch -2.595255 0.73355234\n",
      "\n",
      "p: 1\n",
      "feat_map\n",
      "[[0.    0.    0.    0.    0.    0.    0.   ]\n",
      " [0.    0.    0.    0.    0.    0.    0.   ]\n",
      " [0.    0.    0.    0.    0.    0.    0.   ]\n",
      " [0.    0.    0.    0.734 0.    0.    0.   ]\n",
      " [0.    0.    0.    0.    0.    0.    0.   ]\n",
      " [0.    0.    0.    0.    0.    0.    0.   ]\n",
      " [0.    0.    0.    0.    0.    0.    0.   ]]\n",
      "center (2.999979523931405, 2.999979523931405)\n",
      "primers_pos\n",
      "[[9.999979523931405, 9.999979523931405]]\n",
      "max patch\n",
      "[0.73355234]\n",
      "\n",
      "filt p 2\n",
      "min max patch -2.7057395 0.7946079\n",
      "\n",
      "p: 2\n",
      "feat_map\n",
      "[[0.    0.    0.    0.    0.    0.    0.   ]\n",
      " [0.    0.    0.    0.    0.    0.    0.   ]\n",
      " [0.    0.    0.    0.    0.    0.    0.   ]\n",
      " [0.    0.    0.    0.    0.    0.    0.   ]\n",
      " [0.    0.    0.    0.    0.    0.    0.795]\n",
      " [0.    0.    0.    0.    0.    0.    0.775]\n",
      " [0.    0.    0.    0.    0.    0.    0.72 ]]\n",
      "center (5.999987195692089, 4.967491453125359)\n",
      "primers_pos\n",
      "[[12.99998719569209, 25.96749145312536]]\n",
      "max patch\n",
      "[0.7946079]\n",
      "\n",
      "filt p 3\n",
      "min max patch -3.0099404 0.5607844\n",
      "\n",
      "filt p 4\n",
      "min max patch -0.65686274 0.5218591\n",
      "\n",
      "filt p 5\n",
      "min max patch -0.5514161 0.4747277\n",
      "\n",
      "filt p 6\n",
      "min max patch -0.47461876 0.4864924\n",
      "\n",
      "filt p 7\n",
      "min max patch -0.7072985 0.632244\n",
      "\n",
      "filt p 8\n",
      "min max patch -2.1056023 0.55669934\n",
      "\n",
      "filt p 9\n",
      "min max patch -1.6605042 0.5200981\n",
      "\n",
      "filt p 10\n",
      "min max patch -2.1449113 0.672549\n"
     ]
    },
    {
     "name": "stderr",
     "output_type": "stream",
     "text": [
      "/Users/michaelstettler/PycharmProjects/BVS/BVS/venv/lib/python3.7/site-packages/ipykernel_launcher.py:43: RuntimeWarning: More than 20 figures have been opened. Figures created through the pyplot interface (`matplotlib.pyplot.figure`) are retained until explicitly closed and may consume too much memory. (To control this warning, see the rcParam `figure.max_open_warning`).\n",
      "/Users/michaelstettler/PycharmProjects/BVS/BVS/venv/lib/python3.7/site-packages/ipykernel_launcher.py:75: RuntimeWarning: More than 20 figures have been opened. Figures created through the pyplot interface (`matplotlib.pyplot.figure`) are retained until explicitly closed and may consume too much memory. (To control this warning, see the rcParam `figure.max_open_warning`).\n"
     ]
    },
    {
     "name": "stdout",
     "output_type": "stream",
     "text": [
      "\n",
      "filt p 11\n",
      "min max patch -2.5266106 0.8013072\n",
      "\n",
      "p: 11\n",
      "feat_map\n",
      "[[0.    0.    0.    0.    0.    0.    0.   ]\n",
      " [0.    0.    0.801 0.    0.    0.    0.   ]\n",
      " [0.    0.    0.768 0.    0.    0.    0.   ]\n",
      " [0.    0.    0.    0.    0.    0.    0.   ]\n",
      " [0.    0.    0.    0.    0.    0.    0.   ]\n",
      " [0.    0.    0.    0.    0.    0.    0.   ]\n",
      " [0.    0.    0.    0.    0.    0.    0.   ]]\n",
      "center (1.9999934664138725, 1.4893213852782807)\n",
      "primers_pos\n",
      "[[15.999993466413873, 8.48932138527828]]\n",
      "max patch\n",
      "[0.8013072]\n",
      "\n",
      "filt p 12\n",
      "min max patch -1.715505 0.50242215\n",
      "\n",
      "primers_dict\n",
      "{'type': 1, 'pos': [9.999979523931405, 9.999979523931405], 'max': 0.73355234}\n",
      "{'type': 2, 'pos': [12.99998719569209, 25.96749145312536], 'max': 0.7946079}\n",
      "{'type': 11, 'pos': [15.999993466413873, 8.48932138527828], 'max': 0.8013072}\n"
     ]
    },
    {
     "data": {
      "text/plain": "<Figure size 432x288 with 16 Axes>",
      "image/png": "[encoded data removed]"
     },
     "metadata": {
      "needs_background": "light"
     },
     "output_type": "display_data"
    },
    {
     "data": {
      "text/plain": "<Figure size 432x288 with 1 Axes>",
      "image/png": "[encoded data removed]"
     },
     "metadata": {
      "needs_background": "light"
     },
     "output_type": "display_data"
    },
    {
     "data": {
      "text/plain": "<Figure size 432x288 with 16 Axes>",
      "image/png": "[encoded data removed]"
     },
     "metadata": {
      "needs_background": "light"
     },
     "output_type": "display_data"
    },
    {
     "data": {
      "text/plain": "<Figure size 432x288 with 1 Axes>",
      "image/png": "[encoded data removed]"
     },
     "metadata": {
      "needs_background": "light"
     },
     "output_type": "display_data"
    },
    {
     "data": {
      "text/plain": "<Figure size 432x288 with 16 Axes>",
      "image/png": "[encoded data removed]"
     },
     "metadata": {
      "needs_background": "light"
     },
     "output_type": "display_data"
    },
    {
     "data": {
      "text/plain": "<Figure size 432x288 with 1 Axes>",
      "image/png": "[encoded data removed]"
     },
     "metadata": {
      "needs_background": "light"
     },
     "output_type": "display_data"
    },
    {
     "data": {
      "text/plain": "<Figure size 432x288 with 16 Axes>",
      "image/png": "[encoded data removed]"
     },
     "metadata": {
      "needs_background": "light"
     },
     "output_type": "display_data"
    },
    {
     "data": {
      "text/plain": "<Figure size 432x288 with 1 Axes>",
      "image/png": "[encoded data removed]"
     },
     "metadata": {
      "needs_background": "light"
     },
     "output_type": "display_data"
    },
    {
     "data": {
      "text/plain": "<Figure size 432x288 with 16 Axes>",
      "image/png": "[encoded data removed]"
     },
     "metadata": {
      "needs_background": "light"
     },
     "output_type": "display_data"
    },
    {
     "data": {
      "text/plain": "<Figure size 432x288 with 1 Axes>",
      "image/png": "[encoded data removed]"
     },
     "metadata": {
      "needs_background": "light"
     },
     "output_type": "display_data"
    },
    {
     "data": {
      "text/plain": "<Figure size 432x288 with 16 Axes>",
      "image/png": "[encoded data removed]"
     },
     "metadata": {
      "needs_background": "light"
     },
     "output_type": "display_data"
    },
    {
     "data": {
      "text/plain": "<Figure size 432x288 with 1 Axes>",
      "image/png": "[encoded data removed]"
     },
     "metadata": {
      "needs_background": "light"
     },
     "output_type": "display_data"
    },
    {
     "data": {
      "text/plain": "<Figure size 432x288 with 16 Axes>",
      "image/png": "[encoded data removed]"
     },
     "metadata": {
      "needs_background": "light"
     },
     "output_type": "display_data"
    },
    {
     "data": {
      "text/plain": "<Figure size 432x288 with 1 Axes>",
      "image/png": "[encoded data removed]"
     },
     "metadata": {
      "needs_background": "light"
     },
     "output_type": "display_data"
    },
    {
     "data": {
      "text/plain": "<Figure size 432x288 with 16 Axes>",
      "image/png": "[encoded data removed]"
     },
     "metadata": {
      "needs_background": "light"
     },
     "output_type": "display_data"
    },
    {
     "data": {
      "text/plain": "<Figure size 432x288 with 1 Axes>",
      "image/png": "[encoded data removed]"
     },
     "metadata": {
      "needs_background": "light"
     },
     "output_type": "display_data"
    },
    {
     "data": {
      "text/plain": "<Figure size 432x288 with 16 Axes>",
      "image/png": "[encoded data removed]"
     },
     "metadata": {
      "needs_background": "light"
     },
     "output_type": "display_data"
    },
    {
     "data": {
      "text/plain": "<Figure size 432x288 with 1 Axes>",
      "image/png": "[encoded data removed]"
     },
     "metadata": {
      "needs_background": "light"
     },
     "output_type": "display_data"
    },
    {
     "data": {
      "text/plain": "<Figure size 432x288 with 16 Axes>",
      "image/png": "[encoded data removed]"
     },
     "metadata": {
      "needs_background": "light"
     },
     "output_type": "display_data"
    },
    {
     "data": {
      "text/plain": "<Figure size 432x288 with 1 Axes>",
      "image/png": "[encoded data removed]"
     },
     "metadata": {
      "needs_background": "light"
     },
     "output_type": "display_data"
    },
    {
     "data": {
      "text/plain": "<Figure size 432x288 with 16 Axes>",
      "image/png": "[encoded data removed]"
     },
     "metadata": {
      "needs_background": "light"
     },
     "output_type": "display_data"
    },
    {
     "data": {
      "text/plain": "<Figure size 432x288 with 1 Axes>",
      "image/png": "[encoded data removed]"
     },
     "metadata": {
      "needs_background": "light"
     },
     "output_type": "display_data"
    },
    {
     "data": {
      "text/plain": "<Figure size 432x288 with 16 Axes>",
      "image/png": "[encoded data removed]"
     },
     "metadata": {
      "needs_background": "light"
     },
     "output_type": "display_data"
    },
    {
     "data": {
      "text/plain": "<Figure size 432x288 with 1 Axes>",
      "image/png": "[encoded data removed]"
     },
     "metadata": {
      "needs_background": "light"
     },
     "output_type": "display_data"
    },
    {
     "data": {
      "text/plain": "<Figure size 432x288 with 16 Axes>",
      "image/png": "[encoded data removed]"
     },
     "metadata": {
      "needs_background": "light"
     },
     "output_type": "display_data"
    },
    {
     "data": {
      "text/plain": "<Figure size 432x288 with 1 Axes>",
      "image/png": "[encoded data removed]"
     },
     "metadata": {
      "needs_background": "light"
     },
     "output_type": "display_data"
    }
   ],
   "source": [
    "# filters = get_filters()\n",
    "filters = get_filters_multi_scale()\n",
    "print(\"shape filters\", np.shape(filters))\n",
    "\n",
    "# normalize input and filters\n",
    "test_image_norm = test_image / 255.\n",
    "primers_dict = find_primers(test_image_norm, filters, patch_size=PATCH_SIZE, threshold=FILTER_THRESHOLD, do_plot=True, verbose=True)\n",
    "print(\"primers_dict\")\n",
    "for p in primers_dict:\n",
    "    print(primers_dict[p])"
   ],
   "metadata": {
    "collapsed": false,
    "pycharm": {
     "name": "#%%\n"
    }
   }
  },
  {
   "cell_type": "code",
   "execution_count": 10,
   "outputs": [],
   "source": [
    "def max_pool_primers(primers, dist_threshold=3, sorting='max', verbose=False):\n",
    "    \"\"\"\n",
    "    filter primers with surroundings, i.e. if a primer is within a distance smaller than another one, keep the highest\n",
    "\n",
    "    :param primers:\n",
    "    :return:\n",
    "    \"\"\"\n",
    "\n",
    "    filt_dictionary = {}\n",
    "    discarded_primer_idx = []\n",
    "\n",
    "    for p_t in range(len(primers)):\n",
    "        for p_a in range(p_t + 1, len(primers)):  # only upward diagonal\n",
    "            # get primers\n",
    "            p_target = primers[p_t]\n",
    "            p_agent = primers[p_a]\n",
    "\n",
    "            # retrieve positions\n",
    "            pos_target = np.array(p_target[\"pos\"])\n",
    "            pos_agent = np.array(p_agent[\"pos\"])\n",
    "            distance = np.linalg.norm(pos_target - pos_agent)\n",
    "\n",
    "            if verbose:\n",
    "                print(\"distance\", distance)\n",
    "\n",
    "            # sort if distance is smaller than the threshold\n",
    "            if distance < dist_threshold:\n",
    "                # todo add possibility to sort by clustering the mean\n",
    "                if sorting == 'max':\n",
    "                    if p_target[\"max\"] > p_agent[\"max\"]:\n",
    "                        discarded_primer_idx.append(p_a)\n",
    "                    else:\n",
    "                        discarded_primer_idx.append(p_t)\n",
    "\n",
    "    if verbose:\n",
    "        print(\"discarded primers\")\n",
    "        print(discarded_primer_idx)\n",
    "\n",
    "    # append all non discarded primers\n",
    "    n_primer = 0\n",
    "    for p in primers:\n",
    "        if p not in discarded_primer_idx:\n",
    "            primer = primers[p]\n",
    "            filt_dictionary[n_primer] = {\"type\": primer[\"type\"], \"pos\": primer[\"pos\"], \"max\": primer[\"max\"]}\n",
    "            n_primer += 1\n",
    "\n",
    "    return filt_dictionary"
   ],
   "metadata": {
    "collapsed": false,
    "pycharm": {
     "name": "#%%\n"
    }
   }
  },
  {
   "cell_type": "code",
   "execution_count": 11,
   "outputs": [
    {
     "name": "stdout",
     "output_type": "stream",
     "text": [
      "distance 16.24689149466981\n",
      "distance 6.187265577123947\n",
      "distance 17.73376628201002\n",
      "discarded primers\n",
      "[]\n",
      "filt_primers 3\n",
      "{'type': 1, 'pos': [9.999979523931405, 9.999979523931405], 'max': 0.73355234}\n",
      "{'type': 2, 'pos': [12.99998719569209, 25.96749145312536], 'max': 0.7946079}\n",
      "{'type': 11, 'pos': [15.999993466413873, 8.48932138527828], 'max': 0.8013072}\n"
     ]
    }
   ],
   "source": [
    "filt_primers = max_pool_primers(primers_dict, dist_threshold=CLUSTER_DISTANCE, verbose=True)\n",
    "print(\"filt_primers\", len(filt_primers))\n",
    "for p in filt_primers:\n",
    "    print(filt_primers[p])"
   ],
   "metadata": {
    "collapsed": false,
    "pycharm": {
     "name": "#%%\n"
    }
   }
  },
  {
   "cell_type": "code",
   "execution_count": 12,
   "outputs": [
    {
     "data": {
      "text/plain": "<matplotlib.image.AxesImage at 0x141729ac8>"
     },
     "execution_count": 12,
     "metadata": {},
     "output_type": "execute_result"
    },
    {
     "data": {
      "text/plain": "<Figure size 432x288 with 1 Axes>",
      "image/png": "[encoded data removed]"
     },
     "metadata": {
      "needs_background": "light"
     },
     "output_type": "display_data"
    }
   ],
   "source": [
    "# plot primers on digit\n",
    "plt.figure()\n",
    "colors = cm.rainbow(np.linspace(0, 1, np.shape(filters)[0]))\n",
    "rgb_im = np.repeat(np.expand_dims(test_image, axis=2), 3, axis=2)\n",
    "\n",
    "for p in filt_primers:\n",
    "    primer = filt_primers[p]\n",
    "    primer_type = primer[\"type\"]\n",
    "    primer_pos = primer[\"pos\"]\n",
    "    color = colors[primer_type]\n",
    "    rgb_im[np.round(primer_pos[1]).astype(int), np.round(primer_pos[0]).astype(int)] = color[:3] * 255\n",
    "\n",
    "# plot legend\n",
    "for i in range(np.shape(filters)[0]):\n",
    "    color = colors[i]\n",
    "    rgb_im[-1, i] = color[:3] * 255\n",
    "\n",
    "plt.imshow(rgb_im)"
   ],
   "metadata": {
    "collapsed": false,
    "pycharm": {
     "name": "#%%\n"
    }
   }
  },
  {
   "cell_type": "markdown",
   "source": [
    "# compute Sequence"
   ],
   "metadata": {
    "collapsed": false,
    "pycharm": {
     "name": "#%% md\n"
    }
   }
  },
  {
   "cell_type": "code",
   "execution_count": 13,
   "outputs": [],
   "source": [
    "def compute_n_vectors(primers, verbose=False):\n",
    "    n_vectors = 0\n",
    "    n_ends = 0\n",
    "    for p in range(len(primers)):\n",
    "        \"ends and T adds only half a vector since we need two to make a vector, while the corner adds a full vector as it is between two others\"\n",
    "        \"Ts are considered half since the matching factor draws a vector that 'bypass' the T and thus has only one end to it\"\n",
    "        primer = primers[p]\n",
    "        if primer[\"type\"] in [0, 1, 2, 3, 4, 5, 6, 7]:\n",
    "            n_vectors += 0.5\n",
    "            n_ends +=1\n",
    "        elif primer[\"type\"] == 12:  # cross adds two vectors\n",
    "            n_vectors += 2\n",
    "        else:\n",
    "            n_vectors += 1\n",
    "\n",
    "    # remove a vector if there's only one end, that may mean that the other end has not been found because there's some small corner at the tip\n",
    "    if n_ends%2 != 0:\n",
    "        n_vectors -= 1\n",
    "\n",
    "    n_vectors = np.ceil(n_vectors).astype(int)\n",
    "\n",
    "    if verbose:\n",
    "        print(\"Found {} vectors from {} primers\".format(n_vectors, len(primers)))\n",
    "        print()\n",
    "\n",
    "    return n_vectors"
   ],
   "metadata": {
    "collapsed": false,
    "pycharm": {
     "name": "#%%\n"
    }
   }
  },
  {
   "cell_type": "code",
   "execution_count": 14,
   "outputs": [],
   "source": [
    "def compute_type_factor_btw_primers(type1, type2):\n",
    "    factor = TYPE_FACTORS1[-1]\n",
    "\n",
    "    def go_down(type, type_factors):\n",
    "        if type == 2:  # I\n",
    "            factor = type_factors[0]\n",
    "        elif type == 9:  # |_\n",
    "            factor = type_factors[1]\n",
    "        elif type == 10:  # _|\n",
    "            factor = type_factors[2]\n",
    "        elif type == 6:  # _|_\n",
    "            factor = type_factors[3]\n",
    "        elif type == 12:  # +\n",
    "            factor = type_factors[4]\n",
    "        else:\n",
    "            factor = type_factors[-1]\n",
    "        return factor\n",
    "\n",
    "    def go_left(type, type_factors):\n",
    "        if type == 1:\n",
    "            factor = type_factors[0]  # -\n",
    "        elif type == 8:\n",
    "            factor = type_factors[1]  # -:\n",
    "        elif type == 9:\n",
    "            factor = type_factors[2]  # -:|\n",
    "        elif type == 5:\n",
    "            factor = type_factors[3]  # -:|\n",
    "        elif type == 12:\n",
    "            factor = type_factors[4]\n",
    "        else:\n",
    "            factor = type_factors[-1]\n",
    "        return factor\n",
    "\n",
    "    def go_up(type, type_factors):\n",
    "        if type == 0:\n",
    "            factor = type_factors[0]\n",
    "        elif type == 11:\n",
    "            factor = type_factors[1]\n",
    "        elif type == 8:\n",
    "            factor = type_factors[2]\n",
    "        elif type == 4:\n",
    "            factor = type_factors[3]\n",
    "        elif type == 12:\n",
    "            factor = type_factors[4]\n",
    "        else:\n",
    "            factor = type_factors[-1]\n",
    "        return factor\n",
    "\n",
    "    def go_right(type, type_factors):\n",
    "        if type == 3:\n",
    "            factor = type_factors[0]\n",
    "        elif type == 10:\n",
    "            factor = type_factors[1]\n",
    "        elif type == 11:\n",
    "            factor = type_factors[2]\n",
    "        elif type == 7:\n",
    "            factor = type_factors[3]\n",
    "        elif type == 12:\n",
    "            factor = type_factors[4]\n",
    "        else:\n",
    "            factor = type_factors[-1]\n",
    "        return factor\n",
    "\n",
    "    if type1 == 0:\n",
    "        factor = go_down(type2, TYPE_FACTORS1)\n",
    "    elif type1 == 1:\n",
    "        factor = go_right(type2, TYPE_FACTORS1)\n",
    "    elif type1 == 2:\n",
    "        factor = go_up(type2, TYPE_FACTORS1)\n",
    "    elif type1 == 3:\n",
    "        factor = go_left(type2, TYPE_FACTORS1)\n",
    "\n",
    "    elif type1 == 4:\n",
    "        factor = go_down(type2, TYPE_FACTORS2)\n",
    "    elif type1 == 5:\n",
    "        factor = go_right(type2, TYPE_FACTORS2)\n",
    "    elif type1 == 6:\n",
    "        factor = go_up(type2, TYPE_FACTORS2)\n",
    "    elif type1 == 7:\n",
    "        factor = go_left(type2, TYPE_FACTORS2)\n",
    "\n",
    "    elif type1 == 8:\n",
    "        factor = go_down(type2, TYPE_FACTORS3)\n",
    "        if factor == TYPE_FACTORS1[-1]:\n",
    "            factor = go_right(type2, TYPE_FACTORS3)\n",
    "    elif type1 == 9:\n",
    "        factor = go_right(type2, TYPE_FACTORS3)\n",
    "        if factor == TYPE_FACTORS1[-1]:\n",
    "            factor = go_up(type2, TYPE_FACTORS3)\n",
    "    elif type1 == 10:\n",
    "        factor = go_left(type2, TYPE_FACTORS3)\n",
    "        if factor == TYPE_FACTORS1[-1]:\n",
    "            factor = go_up(type2, TYPE_FACTORS3)\n",
    "    elif type1 == 11:\n",
    "        factor = go_left(type2, TYPE_FACTORS3)\n",
    "        if factor == TYPE_FACTORS1[-1]:\n",
    "            factor = go_down(type2, TYPE_FACTORS3)\n",
    "\n",
    "    elif type1 == 12:\n",
    "        factor = go_right(type2, TYPE_FACTORS4)\n",
    "\n",
    "        if factor == TYPE_FACTORS1[-1]:\n",
    "            factor = go_down(type2, TYPE_FACTORS4)\n",
    "\n",
    "            if factor == TYPE_FACTORS1[-1]:\n",
    "                factor = go_left(type2, TYPE_FACTORS4)\n",
    "\n",
    "                if factor == TYPE_FACTORS1[-1]:\n",
    "                    factor = go_up(type2, TYPE_FACTORS4)\n",
    "    else:\n",
    "        print(\"Todo type1:\", type1)\n",
    "\n",
    "    return factor"
   ],
   "metadata": {
    "collapsed": false,
    "pycharm": {
     "name": "#%%\n"
    }
   }
  },
  {
   "cell_type": "code",
   "execution_count": 15,
   "outputs": [],
   "source": [
    "def compute_distance_btw_primers(pos1, pos2, alpha=3):\n",
    "    return np.log(np.linalg.norm(np.array(pos1) - np.array(pos2)))"
   ],
   "metadata": {
    "collapsed": false,
    "pycharm": {
     "name": "#%%\n"
    }
   }
  },
  {
   "cell_type": "code",
   "execution_count": 16,
   "outputs": [],
   "source": [
    "def compute_score_matrix(primers, verbose=False):\n",
    "    # group primers' positions\n",
    "    score_mat = np.zeros((len(primers), len(primers)))\n",
    "    for p_t in range(len(primers)):\n",
    "        # get target primer\n",
    "        p_target = primers[p_t]\n",
    "\n",
    "        if verbose:\n",
    "            print(p_t, \": primer - \", p_target)\n",
    "\n",
    "        # compute for full matrix since it may not be symmetric due to the different idx_factors\n",
    "        for p_a in range(len(primers)):\n",
    "            if p_a != p_t:  # remove self connections\n",
    "                # get agent primer\n",
    "                p_agent = primers[p_a]\n",
    "\n",
    "                type_factor = compute_type_factor_btw_primers(p_target[\"type\"], p_agent[\"type\"])\n",
    "                dist = compute_distance_btw_primers(p_target[\"pos\"], p_agent[\"pos\"])\n",
    "                score = type_factor / dist\n",
    "                score_mat[p_t, p_a] = score\n",
    "\n",
    "\n",
    "    if verbose:\n",
    "        print(\"score_mat\")\n",
    "        print(score_mat)\n",
    "\n",
    "    return score_mat"
   ],
   "metadata": {
    "collapsed": false,
    "pycharm": {
     "name": "#%%\n"
    }
   }
  },
  {
   "cell_type": "code",
   "execution_count": 17,
   "outputs": [],
   "source": [
    "def get_idx_primers_type(primers):\n",
    "    idx_type1, idx_type2, idx_type3, idx_type4 = [], [], [], []\n",
    "\n",
    "    for p in primers:\n",
    "        primer = primers[p]\n",
    "        type_primer = primer[\"type\"]\n",
    "\n",
    "        if type_primer in [0, 1, 2, 3]:\n",
    "            idx_type1.append(p)\n",
    "        elif type_primer in [4, 5, 6, 7]:\n",
    "            idx_type2.append(p)\n",
    "        elif type_primer in [8, 9, 10, 12]:\n",
    "            idx_type3.append(p)\n",
    "        else:\n",
    "            idx_type4.append(p)\n",
    "\n",
    "    return idx_type1, idx_type2, idx_type3, idx_type4"
   ],
   "metadata": {
    "collapsed": false,
    "pycharm": {
     "name": "#%%\n"
    }
   }
  },
  {
   "cell_type": "code",
   "execution_count": 18,
   "outputs": [],
   "source": [
    "def set_new_chain_agent(agent, target, verbose=False):\n",
    "\n",
    "    swap = False\n",
    "    # agent is a continuity then we start by the other end\n",
    "    if agent[\"type\"] in [8, 9, 10, 11]:\n",
    "        swap = True\n",
    "    # agent is an end (type1) and target is type2 (T), then we start by type3\n",
    "    # elif agent[\"type\"] in [0, 1, 2, 3] and target[\"type\"] in [4, 5, 6, 7]:\n",
    "    #     swap = True\n",
    "\n",
    "    # swap vectors\n",
    "    if swap:\n",
    "        agent_copy = agent\n",
    "        agent = target\n",
    "        target = agent_copy\n",
    "\n",
    "        if verbose:\n",
    "            print(\"primers swapped between agent and target\")\n",
    "\n",
    "    return agent, target, swap\n"
   ],
   "metadata": {
    "collapsed": false,
    "pycharm": {
     "name": "#%%\n"
    }
   }
  },
  {
   "cell_type": "code",
   "execution_count": 19,
   "outputs": [],
   "source": [
    "def build_vector_sequence(score_mat, n_vectors, primers, verbose=False):\n",
    "    sequence = {}\n",
    "\n",
    "    # build sequence of primers from the highest matching score\n",
    "    last_target_idx = None\n",
    "    n_chain = 0\n",
    "    for v in range(n_vectors):\n",
    "        new_chain = False\n",
    "        if last_target_idx is None:  # new chain\n",
    "            new_chain = True\n",
    "            # get idx of the primers per type\n",
    "            idx_type1, idx_type2, idx_type3, idx_type4 = get_idx_primers_type(primers)\n",
    "\n",
    "            # first chain need to start with an end primer\n",
    "            if n_chain == 0:\n",
    "                # idx_type = idx_type1\n",
    "                idx_type = [0]  # simply start with index 0?\n",
    "            else:\n",
    "            # then the chain can start either from an end or a type3 primer\n",
    "                idx_type = idx_type1 + idx_type2\n",
    "\n",
    "            # get sub matrix\n",
    "            sub_score_mat = score_mat[idx_type, :]\n",
    "\n",
    "            if verbose:\n",
    "                print(\"idx_type\")\n",
    "                print(idx_type)\n",
    "                print(\"sub_score_mat\")\n",
    "                print(sub_score_mat)\n",
    "\n",
    "            # get the highest score\n",
    "            pair_primers = np.unravel_index(sub_score_mat.argmax(), sub_score_mat.shape)\n",
    "            # get back idx (from score_mat space for agent_idx)\n",
    "            agent_idx = idx_type[pair_primers[0]]\n",
    "            target_idx = pair_primers[1]\n",
    "        else:  # ongoing chain\n",
    "            agent_idx = last_target_idx\n",
    "            # look for the highest score from the previous primer\n",
    "            target_idx = np.argmax(score_mat[agent_idx, :])\n",
    "\n",
    "            if verbose:\n",
    "                print(\"score mat continuuity\")\n",
    "                print(score_mat[agent_idx, :])\n",
    "\n",
    "        # retrieve primers from pair\n",
    "        p_agent = primers[agent_idx]\n",
    "        p_target = primers[target_idx]\n",
    "\n",
    "        if new_chain:\n",
    "            p_agent, p_target, swapped = set_new_chain_agent(p_agent, p_target, verbose=verbose)\n",
    "        else:\n",
    "            swapped = False\n",
    "\n",
    "        if verbose:\n",
    "            print(\"highest_match between: {} and {} ({})\".format(agent_idx, target_idx, score_mat[agent_idx, target_idx]))\n",
    "            print(\"connection between type: {} and {}\".format(p_agent[\"type\"], p_target[\"type\"]))\n",
    "\n",
    "        # append sequence\n",
    "        sequence[v] = {\"type\": [p_agent[\"type\"], p_target[\"type\"]], \"pos\": [p_agent[\"pos\"], p_target[\"pos\"]]}\n",
    "\n",
    "        # remove score to avoid picking this connection again\n",
    "        if p_agent[\"type\"] != 12:  # avoid discarding the cross since many vectors will go through it\n",
    "            score_mat[target_idx, agent_idx] = 0\n",
    "        else:\n",
    "            # penalize strongly closer primers from a cross, but they can still go through, the idea is to avoid back and forth\n",
    "            score_mat[target_idx, agent_idx] *= 1 - score_mat[target_idx, agent_idx]**3\n",
    "\n",
    "        # remove used connection\n",
    "        score_mat[agent_idx, target_idx] = 0\n",
    "\n",
    "        # remove entirely the connections (scores) when it's a type3 that it has been used already twice\n",
    "        if not new_chain and p_agent[\"type\"] in [8, 9, 10, 11]:\n",
    "            score_mat[last_target_idx, :] = 0\n",
    "            score_mat[:, last_target_idx] = 0\n",
    "\n",
    "        # penalize ends that has already been used (they can still start anew sequence like in an A)\n",
    "        if p_agent[\"type\"] in [0, 1, 2, 3, 4, 5, 6, 7]:\n",
    "            score_mat[agent_idx, :] *= DECREASE_END_FACTOR\n",
    "            score_mat[:, agent_idx] *= DECREASE_END_FACTOR\n",
    "\n",
    "        # control if chain ends\n",
    "        if p_target[\"type\"] in [0, 1, 2, 3, 4, 5, 6, 7]:\n",
    "            # penalize ends so it may look first for another ends to start\n",
    "            score_mat[target_idx, :] *= DECREASE_END_FACTOR\n",
    "            score_mat[:, target_idx] *= DECREASE_END_FACTOR\n",
    "\n",
    "            last_target_idx = None\n",
    "            n_chain += 1\n",
    "        else:\n",
    "            if swapped:\n",
    "                last_target_idx = agent_idx\n",
    "            else:\n",
    "                last_target_idx = target_idx\n",
    "\n",
    "        if verbose:\n",
    "            print(\"sequence\")\n",
    "            for i in range(len(sequence)):\n",
    "                print(sequence[i])\n",
    "            print(\"new score_mat:\")\n",
    "            print(score_mat)\n",
    "            if last_target_idx is None:\n",
    "                print(\"last_target_idx: {}\".format(last_target_idx))\n",
    "            else:\n",
    "                print(\"last_target_idx: {} (type: {})\".format(last_target_idx, p_target[\"type\"]))\n",
    "            print()\n",
    "\n",
    "    return sequence\n"
   ],
   "metadata": {
    "collapsed": false,
    "pycharm": {
     "name": "#%%\n"
    }
   }
  },
  {
   "cell_type": "code",
   "execution_count": 20,
   "outputs": [],
   "source": [
    "def group_primers_to_sequence(primers, verbose=False):\n",
    "    # get score matrix\n",
    "    score_mat = compute_score_matrix(primers, verbose=verbose)\n",
    "\n",
    "    # compute n_vectors\n",
    "    n_vectors = compute_n_vectors(primers, verbose=verbose)\n",
    "\n",
    "    # compute sequence\n",
    "    sequence = build_vector_sequence(score_mat, n_vectors, primers, verbose=verbose)\n",
    "\n",
    "    return sequence"
   ],
   "metadata": {
    "collapsed": false,
    "pycharm": {
     "name": "#%%\n"
    }
   }
  },
  {
   "cell_type": "code",
   "execution_count": 21,
   "outputs": [
    {
     "name": "stdout",
     "output_type": "stream",
     "text": [
      "0 : primer -  {'type': 1, 'pos': [9.999979523931405, 9.999979523931405], 'max': 0.73355234}\n",
      "1 : primer -  {'type': 2, 'pos': [12.99998719569209, 25.96749145312536], 'max': 0.7946079}\n",
      "2 : primer -  {'type': 11, 'pos': [15.999993466413873, 8.48932138527828], 'max': 0.8013072}\n",
      "score_mat\n",
      "[[0.    0.    0.466]\n",
      " [0.    0.    0.313]\n",
      " [0.494 0.313 0.   ]]\n",
      "Found 2 vectors from 3 primers\n",
      "\n",
      "idx_type\n",
      "[0]\n",
      "sub_score_mat\n",
      "[[0.    0.    0.466]]\n",
      "highest_match between: 0 and 2 (0.4663940480218535)\n",
      "connection between type: 1 and 11\n",
      "sequence\n",
      "{'type': [1, 11], 'pos': [[9.999979523931405, 9.999979523931405], [15.999993466413873, 8.48932138527828]]}\n",
      "new score_mat:\n",
      "[[0.    0.    0.   ]\n",
      " [0.    0.    0.313]\n",
      " [0.    0.313 0.   ]]\n",
      "last_target_idx: 2 (type: 11)\n",
      "\n",
      "score mat continuuity\n",
      "[0.    0.313 0.   ]\n",
      "highest_match between: 2 and 1 (0.31299225402690267)\n",
      "connection between type: 11 and 2\n",
      "sequence\n",
      "{'type': [1, 11], 'pos': [[9.999979523931405, 9.999979523931405], [15.999993466413873, 8.48932138527828]]}\n",
      "{'type': [11, 2], 'pos': [[15.999993466413873, 8.48932138527828], [12.99998719569209, 25.96749145312536]]}\n",
      "new score_mat:\n",
      "[[0. 0. 0.]\n",
      " [0. 0. 0.]\n",
      " [0. 0. 0.]]\n",
      "last_target_idx: None\n",
      "\n",
      "Final sequence\n",
      "{'type': [1, 11], 'pos': [[9.999979523931405, 9.999979523931405], [15.999993466413873, 8.48932138527828]]}\n",
      "{'type': [11, 2], 'pos': [[15.999993466413873, 8.48932138527828], [12.99998719569209, 25.96749145312536]]}\n"
     ]
    }
   ],
   "source": [
    "sequence = group_primers_to_sequence(filt_primers, verbose=True)\n",
    "print(\"Final sequence\")\n",
    "for s in sequence:\n",
    "    print(sequence[s])"
   ],
   "metadata": {
    "collapsed": false,
    "pycharm": {
     "name": "#%%\n"
    }
   }
  },
  {
   "cell_type": "code",
   "execution_count": 22,
   "outputs": [],
   "source": [
    "def plot_vectors(image, sequence, fig=None, subplot=None, title=None):\n",
    "\n",
    "    if fig is None:\n",
    "        plt.figure()\n",
    "    else:\n",
    "        fig.add_subplot(subplot)\n",
    "        plt.title(title)\n",
    "\n",
    "    colors = cm.rainbow(np.linspace(0, 1, len(sequence)))\n",
    "    for s, color in zip(sequence, colors):\n",
    "        vector = sequence[s][\"pos\"]\n",
    "\n",
    "        # add vectors\n",
    "        vector = np.rint(vector).astype(int)\n",
    "        # plt.plot([vector[0, 0], vector[1, 0]],[vector[0, 1], vector[1, 1]], color=color, linestyle='solid', marker='o', linewidth=3)\n",
    "        plt.arrow(vector[0, 0], vector[0, 1], vector[1, 0] - vector[0, 0], vector[1, 1]-vector[0, 1],\n",
    "                  color=color,\n",
    "                  linestyle='solid',\n",
    "                  width=0.5,\n",
    "                  length_includes_head=True)\n",
    "\n",
    "    # show image\n",
    "    plt.imshow(image)"
   ],
   "metadata": {
    "collapsed": false,
    "pycharm": {
     "name": "#%%\n"
    }
   }
  },
  {
   "cell_type": "code",
   "execution_count": 23,
   "outputs": [
    {
     "data": {
      "text/plain": "<Figure size 432x288 with 1 Axes>",
      "image/png": "[encoded data removed]"
     },
     "metadata": {
      "needs_background": "light"
     },
     "output_type": "display_data"
    }
   ],
   "source": [
    "rgb_im = np.repeat(np.expand_dims(test_image, axis=2), 3, axis=2)\n",
    "plot_vectors(rgb_im, sequence)"
   ],
   "metadata": {
    "collapsed": false,
    "pycharm": {
     "name": "#%%\n"
    }
   }
  },
  {
   "cell_type": "markdown",
   "source": [
    "# VECTORIZE ENTIRE DIGIT"
   ],
   "metadata": {
    "collapsed": false,
    "pycharm": {
     "name": "#%% md\n"
    }
   }
  },
  {
   "cell_type": "code",
   "execution_count": 24,
   "outputs": [],
   "source": [
    "def vectorize_digit(image, filters, do_plot=False, verbose=False):\n",
    "    # find primers\n",
    "    primers_dict = find_primers(image, filters, patch_size=PATCH_SIZE, threshold=FILTER_THRESHOLD, do_plot=do_plot, verbose=verbose)\n",
    "\n",
    "    # clearn primers\n",
    "    filt_primers = max_pool_primers(primers_dict, dist_threshold=CLUSTER_DISTANCE, verbose=verbose)\n",
    "\n",
    "    # compute vectors\n",
    "    sequence = group_primers_to_sequence(filt_primers, verbose=verbose)\n",
    "\n",
    "    return sequence"
   ],
   "metadata": {
    "collapsed": false,
    "pycharm": {
     "name": "#%%\n"
    }
   }
  },
  {
   "cell_type": "code",
   "execution_count": 25,
   "outputs": [
    {
     "name": "stdout",
     "output_type": "stream",
     "text": [
      "shape digits_idx_oi (6265,)\n",
      "[ 15  29  38  42  52  71  79  84  91  96 101 103 123 140 141 148 158 168\n",
      " 185 193 196 212 214 223 230 243 258 263 288 301 305 307 324 337 340 349\n",
      " 353 370 371 377 384 387 411 422 426 436 446 467 468 478]\n"
     ]
    }
   ],
   "source": [
    "# get digits by labels 1\n",
    "label_oi = 7\n",
    "idx_train = np.arange(len(y_train))\n",
    "digits_idx_oi = idx_train[y_train == label_oi]\n",
    "print(\"shape digits_idx_oi\", np.shape(digits_idx_oi))\n",
    "print(digits_idx_oi[:50])\n",
    "\n",
    "train_ones = [3, 24, 70, 105, 248, 366]\n",
    "train_sevens = [15, 38]"
   ],
   "metadata": {
    "collapsed": false,
    "pycharm": {
     "name": "#%%\n"
    }
   }
  },
  {
   "cell_type": "code",
   "execution_count": 26,
   "outputs": [
    {
     "name": "stdout",
     "output_type": "stream",
     "text": [
      "shape test_image (28, 28)\n",
      "shape ends_filters (4, 7, 7, 9)\n",
      "shape corners_filters (4, 7, 7, 9)\n",
      "shape T_filters (4, 7, 7, 9)\n",
      "shape cross_filters (1, 7, 7, 9)\n",
      "{'type': [1, 11], 'pos': [[9.999979523931405, 9.999979523931405], [15.999993466413873, 8.48932138527828]]}\n",
      "{'type': [11, 2], 'pos': [[15.999993466413873, 8.48932138527828], [12.99998719569209, 25.96749145312536]]}\n"
     ]
    },
    {
     "data": {
      "text/plain": "<Figure size 432x288 with 2 Axes>",
      "image/png": "[encoded data removed]"
     },
     "metadata": {
      "needs_background": "light"
     },
     "output_type": "display_data"
    }
   ],
   "source": [
    "# idx = 0  # label 5\n",
    "# idx = 1  # label 0\n",
    "# idx = 2  # label 4\n",
    "# idx = 3  # label 1\n",
    "# idx = 4  # label 9\n",
    "# idx = 5  # label 2\n",
    "# # idx = 6  # label 1\n",
    "# idx = 7  # label 3\n",
    "# idx = 8  # label 1\n",
    "# idx = 9  # label 4\n",
    "# idx = 10  # label 3\n",
    "# idx = 11  # label 5\n",
    "# idx = 12  # label 3\n",
    "# idx = 13  # label 6\n",
    "# # idx = 14  # label 1\n",
    "# idx = 15  # label 7\n",
    "# idx = 16  # label 2\n",
    "# idx = 17  # label 8\n",
    "# idx = 18 # label 8\n",
    "# idx = 19 # label 9\n",
    "idx = 42\n",
    "test_image = x_train[idx] / 255.\n",
    "print(\"shape test_image\", np.shape(test_image))\n",
    "\n",
    "filters = get_filters_multi_scale()\n",
    "sequence = vectorize_digit(test_image, filters, do_plot=False, verbose=False)\n",
    "\n",
    "for i in sequence:\n",
    "    print(sequence[i])\n",
    "\n",
    "rgb_im = np.repeat(np.expand_dims(test_image, axis=2), 3, axis=2)\n",
    "\n",
    "fig = plt.figure()\n",
    "plt.subplot(121)\n",
    "plt.title(\"Input\")\n",
    "plt.imshow(rgb_im)\n",
    "plot_vectors(rgb_im, sequence, fig, subplot='122', title=\"Vectorized\")"
   ],
   "metadata": {
    "collapsed": false,
    "pycharm": {
     "name": "#%%\n"
    }
   }
  },
  {
   "cell_type": "markdown",
   "source": [
    "# TEST MULTIPLE DIGITS"
   ],
   "metadata": {
    "collapsed": false,
    "pycharm": {
     "name": "#%% md\n"
    }
   }
  },
  {
   "cell_type": "code",
   "execution_count": 27,
   "outputs": [
    {
     "name": "stdout",
     "output_type": "stream",
     "text": [
      "shape ends_filters (4, 7, 7, 9)\n",
      "shape corners_filters (4, 7, 7, 9)\n",
      "shape T_filters (4, 7, 7, 9)\n",
      "shape cross_filters (1, 7, 7, 9)\n",
      "Max of nb_primers is greater than 1! This could mean that the the filter is not normalized, imaged clamped to 1 to avoid issues with the center of activity\n"
     ]
    },
    {
     "data": {
      "text/plain": "<Figure size 432x288 with 2 Axes>",
      "image/png": "[encoded data removed]"
     },
     "metadata": {
      "needs_background": "light"
     },
     "output_type": "display_data"
    },
    {
     "data": {
      "text/plain": "<Figure size 432x288 with 2 Axes>",
      "image/png": "[encoded data removed]"
     },
     "metadata": {
      "needs_background": "light"
     },
     "output_type": "display_data"
    },
    {
     "data": {
      "text/plain": "<Figure size 432x288 with 2 Axes>",
      "image/png": "[encoded data removed]"
     },
     "metadata": {
      "needs_background": "light"
     },
     "output_type": "display_data"
    },
    {
     "data": {
      "text/plain": "<Figure size 432x288 with 2 Axes>",
      "image/png": "[encoded data removed]"
     },
     "metadata": {
      "needs_background": "light"
     },
     "output_type": "display_data"
    },
    {
     "data": {
      "text/plain": "<Figure size 432x288 with 2 Axes>",
      "image/png": "[encoded data removed]"
     },
     "metadata": {
      "needs_background": "light"
     },
     "output_type": "display_data"
    },
    {
     "data": {
      "text/plain": "<Figure size 432x288 with 2 Axes>",
      "image/png": "[encoded data removed]"
     },
     "metadata": {
      "needs_background": "light"
     },
     "output_type": "display_data"
    },
    {
     "data": {
      "text/plain": "<Figure size 432x288 with 2 Axes>",
      "image/png": "[encoded data removed]"
     },
     "metadata": {
      "needs_background": "light"
     },
     "output_type": "display_data"
    },
    {
     "data": {
      "text/plain": "<Figure size 432x288 with 2 Axes>",
      "image/png": "[encoded data removed]"
     },
     "metadata": {
      "needs_background": "light"
     },
     "output_type": "display_data"
    },
    {
     "data": {
      "text/plain": "<Figure size 432x288 with 2 Axes>",
      "image/png": "[encoded data removed]"
     },
     "metadata": {
      "needs_background": "light"
     },
     "output_type": "display_data"
    },
    {
     "data": {
      "text/plain": "<Figure size 432x288 with 2 Axes>",
      "image/png": "[encoded data removed]"
     },
     "metadata": {
      "needs_background": "light"
     },
     "output_type": "display_data"
    },
    {
     "data": {
      "text/plain": "<Figure size 432x288 with 2 Axes>",
      "image/png": "[encoded data removed]"
     },
     "metadata": {
      "needs_background": "light"
     },
     "output_type": "display_data"
    },
    {
     "data": {
      "text/plain": "<Figure size 432x288 with 2 Axes>",
      "image/png": "[encoded data removed]"
     },
     "metadata": {
      "needs_background": "light"
     },
     "output_type": "display_data"
    },
    {
     "data": {
      "text/plain": "<Figure size 432x288 with 2 Axes>",
      "image/png": "[encoded data removed]"
     },
     "metadata": {
      "needs_background": "light"
     },
     "output_type": "display_data"
    },
    {
     "data": {
      "text/plain": "<Figure size 432x288 with 2 Axes>",
      "image/png": "[encoded data removed]"
     },
     "metadata": {
      "needs_background": "light"
     },
     "output_type": "display_data"
    },
    {
     "data": {
      "text/plain": "<Figure size 432x288 with 2 Axes>",
      "image/png": "[encoded data removed]"
     },
     "metadata": {
      "needs_background": "light"
     },
     "output_type": "display_data"
    },
    {
     "data": {
      "text/plain": "<Figure size 432x288 with 2 Axes>",
      "image/png": "[encoded data removed]"
     },
     "metadata": {
      "needs_background": "light"
     },
     "output_type": "display_data"
    },
    {
     "data": {
      "text/plain": "<Figure size 432x288 with 2 Axes>",
      "image/png": "[encoded data removed]"
     },
     "metadata": {
      "needs_background": "light"
     },
     "output_type": "display_data"
    },
    {
     "data": {
      "text/plain": "<Figure size 432x288 with 2 Axes>",
      "image/png": "[encoded data removed]"
     },
     "metadata": {
      "needs_background": "light"
     },
     "output_type": "display_data"
    },
    {
     "data": {
      "text/plain": "<Figure size 432x288 with 2 Axes>",
      "image/png": "[encoded data removed]"
     },
     "metadata": {
      "needs_background": "light"
     },
     "output_type": "display_data"
    },
    {
     "data": {
      "text/plain": "<Figure size 432x288 with 2 Axes>",
      "image/png": "[encoded data removed]"
     },
     "metadata": {
      "needs_background": "light"
     },
     "output_type": "display_data"
    }
   ],
   "source": [
    "digits = np.arange(20)\n",
    "filters = get_filters_multi_scale()\n",
    "\n",
    "for d in digits:\n",
    "    test_image = x_train[d] / 255.\n",
    "\n",
    "    sequence = vectorize_digit(test_image, filters, do_plot=False, verbose=False)\n",
    "\n",
    "    rgb_im = np.repeat(np.expand_dims(test_image, axis=2), 3, axis=2)\n",
    "\n",
    "    fig = plt.figure()\n",
    "    plt.subplot(121)\n",
    "    plt.title(\"Input {}\".format(d))\n",
    "    plt.imshow(rgb_im)\n",
    "    plot_vectors(rgb_im, sequence, fig, subplot='122', title=\"Vectorized\")"
   ],
   "metadata": {
    "collapsed": false,
    "pycharm": {
     "name": "#%%\n"
    }
   }
  },
  {
   "cell_type": "markdown",
   "source": [
    "# NORM-REFERENCED CLASSIFICATION"
   ],
   "metadata": {
    "collapsed": false,
    "pycharm": {
     "name": "#%% md\n"
    }
   }
  },
  {
   "cell_type": "code",
   "execution_count": 130,
   "outputs": [],
   "source": [
    "class NormReferenced:\n",
    "    def __init__(self):\n",
    "        self.ref = {}\n",
    "        self.tun = {}\n",
    "        self.pred_label_dict = []\n",
    "\n",
    "    def fit(self, x, y):\n",
    "        for i in range(len(x)):\n",
    "            seq = x[i]\n",
    "            label = y[i]\n",
    "            num_vector = len(x[i])\n",
    "            self.ref[label] = {'label': label, 'vectors': {}}\n",
    "            self.tun[label] = {'label': label, 'vectors': {}}\n",
    "\n",
    "            sequence_types = []\n",
    "            ref_positions = []\n",
    "            tun_positions = []\n",
    "            for v in range(num_vector):\n",
    "                sequence_types.append(seq[v]['type'])\n",
    "\n",
    "                # retrieve positions and compute tuning direction\n",
    "                ref_pos = np.array(seq[v]['pos'][0])\n",
    "                tun_pos = np.array(seq[v]['pos'][1]) - ref_pos\n",
    "\n",
    "                ref_positions.append(ref_pos)\n",
    "                tun_positions.append(tun_pos)\n",
    "\n",
    "            self.ref[label]['vectors'] = {'seq': np.array(sequence_types), 'ref_pos': np.array(ref_positions)}\n",
    "            self.tun[label]['vectors'] = {'seq': np.array(sequence_types), 'tun_pos': np.array(tun_positions)}\n",
    "            self.pred_label_dict.append(label)\n",
    "\n",
    "        print()\n",
    "        for i in self.ref:\n",
    "            print(\"reference\")\n",
    "            print(self.ref[i])\n",
    "            print(\"tuning\")\n",
    "            print(self.tun[i])\n",
    "            print()\n",
    "\n",
    "    def predict(self, x_test, verbose=False):\n",
    "        pred_lengths = []\n",
    "\n",
    "        if verbose:\n",
    "            print(\"x_test\")\n",
    "            print(x_test)\n",
    "\n",
    "        # compute projected length on all references\n",
    "        for i in self.ref:\n",
    "            # get x reference sequence type\n",
    "            x_ref_seq = self.ref[i][\"vectors\"][\"seq\"]\n",
    "\n",
    "            if verbose:\n",
    "                print(\"x_ref_seq ({})\".format(self.ref[i][\"label\"]))\n",
    "                print(x_ref_seq)\n",
    "\n",
    "            seq_length = 0\n",
    "            # for each vector of the test match types and compute length\n",
    "            for v in range(len(x_test)):\n",
    "                # declare variable that serve to know if the sequence is found\n",
    "                seq_idx = None\n",
    "\n",
    "                # get the x_test sequence type\n",
    "                x_test_type = x_test[v]['type']\n",
    "\n",
    "                # find matching sequence\n",
    "                find_idx0 = np.array((x_ref_seq == (x_test_type[0], x_test_type[1])).all(axis=1).nonzero())[0]\n",
    "                find_idx1 = np.array((x_ref_seq == (x_test_type[1], x_test_type[0])).all(axis=1).nonzero())[0]  # match in other direction as well\n",
    "\n",
    "                # retrieve index from tbe matching sequence\n",
    "                if len(find_idx0) > 0:\n",
    "                    seq_idx = find_idx0[0]\n",
    "                elif len(find_idx1) > 0:\n",
    "                    seq_idx = find_idx1[0]\n",
    "                else:\n",
    "                    if verbose:\n",
    "                        print(\"sequence type {} not found in ref seq!\".format(x_test_type))\n",
    "\n",
    "                # compute projections\n",
    "                if seq_idx is not None:\n",
    "                    # transform vect to simple 2d vector from ref (0, 0)\n",
    "                    vect = np.array(x_test[v]['pos'][1]) - np.array(x_test[v]['pos'][0])\n",
    "                    tun_vect = self.tun[i]['vectors']['tun_pos'][seq_idx]\n",
    "                    v = np.abs(np.dot(vect, tun_vect / np.linalg.norm(tun_vect)))  # v-shape encoding\n",
    "\n",
    "                    if verbose:\n",
    "                        print(\"vect: {} ({}): \".format(vect, np.linalg.norm(vect)))\n",
    "                        print(\"tun_vect:\", tun_vect)\n",
    "                        print(\"length v {} for seq {}\".format(v, x_test_type))\n",
    "\n",
    "                    seq_length += v\n",
    "\n",
    "            pred_lengths.append(seq_length)\n",
    "\n",
    "        max_length_idx = np.argmax(pred_lengths)\n",
    "        pred_label = self.pred_label_dict[max_length_idx]\n",
    "\n",
    "        if verbose:\n",
    "            print(\"pred_lengths\")\n",
    "            print(pred_lengths)\n",
    "            print(\"max_length_idx {}, label: {}\".format(max_length_idx, pred_label))\n",
    "            print()\n",
    "\n",
    "        return pred_label"
   ],
   "metadata": {
    "collapsed": false,
    "pycharm": {
     "name": "#%%\n"
    }
   }
  },
  {
   "cell_type": "code",
   "execution_count": 131,
   "outputs": [
    {
     "name": "stdout",
     "output_type": "stream",
     "text": [
      "Max of nb_primers is greater than 1! This could mean that the the filter is not normalized, imaged clamped to 1 to avoid issues with the center of activity\n",
      "\n",
      "reference\n",
      "{'label': 0, 'vectors': {'seq': array([[ 9,  8],\n",
      "       [ 8, 11],\n",
      "       [11, 10],\n",
      "       [10,  9]]), 'ref_pos': array([[ 7.709, 21.339],\n",
      "       [ 9.   , 12.   ],\n",
      "       [19.   ,  6.   ],\n",
      "       [20.   , 16.   ]])}}\n",
      "tuning\n",
      "{'label': 0, 'vectors': {'seq': array([[ 9,  8],\n",
      "       [ 8, 11],\n",
      "       [11, 10],\n",
      "       [10,  9]]), 'tun_pos': array([[  1.291,  -9.34 ],\n",
      "       [ 10.   ,  -6.   ],\n",
      "       [  1.   ,  10.   ],\n",
      "       [-12.291,   5.339]])}}\n",
      "\n",
      "reference\n",
      "{'label': 1, 'vectors': {'seq': array([[0, 2]]), 'ref_pos': array([[19.474,  5.   ]])}}\n",
      "tuning\n",
      "{'label': 1, 'vectors': {'seq': array([[0, 2]]), 'tun_pos': array([[-10.055,  18.788]])}}\n",
      "\n",
      "reference\n",
      "{'label': 2, 'vectors': {'seq': array([[ 1, 11],\n",
      "       [11, 12],\n",
      "       [12,  9],\n",
      "       [ 9, 12],\n",
      "       [12,  3]]), 'ref_pos': array([[ 9.966,  8.755],\n",
      "       [18.   ,  7.432],\n",
      "       [16.   , 15.   ],\n",
      "       [ 7.   , 20.   ],\n",
      "       [16.   , 15.   ]])}}\n",
      "tuning\n",
      "{'label': 2, 'vectors': {'seq': array([[ 1, 11],\n",
      "       [11, 12],\n",
      "       [12,  9],\n",
      "       [ 9, 12],\n",
      "       [12,  3]]), 'tun_pos': array([[ 8.034, -1.323],\n",
      "       [-2.   ,  7.568],\n",
      "       [-9.   ,  5.   ],\n",
      "       [ 9.   , -5.   ],\n",
      "       [ 7.502,  3.502]])}}\n",
      "\n",
      "reference\n",
      "{'label': 3, 'vectors': {'seq': array([[ 1, 11],\n",
      "       [11,  1],\n",
      "       [ 1, 10],\n",
      "       [10,  9]]), 'ref_pos': array([[ 9.5  ,  7.   ],\n",
      "       [19.515,  6.   ],\n",
      "       [ 9.401, 14.171],\n",
      "       [17.   , 19.519]])}}\n",
      "tuning\n",
      "{'label': 3, 'vectors': {'seq': array([[ 1, 11],\n",
      "       [11,  1],\n",
      "       [ 1, 10],\n",
      "       [10,  9]]), 'tun_pos': array([[ 10.015,  -1.   ],\n",
      "       [-10.114,   8.171],\n",
      "       [  7.599,   5.348],\n",
      "       [-10.   ,   2.951]])}}\n",
      "\n",
      "reference\n",
      "{'label': 4, 'vectors': {'seq': array([[0, 2],\n",
      "       [0, 9],\n",
      "       [9, 7]]), 'ref_pos': array([[21.   ,  6.   ],\n",
      "       [ 5.   ,  7.509],\n",
      "       [ 4.333, 14.682]])}}\n",
      "tuning\n",
      "{'label': 4, 'vectors': {'seq': array([[0, 2],\n",
      "       [0, 9],\n",
      "       [9, 7]]), 'tun_pos': array([[-3.417, 17.219],\n",
      "       [-0.667,  7.172],\n",
      "       [13.667, -0.682]])}}\n",
      "\n",
      "reference\n",
      "{'label': 5, 'vectors': {'seq': array([[ 1,  3],\n",
      "       [ 4,  9],\n",
      "       [ 9, 11],\n",
      "       [11, 10],\n",
      "       [10,  1]]), 'ref_pos': array([[ 8.028,  7.226],\n",
      "       [12.   ,  7.493],\n",
      "       [13.   , 13.   ],\n",
      "       [17.469, 15.   ],\n",
      "       [17.501, 19.   ]])}}\n",
      "tuning\n",
      "{'label': 5, 'vectors': {'seq': array([[ 1,  3],\n",
      "       [ 4,  9],\n",
      "       [ 9, 11],\n",
      "       [11, 10],\n",
      "       [10,  1]]), 'tun_pos': array([[ 14.471,  -1.226],\n",
      "       [  1.   ,   5.507],\n",
      "       [  4.469,   2.   ],\n",
      "       [  0.031,   4.   ],\n",
      "       [-12.288,   4.378]])}}\n",
      "\n",
      "reference\n",
      "{'label': 6, 'vectors': {'seq': array([[ 3,  8],\n",
      "       [ 8,  9],\n",
      "       [ 9, 11],\n",
      "       [11,  6]]), 'ref_pos': array([[17.485,  3.515],\n",
      "       [11.   ,  9.   ],\n",
      "       [ 9.374, 19.426],\n",
      "       [19.516, 13.   ]])}}\n",
      "tuning\n",
      "{'label': 6, 'vectors': {'seq': array([[ 3,  8],\n",
      "       [ 8,  9],\n",
      "       [ 9, 11],\n",
      "       [11,  6]]), 'tun_pos': array([[-6.485,  5.485],\n",
      "       [-1.626, 10.426],\n",
      "       [10.143, -6.426],\n",
      "       [-6.517,  6.   ]])}}\n",
      "\n",
      "reference\n",
      "{'label': 7, 'vectors': {'seq': array([[ 2,  8],\n",
      "       [ 8, 11],\n",
      "       [11,  2]]), 'ref_pos': array([[ 7.   , 14.   ],\n",
      "       [ 8.337, 10.349],\n",
      "       [19.328,  8.308]])}}\n",
      "tuning\n",
      "{'label': 7, 'vectors': {'seq': array([[ 2,  8],\n",
      "       [ 8, 11],\n",
      "       [11,  2]]), 'tun_pos': array([[  1.337,  -3.651],\n",
      "       [ 10.991,  -2.04 ],\n",
      "       [-10.328,  18.17 ]])}}\n",
      "\n",
      "reference\n",
      "{'label': 8, 'vectors': {'seq': array([[12,  8],\n",
      "       [ 8, 11],\n",
      "       [11, 12],\n",
      "       [12,  8],\n",
      "       [ 8,  9],\n",
      "       [ 9, 12]]), 'ref_pos': array([[13.   , 15.   ],\n",
      "       [12.317,  8.32 ],\n",
      "       [19.   ,  7.   ],\n",
      "       [13.   , 15.   ],\n",
      "       [ 9.   , 18.   ],\n",
      "       [ 8.501, 22.486]])}}\n",
      "tuning\n",
      "{'label': 8, 'vectors': {'seq': array([[12,  8],\n",
      "       [ 8, 11],\n",
      "       [11, 12],\n",
      "       [12,  8],\n",
      "       [ 8,  9],\n",
      "       [ 9, 12]]), 'tun_pos': array([[-0.683, -6.68 ],\n",
      "       [ 6.683, -1.32 ],\n",
      "       [-6.   ,  8.   ],\n",
      "       [-4.   ,  3.   ],\n",
      "       [-0.499,  4.486],\n",
      "       [ 4.499, -7.486]])}}\n",
      "\n",
      "reference\n",
      "{'label': 9, 'vectors': {'seq': array([[ 2, 11],\n",
      "       [11,  8],\n",
      "       [ 8,  9],\n",
      "       [ 9,  7]]), 'ref_pos': array([[16.   , 24.989],\n",
      "       [18.   ,  8.   ],\n",
      "       [13.   ,  8.   ],\n",
      "       [ 8.443, 15.   ]])}}\n",
      "tuning\n",
      "{'label': 9, 'vectors': {'seq': array([[ 2, 11],\n",
      "       [11,  8],\n",
      "       [ 8,  9],\n",
      "       [ 9,  7]]), 'tun_pos': array([[  2.   , -16.989],\n",
      "       [ -5.   ,  -0.   ],\n",
      "       [ -4.557,   7.   ],\n",
      "       [  5.557,  -0.   ]])}}\n",
      "\n"
     ]
    }
   ],
   "source": [
    "# TRAIN MODEL\n",
    "train_digits = [1, 3, 5, 7, 2, 0, 13, 15, 17, 4]\n",
    "# train_digits = [1]\n",
    "# train_digits = [1, 42]\n",
    "labels = []\n",
    "x_ = []\n",
    "for d in train_digits:\n",
    "    seq = vectorize_digit(x_train[d] / 255., filters, do_plot=False, verbose=False)\n",
    "    x_.append(seq)\n",
    "    labels.append(y_train[d])\n",
    "# define norm-refere nce object\n",
    "NR = NormReferenced()\n",
    "\n",
    "# train reference and tuning vectors\n",
    "NR.fit(x_, labels)"
   ],
   "metadata": {
    "collapsed": false,
    "pycharm": {
     "name": "#%%\n"
    }
   }
  },
  {
   "cell_type": "code",
   "execution_count": 140,
   "outputs": [
    {
     "name": "stdout",
     "output_type": "stream",
     "text": [
      "Max of nb_primers is greater than 1! This could mean that the the filter is not normalized, imaged clamped to 1 to avoid issues with the center of activity\n",
      "Max of nb_primers is greater than 1! This could mean that the the filter is not normalized, imaged clamped to 1 to avoid issues with the center of activity\n",
      "Max of nb_primers is greater than 1! This could mean that the the filter is not normalized, imaged clamped to 1 to avoid issues with the center of activity\n",
      "Max of nb_primers is greater than 1! This could mean that the the filter is not normalized, imaged clamped to 1 to avoid issues with the center of activity\n",
      "Max of nb_primers is greater than 1! This could mean that the the filter is not normalized, imaged clamped to 1 to avoid issues with the center of activity\n",
      "Max of nb_primers is greater than 1! This could mean that the the filter is not normalized, imaged clamped to 1 to avoid issues with the center of activity\n",
      "Max of nb_primers is greater than 1! This could mean that the the filter is not normalized, imaged clamped to 1 to avoid issues with the center of activity\n",
      "Max of nb_primers is greater than 1! This could mean that the the filter is not normalized, imaged clamped to 1 to avoid issues with the center of activity\n",
      "Max of nb_primers is greater than 1! This could mean that the the filter is not normalized, imaged clamped to 1 to avoid issues with the center of activity\n",
      "Max of nb_primers is greater than 1! This could mean that the the filter is not normalized, imaged clamped to 1 to avoid issues with the center of activity\n",
      "Max of nb_primers is greater than 1! This could mean that the the filter is not normalized, imaged clamped to 1 to avoid issues with the center of activity\n",
      "Max of nb_primers is greater than 1! This could mean that the the filter is not normalized, imaged clamped to 1 to avoid issues with the center of activity\n",
      "Max of nb_primers is greater than 1! This could mean that the the filter is not normalized, imaged clamped to 1 to avoid issues with the center of activity\n",
      "Max of nb_primers is greater than 1! This could mean that the the filter is not normalized, imaged clamped to 1 to avoid issues with the center of activity\n",
      "Max of nb_primers is greater than 1! This could mean that the the filter is not normalized, imaged clamped to 1 to avoid issues with the center of activity\n",
      "Max of nb_primers is greater than 1! This could mean that the the filter is not normalized, imaged clamped to 1 to avoid issues with the center of activity\n",
      "Max of nb_primers is greater than 1! This could mean that the the filter is not normalized, imaged clamped to 1 to avoid issues with the center of activity\n",
      "Max of nb_primers is greater than 1! This could mean that the the filter is not normalized, imaged clamped to 1 to avoid issues with the center of activity\n",
      "Max of nb_primers is greater than 1! This could mean that the the filter is not normalized, imaged clamped to 1 to avoid issues with the center of activity\n",
      "Max of nb_primers is greater than 1! This could mean that the the filter is not normalized, imaged clamped to 1 to avoid issues with the center of activity\n",
      "Max of nb_primers is greater than 1! This could mean that the the filter is not normalized, imaged clamped to 1 to avoid issues with the center of activity\n",
      "Max of nb_primers is greater than 1! This could mean that the the filter is not normalized, imaged clamped to 1 to avoid issues with the center of activity\n",
      "Max of nb_primers is greater than 1! This could mean that the the filter is not normalized, imaged clamped to 1 to avoid issues with the center of activity\n",
      "Max of nb_primers is greater than 1! This could mean that the the filter is not normalized, imaged clamped to 1 to avoid issues with the center of activity\n",
      "Max of nb_primers is greater than 1! This could mean that the the filter is not normalized, imaged clamped to 1 to avoid issues with the center of activity\n",
      "Max of nb_primers is greater than 1! This could mean that the the filter is not normalized, imaged clamped to 1 to avoid issues with the center of activity\n",
      "Max of nb_primers is greater than 1! This could mean that the the filter is not normalized, imaged clamped to 1 to avoid issues with the center of activity\n",
      "Max of nb_primers is greater than 1! This could mean that the the filter is not normalized, imaged clamped to 1 to avoid issues with the center of activity\n",
      "Max of nb_primers is greater than 1! This could mean that the the filter is not normalized, imaged clamped to 1 to avoid issues with the center of activity\n",
      "Max of nb_primers is greater than 1! This could mean that the the filter is not normalized, imaged clamped to 1 to avoid issues with the center of activity\n",
      "Max of nb_primers is greater than 1! This could mean that the the filter is not normalized, imaged clamped to 1 to avoid issues with the center of activity\n",
      "Max of nb_primers is greater than 1! This could mean that the the filter is not normalized, imaged clamped to 1 to avoid issues with the center of activity\n",
      "Max of nb_primers is greater than 1! This could mean that the the filter is not normalized, imaged clamped to 1 to avoid issues with the center of activity\n",
      "Max of nb_primers is greater than 1! This could mean that the the filter is not normalized, imaged clamped to 1 to avoid issues with the center of activity\n",
      "Max of nb_primers is greater than 1! This could mean that the the filter is not normalized, imaged clamped to 1 to avoid issues with the center of activity\n",
      "Max of nb_primers is greater than 1! This could mean that the the filter is not normalized, imaged clamped to 1 to avoid issues with the center of activity\n",
      "Max of nb_primers is greater than 1! This could mean that the the filter is not normalized, imaged clamped to 1 to avoid issues with the center of activity\n",
      "Max of nb_primers is greater than 1! This could mean that the the filter is not normalized, imaged clamped to 1 to avoid issues with the center of activity\n",
      "Max of nb_primers is greater than 1! This could mean that the the filter is not normalized, imaged clamped to 1 to avoid issues with the center of activity\n",
      "Max of nb_primers is greater than 1! This could mean that the the filter is not normalized, imaged clamped to 1 to avoid issues with the center of activity\n",
      "Max of nb_primers is greater than 1! This could mean that the the filter is not normalized, imaged clamped to 1 to avoid issues with the center of activity\n",
      "Max of nb_primers is greater than 1! This could mean that the the filter is not normalized, imaged clamped to 1 to avoid issues with the center of activity\n",
      "Max of nb_primers is greater than 1! This could mean that the the filter is not normalized, imaged clamped to 1 to avoid issues with the center of activity\n",
      "Max of nb_primers is greater than 1! This could mean that the the filter is not normalized, imaged clamped to 1 to avoid issues with the center of activity\n",
      "Max of nb_primers is greater than 1! This could mean that the the filter is not normalized, imaged clamped to 1 to avoid issues with the center of activity\n",
      "Max of nb_primers is greater than 1! This could mean that the the filter is not normalized, imaged clamped to 1 to avoid issues with the center of activity\n",
      "Max of nb_primers is greater than 1! This could mean that the the filter is not normalized, imaged clamped to 1 to avoid issues with the center of activity\n",
      "Max of nb_primers is greater than 1! This could mean that the the filter is not normalized, imaged clamped to 1 to avoid issues with the center of activity\n",
      "Max of nb_primers is greater than 1! This could mean that the the filter is not normalized, imaged clamped to 1 to avoid issues with the center of activity\n",
      "Max of nb_primers is greater than 1! This could mean that the the filter is not normalized, imaged clamped to 1 to avoid issues with the center of activity\n",
      "Max of nb_primers is greater than 1! This could mean that the the filter is not normalized, imaged clamped to 1 to avoid issues with the center of activity\n",
      "Max of nb_primers is greater than 1! This could mean that the the filter is not normalized, imaged clamped to 1 to avoid issues with the center of activity\n",
      "Max of nb_primers is greater than 1! This could mean that the the filter is not normalized, imaged clamped to 1 to avoid issues with the center of activity\n",
      "Max of nb_primers is greater than 1! This could mean that the the filter is not normalized, imaged clamped to 1 to avoid issues with the center of activity\n",
      "Max of nb_primers is greater than 1! This could mean that the the filter is not normalized, imaged clamped to 1 to avoid issues with the center of activity\n",
      "Max of nb_primers is greater than 1! This could mean that the the filter is not normalized, imaged clamped to 1 to avoid issues with the center of activity\n",
      "Max of nb_primers is greater than 1! This could mean that the the filter is not normalized, imaged clamped to 1 to avoid issues with the center of activity\n",
      "Max of nb_primers is greater than 1! This could mean that the the filter is not normalized, imaged clamped to 1 to avoid issues with the center of activity\n",
      "Max of nb_primers is greater than 1! This could mean that the the filter is not normalized, imaged clamped to 1 to avoid issues with the center of activity\n",
      "Max of nb_primers is greater than 1! This could mean that the the filter is not normalized, imaged clamped to 1 to avoid issues with the center of activity\n",
      "Max of nb_primers is greater than 1! This could mean that the the filter is not normalized, imaged clamped to 1 to avoid issues with the center of activity\n",
      "Max of nb_primers is greater than 1! This could mean that the the filter is not normalized, imaged clamped to 1 to avoid issues with the center of activity\n",
      "Max of nb_primers is greater than 1! This could mean that the the filter is not normalized, imaged clamped to 1 to avoid issues with the center of activity\n",
      "Max of nb_primers is greater than 1! This could mean that the the filter is not normalized, imaged clamped to 1 to avoid issues with the center of activity\n",
      "Max of nb_primers is greater than 1! This could mean that the the filter is not normalized, imaged clamped to 1 to avoid issues with the center of activity\n",
      "Max of nb_primers is greater than 1! This could mean that the the filter is not normalized, imaged clamped to 1 to avoid issues with the center of activity\n",
      "Max of nb_primers is greater than 1! This could mean that the the filter is not normalized, imaged clamped to 1 to avoid issues with the center of activity\n",
      "Max of nb_primers is greater than 1! This could mean that the the filter is not normalized, imaged clamped to 1 to avoid issues with the center of activity\n",
      "Max of nb_primers is greater than 1! This could mean that the the filter is not normalized, imaged clamped to 1 to avoid issues with the center of activity\n",
      "Max of nb_primers is greater than 1! This could mean that the the filter is not normalized, imaged clamped to 1 to avoid issues with the center of activity\n",
      "Max of nb_primers is greater than 1! This could mean that the the filter is not normalized, imaged clamped to 1 to avoid issues with the center of activity\n",
      "Max of nb_primers is greater than 1! This could mean that the the filter is not normalized, imaged clamped to 1 to avoid issues with the center of activity\n",
      "Max of nb_primers is greater than 1! This could mean that the the filter is not normalized, imaged clamped to 1 to avoid issues with the center of activity\n",
      "Max of nb_primers is greater than 1! This could mean that the the filter is not normalized, imaged clamped to 1 to avoid issues with the center of activity\n",
      "Max of nb_primers is greater than 1! This could mean that the the filter is not normalized, imaged clamped to 1 to avoid issues with the center of activity\n",
      "Max of nb_primers is greater than 1! This could mean that the the filter is not normalized, imaged clamped to 1 to avoid issues with the center of activity\n",
      "Max of nb_primers is greater than 1! This could mean that the the filter is not normalized, imaged clamped to 1 to avoid issues with the center of activity\n",
      "Max of nb_primers is greater than 1! This could mean that the the filter is not normalized, imaged clamped to 1 to avoid issues with the center of activity\n",
      "Max of nb_primers is greater than 1! This could mean that the the filter is not normalized, imaged clamped to 1 to avoid issues with the center of activity\n",
      "Max of nb_primers is greater than 1! This could mean that the the filter is not normalized, imaged clamped to 1 to avoid issues with the center of activity\n",
      "Max of nb_primers is greater than 1! This could mean that the the filter is not normalized, imaged clamped to 1 to avoid issues with the center of activity\n",
      "Max of nb_primers is greater than 1! This could mean that the the filter is not normalized, imaged clamped to 1 to avoid issues with the center of activity\n",
      "Max of nb_primers is greater than 1! This could mean that the the filter is not normalized, imaged clamped to 1 to avoid issues with the center of activity\n",
      "Max of nb_primers is greater than 1! This could mean that the the filter is not normalized, imaged clamped to 1 to avoid issues with the center of activity\n",
      "Max of nb_primers is greater than 1! This could mean that the the filter is not normalized, imaged clamped to 1 to avoid issues with the center of activity\n",
      "Max of nb_primers is greater than 1! This could mean that the the filter is not normalized, imaged clamped to 1 to avoid issues with the center of activity\n",
      "Max of nb_primers is greater than 1! This could mean that the the filter is not normalized, imaged clamped to 1 to avoid issues with the center of activity\n",
      "Max of nb_primers is greater than 1! This could mean that the the filter is not normalized, imaged clamped to 1 to avoid issues with the center of activity\n",
      "Max of nb_primers is greater than 1! This could mean that the the filter is not normalized, imaged clamped to 1 to avoid issues with the center of activity\n",
      "Max of nb_primers is greater than 1! This could mean that the the filter is not normalized, imaged clamped to 1 to avoid issues with the center of activity\n",
      "Max of nb_primers is greater than 1! This could mean that the the filter is not normalized, imaged clamped to 1 to avoid issues with the center of activity\n",
      "Max of nb_primers is greater than 1! This could mean that the the filter is not normalized, imaged clamped to 1 to avoid issues with the center of activity\n",
      "Max of nb_primers is greater than 1! This could mean that the the filter is not normalized, imaged clamped to 1 to avoid issues with the center of activity\n",
      "Max of nb_primers is greater than 1! This could mean that the the filter is not normalized, imaged clamped to 1 to avoid issues with the center of activity\n",
      "Max of nb_primers is greater than 1! This could mean that the the filter is not normalized, imaged clamped to 1 to avoid issues with the center of activity\n",
      "Max of nb_primers is greater than 1! This could mean that the the filter is not normalized, imaged clamped to 1 to avoid issues with the center of activity\n",
      "Max of nb_primers is greater than 1! This could mean that the the filter is not normalized, imaged clamped to 1 to avoid issues with the center of activity\n",
      "Max of nb_primers is greater than 1! This could mean that the the filter is not normalized, imaged clamped to 1 to avoid issues with the center of activity\n",
      "Max of nb_primers is greater than 1! This could mean that the the filter is not normalized, imaged clamped to 1 to avoid issues with the center of activity\n",
      "Max of nb_primers is greater than 1! This could mean that the the filter is not normalized, imaged clamped to 1 to avoid issues with the center of activity\n",
      "Max of nb_primers is greater than 1! This could mean that the the filter is not normalized, imaged clamped to 1 to avoid issues with the center of activity\n",
      "Max of nb_primers is greater than 1! This could mean that the the filter is not normalized, imaged clamped to 1 to avoid issues with the center of activity\n",
      "Max of nb_primers is greater than 1! This could mean that the the filter is not normalized, imaged clamped to 1 to avoid issues with the center of activity\n",
      "Max of nb_primers is greater than 1! This could mean that the the filter is not normalized, imaged clamped to 1 to avoid issues with the center of activity\n",
      "Max of nb_primers is greater than 1! This could mean that the the filter is not normalized, imaged clamped to 1 to avoid issues with the center of activity\n",
      "Max of nb_primers is greater than 1! This could mean that the the filter is not normalized, imaged clamped to 1 to avoid issues with the center of activity\n",
      "Max of nb_primers is greater than 1! This could mean that the the filter is not normalized, imaged clamped to 1 to avoid issues with the center of activity\n",
      "Max of nb_primers is greater than 1! This could mean that the the filter is not normalized, imaged clamped to 1 to avoid issues with the center of activity\n",
      "Max of nb_primers is greater than 1! This could mean that the the filter is not normalized, imaged clamped to 1 to avoid issues with the center of activity\n",
      "Max of nb_primers is greater than 1! This could mean that the the filter is not normalized, imaged clamped to 1 to avoid issues with the center of activity\n",
      "Max of nb_primers is greater than 1! This could mean that the the filter is not normalized, imaged clamped to 1 to avoid issues with the center of activity\n",
      "Max of nb_primers is greater than 1! This could mean that the the filter is not normalized, imaged clamped to 1 to avoid issues with the center of activity\n",
      "Max of nb_primers is greater than 1! This could mean that the the filter is not normalized, imaged clamped to 1 to avoid issues with the center of activity\n",
      "Max of nb_primers is greater than 1! This could mean that the the filter is not normalized, imaged clamped to 1 to avoid issues with the center of activity\n",
      "Max of nb_primers is greater than 1! This could mean that the the filter is not normalized, imaged clamped to 1 to avoid issues with the center of activity\n",
      "Max of nb_primers is greater than 1! This could mean that the the filter is not normalized, imaged clamped to 1 to avoid issues with the center of activity\n",
      "Max of nb_primers is greater than 1! This could mean that the the filter is not normalized, imaged clamped to 1 to avoid issues with the center of activity\n",
      "Max of nb_primers is greater than 1! This could mean that the the filter is not normalized, imaged clamped to 1 to avoid issues with the center of activity\n",
      "Max of nb_primers is greater than 1! This could mean that the the filter is not normalized, imaged clamped to 1 to avoid issues with the center of activity\n",
      "Max of nb_primers is greater than 1! This could mean that the the filter is not normalized, imaged clamped to 1 to avoid issues with the center of activity\n",
      "Max of nb_primers is greater than 1! This could mean that the the filter is not normalized, imaged clamped to 1 to avoid issues with the center of activity\n",
      "Max of nb_primers is greater than 1! This could mean that the the filter is not normalized, imaged clamped to 1 to avoid issues with the center of activity\n",
      "Max of nb_primers is greater than 1! This could mean that the the filter is not normalized, imaged clamped to 1 to avoid issues with the center of activity\n",
      "Max of nb_primers is greater than 1! This could mean that the the filter is not normalized, imaged clamped to 1 to avoid issues with the center of activity\n",
      "Max of nb_primers is greater than 1! This could mean that the the filter is not normalized, imaged clamped to 1 to avoid issues with the center of activity\n",
      "Max of nb_primers is greater than 1! This could mean that the the filter is not normalized, imaged clamped to 1 to avoid issues with the center of activity\n",
      "Max of nb_primers is greater than 1! This could mean that the the filter is not normalized, imaged clamped to 1 to avoid issues with the center of activity\n",
      "Max of nb_primers is greater than 1! This could mean that the the filter is not normalized, imaged clamped to 1 to avoid issues with the center of activity\n",
      "Max of nb_primers is greater than 1! This could mean that the the filter is not normalized, imaged clamped to 1 to avoid issues with the center of activity\n",
      "Max of nb_primers is greater than 1! This could mean that the the filter is not normalized, imaged clamped to 1 to avoid issues with the center of activity\n",
      "Max of nb_primers is greater than 1! This could mean that the the filter is not normalized, imaged clamped to 1 to avoid issues with the center of activity\n",
      "Max of nb_primers is greater than 1! This could mean that the the filter is not normalized, imaged clamped to 1 to avoid issues with the center of activity\n",
      "Max of nb_primers is greater than 1! This could mean that the the filter is not normalized, imaged clamped to 1 to avoid issues with the center of activity\n",
      "Max of nb_primers is greater than 1! This could mean that the the filter is not normalized, imaged clamped to 1 to avoid issues with the center of activity\n",
      "Max of nb_primers is greater than 1! This could mean that the the filter is not normalized, imaged clamped to 1 to avoid issues with the center of activity\n",
      "Max of nb_primers is greater than 1! This could mean that the the filter is not normalized, imaged clamped to 1 to avoid issues with the center of activity\n",
      "Max of nb_primers is greater than 1! This could mean that the the filter is not normalized, imaged clamped to 1 to avoid issues with the center of activity\n",
      "Max of nb_primers is greater than 1! This could mean that the the filter is not normalized, imaged clamped to 1 to avoid issues with the center of activity\n",
      "Max of nb_primers is greater than 1! This could mean that the the filter is not normalized, imaged clamped to 1 to avoid issues with the center of activity\n",
      "Max of nb_primers is greater than 1! This could mean that the the filter is not normalized, imaged clamped to 1 to avoid issues with the center of activity\n",
      "Max of nb_primers is greater than 1! This could mean that the the filter is not normalized, imaged clamped to 1 to avoid issues with the center of activity\n",
      "Max of nb_primers is greater than 1! This could mean that the the filter is not normalized, imaged clamped to 1 to avoid issues with the center of activity\n",
      "Max of nb_primers is greater than 1! This could mean that the the filter is not normalized, imaged clamped to 1 to avoid issues with the center of activity\n",
      "Max of nb_primers is greater than 1! This could mean that the the filter is not normalized, imaged clamped to 1 to avoid issues with the center of activity\n",
      "Max of nb_primers is greater than 1! This could mean that the the filter is not normalized, imaged clamped to 1 to avoid issues with the center of activity\n",
      "Max of nb_primers is greater than 1! This could mean that the the filter is not normalized, imaged clamped to 1 to avoid issues with the center of activity\n",
      "Max of nb_primers is greater than 1! This could mean that the the filter is not normalized, imaged clamped to 1 to avoid issues with the center of activity\n",
      "Max of nb_primers is greater than 1! This could mean that the the filter is not normalized, imaged clamped to 1 to avoid issues with the center of activity\n",
      "Max of nb_primers is greater than 1! This could mean that the the filter is not normalized, imaged clamped to 1 to avoid issues with the center of activity\n",
      "Max of nb_primers is greater than 1! This could mean that the the filter is not normalized, imaged clamped to 1 to avoid issues with the center of activity\n",
      "Max of nb_primers is greater than 1! This could mean that the the filter is not normalized, imaged clamped to 1 to avoid issues with the center of activity\n",
      "Max of nb_primers is greater than 1! This could mean that the the filter is not normalized, imaged clamped to 1 to avoid issues with the center of activity\n",
      "Max of nb_primers is greater than 1! This could mean that the the filter is not normalized, imaged clamped to 1 to avoid issues with the center of activity\n",
      "Max of nb_primers is greater than 1! This could mean that the the filter is not normalized, imaged clamped to 1 to avoid issues with the center of activity\n",
      "Max of nb_primers is greater than 1! This could mean that the the filter is not normalized, imaged clamped to 1 to avoid issues with the center of activity\n",
      "Max of nb_primers is greater than 1! This could mean that the the filter is not normalized, imaged clamped to 1 to avoid issues with the center of activity\n",
      "Max of nb_primers is greater than 1! This could mean that the the filter is not normalized, imaged clamped to 1 to avoid issues with the center of activity\n",
      "Max of nb_primers is greater than 1! This could mean that the the filter is not normalized, imaged clamped to 1 to avoid issues with the center of activity\n",
      "Max of nb_primers is greater than 1! This could mean that the the filter is not normalized, imaged clamped to 1 to avoid issues with the center of activity\n",
      "Max of nb_primers is greater than 1! This could mean that the the filter is not normalized, imaged clamped to 1 to avoid issues with the center of activity\n",
      "preds (10000,)\n"
     ]
    }
   ],
   "source": [
    "# TEST MODEL\n",
    "# predict data\n",
    "preds = []\n",
    "for i in range(10000):\n",
    "    test_image = x_test[i] / 255.\n",
    "    seq = vectorize_digit(test_image, filters, do_plot=False, verbose=False)\n",
    "\n",
    "    # fig = plt.figure()\n",
    "    # plt.title(\"Input {}\".format(y_test[i]))\n",
    "    # rgb_im = np.repeat(np.expand_dims(test_image, axis=2), 3, axis=2)\n",
    "    # plt.imshow(rgb_im)\n",
    "\n",
    "    pred = NR.predict(seq, verbose=False)\n",
    "\n",
    "    preds.append(pred)\n",
    "\n",
    "print(\"preds\", np.shape(preds))\n",
    "if len(preds) < 10:\n",
    "    print(preds)"
   ],
   "metadata": {
    "collapsed": false,
    "pycharm": {
     "name": "#%%\n"
    }
   }
  },
  {
   "cell_type": "code",
   "execution_count": 141,
   "outputs": [
    {
     "name": "stdout",
     "output_type": "stream",
     "text": [
      "accuracy: 0.4095 (n_correct: 4095, n_total: 10000)\n"
     ]
    }
   ],
   "source": [
    "# test prediction accuracy\n",
    "n_correct = 0\n",
    "for i, pred in enumerate(preds):\n",
    "    if pred == y_test[i]:\n",
    "        n_correct += 1\n",
    "\n",
    "accuracy = n_correct / len(preds)\n",
    "print(\"accuracy: {} (n_correct: {}, n_total: {})\".format(accuracy, n_correct, len(preds)))"
   ],
   "metadata": {
    "collapsed": false,
    "pycharm": {
     "name": "#%%\n"
    }
   }
  },
  {
   "cell_type": "markdown",
   "source": [
    "# TEST MULTI SCALE PRIMERS"
   ],
   "metadata": {
    "collapsed": false,
    "pycharm": {
     "name": "#%% md\n"
    }
   }
  },
  {
   "cell_type": "code",
   "execution_count": 37,
   "outputs": [
    {
     "name": "stdout",
     "output_type": "stream",
     "text": [
      "shape filter_top_t (9, 7, 7)\n",
      "shape filter_top_t (7, 7, 1, 9)\n",
      "[[0.    0.    0.    0.188 0.996 0.471 0.   ]\n",
      " [0.    0.    0.    0.714 0.996 0.063 0.   ]\n",
      " [0.    0.    0.    0.812 0.996 0.063 0.   ]\n",
      " [0.    0.    0.    0.812 0.792 0.012 0.   ]\n",
      " [0.    0.    0.11  0.973 0.667 0.    0.   ]\n",
      " [0.    0.    0.42  0.996 0.239 0.    0.   ]\n",
      " [0.    0.    0.651 0.988 0.118 0.    0.   ]]\n",
      "shape test_image (1, 28, 28, 1)\n",
      "shape primers (1, 28, 28, 9)\n",
      "min max prim0 (28, 28) 0.0 0.5500001\n",
      "min max prim1 (28, 28) 0.0 0.63455886\n",
      "min max prim2 (28, 28) 0.0 0.6169118\n",
      "min max prim3 (28, 28) 0.0 0.39411762\n",
      "min max prim4 (28, 28) 0.0 0.58267975\n",
      "min max prim5 (28, 28) 0.0 0.49557462\n",
      "min max prim6 (28, 28) 0.0 0.6623072\n",
      "min max prim7 (28, 28) 0.0 0.5728177\n",
      "min max prim8 (28, 28) 0.0 0.73355234\n",
      "shape max_prim (28, 28)\n"
     ]
    },
    {
     "data": {
      "text/plain": "<matplotlib.image.AxesImage at 0x11e978f60>"
     },
     "execution_count": 37,
     "metadata": {},
     "output_type": "execute_result"
    },
    {
     "data": {
      "text/plain": "<Figure size 432x288 with 1 Axes>",
      "image/png": "[encoded data removed]"
     },
     "metadata": {
      "needs_background": "light"
     },
     "output_type": "display_data"
    },
    {
     "data": {
      "text/plain": "<Figure size 432x288 with 10 Axes>",
      "image/png": "[encoded data removed]"
     },
     "metadata": {
      "needs_background": "light"
     },
     "output_type": "display_data"
    },
    {
     "data": {
      "text/plain": "<Figure size 432x288 with 10 Axes>",
      "image/png": "[encoded data removed]"
     },
     "metadata": {
      "needs_background": "light"
     },
     "output_type": "display_data"
    }
   ],
   "source": [
    "# end primers\n",
    "large = np.array([[-2., -2., -2., -2., -2., -2., -2.],\n",
    "                  [-2., -2., -2., -2., -1., -2., -2.],\n",
    "                  [-2., -.5, -.5, -.5, -.5, -.5, -2.],\n",
    "                  [-2., -.5, 1.0, 1.0, 1.0, -.5, -2.],\n",
    "                  [-2., 0.0, 1.0, 1.0, 1.0, 0.0, -2.],\n",
    "                  [-2., 0.0, 1.0, 1.0, 1.0, 0.0, -2.],\n",
    "                  [-2., 0.0, 1.0, 1.0, 1.0, 0.0, -2.]]) / 12\n",
    "\n",
    "medium = np.array([[-1., -1., -1., -1., -1., -1., -1.],\n",
    "                   [-1., -1., -.5, -.5, -1., -1., -1.],\n",
    "                   [-1., -.5, 0.0, 0.0, -.5, -1., -1.],\n",
    "                   [-1., 0.0, 1.0, 1.0, 0.0, -1., -1.],\n",
    "                   [-1., 0.0, 1.0, 1.0, 0.0, -1., -1.],\n",
    "                   [-.5, 0.0, 1.0, 1.0, 0.0, -.5, -1.],\n",
    "                   [-.5, 0.0, 1.0, 1.0, 0.0, -.5, -1.]]) / 8\n",
    "\n",
    "medium_shift_left = np.array([[-1., -1., -1., -1., -1., -1., -1.],\n",
    "                              [-1., -1., -1., -1., -1., -1., -1.],\n",
    "                              [-1., -.5, -.5, -.5, -.5, -1., -1.],\n",
    "                              [-1., -.5, 1.0, 1.0, -.5, -.5, -1.],\n",
    "                              [-1., -.5, -.5, 1.0, 1.0, -.5, -1.],\n",
    "                              [-1., -1., -.5, 1.0, 1.0, -.5, -1.],\n",
    "                              [-1., -1., -.5, 0.0, 1.0, 1.0, -1.]]) / 8\n",
    "\n",
    "medium_shift_right = np.array([[-1., -1., -1., -1., -1., -1., -1.],\n",
    "                               [-1., -1., -1., -1., -1., -1., -1.],\n",
    "                               [-1., -1., -.5, -.5, -.5, -.5, -1.],\n",
    "                               [-1., -.5, -.5, 1.0, 1.0, -.5, -1.],\n",
    "                               [-1., -.5, 1.0, 1.0, -.5, -.5, -1.],\n",
    "                               [-1., -.5, 1.0, 1.0, -.5, -1., -1.],\n",
    "                               [-.5, 1.0, 1.0, 0.0, -.5, -1.0, -1.]]) / 8\n",
    "\n",
    "small_shift_left = np.array([[-1., -1., -1., -1., -1., -1., -1.],\n",
    "                             [-1., -1., -.5, -1., -1., -1., -1.],\n",
    "                             [-1., -.5, 0.0, 0.0, -.5, -1., -1.],\n",
    "                             [-.5, 0.0, 1.0, 1.0, -.5, -.5, -1.],\n",
    "                             [-1., -.5, 1.0, 1.0, 1.0, -.5, -1.],\n",
    "                             [-1., -.5, 1.0, 1.0, 1.0, 1.0, -.5],\n",
    "                             [-1., -1., -.5, 1.0, 1.0, 1.0, -.5]]) / 12\n",
    "\n",
    "custom1 = np.array([[-1., -1., -1., -1., -1., -1., -1.],\n",
    "                               [-1., -1., -1., -1., -1., -1., -1.],\n",
    "                               [-1., -1., -1., -1., -1., -1., -1.],\n",
    "                               [-1., -1., -1., 0.03, 0.03, -1., -1.],\n",
    "                               [-1., -1., 0.3, 0.9, 0.3, -1., -1.],\n",
    "                               [-1., -1., 0.7, 1.0, 0.3, -1., -1.],\n",
    "                               [-1., 0.5, 0.9, 0.8, -1., -1., -1.]]) / 5.76\n",
    "\n",
    "custom2 = np.array([[-1., -1., -1., -1., -1., -1., -1.],\n",
    "                    [-1., -1., 0.153, 0.627, -1., -1., -1.],\n",
    "                    [-1., -1., 0.486, 0.945, 0.125, -1., -1.],\n",
    "                    [-1., -1., 0.263, 0.996, 0.204, -1., -1.],\n",
    "                    [-1., -1., 0.078, 0.882, 0.498, -1., -1.],\n",
    "                    [-1., -1., -1., 0.812, 0.875, -1., -1.],\n",
    "                    [-1., -1., -1., 0.616, 0.875, -1., -1.]]) / 8.435\n",
    "\n",
    "custom3 = np.array([[-1., -1., -1., -1., -1., -1., -1.],\n",
    "                    [-1., 0.157, 0.067, 0., -1., -1., -1.],\n",
    "                    [-2., 0.98, 0.561, 0., -1., -1., -1.],\n",
    "                    [-2., 0.663, 0.867, 0.039, -2., -1., -1.],\n",
    "                    [-2., 0.133, 0.949, 0.561, 0.008, -2., -1.],\n",
    "                    [-1., -2., 0.227, 0.969, 0.722, 0.055, -1.],\n",
    "                    [-1., -1., -2., 0.294, 0.961, 0.784, 0.11]]) / 9.107\n",
    "\n",
    "custom4 = np.array([[-2.  , -3.  , -1.  , -1.  , 0.   , 0.   , 0.0],\n",
    "                     [-2.  , 0.051, 0.22 , 0.024, -1.  , -1.  , -1.   ],\n",
    "                     [-1.  , 0.075, 1.   , 1.   , 0.376, -1.  , -1.   ],\n",
    "                     [-1.  , -1.  , -1.  , 1.   , 1.   , -2.  , -1.  ],\n",
    "                     [-1.  , -1.  , -1.  , 0.051, 1.   , 0.251, -1.  ],\n",
    "                     [-1.  , -1.  , -1.  , 0.341, 1.   , 0.169, -1.  ],\n",
    "                     [0.   , 0.   , 0.   , 0.   , 0.   , 0.   , 0.   ]])/6.5\n",
    "# custom4 = np.rot90(custom4, 3)\n",
    "# print(\"custom4\", np.sum(custom4))\n",
    "# print(custom4)\n",
    "\n",
    "\n",
    "# # T primers\n",
    "# large = np.array([[-1., -1., -1., -1., -1., -1., -1.],\n",
    "#                      [0.0, -.5, -.5, -.5, -.5, -.5, 0.0],\n",
    "#                      [1.0, 1.0, 1.0, 1.0, 1.0, 1.0, 1.0],\n",
    "#                      [1.0, 1.0, 1.0, 1.0, 1.0, 1.0, 1.0],\n",
    "#                      [1.0, 1.0, 1.0, 1.0, 1.0, 1.0, 1.0],\n",
    "#                      [-2., -3., 1.0, 1.0, 1.0, -3., -2.],\n",
    "#                      [-6., 0.0, 1.0, 1.0, 1.0, 0.0, -6.]]) / 27\n",
    "#\n",
    "# medium = np.array([[-1., -1., -2., -2., -1., -1., 0.0],\n",
    "#                      [-.5, -.5, -1., -1., -.5, -.5, 0.0],\n",
    "#                      [1.0, 1.0, 1.0, 1.0, 1.0, 1.0, 0.0],\n",
    "#                      [1.0, 1.0, 1.0, 1.0, 1.0, 1.0, 0.0],\n",
    "#                      [-1., -2., 1.0, 1.0, -2., -1., 0.0],\n",
    "#                      [-1., -1., 1.0, 1.0, -1., -1., 0.0],\n",
    "#                      [-2., 0.0, 1.0, 1.0, 0.0, -2., 0.0]]) / 18\n",
    "#\n",
    "# medium_shift_left = np.array([[1.0, -.5, -1., -2., -1., -1., 0.0],\n",
    "#                               [1.0, 1.0, -1., -1., -.5, -.5, 0.0],\n",
    "#                               [0.0, 1.0, 1.0, 1.0, 1.0, 1.0, 0.0],\n",
    "#                               [-.5, 0.0, 1.0, 1.0, 1.0, 1.0, 0.0],\n",
    "#                               [-1., -2., 1.0, 1.0, -1., -1., 0.0],\n",
    "#                               [-1., -1., 1.0, 1.0, -.5, -1., 0.0],\n",
    "#                               [-2., -1., 0.0, 1.0, 1.0, -1., 0.0]]) / 18\n",
    "#\n",
    "# medium_shift_right = np.zeros((7, 7))\n",
    "# small_shift_left = np.zeros((7, 7))\n",
    "\n",
    "# # corner primers\n",
    "# large = np.array([[-4., -4., -4., -4., -4., -4., -2.],\n",
    "#                          [-4., -2., -2., -2., -2., -2., 0.0],\n",
    "#                          [-4., -2., 1.0, 1.0, 1.0, 1.0, 1.0],\n",
    "#                          [-4., -2., 1.0, 1.0, 1.0, 1.0, 1.0],\n",
    "#                          [-4., -2., 1.0, 1.0, 1.0, 1.0, 1.0],\n",
    "#                          [-4., -2., 1.0, 1.0, 1.0, -1., 0.0],\n",
    "#                          [-2., 0.0, 1.0, 1.0, 1.0, 0.0, -2.]]) / 21\n",
    "#\n",
    "# medium =  np.array([[-2., -2., -2., -2., -2., -2., -2.],\n",
    "#                      [-2., -1., -1., -.5, -.5, -.5, 0.0],\n",
    "#                      [-2., -1., 1.0, 1.0, 1.0, 1.0, 0.5],\n",
    "#                      [-2., -.5, 1.0, 1.0, 1.0, 1.0, 0.5],\n",
    "#                      [-2., -.5, 1.0, 1.0, -.5, -.5, 0.0],\n",
    "#                      [-2., 0.0, 1.0, 1.0, -.5, -1., -1.],\n",
    "#                      [0.0, 0.0, 0.5, 0.5, 0.0, -1., 0.0]]) / 13\n",
    "#\n",
    "#\n",
    "# medium_shift_left = np.array([[-2., -2., -2., -2., -1., 0.0, 1.0],\n",
    "#                             [-2., -1., -1., -.5, 1.0, 1.0, 1.0],\n",
    "#                             [-2., -1., 0.0, 1.0, 1.0, 1.0, 0.0],\n",
    "#                             [-2., -.5, 1.0, 1.0, -.5, -1., 0.0],\n",
    "#                             [-1., -.5, 1.0, 1.0, -.5, -1., 0.0],\n",
    "#                             [-1., 0.0, 1.0, 1.0, 0.0, -1., 0.0],\n",
    "#                             [-1., 0.0, 0.0, 0.0, 0.0, 0.0, 0.0]]) / 14\n",
    "#\n",
    "# medium_shift_right =  np.array([[-2., -2., -1., -1., -1., -.5, 0.0],\n",
    "#                                 [-1., -1., -1., -1., -.5, -.5, 0.0],\n",
    "#                                 [-1., -.5, 1.0, 1.0, 1.0, 1.0, 0.0],\n",
    "#                                 [-1., 0.0, 1.0, 1.0, 1.0, 1.0, 0.0],\n",
    "#                                 [-1., 1.0, 1.0, 0.0, -1., -1., 0.0],\n",
    "#                                 [-.5, 1.0, 1.0, -.5, -1., -1., 0.0],\n",
    "#                                 [0.0, 0.0, 0.0, 0.0, 0.0, 0.0, 0.0]]) / 12\n",
    "#\n",
    "# small_shift_left = np.array([[-2., -2., -2., -2., -1., 0.0, 0.0],\n",
    "#                              [-2., -1., -1., -1., 0.0, 1.0, 0.0],\n",
    "#                              [-2., -1., 0.0, 1.0, 1.0, 0.0, 0.0],\n",
    "#                              [-2., -.5, 1.0, 1.0, -.5, -1., 0.0],\n",
    "#                              [-1., -.5, 1.0, 0.0, -.5, -1., 0.0],\n",
    "#                              [-1., 0.0, 1.0, 0.0, 0.0, -1., 0.0],\n",
    "#                              [-1., 0.0, 0.0, 0.0, 0.0, 0.0, 0.0]]) / 7\n",
    "#\n",
    "# custom1 = np.array([[-5.,    0.125, 0.051, 0.075, -5.   , -5.    ,-5.   ],\n",
    "#                      [-5.,    0.898, 0.843, 0.737, 0.361, 0.031, -5.   ],\n",
    "#                      [-5.,    0.796, 0.996, 1.   , 0.996, 0.914, 0.416],\n",
    "#                      [-5.,    0.043, 0.373, 0.686, 0.992, 0.992, 0.957],\n",
    "#                      [-5.,    -1.   , 0.118, 0.522, 0.992, 0.914, 0.996],\n",
    "#                      [-5.,    -1.   , 0.184, 0.992, 0.894, 0.188, 0.667],\n",
    "#                      [-5.,    -1.   , 0.184, 0.992, 0.631, -10.   , 0.141]]) / 20.7\n",
    "#\n",
    "# custom2 = np.zeros((7, 7))\n",
    "\n",
    "# # cross primers\n",
    "# large = np.array([[-1., 0.0, 0.0, 1.0, 0.0, 0.0, -1.],\n",
    "#                   [0.0, 0.0, 0.0, 1.0, 0.0, 0.0, 0.0],\n",
    "#                   [0.0, 0.0, 0.0, 1.0, 0.0, 0.0, 0.0],\n",
    "#                   [1.0, 1.0, 1.0, 1.0, 1.0, 1.0, 1.0],\n",
    "#                   [0.0, 0.0, 0.0, 1.0, 0.0, 0.0, 0.0],\n",
    "#                   [0.0, 0.0, 0.0, 1.0, 0.0, 0.0, 0.0],\n",
    "#                   [-1., 0.0, 0.0, 1.0, 0.0, 0.0, -1.]]) / 17\n",
    "#\n",
    "# medium = np.array([[1.0, 0.0, -1., -1., -1., 0.0, 1.0],\n",
    "#                    [0.0, 1.0, 0.0, 0.0, 0.0, 1.0, 0.0],\n",
    "#                    [-1., 0.0, 1.0, 0.0, 1.0, 0.0, -1.],\n",
    "#                    [-1., 0.0, 0.0, 1.0, 0.0, 0.0, -1.],\n",
    "#                    [-1., 0.0, 1.0, 0.0, 1.0, 0.0, -1.],\n",
    "#                    [0.0, 1.0, 0.0, 0.0, 0.0, 1.0, 0.0],\n",
    "#                    [1.0, 0.0, -1., -1., -1., 0.0, 1.0]]) / 12\n",
    "#\n",
    "# medium_shift_left = np.array([[1.0, 0.0, 0.0, -1.5, 0.0, 0.0, 1.0],\n",
    "#                                [0.0, 1.0, 0.0, 0.0, 0.0, 1.0, 0.0],\n",
    "#                                [0.0, 0.0, 1.0, 1.0, 1.0, 0.0, 0.0],\n",
    "#                                [-1.5, 0.0, 1.0, 1.0, 1.0, 0.0, -1.5],\n",
    "#                                [0.0, 0.0, 1.0, 1.0, 1.0, 0.0, 0.0],\n",
    "#                                [0.0, 1.0, 0.0, 0.0, 0.0, 1.0, 0.0],\n",
    "#                                [1.0, 0.0, 0.0, -1.5, 0.0, 0.0, 1.0]]) / 17\n",
    "#\n",
    "# medium_shift_right = np.array([[0.0, 0.0, -2., -2., -1., 0.0, 1.0],\n",
    "#                                [0.0, 0.0, 0.0, 0.0, 0.0, 1.0, 0.0],\n",
    "#                                [1.0, 1.0, 1.0, 0.0, 1.0, 0.0, -2.],\n",
    "#                                [0.0, 0.0, 1.0, 1.0, 1.0, 0.0, 0.0],\n",
    "#                                [-2., 0.0, 1.0, 0.0, 1.0, 1.0, 1.0],\n",
    "#                                [0.0, 1.0, 0.0, 0.0, 0.0, 0.0, 0.0],\n",
    "#                                [1.0, 0.0, -1., -2., -2., 0.0, 0.0]]) / 15\n",
    "# small_shift_left = np.zeros((7, 7))\n",
    "# custom1 = np.array([[-5.    ,-5.    ,0.027 ,0.843 , 0.996, 0.502, -5.   ],\n",
    "#                      [-5.   ,-5.    ,0.153 ,0.996 , 0.996, 0.22 , -5.   ],\n",
    "#                      [0.027, 0.137, 0.384, 0.996, 0.996, 0.816, 0.616],\n",
    "#                      [0.831, 0.996, 0.996, 0.996, 0.996, 0.984, 0.875],\n",
    "#                      [0.894, 0.98 , 0.996, 0.996, 0.604, 0.196, -5.   ],\n",
    "#                      [-5.   , 0.847, 0.996, 0.863, 0.047, -5.   , -5.   ],\n",
    "#                      [0.537, 0.957, 0.91 , 0.196, -5.   , -5.   , -5.   ]]) / 25.398\n",
    "# custom2 = np.zeros((7, 7))\n",
    "\n",
    "# filter_top_t = np.array([large, medium])\n",
    "filter_top_t = np.array([large, medium, medium_shift_left, medium_shift_right, small_shift_left, custom1, custom2, custom3, custom4])\n",
    "print(\"shape filter_top_t\", np.shape(filter_top_t))\n",
    "\n",
    "num_rotate = 1\n",
    "filter_top_t = np.rot90(filter_top_t, num_rotate, axes=(1, 2))\n",
    "\n",
    "filter_top_t = np.expand_dims(filter_top_t, axis=3)\n",
    "filter_top_t = np.moveaxis(filter_top_t, 0, -1)\n",
    "print(\"shape filter_top_t\", np.shape(filter_top_t))\n",
    "n_filters = np.shape(filter_top_t)[-1]\n",
    "\n",
    "# convert to tf\n",
    "tf.convert_to_tensor(filter_top_t, dtype='float32')\n",
    "\n",
    "# load image\n",
    "# idx = 0  # label 5\n",
    "# idx = 1  # label 0\n",
    "# idx = 2  # label 4\n",
    "# idx = 3  # label 1\n",
    "# idx = 4  # label 9\n",
    "# idx = 5  # label 2\n",
    "# idx = 7  # label 3\n",
    "# # idx = 8  # label 1\n",
    "# idx = 9  # label 4\n",
    "# idx = 10  # label 3\n",
    "# idx = 11  # label 5\n",
    "# # idx = 12  # label 3\n",
    "# idx = 13  # label 6\n",
    "# idx = 16  # label 2\n",
    "# idx = 17  # label 8\n",
    "# idx = 18  # label 6\n",
    "idx = 42  # label 7\n",
    "test_image = x_train[idx] / 255.\n",
    "\n",
    "# plot image\n",
    "fig = plt.figure()\n",
    "plt.imshow(test_image, cmap='Greys')\n",
    "print(test_image[11:18, 12:19])\n",
    "\n",
    "# transform to fit tf\n",
    "test_image = np.expand_dims(test_image, axis=[0, 3])\n",
    "print(\"shape test_image\", np.shape(test_image))\n",
    "test_image = tf.convert_to_tensor(test_image, dtype='float32')\n",
    "\n",
    "\n",
    "# apply convolution\n",
    "primers = tf.nn.conv2d(test_image, filter_top_t, strides=1, padding='SAME', name=\"conv1\")\n",
    "primers = primers.numpy()\n",
    "print(\"shape primers\", np.shape(primers))\n",
    "\n",
    "# apply relu activation\n",
    "for i in range(n_filters):\n",
    "    prim = primers[0, ..., i]\n",
    "    prim[prim < 0] = 0\n",
    "    print(\"min max prim{} {}\".format(i, np.shape(prim)), np.amin(prim), np.amax(prim))\n",
    "max_prim = np.amax(primers, axis=(0, -1))\n",
    "print(\"shape max_prim\", np.shape(max_prim))\n",
    "\n",
    "plt.figure()\n",
    "\n",
    "for i in range(n_filters):\n",
    "    plt.subplot(2, (n_filters + 1)/2, i + 1)\n",
    "    plt.imshow(primers[0, ..., i], cmap='Greys')\n",
    "\n",
    "plt.subplot(2, (n_filters + 1)/2, i + 2)\n",
    "plt.imshow(max_prim, cmap='Greys')\n",
    "\n",
    "threshold = 0.7\n",
    "\n",
    "for i in range(n_filters):\n",
    "    prim = primers[0, ..., i]\n",
    "    prim[prim < threshold] = 0\n",
    "max_prim[max_prim < threshold] = 0\n",
    "\n",
    "plt.figure()\n",
    "for i in range(n_filters):\n",
    "    plt.subplot(2, (n_filters + 1)/2, i + 1)\n",
    "    plt.imshow(primers[0, ..., i], cmap='Greys')\n",
    "\n",
    "plt.subplot(2, (n_filters + 1)/2, i + 2)\n",
    "plt.imshow(max_prim, cmap='Greys')"
   ],
   "metadata": {
    "collapsed": false,
    "pycharm": {
     "name": "#%%\n"
    }
   }
  },
  {
   "cell_type": "code",
   "execution_count": null,
   "outputs": [],
   "source": [],
   "metadata": {
    "collapsed": false,
    "pycharm": {
     "name": "#%%\n"
    }
   }
  }
 ],
 "metadata": {
  "kernelspec": {
   "display_name": "Python 3",
   "language": "python",
   "name": "python3"
  },
  "language_info": {
   "codemirror_mode": {
    "name": "ipython",
    "version": 2
   },
   "file_extension": ".py",
   "mimetype": "text/x-python",
   "name": "python",
   "nbconvert_exporter": "python",
   "pygments_lexer": "ipython2",
   "version": "2.7.6"
  }
 },
 "nbformat": 4,
 "nbformat_minor": 0
}