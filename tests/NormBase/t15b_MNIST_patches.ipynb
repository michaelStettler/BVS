{
 "cells": [
  {
   "cell_type": "markdown",
   "metadata": {
    "collapsed": true,
    "pycharm": {
     "name": "#%% md\n"
    }
   },
   "source": [
    "# Import Libraries"
   ]
  },
  {
   "cell_type": "code",
   "execution_count": 1,
   "outputs": [],
   "source": [
    "import numpy as np\n",
    "import matplotlib.pyplot as plt\n",
    "import matplotlib.cm as cm\n",
    "import tensorflow as tf\n",
    "\n",
    "from utils.load_filters_for_primer import get_filters\n",
    "from utils.load_filters_for_primer import get_filters_multi_scale\n",
    "\n",
    "np.set_printoptions(precision=3, suppress=True)"
   ],
   "metadata": {
    "collapsed": false,
    "pycharm": {
     "name": "#%%\n"
    }
   }
  },
  {
   "cell_type": "markdown",
   "source": [
    "# declare hyperparameters"
   ],
   "metadata": {
    "collapsed": false,
    "pycharm": {
     "name": "#%% md\n"
    }
   }
  },
  {
   "cell_type": "code",
   "execution_count": 2,
   "outputs": [],
   "source": [
    "PATCH_SIZE = 7  # 28/7=4 which is convenient\n",
    "# FILTER_THRESHOLD = 0.6  # was ok for digit 0-3 and 2 multi-scale filters\n",
    "FILTER_THRESHOLD = 0.7\n",
    "CLUSTER_DISTANCE = 3  # distance within primers that are considered as identical\n",
    "TYPE_FACTORS1 = [1, 0.8, 0.7, 0.5, 0.001]  # for primers 0-4\n",
    "TYPE_FACTORS2 = [1, 0.8, 0.8, 0.5, 0.001]  # for primers 4-8\n",
    "TYPE_FACTORS3 = [1, 0.9, 0.8, 0.5, 0.001]  # for primers 8-12"
   ],
   "metadata": {
    "collapsed": false,
    "pycharm": {
     "name": "#%%\n"
    }
   }
  },
  {
   "cell_type": "markdown",
   "source": [
    "# load data"
   ],
   "metadata": {
    "collapsed": false,
    "pycharm": {
     "name": "#%% md\n"
    }
   }
  },
  {
   "cell_type": "code",
   "execution_count": 3,
   "outputs": [],
   "source": [
    "(x_train, y_train), (x_test, y_test) = tf.keras.datasets.mnist.load_data()"
   ],
   "metadata": {
    "collapsed": false,
    "pycharm": {
     "name": "#%%\n"
    }
   }
  },
  {
   "cell_type": "code",
   "execution_count": 4,
   "outputs": [
    {
     "name": "stdout",
     "output_type": "stream",
     "text": [
      "shape test_image (28, 28)\n"
     ]
    },
    {
     "data": {
      "text/plain": "<matplotlib.image.AxesImage at 0x119b65358>"
     },
     "execution_count": 4,
     "metadata": {},
     "output_type": "execute_result"
    },
    {
     "data": {
      "text/plain": "<Figure size 432x288 with 1 Axes>",
      "image/png": "[encoded data removed]"
     },
     "metadata": {
      "needs_background": "light"
     },
     "output_type": "display_data"
    }
   ],
   "source": [
    "# idx = 0  # label 5\n",
    "# idx = 1  # label 0\n",
    "# idx = 2  # label 4\n",
    "# idx = 3  # label 1\n",
    "idx = 4  # label 9\n",
    "# idx = 5  # label 2\n",
    "test_image = x_train[idx]\n",
    "print(\"shape test_image\", np.shape(test_image))\n",
    "plt.imshow(test_image, cmap='Greys')"
   ],
   "metadata": {
    "collapsed": false,
    "pycharm": {
     "name": "#%%\n"
    }
   }
  },
  {
   "cell_type": "markdown",
   "source": [
    "# compute bank of primers"
   ],
   "metadata": {
    "collapsed": false,
    "pycharm": {
     "name": "#%% md\n"
    }
   }
  },
  {
   "cell_type": "code",
   "execution_count": 5,
   "outputs": [],
   "source": [
    "def compute_center_of_activity(ft_map, verbose=False):\n",
    "    # initialize indices (x, y) for each entry\n",
    "    indices = np.arange(np.shape(ft_map)[0])\n",
    "\n",
    "    # compute weighted average of the activity, weighted by the indices\n",
    "    average_x = np.average(ft_map, axis=1, weights=indices)\n",
    "    average_y = np.average(ft_map, axis=0, weights=indices)\n",
    "\n",
    "    # compute mean of each pos\n",
    "    center_x = np.sum(average_x) * np.sum(indices) / np.sum(np.sum(ft_map + 1e-7, axis=1))\n",
    "    center_y = np.sum(average_y) * np.sum(indices) / np.sum(np.sum(ft_map + 1e-7, axis=0))\n",
    "\n",
    "    if verbose:\n",
    "        print(\"feat_map\")\n",
    "        print(ft_map)\n",
    "        print(\"center ({}, {})\".format(center_x, center_y))\n",
    "\n",
    "    return center_x, center_y"
   ],
   "metadata": {
    "collapsed": false,
    "pycharm": {
     "name": "#%%\n"
    }
   }
  },
  {
   "cell_type": "code",
   "execution_count": 6,
   "outputs": [
    {
     "name": "stdout",
     "output_type": "stream",
     "text": [
      "feat_map\n",
      "[[0. 0. 0. 0. 0. 0. 0.]\n",
      " [0. 0. 0. 0. 0. 0. 0.]\n",
      " [0. 0. 0. 0. 0. 0. 0.]\n",
      " [0. 0. 0. 0. 0. 0. 0.]\n",
      " [0. 0. 0. 0. 1. 0. 0.]\n",
      " [0. 0. 0. 0. 0. 0. 0.]\n",
      " [0. 0. 0. 0. 0. 0. 0.]]\n",
      "center (3.999980400096039, 3.999980400096039)\n"
     ]
    },
    {
     "data": {
      "text/plain": "(3.999980400096039, 3.999980400096039)"
     },
     "execution_count": 6,
     "metadata": {},
     "output_type": "execute_result"
    }
   ],
   "source": [
    "# test cell\n",
    "ft_map = np.zeros((7, 7))\n",
    "ft_map[4, 4] = 1\n",
    "# ft_map[0, 1] = 1\n",
    "\n",
    "compute_center_of_activity(ft_map, verbose=True)"
   ],
   "metadata": {
    "collapsed": false,
    "pycharm": {
     "name": "#%%\n"
    }
   }
  },
  {
   "cell_type": "code",
   "execution_count": 7,
   "outputs": [],
   "source": [
    "def find_primer(image, filters, patch_size=7, threshold=0.5, do_plot=False, verbose=False, plot_title=\"\"):\n",
    "    # convert image to tensor\n",
    "    if len(np.shape(image)) == 2:\n",
    "        image = np.expand_dims(image, axis=[0, 3])\n",
    "    else:\n",
    "        print(\"image shape is wrong! Expected 2 got \", len(np.shape(image)))\n",
    "    image = tf.convert_to_tensor(image, dtype='float32')\n",
    "\n",
    "    # control filters\n",
    "    if len(np.shape(filters)) == 2:\n",
    "        filters = np.expand_dims(filters, axis=[2, 3])\n",
    "    elif len(np.shape(filters)) == 3:  # multi scale\n",
    "        filters = np.expand_dims(filters, axis=2)\n",
    "    tf.convert_to_tensor(filters, dtype='float32')\n",
    "\n",
    "    # apply convolution\n",
    "    primers = tf.nn.conv2d(image, filters, strides=1, padding='SAME', name=\"conv1\")\n",
    "\n",
    "    if verbose:\n",
    "        print(\"min max patch\", np.min(primers), np.max(primers))\n",
    "\n",
    "    # filters primers and discard the one under the threshold\n",
    "    filt_primers = primers.numpy()\n",
    "    filt_primers = np.amax(filt_primers, axis=(0, -1))\n",
    "    filt_primers = np.expand_dims(filt_primers, axis=[0, 3])\n",
    "    filt_primers[filt_primers < threshold] = 0\n",
    "    if np.max(filt_primers) > 1:\n",
    "        print(\"Max of nb_primers is greater than 1! This could mean that the the filter is not normalized, imaged clamped to 1 to avoid issues with the center of activity\")\n",
    "        filt_primers[filt_primers > 1] = 1.0\n",
    "\n",
    "    # split in patches\n",
    "    patches = tf.image.extract_patches(\n",
    "        images=filt_primers,\n",
    "        sizes=[1, patch_size, patch_size, 1],\n",
    "        strides=[1, patch_size, patch_size, 1],\n",
    "        rates=[1, 1, 1, 1],\n",
    "        padding=\"VALID\",\n",
    "    )\n",
    "    patches = patches.numpy()\n",
    "\n",
    "    # show each patch\n",
    "    if do_plot:\n",
    "        plt.figure()\n",
    "        plt.title(\"patch \" + plot_title)\n",
    "        for i in range(np.shape(patches)[1]):\n",
    "            for j in range(np.shape(patches)[2]):\n",
    "                patch = np.reshape(patches[0, i, j], [patch_size, patch_size])\n",
    "                rgb_patch = np.repeat(np.expand_dims(patch, axis=2), 3, axis=2)\n",
    "                plt.subplot(4, 4, i*np.shape(patches)[2] + j + 1)\n",
    "                plt.axis('off')\n",
    "                plt.imshow(rgb_patch)\n",
    "                # print(\"min max patch\", np.min(patch), np.max(patch))\n",
    "\n",
    "    # compute center of activity for each patch\n",
    "    centers = []\n",
    "    max_patch = []\n",
    "    for i in range(np.shape(patches)[1]):\n",
    "        for j in range(np.shape(patches)[2]):\n",
    "            # control if patches is not all zeros\n",
    "            f_patch = patches[0, i, j]\n",
    "            if np.sum(f_patch) > 0:\n",
    "                if verbose:\n",
    "                    print()\n",
    "                    print(\"p:\", plot_title)\n",
    "\n",
    "                coa = compute_center_of_activity(np.reshape(f_patch, [patch_size, patch_size]), verbose=verbose)\n",
    "                # compensate with patch positions\n",
    "                centers.append([coa[0] + j*patch_size, coa[1] + i*patch_size])\n",
    "\n",
    "                # keep maximum activity of the patch\n",
    "                max_patch.append(np.amax(f_patch))\n",
    "\n",
    "    if do_plot:\n",
    "        # plot primers\n",
    "        plt.figure()\n",
    "        plt.title(\"primers \" + plot_title)\n",
    "        rgb_image = np.repeat(np.expand_dims(filt_primers[0, ..., 0], axis=2), 3, axis=2)\n",
    "        for center in centers:\n",
    "            rgb_image[int(round(center[1])), int(round(center[0]))] = [1.0, 0, 0]\n",
    "        plt.imshow(rgb_image)\n",
    "\n",
    "    return centers, max_patch"
   ],
   "metadata": {
    "collapsed": false,
    "pycharm": {
     "name": "#%%\n"
    }
   }
  },
  {
   "cell_type": "code",
   "execution_count": 8,
   "outputs": [],
   "source": [
    "# compute all primers\n",
    "def find_primers(image, filters, patch_size=7, threshold=0.5, do_plot=False, verbose=False):\n",
    "    n_primer = 0\n",
    "    primers = {}\n",
    "\n",
    "    for p, filt in enumerate(filters):\n",
    "        if verbose:\n",
    "            print(\"filt p\", p)\n",
    "\n",
    "        primers_pos, max_patch = find_primer(image, filt,\n",
    "                                             patch_size=patch_size,\n",
    "                                             threshold=threshold,\n",
    "                                             do_plot=do_plot,\n",
    "                                             verbose=verbose,\n",
    "                                             plot_title=str(p))\n",
    "\n",
    "        if len(primers_pos) > 0:\n",
    "            for i in range(len(primers_pos)):\n",
    "                primers[n_primer] = {\"type\": p, \"pos\": primers_pos[i], \"max\": max_patch[i]}\n",
    "                n_primer += 1\n",
    "\n",
    "            if verbose:\n",
    "                print(\"primers_pos\")\n",
    "                print(primers_pos)\n",
    "                print(\"max patch\")\n",
    "                print(max_patch)\n",
    "        if verbose:\n",
    "            print()\n",
    "\n",
    "    return primers"
   ],
   "metadata": {
    "collapsed": false,
    "pycharm": {
     "name": "#%%\n"
    }
   }
  },
  {
   "cell_type": "code",
   "execution_count": 9,
   "outputs": [
    {
     "name": "stdout",
     "output_type": "stream",
     "text": [
      "shape filters (12, 7, 7, 4)\n",
      "[[-0.19  -0.19  -0.19  -0.19  -0.19  -0.19  -0.095]\n",
      " [-0.19  -0.19  -0.19  -0.19  -0.095 -0.095  0.   ]\n",
      " [-0.19  -0.19   0.048  0.048  0.048  0.048  0.048]\n",
      " [-0.19  -0.19   0.048  0.048  0.048  0.048  0.048]\n",
      " [-0.19  -0.095  0.048  0.048  0.048  0.048  0.048]\n",
      " [-0.19  -0.095  0.048  0.048  0.048 -0.048  0.   ]\n",
      " [-0.095  0.     0.048  0.048  0.048  0.    -0.095]]\n",
      "[[-0.167 -0.167 -0.167 -0.167 -0.167 -0.167 -0.167]\n",
      " [-0.167 -0.083 -0.083 -0.042 -0.042 -0.042  0.   ]\n",
      " [-0.167 -0.083  0.083  0.083  0.083  0.083  0.042]\n",
      " [-0.167 -0.042  0.083  0.083  0.083  0.083  0.042]\n",
      " [-0.167 -0.042  0.083  0.083 -0.042 -0.042  0.   ]\n",
      " [-0.167  0.     0.083  0.083 -0.042 -0.083  0.   ]\n",
      " [ 0.     0.     0.042  0.042  0.     0.     0.   ]]\n",
      "filt p 0\n",
      "min max patch -2.8392155 0.5916667\n"
     ]
    },
    {
     "name": "stderr",
     "output_type": "stream",
     "text": [
      "2022-02-18 16:21:22.573703: I tensorflow/core/platform/cpu_feature_guard.cc:142] Your CPU supports instructions that this TensorFlow binary was not compiled to use: AVX2 FMA\n",
      "2022-02-18 16:21:22.588915: I tensorflow/compiler/xla/service/service.cc:168] XLA service 0x7fdaff8367b0 initialized for platform Host (this does not guarantee that XLA will be used). Devices:\n",
      "2022-02-18 16:21:22.588953: I tensorflow/compiler/xla/service/service.cc:176]   StreamExecutor device (0): Host, Default Version\n"
     ]
    },
    {
     "name": "stdout",
     "output_type": "stream",
     "text": [
      "\n",
      "filt p 1\n",
      "min max patch -2.7963235 0.41593137\n",
      "\n",
      "filt p 2\n",
      "min max patch -2.9627452 0.7605392\n",
      "\n",
      "p: 2\n",
      "feat_map\n",
      "[[0.    0.    0.    0.    0.    0.    0.   ]\n",
      " [0.    0.    0.    0.    0.    0.    0.   ]\n",
      " [0.    0.    0.    0.    0.    0.    0.   ]\n",
      " [0.    0.    0.    0.    0.    0.    0.   ]\n",
      " [0.    0.    0.    0.    0.    0.    0.   ]\n",
      " [0.    0.    0.761 0.    0.    0.    0.   ]\n",
      " [0.    0.    0.    0.    0.    0.    0.   ]]\n",
      "center (1.9999868336638766, 4.999967476012384)\n",
      "primers_pos\n",
      "[[15.999986833663877, 25.999967476012383]]\n",
      "max patch\n",
      "[0.7605392]\n",
      "\n",
      "filt p 3\n",
      "min max patch -3.2080064 0.5511438\n",
      "\n",
      "filt p 4\n",
      "min max patch -0.6385621 0.58518517\n",
      "\n",
      "filt p 5\n",
      "min max patch -0.6320988 0.62200433\n",
      "\n",
      "filt p 6\n",
      "min max patch -0.73754543 0.5837327\n",
      "\n",
      "filt p 7\n",
      "min max patch -0.81557727 0.71318084\n",
      "\n",
      "p: 7\n",
      "feat_map\n",
      "[[0.    0.    0.    0.    0.    0.    0.   ]\n",
      " [0.713 0.    0.    0.    0.    0.    0.   ]\n",
      " [0.    0.    0.    0.    0.    0.    0.   ]\n",
      " [0.    0.    0.    0.    0.    0.    0.   ]\n",
      " [0.    0.    0.    0.    0.    0.    0.   ]\n",
      " [0.    0.    0.    0.    0.    0.    0.   ]\n",
      " [0.    0.    0.    0.    0.    0.    0.   ]]\n",
      "center (0.0, 0.9999928125346054)\n",
      "primers_pos\n",
      "[[14.0, 14.999992812534606]]\n",
      "max patch\n",
      "[0.71318084]\n",
      "\n",
      "filt p 8\n",
      "min max patch -2.5372548 0.74820256\n",
      "\n",
      "p: 8\n",
      "feat_map\n",
      "[[0.    0.    0.    0.    0.    0.    0.   ]\n",
      " [0.    0.    0.    0.    0.    0.    0.748]\n",
      " [0.    0.    0.    0.    0.    0.    0.   ]\n",
      " [0.    0.    0.    0.    0.    0.    0.   ]\n",
      " [0.    0.    0.    0.    0.    0.    0.   ]\n",
      " [0.    0.    0.    0.    0.    0.    0.   ]\n",
      " [0.    0.709 0.    0.    0.    0.    0.   ]]\n",
      "center (3.5669792040297077, 3.4329961747062723)\n",
      "primers_pos\n",
      "[[10.566979204029707, 10.432996174706272]]\n",
      "max patch\n",
      "[0.74820256]\n",
      "\n",
      "filt p 9\n",
      "min max patch -2.2689075 0.97369283\n",
      "\n",
      "p: 9\n",
      "feat_map\n",
      "[[0.    0.    0.    0.    0.    0.    0.   ]\n",
      " [0.    0.974 0.774 0.    0.    0.    0.   ]\n",
      " [0.    0.    0.    0.    0.    0.    0.   ]\n",
      " [0.    0.    0.    0.    0.    0.    0.   ]\n",
      " [0.    0.    0.    0.    0.    0.    0.   ]\n",
      " [0.    0.    0.    0.    0.    0.    0.   ]\n",
      " [0.    0.    0.    0.    0.    0.    0.   ]]\n",
      "center (1.4428194852938168, 0.9999970326506656)\n",
      "\n",
      "p: 9\n",
      "feat_map\n",
      "[[0.    0.    0.    0.    0.    0.    0.   ]\n",
      " [0.    0.    0.    0.    0.    0.    0.   ]\n",
      " [0.    0.701 0.    0.    0.    0.    0.   ]\n",
      " [0.    0.75  0.    0.    0.    0.    0.   ]\n",
      " [0.    0.    0.    0.    0.    0.    0.   ]\n",
      " [0.    0.    0.    0.    0.    0.    0.   ]\n",
      " [0.    0.    0.    0.    0.    0.    0.   ]]\n",
      "center (0.9999964668311864, 2.5166035530370174)\n",
      "primers_pos\n",
      "[[8.442819485293818, 14.999997032650665], [14.999996466831186, 23.51660355303702]]\n",
      "max patch\n",
      "[0.97369283, 0.7495098]\n",
      "\n",
      "filt p 10\n",
      "min max patch -2.947339 0.6300653\n"
     ]
    },
    {
     "name": "stderr",
     "output_type": "stream",
     "text": [
      "/Users/michaelstettler/PycharmProjects/BVS/BVS/venv/lib/python3.7/site-packages/ipykernel_launcher.py:43: RuntimeWarning: More than 20 figures have been opened. Figures created through the pyplot interface (`matplotlib.pyplot.figure`) are retained until explicitly closed and may consume too much memory. (To control this warning, see the rcParam `figure.max_open_warning`).\n",
      "/Users/michaelstettler/PycharmProjects/BVS/BVS/venv/lib/python3.7/site-packages/ipykernel_launcher.py:75: RuntimeWarning: More than 20 figures have been opened. Figures created through the pyplot interface (`matplotlib.pyplot.figure`) are retained until explicitly closed and may consume too much memory. (To control this warning, see the rcParam `figure.max_open_warning`).\n"
     ]
    },
    {
     "name": "stdout",
     "output_type": "stream",
     "text": [
      "\n",
      "filt p 11\n",
      "min max patch -3.057703 0.7888889\n",
      "\n",
      "p: 11\n",
      "feat_map\n",
      "[[0.    0.    0.    0.    0.    0.    0.   ]\n",
      " [0.    0.    0.    0.    0.789 0.    0.   ]\n",
      " [0.    0.    0.    0.    0.    0.    0.   ]\n",
      " [0.    0.    0.    0.    0.    0.    0.   ]\n",
      " [0.    0.    0.    0.    0.    0.    0.   ]\n",
      " [0.    0.    0.    0.    0.    0.    0.   ]\n",
      " [0.    0.    0.    0.    0.    0.    0.   ]]\n",
      "center (3.999974311402021, 0.9999935778505052)\n",
      "primers_pos\n",
      "[[17.99997431140202, 7.999993577850505]]\n",
      "max patch\n",
      "[0.7888889]\n",
      "\n",
      "primers_dict {0: {'type': 2, 'pos': [15.999986833663877, 25.999967476012383], 'max': 0.7605392}, 1: {'type': 7, 'pos': [14.0, 14.999992812534606], 'max': 0.71318084}, 2: {'type': 8, 'pos': [10.566979204029707, 10.432996174706272], 'max': 0.74820256}, 3: {'type': 9, 'pos': [8.442819485293818, 14.999997032650665], 'max': 0.97369283}, 4: {'type': 9, 'pos': [14.999996466831186, 23.51660355303702], 'max': 0.7495098}, 5: {'type': 11, 'pos': [17.99997431140202, 7.999993577850505], 'max': 0.7888889}}\n"
     ]
    },
    {
     "data": {
      "text/plain": "<Figure size 432x288 with 16 Axes>",
      "image/png": "[encoded data removed]"
     },
     "metadata": {
      "needs_background": "light"
     },
     "output_type": "display_data"
    },
    {
     "data": {
      "text/plain": "<Figure size 432x288 with 1 Axes>",
      "image/png": "[encoded data removed]"
     },
     "metadata": {
      "needs_background": "light"
     },
     "output_type": "display_data"
    },
    {
     "data": {
      "text/plain": "<Figure size 432x288 with 16 Axes>",
      "image/png": "[encoded data removed]"
     },
     "metadata": {
      "needs_background": "light"
     },
     "output_type": "display_data"
    },
    {
     "data": {
      "text/plain": "<Figure size 432x288 with 1 Axes>",
      "image/png": "[encoded data removed]"
     },
     "metadata": {
      "needs_background": "light"
     },
     "output_type": "display_data"
    },
    {
     "data": {
      "text/plain": "<Figure size 432x288 with 16 Axes>",
      "image/png": "[encoded data removed]"
     },
     "metadata": {
      "needs_background": "light"
     },
     "output_type": "display_data"
    },
    {
     "data": {
      "text/plain": "<Figure size 432x288 with 1 Axes>",
      "image/png": "[encoded data removed]"
     },
     "metadata": {
      "needs_background": "light"
     },
     "output_type": "display_data"
    },
    {
     "data": {
      "text/plain": "<Figure size 432x288 with 16 Axes>",
      "image/png": "[encoded data removed]"
     },
     "metadata": {
      "needs_background": "light"
     },
     "output_type": "display_data"
    },
    {
     "data": {
      "text/plain": "<Figure size 432x288 with 1 Axes>",
      "image/png": "[encoded data removed]"
     },
     "metadata": {
      "needs_background": "light"
     },
     "output_type": "display_data"
    },
    {
     "data": {
      "text/plain": "<Figure size 432x288 with 16 Axes>",
      "image/png": "[encoded data removed]"
     },
     "metadata": {
      "needs_background": "light"
     },
     "output_type": "display_data"
    },
    {
     "data": {
      "text/plain": "<Figure size 432x288 with 1 Axes>",
      "image/png": "[encoded data removed]"
     },
     "metadata": {
      "needs_background": "light"
     },
     "output_type": "display_data"
    },
    {
     "data": {
      "text/plain": "<Figure size 432x288 with 16 Axes>",
      "image/png": "[encoded data removed]"
     },
     "metadata": {
      "needs_background": "light"
     },
     "output_type": "display_data"
    },
    {
     "data": {
      "text/plain": "<Figure size 432x288 with 1 Axes>",
      "image/png": "[encoded data removed]"
     },
     "metadata": {
      "needs_background": "light"
     },
     "output_type": "display_data"
    },
    {
     "data": {
      "text/plain": "<Figure size 432x288 with 16 Axes>",
      "image/png": "[encoded data removed]"
     },
     "metadata": {
      "needs_background": "light"
     },
     "output_type": "display_data"
    },
    {
     "data": {
      "text/plain": "<Figure size 432x288 with 1 Axes>",
      "image/png": "[encoded data removed]"
     },
     "metadata": {
      "needs_background": "light"
     },
     "output_type": "display_data"
    },
    {
     "data": {
      "text/plain": "<Figure size 432x288 with 16 Axes>",
      "image/png": "[encoded data removed]"
     },
     "metadata": {
      "needs_background": "light"
     },
     "output_type": "display_data"
    },
    {
     "data": {
      "text/plain": "<Figure size 432x288 with 1 Axes>",
      "image/png": "[encoded data removed]"
     },
     "metadata": {
      "needs_background": "light"
     },
     "output_type": "display_data"
    },
    {
     "data": {
      "text/plain": "<Figure size 432x288 with 16 Axes>",
      "image/png": "[encoded data removed]"
     },
     "metadata": {
      "needs_background": "light"
     },
     "output_type": "display_data"
    },
    {
     "data": {
      "text/plain": "<Figure size 432x288 with 1 Axes>",
      "image/png": "[encoded data removed]"
     },
     "metadata": {
      "needs_background": "light"
     },
     "output_type": "display_data"
    },
    {
     "data": {
      "text/plain": "<Figure size 432x288 with 16 Axes>",
      "image/png": "[encoded data removed]"
     },
     "metadata": {
      "needs_background": "light"
     },
     "output_type": "display_data"
    },
    {
     "data": {
      "text/plain": "<Figure size 432x288 with 1 Axes>",
      "image/png": "[encoded data removed]"
     },
     "metadata": {
      "needs_background": "light"
     },
     "output_type": "display_data"
    },
    {
     "data": {
      "text/plain": "<Figure size 432x288 with 16 Axes>",
      "image/png": "[encoded data removed]"
     },
     "metadata": {
      "needs_background": "light"
     },
     "output_type": "display_data"
    },
    {
     "data": {
      "text/plain": "<Figure size 432x288 with 1 Axes>",
      "image/png": "[encoded data removed]"
     },
     "metadata": {
      "needs_background": "light"
     },
     "output_type": "display_data"
    },
    {
     "data": {
      "text/plain": "<Figure size 432x288 with 16 Axes>",
      "image/png": "[encoded data removed]"
     },
     "metadata": {
      "needs_background": "light"
     },
     "output_type": "display_data"
    },
    {
     "data": {
      "text/plain": "<Figure size 432x288 with 1 Axes>",
      "image/png": "[encoded data removed]"
     },
     "metadata": {
      "needs_background": "light"
     },
     "output_type": "display_data"
    }
   ],
   "source": [
    "# filters = get_filters()\n",
    "filters = get_filters_multi_scale()\n",
    "print(\"shape filters\", np.shape(filters))\n",
    "print(filters[8, ..., 0])\n",
    "print(filters[8, ..., 1])\n",
    "\n",
    "# normalize input and filters\n",
    "test_image_norm = test_image / 255.\n",
    "primers_dict = find_primers(test_image_norm, filters, patch_size=PATCH_SIZE, threshold=FILTER_THRESHOLD, do_plot=True, verbose=True)\n",
    "print(\"primers_dict\", primers_dict)"
   ],
   "metadata": {
    "collapsed": false,
    "pycharm": {
     "name": "#%%\n"
    }
   }
  },
  {
   "cell_type": "code",
   "execution_count": 10,
   "outputs": [],
   "source": [
    "def max_pool_primers(primers, dist_threshold=3, sorting='max', verbose=False):\n",
    "    \"\"\"\n",
    "    filter primers with surroundings, i.e. if a primer is within a distance smaller than another one, keep the highest\n",
    "\n",
    "    :param primers:\n",
    "    :return:\n",
    "    \"\"\"\n",
    "\n",
    "    filt_dictionary = {}\n",
    "    discarded_primer_idx = []\n",
    "\n",
    "    for p_t in range(len(primers)):\n",
    "        for p_a in range(p_t + 1, len(primers)):  # only upward diagonal\n",
    "            # get primers\n",
    "            p_target = primers[p_t]\n",
    "            p_agent = primers[p_a]\n",
    "\n",
    "            # retrieve positions\n",
    "            pos_target = np.array(p_target[\"pos\"])\n",
    "            pos_agent = np.array(p_agent[\"pos\"])\n",
    "            distance = np.linalg.norm(pos_target - pos_agent)\n",
    "\n",
    "            if verbose:\n",
    "                print(\"distance\", distance)\n",
    "\n",
    "            # sort if distance is smaller than the threshold\n",
    "            if distance < dist_threshold:\n",
    "                # todo add possibility to sort by clustering the mean\n",
    "                if sorting == 'max':\n",
    "                    if p_target[\"max\"] > p_agent[\"max\"]:\n",
    "                        discarded_primer_idx.append(p_a)\n",
    "                    else:\n",
    "                        discarded_primer_idx.append(p_t)\n",
    "\n",
    "    if verbose:\n",
    "        print(\"discarded primers\")\n",
    "        print(discarded_primer_idx)\n",
    "\n",
    "    # append all non discarded primers\n",
    "    n_primer = 0\n",
    "    for p in primers:\n",
    "        if p not in discarded_primer_idx:\n",
    "            primer = primers[p]\n",
    "            filt_dictionary[n_primer] = {\"type\": primer[\"type\"], \"pos\": primer[\"pos\"], \"max\": primer[\"max\"]}\n",
    "            n_primer += 1\n",
    "\n",
    "    return filt_dictionary"
   ],
   "metadata": {
    "collapsed": false,
    "pycharm": {
     "name": "#%%\n"
    }
   }
  },
  {
   "cell_type": "code",
   "execution_count": 11,
   "outputs": [
    {
     "name": "stdout",
     "output_type": "stream",
     "text": [
      "distance 11.180312604394473\n",
      "distance 16.487818758081712\n",
      "distance 13.345790650467357\n",
      "distance 2.6771397250972484\n",
      "distance 18.110742951232513\n",
      "distance 5.713413172132732\n",
      "distance 5.557180514707785\n",
      "distance 8.575118158889468\n",
      "distance 8.062244338734349\n",
      "distance 5.036819566667537\n",
      "distance 13.814210946797022\n",
      "distance 7.821056060566735\n",
      "distance 10.748449031850637\n",
      "distance 11.846487105358174\n",
      "distance 15.803956852319406\n",
      "discarded primers\n",
      "[4]\n",
      "filt_primers 5\n",
      "{'type': 2, 'pos': [15.999986833663877, 25.999967476012383], 'max': 0.7605392}\n",
      "{'type': 7, 'pos': [14.0, 14.999992812534606], 'max': 0.71318084}\n",
      "{'type': 8, 'pos': [10.566979204029707, 10.432996174706272], 'max': 0.74820256}\n",
      "{'type': 9, 'pos': [8.442819485293818, 14.999997032650665], 'max': 0.97369283}\n",
      "{'type': 11, 'pos': [17.99997431140202, 7.999993577850505], 'max': 0.7888889}\n"
     ]
    }
   ],
   "source": [
    "filt_primers = max_pool_primers(primers_dict, dist_threshold=CLUSTER_DISTANCE, verbose=True)\n",
    "print(\"filt_primers\", len(filt_primers))\n",
    "for p in filt_primers:\n",
    "    print(filt_primers[p])"
   ],
   "metadata": {
    "collapsed": false,
    "pycharm": {
     "name": "#%%\n"
    }
   }
  },
  {
   "cell_type": "code",
   "execution_count": 12,
   "outputs": [
    {
     "data": {
      "text/plain": "<matplotlib.image.AxesImage at 0x13c7047b8>"
     },
     "execution_count": 12,
     "metadata": {},
     "output_type": "execute_result"
    },
    {
     "data": {
      "text/plain": "<Figure size 432x288 with 1 Axes>",
      "image/png": "[encoded data removed]"
     },
     "metadata": {
      "needs_background": "light"
     },
     "output_type": "display_data"
    }
   ],
   "source": [
    "# plot primers on digit\n",
    "plt.figure()\n",
    "colors = cm.rainbow(np.linspace(0, 1, np.shape(filters)[0]))\n",
    "rgb_im = np.repeat(np.expand_dims(test_image, axis=2), 3, axis=2)\n",
    "\n",
    "for p in filt_primers:\n",
    "    primer = filt_primers[p]\n",
    "    primer_type = primer[\"type\"]\n",
    "    primer_pos = primer[\"pos\"]\n",
    "    color = colors[primer_type]\n",
    "    rgb_im[np.round(primer_pos[1]).astype(int), np.round(primer_pos[0]).astype(int)] = color[:3] * 255\n",
    "\n",
    "# plot legend\n",
    "for i in range(np.shape(filters)[0]):\n",
    "    color = colors[i]\n",
    "    rgb_im[-1, i] = color[:3] * 255\n",
    "\n",
    "plt.imshow(rgb_im)"
   ],
   "metadata": {
    "collapsed": false,
    "pycharm": {
     "name": "#%%\n"
    }
   }
  },
  {
   "cell_type": "markdown",
   "source": [
    "# compute Sequence"
   ],
   "metadata": {
    "collapsed": false,
    "pycharm": {
     "name": "#%% md\n"
    }
   }
  },
  {
   "cell_type": "code",
   "execution_count": 13,
   "outputs": [],
   "source": [
    "def compute_n_vectors(primers, verbose=False):\n",
    "    n_vectors = 0\n",
    "    for p in range(len(primers)):\n",
    "        \"ends and T adds only half a vector since we need two to make a vector, while the corner adds a full vector as it is between two others\"\n",
    "        \"Ts are considered half since the matching factor draws a vector that 'bypass' the T and thus has only one end to it\"\n",
    "        primer = primers[p]\n",
    "        if primer[\"type\"] in [0, 1, 2, 3, 4, 5, 6, 7]:\n",
    "            n_vectors += 0.5\n",
    "        else:\n",
    "            n_vectors += 1\n",
    "    n_vectors = np.ceil(n_vectors).astype(int)\n",
    "\n",
    "    if verbose:\n",
    "        print(\"Found {} vectors from {} primers\".format(n_vectors, len(primers)))\n",
    "        print()\n",
    "\n",
    "    return n_vectors"
   ],
   "metadata": {
    "collapsed": false,
    "pycharm": {
     "name": "#%%\n"
    }
   }
  },
  {
   "cell_type": "code",
   "execution_count": 14,
   "outputs": [],
   "source": [
    "def compute_type_factor_btw_primers(type1, type2):\n",
    "    factor = TYPE_FACTORS1[-1]\n",
    "\n",
    "    def go_down(type, type_factors):\n",
    "        if type == 2:  # I\n",
    "            factor = type_factors[0]\n",
    "        elif type == 9:  # |_\n",
    "            factor = type_factors[1]\n",
    "        elif type == 10:  # _|\n",
    "            factor = type_factors[2]\n",
    "        elif type == 6:  # _|_\n",
    "            factor = type_factors[3]\n",
    "        else:\n",
    "            factor = type_factors[-1]\n",
    "        return factor\n",
    "\n",
    "    def go_left(type, type_factors):\n",
    "        if type == 1:\n",
    "            factor = type_factors[0]  # -\n",
    "        elif type == 8:\n",
    "            factor = type_factors[1]  # -:\n",
    "        elif type == 9:\n",
    "            factor = type_factors[2]  # -:|\n",
    "        elif type == 5:\n",
    "            factor = type_factors[3]  # -:|\n",
    "        else:\n",
    "            factor = type_factors[-1]\n",
    "        return factor\n",
    "\n",
    "    def go_up(type, type_factors):\n",
    "        if type == 0:\n",
    "            factor = type_factors[0]\n",
    "        elif type == 11:\n",
    "            factor = type_factors[1]\n",
    "        elif type == 8:\n",
    "            factor = type_factors[2]\n",
    "        elif type == 4:\n",
    "            factor = type_factors[3]\n",
    "        else:\n",
    "            factor = type_factors[-1]\n",
    "        return factor\n",
    "\n",
    "    def go_right(type, type_factors):\n",
    "        if type == 3:\n",
    "            factor = type_factors[0]\n",
    "        elif type == 11:\n",
    "            factor = type_factors[1]\n",
    "        elif type == 10:\n",
    "            factor = type_factors[2]\n",
    "        elif type == 7:\n",
    "            factor = type_factors[3]\n",
    "        else:\n",
    "            factor = type_factors[-1]\n",
    "        return factor\n",
    "\n",
    "    if type1 == 0:\n",
    "        factor = go_down(type2, TYPE_FACTORS1)\n",
    "    elif type1 == 1:\n",
    "        factor = go_right(type2, TYPE_FACTORS1)\n",
    "    elif type1 == 2:\n",
    "        factor = go_up(type2, TYPE_FACTORS1)\n",
    "    elif type1 == 3:\n",
    "        factor = go_left(type2, TYPE_FACTORS1)\n",
    "\n",
    "    elif type1 == 4:\n",
    "        factor = go_down(type2, TYPE_FACTORS2)\n",
    "    elif type1 == 5:\n",
    "        factor = go_right(type2, TYPE_FACTORS2)\n",
    "    elif type1 == 6:\n",
    "        factor = go_up(type2, TYPE_FACTORS2)\n",
    "    elif type1 == 7:\n",
    "        factor = go_left(type2, TYPE_FACTORS2)\n",
    "\n",
    "    elif type1 == 8:\n",
    "        factor = go_right(type2, TYPE_FACTORS3)\n",
    "        if factor == TYPE_FACTORS1[-1]:\n",
    "            factor = go_down(type2, TYPE_FACTORS3)\n",
    "    elif type1 == 9:\n",
    "        factor = go_right(type2, TYPE_FACTORS3)\n",
    "        if factor == TYPE_FACTORS1[-1]:\n",
    "            factor = go_up(type2, TYPE_FACTORS3)\n",
    "    elif type1 == 10:\n",
    "        factor = go_left(type2, TYPE_FACTORS3)\n",
    "        if factor == TYPE_FACTORS1[-1]:\n",
    "            factor = go_up(type2, TYPE_FACTORS3)\n",
    "    elif type1 == 11:\n",
    "        factor = go_left(type2, TYPE_FACTORS3)\n",
    "        if factor == TYPE_FACTORS1[-1]:\n",
    "            factor = go_down(type2, TYPE_FACTORS3)\n",
    "    else:\n",
    "        print(\"Todo type1:\", type1)\n",
    "\n",
    "    return factor"
   ],
   "metadata": {
    "collapsed": false,
    "pycharm": {
     "name": "#%%\n"
    }
   }
  },
  {
   "cell_type": "code",
   "execution_count": 15,
   "outputs": [],
   "source": [
    "def compute_distance_btw_primers(pos1, pos2, alpha=3):\n",
    "\n",
    "    return np.log(np.linalg.norm(np.array(pos1) - np.array(pos2)))"
   ],
   "metadata": {
    "collapsed": false,
    "pycharm": {
     "name": "#%%\n"
    }
   }
  },
  {
   "cell_type": "code",
   "execution_count": 16,
   "outputs": [],
   "source": [
    "def compute_score_matrix(primers, verbose=False):\n",
    "    # group primers' positions\n",
    "    score_mat = np.zeros((len(primers), len(primers)))\n",
    "    for p_t in range(len(primers)):\n",
    "        # get target primer\n",
    "        p_target = primers[p_t]\n",
    "\n",
    "        if verbose:\n",
    "            print(p_t, \": primer - \", p_target)\n",
    "\n",
    "        for p_a in range(p_t + 1, len(primers)):  # only upward diagonal\n",
    "            # get agent primer\n",
    "            p_agent = primers[p_a]\n",
    "\n",
    "            type_factor = compute_type_factor_btw_primers(p_target[\"type\"], p_agent[\"type\"])\n",
    "            dist = compute_distance_btw_primers(p_target[\"pos\"], p_agent[\"pos\"])\n",
    "            score = type_factor / dist\n",
    "            score_mat[p_t, p_a] = score\n",
    "            score_mat[p_a, p_t] = score\n",
    "\n",
    "    if verbose:\n",
    "        print(\"score_mat\")\n",
    "        print(score_mat)\n",
    "\n",
    "    return score_mat"
   ],
   "metadata": {
    "collapsed": false,
    "pycharm": {
     "name": "#%%\n"
    }
   }
  },
  {
   "cell_type": "code",
   "execution_count": 17,
   "outputs": [],
   "source": [
    "def get_idx_primers_type(primers):\n",
    "    idx_type1, idx_type2, idx_type3 = [], [], []\n",
    "\n",
    "    for p in primers:\n",
    "        primer = primers[p]\n",
    "        type_primer = primer[\"type\"]\n",
    "\n",
    "        if type_primer in [0, 1, 2, 3]:\n",
    "            idx_type1.append(p)\n",
    "        elif type_primer in [4, 5, 6, 7]:\n",
    "            idx_type2.append(p)\n",
    "        else:\n",
    "            idx_type3.append(p)\n",
    "\n",
    "    return idx_type1, idx_type2, idx_type3"
   ],
   "metadata": {
    "collapsed": false,
    "pycharm": {
     "name": "#%%\n"
    }
   }
  },
  {
   "cell_type": "code",
   "execution_count": 18,
   "outputs": [],
   "source": [
    "def set_new_chain_agent(agent, target, verbose=False):\n",
    "\n",
    "    swap = False\n",
    "    # agent is a continuity then we start by the other end\n",
    "    if agent[\"type\"] in [8, 9, 10, 11]:\n",
    "        swap = True\n",
    "    # agent is an end (type1) and target is type3, then we start by type3\n",
    "    elif agent[\"type\"] in [0, 1, 2, 3] and target[\"type\"] in [4, 5, 6, 7]:\n",
    "        swap = True\n",
    "\n",
    "    # swap vectors\n",
    "    if swap:\n",
    "        agent_copy = agent\n",
    "        agent = target\n",
    "        target = agent_copy\n",
    "\n",
    "        if verbose:\n",
    "            print(\"primers swapped between agent and target\")\n",
    "\n",
    "    return agent, target, swap\n"
   ],
   "metadata": {
    "collapsed": false,
    "pycharm": {
     "name": "#%%\n"
    }
   }
  },
  {
   "cell_type": "code",
   "execution_count": 19,
   "outputs": [],
   "source": [
    "def build_vector_sequence(score_mat, n_vectors, primers, verbose=False):\n",
    "    sequence = {}\n",
    "\n",
    "    # build sequence of primers from the highest matching score\n",
    "    last_target_idx = None\n",
    "    n_chain = 0\n",
    "    for v in range(n_vectors):\n",
    "        new_chain = False\n",
    "        if last_target_idx is None:  # new chain\n",
    "            new_chain = True\n",
    "            # get idx of the primers per type\n",
    "            idx_type1, idx_type2, idx_type3 = get_idx_primers_type(primers)\n",
    "\n",
    "            # first chain need to start with an end primer\n",
    "            if n_chain == 0:\n",
    "                idx_type = idx_type1\n",
    "            else:\n",
    "            # then the chain can start either from an end or a type3 primer\n",
    "                idx_type = idx_type1 + idx_type2\n",
    "\n",
    "            # get sub matrix\n",
    "            sub_score_mat = score_mat[idx_type, :]\n",
    "\n",
    "            # check if it found a start, if not, then it means we are in a '0' set up (type3)\n",
    "            if len(sub_score_mat) == 0:\n",
    "                # idx_type = idx_type3\n",
    "                idx_type = [0]  # simply start with index 0?\n",
    "                sub_score_mat = score_mat[idx_type, :]\n",
    "\n",
    "            if verbose:\n",
    "                print(\"idx_type\")\n",
    "                print(idx_type)\n",
    "                print(\"sub_score_mat\")\n",
    "                print(sub_score_mat)\n",
    "\n",
    "            # get the highest score\n",
    "            pair_primers = np.unravel_index(sub_score_mat.argmax(), sub_score_mat.shape)\n",
    "            # get back idx (from score_mat space for agent_idx)\n",
    "            agent_idx = idx_type[pair_primers[0]]\n",
    "            target_idx = pair_primers[1]\n",
    "        else:  # ongoing chain\n",
    "            agent_idx = last_target_idx\n",
    "            # look for the highest score from the previous primer\n",
    "            target_idx = np.argmax(score_mat[agent_idx, :])\n",
    "\n",
    "            if verbose:\n",
    "                print(\"score mat continuuity\")\n",
    "                print(score_mat[agent_idx, :])\n",
    "\n",
    "        # retrieve primers from pair\n",
    "        p_agent = primers[agent_idx]\n",
    "        p_target = primers[target_idx]\n",
    "\n",
    "        if new_chain:\n",
    "            p_agent, p_target, swapped = set_new_chain_agent(p_agent, p_target, verbose=verbose)\n",
    "        else:\n",
    "            swapped = False\n",
    "\n",
    "        if verbose:\n",
    "            print(\"highest_match between: {} and {} ({})\".format(agent_idx, target_idx, score_mat[agent_idx, target_idx]))\n",
    "            print(\"connection between type: {} and {}\".format(p_agent[\"type\"], p_target[\"type\"]))\n",
    "\n",
    "        # append sequence\n",
    "        sequence[v] = {\"type\": [p_agent[\"type\"], p_target[\"type\"]], \"pos\": [p_agent[\"pos\"], p_target[\"pos\"]]}\n",
    "\n",
    "        # remove score to avoid picking this connection again\n",
    "        score_mat[agent_idx, target_idx] = 0\n",
    "        score_mat[target_idx, agent_idx] = 0\n",
    "\n",
    "        # remove entirely the connections (scores) when it's a type3 that it has been used already twice\n",
    "        if not new_chain and p_agent[\"type\"] in [8, 9, 10, 11]:\n",
    "            score_mat[last_target_idx, :] = 0\n",
    "            score_mat[:, last_target_idx] = 0\n",
    "\n",
    "        # penalize ends that has already been used\n",
    "        if p_agent[\"type\"] in [0, 1, 2, 3, 4, 5, 6, 7]:\n",
    "            score_mat[agent_idx, :] *= 0.8\n",
    "            score_mat[:, agent_idx] *= 0.8\n",
    "\n",
    "        # control if chain ends\n",
    "        if p_target[\"type\"] in [0, 1, 2, 3, 4, 5, 6, 7]:\n",
    "            last_target_idx = None\n",
    "            n_chain += 1\n",
    "        else:\n",
    "            if swapped:\n",
    "                last_target_idx = agent_idx\n",
    "            else:\n",
    "                last_target_idx = target_idx\n",
    "\n",
    "        if verbose:\n",
    "            print(\"sequence\")\n",
    "            for i in range(len(sequence)):\n",
    "                print(sequence[i])\n",
    "            print(\"new score_mat:\")\n",
    "            print(score_mat)\n",
    "            if last_target_idx is None:\n",
    "                print(\"last_target_idx: {}\".format(last_target_idx))\n",
    "            else:\n",
    "                print(\"last_target_idx: {} (type: {})\".format(last_target_idx, p_target[\"type\"]))\n",
    "            print()\n",
    "\n",
    "    return sequence\n"
   ],
   "metadata": {
    "collapsed": false,
    "pycharm": {
     "name": "#%%\n"
    }
   }
  },
  {
   "cell_type": "code",
   "execution_count": 20,
   "outputs": [],
   "source": [
    "def group_primers_to_sequence(primers, verbose=False):\n",
    "    # get score matrix\n",
    "    score_mat = compute_score_matrix(primers, verbose=verbose)\n",
    "\n",
    "    # compute n_vectors\n",
    "    n_vectors = compute_n_vectors(primers, verbose=verbose)\n",
    "\n",
    "    # compute sequence\n",
    "    sequence = build_vector_sequence(score_mat, n_vectors, primers, verbose=verbose)\n",
    "\n",
    "    return sequence"
   ],
   "metadata": {
    "collapsed": false,
    "pycharm": {
     "name": "#%%\n"
    }
   }
  },
  {
   "cell_type": "code",
   "execution_count": 21,
   "outputs": [
    {
     "name": "stdout",
     "output_type": "stream",
     "text": [
      "0 : primer -  {'type': 2, 'pos': [15.999986833663877, 25.999967476012383], 'max': 0.7605392}\n",
      "1 : primer -  {'type': 7, 'pos': [14.0, 14.999992812534606], 'max': 0.71318084}\n",
      "2 : primer -  {'type': 8, 'pos': [10.566979204029707, 10.432996174706272], 'max': 0.74820256}\n",
      "3 : primer -  {'type': 9, 'pos': [8.442819485293818, 14.999997032650665], 'max': 0.97369283}\n",
      "4 : primer -  {'type': 11, 'pos': [17.99997431140202, 7.999993577850505], 'max': 0.7888889}\n",
      "score_mat\n",
      "[[0.    0.    0.25  0.    0.276]\n",
      " [0.    0.    0.459 0.466 0.   ]\n",
      " [0.25  0.459 0.    0.557 0.438]\n",
      " [0.    0.466 0.557 0.    0.364]\n",
      " [0.276 0.    0.438 0.364 0.   ]]\n",
      "Found 4 vectors from 5 primers\n",
      "\n",
      "idx_type\n",
      "[0]\n",
      "sub_score_mat\n",
      "[[0.    0.    0.25  0.    0.276]]\n",
      "highest_match between: 0 and 4 (0.2761949033083283)\n",
      "connection between type: 2 and 11\n",
      "sequence\n",
      "{'type': [2, 11], 'pos': [[15.999986833663877, 25.999967476012383], [17.99997431140202, 7.999993577850505]]}\n",
      "new score_mat:\n",
      "[[0.    0.    0.2   0.    0.   ]\n",
      " [0.    0.    0.459 0.466 0.   ]\n",
      " [0.2   0.459 0.    0.557 0.438]\n",
      " [0.    0.466 0.557 0.    0.364]\n",
      " [0.    0.    0.438 0.364 0.   ]]\n",
      "last_target_idx: 4 (type: 11)\n",
      "\n",
      "score mat continuuity\n",
      "[0.    0.    0.438 0.364 0.   ]\n",
      "highest_match between: 4 and 2 (0.43756876086678154)\n",
      "connection between type: 11 and 8\n",
      "sequence\n",
      "{'type': [2, 11], 'pos': [[15.999986833663877, 25.999967476012383], [17.99997431140202, 7.999993577850505]]}\n",
      "{'type': [11, 8], 'pos': [[17.99997431140202, 7.999993577850505], [10.566979204029707, 10.432996174706272]]}\n",
      "new score_mat:\n",
      "[[0.    0.    0.2   0.    0.   ]\n",
      " [0.    0.    0.459 0.466 0.   ]\n",
      " [0.2   0.459 0.    0.557 0.   ]\n",
      " [0.    0.466 0.557 0.    0.   ]\n",
      " [0.    0.    0.    0.    0.   ]]\n",
      "last_target_idx: 2 (type: 8)\n",
      "\n",
      "score mat continuuity\n",
      "[0.2   0.459 0.    0.557 0.   ]\n",
      "highest_match between: 2 and 3 (0.5566637822465396)\n",
      "connection between type: 8 and 9\n",
      "sequence\n",
      "{'type': [2, 11], 'pos': [[15.999986833663877, 25.999967476012383], [17.99997431140202, 7.999993577850505]]}\n",
      "{'type': [11, 8], 'pos': [[17.99997431140202, 7.999993577850505], [10.566979204029707, 10.432996174706272]]}\n",
      "{'type': [8, 9], 'pos': [[10.566979204029707, 10.432996174706272], [8.442819485293818, 14.999997032650665]]}\n",
      "new score_mat:\n",
      "[[0.    0.    0.    0.    0.   ]\n",
      " [0.    0.    0.    0.466 0.   ]\n",
      " [0.    0.    0.    0.    0.   ]\n",
      " [0.    0.466 0.    0.    0.   ]\n",
      " [0.    0.    0.    0.    0.   ]]\n",
      "last_target_idx: 3 (type: 9)\n",
      "\n",
      "score mat continuuity\n",
      "[0.    0.466 0.    0.    0.   ]\n",
      "highest_match between: 3 and 1 (0.4664475861163107)\n",
      "connection between type: 9 and 7\n",
      "sequence\n",
      "{'type': [2, 11], 'pos': [[15.999986833663877, 25.999967476012383], [17.99997431140202, 7.999993577850505]]}\n",
      "{'type': [11, 8], 'pos': [[17.99997431140202, 7.999993577850505], [10.566979204029707, 10.432996174706272]]}\n",
      "{'type': [8, 9], 'pos': [[10.566979204029707, 10.432996174706272], [8.442819485293818, 14.999997032650665]]}\n",
      "{'type': [9, 7], 'pos': [[8.442819485293818, 14.999997032650665], [14.0, 14.999992812534606]]}\n",
      "new score_mat:\n",
      "[[0. 0. 0. 0. 0.]\n",
      " [0. 0. 0. 0. 0.]\n",
      " [0. 0. 0. 0. 0.]\n",
      " [0. 0. 0. 0. 0.]\n",
      " [0. 0. 0. 0. 0.]]\n",
      "last_target_idx: None\n",
      "\n",
      "Final sequence\n",
      "{'type': [2, 11], 'pos': [[15.999986833663877, 25.999967476012383], [17.99997431140202, 7.999993577850505]]}\n",
      "{'type': [11, 8], 'pos': [[17.99997431140202, 7.999993577850505], [10.566979204029707, 10.432996174706272]]}\n",
      "{'type': [8, 9], 'pos': [[10.566979204029707, 10.432996174706272], [8.442819485293818, 14.999997032650665]]}\n",
      "{'type': [9, 7], 'pos': [[8.442819485293818, 14.999997032650665], [14.0, 14.999992812534606]]}\n"
     ]
    }
   ],
   "source": [
    "sequence = group_primers_to_sequence(filt_primers, verbose=True)\n",
    "print(\"Final sequence\")\n",
    "for s in sequence:\n",
    "    print(sequence[s])"
   ],
   "metadata": {
    "collapsed": false,
    "pycharm": {
     "name": "#%%\n"
    }
   }
  },
  {
   "cell_type": "code",
   "execution_count": 22,
   "outputs": [],
   "source": [
    "def plot_vectors(image, sequence, fig=None, subplot=None, title=None):\n",
    "\n",
    "    if fig is None:\n",
    "        plt.figure()\n",
    "    else:\n",
    "        fig.add_subplot(subplot)\n",
    "        plt.title(title)\n",
    "\n",
    "    colors = cm.rainbow(np.linspace(0, 1, len(sequence)))\n",
    "    for s, color in zip(sequence, colors):\n",
    "        vector = sequence[s][\"pos\"]\n",
    "\n",
    "        # add vectors\n",
    "        vector = np.rint(vector).astype(int)\n",
    "        # plt.plot([vector[0, 0], vector[1, 0]],[vector[0, 1], vector[1, 1]], color=color, linestyle='solid', marker='o', linewidth=3)\n",
    "        plt.arrow(vector[0, 0], vector[0, 1], vector[1, 0] - vector[0, 0], vector[1, 1]-vector[0, 1],\n",
    "                  color=color,\n",
    "                  linestyle='solid',\n",
    "                  width=0.5,\n",
    "                  length_includes_head=True)\n",
    "\n",
    "    # show image\n",
    "    plt.imshow(image)"
   ],
   "metadata": {
    "collapsed": false,
    "pycharm": {
     "name": "#%%\n"
    }
   }
  },
  {
   "cell_type": "code",
   "execution_count": 23,
   "outputs": [
    {
     "data": {
      "text/plain": "<Figure size 432x288 with 1 Axes>",
      "image/png": "[encoded data removed]"
     },
     "metadata": {
      "needs_background": "light"
     },
     "output_type": "display_data"
    }
   ],
   "source": [
    "rgb_im = np.repeat(np.expand_dims(test_image, axis=2), 3, axis=2)\n",
    "plot_vectors(rgb_im, sequence)"
   ],
   "metadata": {
    "collapsed": false,
    "pycharm": {
     "name": "#%%\n"
    }
   }
  },
  {
   "cell_type": "code",
   "execution_count": 24,
   "outputs": [],
   "source": [
    "def vectorize_digit(image, filters, do_plot=False, verbose=False):\n",
    "    # find primers\n",
    "    primers_dict = find_primers(image, filters, patch_size=PATCH_SIZE, threshold=FILTER_THRESHOLD, do_plot=do_plot, verbose=verbose)\n",
    "\n",
    "    # clearn primers\n",
    "    filt_primers = max_pool_primers(primers_dict, dist_threshold=CLUSTER_DISTANCE, verbose=verbose)\n",
    "\n",
    "    # compute vectors\n",
    "    sequence = group_primers_to_sequence(filt_primers, verbose=verbose)\n",
    "\n",
    "    return sequence"
   ],
   "metadata": {
    "collapsed": false,
    "pycharm": {
     "name": "#%%\n"
    }
   }
  },
  {
   "cell_type": "code",
   "execution_count": 31,
   "outputs": [
    {
     "name": "stdout",
     "output_type": "stream",
     "text": [
      "shape test_image (28, 28)\n",
      "Max of nb_primers is greater than 1! This could mean that the the filter is not normalized, imaged clamped to 1 to avoid issues with the center of activity\n",
      "{'type': [1, 11], 'pos': [[9.66129122478788, 8.679237878291534], [17.999988676470867, 7.43458855552479]]}\n",
      "{'type': [11, 9], 'pos': [[17.999988676470867, 7.43458855552479], [7.0, 19.99995819735031]]}\n",
      "{'type': [9, 3], 'pos': [[7.0, 19.99995819735031], [23.502241640057665, 18.502234777480936]]}\n"
     ]
    },
    {
     "data": {
      "text/plain": "<Figure size 432x288 with 2 Axes>",
      "image/png": "[encoded data removed]"
     },
     "metadata": {
      "needs_background": "light"
     },
     "output_type": "display_data"
    }
   ],
   "source": [
    "# idx = 0  # label 5\n",
    "# idx = 1  # label 0\n",
    "# idx = 2  # label 4\n",
    "# idx = 3  # label 1\n",
    "# idx = 4  # label 9\n",
    "idx = 5  # label 2\n",
    "test_image = x_train[idx] / 255.\n",
    "print(\"shape test_image\", np.shape(test_image))\n",
    "\n",
    "filters = get_filters_multi_scale()\n",
    "sequence = vectorize_digit(test_image, filters, do_plot=False, verbose=False)\n",
    "\n",
    "for i in sequence:\n",
    "    print(sequence[i])\n",
    "\n",
    "rgb_im = np.repeat(np.expand_dims(test_image, axis=2), 3, axis=2)\n",
    "\n",
    "fig = plt.figure()\n",
    "plt.subplot(121)\n",
    "plt.title(\"Input\")\n",
    "plt.imshow(rgb_im)\n",
    "plot_vectors(rgb_im, sequence, fig, subplot='122', title=\"Vectorized\")"
   ],
   "metadata": {
    "collapsed": false,
    "pycharm": {
     "name": "#%%\n"
    }
   }
  },
  {
   "cell_type": "markdown",
   "source": [
    "# TEST MULTI SCALE PRIMERS"
   ],
   "metadata": {
    "collapsed": false,
    "pycharm": {
     "name": "#%% md\n"
    }
   }
  },
  {
   "cell_type": "code",
   "execution_count": 43,
   "outputs": [
    {
     "name": "stdout",
     "output_type": "stream",
     "text": [
      "shape filter_top_t (4, 7, 7)\n",
      "shape filter_top_t (7, 7, 1, 4)\n",
      "shape primers (1, 28, 28, 4)\n",
      "min max prim0 (28, 28) 0.0 0.5846405\n",
      "min max prim1 (28, 28) 0.0 0.6338235\n",
      "min max prim2 (28, 28) 0.0 0.7605392\n",
      "min max prim3 (28, 28) 0.0 0.22083333\n",
      "shape max_prim (28, 28)\n"
     ]
    },
    {
     "data": {
      "text/plain": "<matplotlib.image.AxesImage at 0x14a623128>"
     },
     "execution_count": 43,
     "metadata": {},
     "output_type": "execute_result"
    },
    {
     "data": {
      "text/plain": "<Figure size 432x288 with 1 Axes>",
      "image/png": "[encoded data removed]"
     },
     "metadata": {
      "needs_background": "light"
     },
     "output_type": "display_data"
    },
    {
     "data": {
      "text/plain": "<Figure size 432x288 with 5 Axes>",
      "image/png": "[encoded data removed]"
     },
     "metadata": {
      "needs_background": "light"
     },
     "output_type": "display_data"
    },
    {
     "data": {
      "text/plain": "<Figure size 432x288 with 5 Axes>",
      "image/png": "[encoded data removed]"
     },
     "metadata": {
      "needs_background": "light"
     },
     "output_type": "display_data"
    }
   ],
   "source": [
    "# corner primers\n",
    "large = np.array([[-4., -4., -4., -4., -4., -4., -2.],\n",
    "                         [-4., -4., -4., -4., -2., -2., 0.0],\n",
    "                         [-4., -4., 1.0, 1.0, 1.0, 1.0, 1.0],\n",
    "                         [-4., -4., 1.0, 1.0, 1.0, 1.0, 1.0],\n",
    "                         [-4., -2., 1.0, 1.0, 1.0, 1.0, 1.0],\n",
    "                         [-4., -2., 1.0, 1.0, 1.0, -1., 0.0],\n",
    "                         [-2., 0.0, 1.0, 1.0, 1.0, 0.0, -2.]]) / 21\n",
    "\n",
    "medium =  np.array([[-2., -2., -2., -2., -2., -2., -2.],\n",
    "                     [-2., -1., -1., -.5, -.5, -.5, 0.0],\n",
    "                     [-2., -1., 1.0, 1.0, 1.0, 1.0, 0.5],\n",
    "                     [-2., -.5, 1.0, 1.0, 1.0, 1.0, 0.5],\n",
    "                     [-2., -.5, 1.0, 1.0, -.5, -.5, 0.0],\n",
    "                     [-2., 0.0, 1.0, 1.0, -.5, -1., 0.0],\n",
    "                     [0.0, 0.0, 0.5, 0.5, 0.0, 0.0, 0.0]]) / 12\n",
    "\n",
    "\n",
    "medium_shift_left = np.array([[-2., -2., -2., -2., -1., 1.0, 0.0],\n",
    "                            [-2., -1., -1., -.5, 1.0, 1.0, 0.0],\n",
    "                            [-2., -1., 0.0, 1.0, 1.0, 0.0, 0.0],\n",
    "                            [-2., -.5, 1.0, 1.0, -.5, -1., 0.0],\n",
    "                            [-1., -.5, 1.0, 1.0, -.5, -1., 0.0],\n",
    "                            [-1., 0.0, 1.0, 1.0, 0.0, -1., 0.0],\n",
    "                            [0.0, 0.0, 0.0, 0.0, 0.0, 0.0, 0.0]]) / 12\n",
    "\n",
    "medium_shift_right =  np.array([[-2., -2., -2., -2., -2., -.5, 0.0],\n",
    "                                [-2., -1., -1., -1., -.5, -.5, 0.0],\n",
    "                                [-1., -.5, 1.0, 1.0, 1.0, 1.0, 0.0],\n",
    "                                [-1., 0.0, 1.0, 1.0, 1.0, 1.0, 0.0],\n",
    "                                [-.5, 1.0, 1.0, 0.0, -1., -1., 0.0],\n",
    "                                [-.5, 1.0, 1.0, -.5, -1., -1., 0.0],\n",
    "                                [0.0, 0.0, 0.0, 0.0, -1., -1., 0.0]]) / 12\n",
    "\n",
    "\n",
    "# end primers\n",
    "large = np.array([[-2., -2., -2., -2., -2., -2., -2.],\n",
    "                  [-2., -2., -2., -2., -1., -2., -2.],\n",
    "                  [-2., -.5, -.5, -.5, -.5, -.5, -2.],\n",
    "                  [-2., -.5, 1.0, 1.0, 1.0, -.5, -2.],\n",
    "                  [-2., 0.0, 1.0, 1.0, 1.0, 0.0, -2.],\n",
    "                  [-2., 0.0, 1.0, 1.0, 1.0, 0.0, -2.],\n",
    "                  [-2., 0.0, 1.0, 1.0, 1.0, 0.0, -2.]]) / 12\n",
    "\n",
    "medium = np.array([[-1., -1., -1., -1., -1., -1., -1.],\n",
    "                   [-1., -1., -.5, -.5, -1., -1., -1.],\n",
    "                   [-1., -.5, 0.0, 0.0, -.5, -1., -1.],\n",
    "                   [-1., 0.0, 1.0, 1.0, 0.0, -1., -1.],\n",
    "                   [-1., 0.0, 1.0, 1.0, 0.0, -1., -1.],\n",
    "                   [-.5, 0.0, 1.0, 1.0, 0.0, -.5, -1.],\n",
    "                   [-.5, 0.0, 1.0, 1.0, 0.0, -.5, -1.]]) / 8\n",
    "\n",
    "medium_shift_left = np.array([[-1., -1., -1., -1., -1., -1., -1.],\n",
    "                              [-1., -1., -1., -1., -1., -1., -1.],\n",
    "                              [-1., -.5, -.5, -.5, -.5, -1., -1.],\n",
    "                              [-1., -.5, 1.0, 1.0, -.5, -.5, -1.],\n",
    "                              [-1., -.5, -.5, 1.0, 1.0, -.5, -1.],\n",
    "                              [-1., -1., -.5, 1.0, 1.0, -.5, -1.],\n",
    "                              [-1., -1., -.5, 0.0, 1.0, 1.0, -1.]]) / 8\n",
    "\n",
    "medium_shift_right = np.array([[-1., -1., -1., -1., -1., -1., -1.],\n",
    "                              [-1., -1., -1., -1., -1., -1., -1.],\n",
    "                              [-1., -1., -.5, -.5, -.5, -.5, -1.],\n",
    "                              [-1., -.5, -.5, 1.0, 1.0, -.5, -1.],\n",
    "                              [-1., -.5, 1.0, 1.0, -.5, -.5, -1.],\n",
    "                              [-1., -.5, 1.0, 1.0, -.5, -1., -1.],\n",
    "                              [-.5, 1.0, 1.0, -.5, -.5, -1.0, -1.]]) / 8\n",
    "#\n",
    "# # T primers\n",
    "# large = np.array([[-1., -1., -1., -1., -1., -1., -1.],\n",
    "#                      [-1., -1., -1., -1., -1., -1., -1.],\n",
    "#                      [1.0, 1.0, 1.0, 1.0, 1.0, 1.0, 1.0],\n",
    "#                      [1.0, 1.0, 1.0, 1.0, 1.0, 1.0, 1.0],\n",
    "#                      [1.0, 1.0, 1.0, 1.0, 1.0, 1.0, 1.0],\n",
    "#                      [-2., -4., 1.0, 1.0, 1.0, -4., -2.],\n",
    "#                      [-6., 0.0, 1.0, 1.0, 1.0, 0.0, -6.]]) / 27\n",
    "#\n",
    "# medium = np.array([[-1., -1., -2., -2., -1., -1., 0.0],\n",
    "#                      [-.5, -.5, -1., -1., -.5, -.5, 0.0],\n",
    "#                      [1.0, 1.0, 1.0, 1.0, 1.0, 1.0, 0.0],\n",
    "#                      [1.0, 1.0, 1.0, 1.0, 1.0, 1.0, 0.0],\n",
    "#                      [-1., -2., 1.0, 1.0, -2., -1., 0.0],\n",
    "#                      [-1., -1., 1.0, 1.0, -1., -1., 0.0],\n",
    "#                      [-2., 0.0, 1.0, 1.0, 0.0, -2., 0.0]]) / 18\n",
    "#\n",
    "# medium_shift_left = np.array([[1.0, -.5, -1., -2., -1., -1., 0.0],\n",
    "#                               [1.0, 1.0, -1., -1., -.5, -.5, 0.0],\n",
    "#                               [0.0, 1.0, 1.0, 1.0, 1.0, 1.0, 0.0],\n",
    "#                               [-.5, 0.0, 1.0, 1.0, 1.0, 1.0, 0.0],\n",
    "#                               [-1., -2., 1.0, 1.0, -1., -1., 0.0],\n",
    "#                               [-1., -1., 1.0, 1.0, -.5, -1., 0.0],\n",
    "#                               [-2., -1., 0.0, 1.0, 1.0, -1., 0.0]]) / 18\n",
    "#\n",
    "# medium_shift_right = np.zeros((7, 7))\n",
    "\n",
    "# filter_top_t = np.array([large, medium])\n",
    "filter_top_t = np.array([large, medium, medium_shift_left, medium_shift_right])\n",
    "print(\"shape filter_top_t\", np.shape(filter_top_t))\n",
    "\n",
    "filter_top_t = np.rot90(filter_top_t, 2, axes=(1, 2))\n",
    "\n",
    "filter_top_t = np.expand_dims(filter_top_t, axis=3)\n",
    "filter_top_t = np.moveaxis(filter_top_t, 0, -1)\n",
    "print(\"shape filter_top_t\", np.shape(filter_top_t))\n",
    "n_filters = np.shape(filter_top_t)[-1]\n",
    "\n",
    "# convert to tf\n",
    "tf.convert_to_tensor(filter_top_t, dtype='float32')\n",
    "\n",
    "# load image\n",
    "# idx = 0  # label 5\n",
    "# idx = 1  # label 0\n",
    "# idx = 2  # label 4\n",
    "# idx = 3  # label 1\n",
    "idx = 4  # label 9\n",
    "# idx = 5  # label 2\n",
    "test_image = x_train[idx] / 255.\n",
    "\n",
    "# plot image\n",
    "fig = plt.figure()\n",
    "plt.imshow(test_image, cmap='Greys')\n",
    "\n",
    "# transform to fit tf\n",
    "test_image = np.expand_dims(test_image, axis=[0, 3])\n",
    "test_image = tf.convert_to_tensor(test_image, dtype='float32')\n",
    "\n",
    "\n",
    "# apply convolution\n",
    "primers = tf.nn.conv2d(test_image, filter_top_t, strides=1, padding='SAME', name=\"conv1\")\n",
    "primers = primers.numpy()\n",
    "print(\"shape primers\", np.shape(primers))\n",
    "\n",
    "# apply relu activation\n",
    "for i in range(n_filters):\n",
    "    prim = primers[0, ..., i]\n",
    "    prim[prim < 0] = 0\n",
    "    print(\"min max prim{} {}\".format(i, np.shape(prim)), np.amin(prim), np.amax(prim))\n",
    "max_prim = np.amax(primers, axis=(0, -1))\n",
    "print(\"shape max_prim\", np.shape(max_prim))\n",
    "\n",
    "plt.figure()\n",
    "\n",
    "for i in range(n_filters):\n",
    "    plt.subplot(1, n_filters + 1, i + 1)\n",
    "    plt.imshow(primers[0, ..., i], cmap='Greys')\n",
    "\n",
    "plt.subplot(1, n_filters + 1, i + 2)\n",
    "plt.imshow(max_prim, cmap='Greys')\n",
    "\n",
    "threshold = 0.7\n",
    "\n",
    "for i in range(n_filters):\n",
    "    prim = primers[0, ..., i]\n",
    "    prim[prim < threshold] = 0\n",
    "max_prim[max_prim < threshold] = 0\n",
    "\n",
    "plt.figure()\n",
    "for i in range(n_filters):\n",
    "    plt.subplot(1, n_filters + 1, i + 1)\n",
    "    plt.imshow(primers[0, ..., i], cmap='Greys')\n",
    "\n",
    "plt.subplot(1, n_filters + 1, i + 2)\n",
    "plt.imshow(max_prim, cmap='Greys')"
   ],
   "metadata": {
    "collapsed": false,
    "pycharm": {
     "name": "#%%\n"
    }
   }
  },
  {
   "cell_type": "code",
   "execution_count": 32,
   "outputs": [],
   "source": [],
   "metadata": {
    "collapsed": false,
    "pycharm": {
     "name": "#%%\n"
    }
   }
  },
  {
   "cell_type": "code",
   "execution_count": null,
   "outputs": [],
   "source": [],
   "metadata": {
    "collapsed": false,
    "pycharm": {
     "name": "#%%\n"
    }
   }
  }
 ],
 "metadata": {
  "kernelspec": {
   "display_name": "Python 3",
   "language": "python",
   "name": "python3"
  },
  "language_info": {
   "codemirror_mode": {
    "name": "ipython",
    "version": 2
   },
   "file_extension": ".py",
   "mimetype": "text/x-python",
   "name": "python",
   "nbconvert_exporter": "python",
   "pygments_lexer": "ipython2",
   "version": "2.7.6"
  }
 },
 "nbformat": 4,
 "nbformat_minor": 0
}