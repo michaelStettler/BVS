{
 "cells": [
  {
   "cell_type": "markdown",
   "metadata": {
    "collapsed": true,
    "pycharm": {
     "name": "#%% md\n"
    }
   },
   "source": [
    "# import librairies"
   ]
  },
  {
   "cell_type": "code",
   "execution_count": 101,
   "outputs": [],
   "source": [
    "import numpy as np\n",
    "import matplotlib.pyplot as plt\n",
    "import tensorflow as tf"
   ],
   "metadata": {
    "collapsed": false,
    "pycharm": {
     "name": "#%%\n"
    }
   }
  },
  {
   "cell_type": "markdown",
   "source": [
    "# load data"
   ],
   "metadata": {
    "collapsed": false,
    "pycharm": {
     "name": "#%% md\n"
    }
   }
  },
  {
   "cell_type": "code",
   "execution_count": 102,
   "outputs": [],
   "source": [
    "(x_train, y_train), (x_test, y_test) = tf.keras.datasets.mnist.load_data()"
   ],
   "metadata": {
    "collapsed": false,
    "pycharm": {
     "name": "#%%\n"
    }
   }
  },
  {
   "cell_type": "code",
   "execution_count": 103,
   "outputs": [
    {
     "name": "stdout",
     "output_type": "stream",
     "text": [
      "shape test_image (28, 28)\n"
     ]
    },
    {
     "data": {
      "text/plain": "<matplotlib.image.AxesImage at 0x11e622278>"
     },
     "execution_count": 103,
     "metadata": {},
     "output_type": "execute_result"
    },
    {
     "data": {
      "text/plain": "<Figure size 432x288 with 1 Axes>",
      "image/png": "[encoded data removed]"
     },
     "metadata": {
      "needs_background": "light"
     },
     "output_type": "display_data"
    }
   ],
   "source": [
    "idx = 3  # label 1\n",
    "test_image = x_train[idx]\n",
    "print(\"shape test_image\", np.shape(test_image))\n",
    "plt.imshow(test_image, cmap='Greys')"
   ],
   "metadata": {
    "collapsed": false,
    "pycharm": {
     "name": "#%%\n"
    }
   }
  },
  {
   "cell_type": "markdown",
   "source": [
    "# Compute bank of primers"
   ],
   "metadata": {
    "collapsed": false,
    "pycharm": {
     "name": "#%% md\n"
    }
   }
  },
  {
   "cell_type": "code",
   "execution_count": 124,
   "outputs": [],
   "source": [
    "def find_primer(image, filter, threshold=0.6, do_plot=False):\n",
    "    filter = np.expand_dims(filter, axis=[2, 3])\n",
    "    tf.convert_to_tensor(filter, dtype='float32')\n",
    "\n",
    "    # convert image to tensor\n",
    "    if len(np.shape(image)) == 2:\n",
    "        image = np.expand_dims(image, axis=[0, 3])\n",
    "    else:\n",
    "        print(\"image shape is wrong! Expected 2 got \", len(np.shape(image)))\n",
    "    image = tf.convert_to_tensor(image, dtype='float32')\n",
    "\n",
    "    # apply convolution\n",
    "    primers = tf.nn.conv2d(image, filter, strides=1, padding='VALID', name=\"conv1\")\n",
    "\n",
    "    # filters primers and discard the one under the threshold\n",
    "    np_primers = primers.numpy()\n",
    "    np_primers = np_primers[0, ..., 0]\n",
    "    np_primers[np_primers < threshold] = 0\n",
    "    #print(\"min max np_primers\", np.min(np_primers), np.max(np_primers))\n",
    "\n",
    "    # keep max value\n",
    "    if np.sum(np_primers) != 0:\n",
    "        primer_pos_x = np.argmax(np.amax(np_primers, axis=0))\n",
    "        primer_pos_y = np.argmax(np.amax(np_primers, axis=1))\n",
    "\n",
    "    else:\n",
    "        primer_pos_x = None\n",
    "        primer_pos_y = None\n",
    "\n",
    "    if do_plot:\n",
    "        # plot primers\n",
    "        plt.figure()\n",
    "        rgb_image = np.repeat(np.expand_dims(np_primers, axis=2), 3, axis=2)\n",
    "        if primer_pos_x is not None and primer_pos_y is not None:\n",
    "            rgb_image[primer_pos_y, primer_pos_x] = [1.0, 0, 0]\n",
    "        plt.imshow(rgb_image)\n",
    "\n",
    "    return (primer_pos_x, primer_pos_y)"
   ],
   "metadata": {
    "collapsed": false,
    "pycharm": {
     "name": "#%%\n"
    }
   }
  },
  {
   "cell_type": "code",
   "execution_count": 122,
   "outputs": [],
   "source": [
    "# compute all primers\n",
    "def find_primers(image, filters, do_plot=False):\n",
    "    pos = []\n",
    "\n",
    "    for p, pair_filt in enumerate(filters):\n",
    "        prim0 = find_primer(image, pair_filt[0], do_plot=do_plot)\n",
    "        prim1 = find_primer(image, pair_filt[1], do_plot=do_plot)\n",
    "        print(prim0, prim1)\n",
    "\n",
    "        # apply easy control of primers by discarding the ones that are contrary to their values\n",
    "        # i.e. a horizontal line going left to right can not have a second primer that are more on the left than the first primer (p=1)\n",
    "        append_pos = False\n",
    "        if prim0[0] is not None and prim1[0] is not None:\n",
    "            if p == 0:\n",
    "                # vertical line\n",
    "                if prim1[1] > prim0[1]:  # y1 > y0\n",
    "                    append_pos = True\n",
    "            elif p == 1:\n",
    "                # horizontal line\n",
    "               if prim1[0] > prim0[0]:  # x1 > x0\n",
    "                    append_pos = True\n",
    "            elif p == 2:\n",
    "                # diag up line\n",
    "               if prim1[0] > prim0[0] and prim0[1] > prim1[1]:  # x1 > x0 and y0 > y1\n",
    "                    append_pos = True\n",
    "            elif p == 3:\n",
    "                # diag down line\n",
    "               if prim1[0] > prim0[0] and prim1[1] > prim0[1]:  # x1 > x0 and y1 > y0\n",
    "                    append_pos = True\n",
    "\n",
    "        if append_pos:\n",
    "            pos.append((prim0, prim1))\n",
    "        else:\n",
    "            pos.append(None)\n",
    "\n",
    "    return pos"
   ],
   "metadata": {
    "collapsed": false,
    "pycharm": {
     "name": "#%%\n"
    }
   }
  },
  {
   "cell_type": "code",
   "execution_count": 126,
   "outputs": [
    {
     "name": "stdout",
     "output_type": "stream",
     "text": [
      "shape primers (4, 2, 7, 7)\n",
      "(16, 2) (7, 21)\n",
      "(None, None) (None, None)\n",
      "(5, 21) (17, 2)\n",
      "(14, 1) (9, 21)\n",
      "primer_top_pos [((16, 2), (7, 21)), None, ((5, 21), (17, 2)), None]\n"
     ]
    }
   ],
   "source": [
    "# find top primers for vertical lines\n",
    "vert1 = np.array([[-1., -1., -1., -1., -1., -1., -1.],\n",
    "                  [-1., -1., -1., -1., -1., -1., -1.],\n",
    "                  [-1., -1., -1., -1., -1., -1., -1.],\n",
    "                  [-1., -1., 1.0, 1.0, 1.0, -1., -1.],\n",
    "                  [-1., -1., 1.0, 1.0, 1.0, -1., -1.],\n",
    "                  [-1., -1., 1.0, 1.0, 1.0, -1., -1.],\n",
    "                  [-1., 0.0, 1.0, 1.0, 1.0, 0.0, -1.]])\n",
    "\n",
    "vert2 = np.array([[-1., 0.0, 1.0, 1.0, 1.0, 0.0, -1.],\n",
    "                  [-1., -1., 1.0, 1.0, 1.0, -1., -1.],\n",
    "                  [-1., -1., 1.0, 1.0, 1.0, -1., -1.],\n",
    "                  [-1., -1., 1.0, 1.0, 1.0, -1., -1.],\n",
    "                  [-1., -1., -1., -1., -1., -1., -1.],\n",
    "                  [-1., -1., -1., -1., -1., -1., -1.],\n",
    "                  [-1., -1., -1., -1., -1., -1., -1.]])\n",
    "\n",
    "hor1 = np.array([[-1., -1., -1., -1., -1., -1., -1.],\n",
    "                 [-1., -1., -1., -1., -1., -1., 0.0],\n",
    "                 [-1., -1., -1., 1.0, 1.0, 1.0, 1.0],\n",
    "                 [-1., -1., -1., 1.0, 1.0, 1.0, 1.0],\n",
    "                 [-1., -1., -1., 1.0, 1.0, 1.0, 1.0],\n",
    "                 [-1., -1., -1., -1., -1., -1., 0.0],\n",
    "                 [-1., -1., -1., -1., -1., -1., -1.]])\n",
    "\n",
    "hor2 = np.array([[-1., -1., -1., -1., -1., -1., -1.],\n",
    "                 [0.0, -1., -1., -1., -1., -1., -1.],\n",
    "                 [1.0, 1.0, 1.0, 1.0, -1., -1., -1.],\n",
    "                 [1.0, 1.0, 1.0, 1.0, -1., -1., -1.],\n",
    "                 [1.0, 1.0, 1.0, 1.0, -1., -1., -1.],\n",
    "                 [0.0, -1., -1., -1., -1., -1., -1.],\n",
    "                 [-1., -1., -1., -1., -1., -1., -1.]])\n",
    "\n",
    "diag_up1 = np.array([[-1., -1., -1., -1., 1.0, 1.0, 1.0],\n",
    "                     [-1., -1., -1., 0.0, 1.0, 1.0, 1.0],\n",
    "                     [-1., -1., -1., 1.0, 1.0, 1.0, 1.0],\n",
    "                     [-1., -1., -1., 1.0, 1.0, 0.0, -1.],\n",
    "                     [-1., -1., -1., -1., -1., -1., -1.],\n",
    "                     [-1., -1., -1., -1., -1., -1., -1.],\n",
    "                     [-1., -1., -1., -1., -1., -1., -1.]])\n",
    "\n",
    "diag_up2 = np.array([[-1., -1., -1., -1., -1., -1., -1.],\n",
    "                     [-1., -1., -1., -1., -1., -1., -1.],\n",
    "                     [-1., -1., -1., -1., -1., -1., -1.],\n",
    "                     [-1., 0.0, 1.0, 1.0, -1., -1., -1.],\n",
    "                     [1.0, 1.0, 1.0, 1.0, -1., -1., -1.],\n",
    "                     [1.0, 1.0, 1.0, 0.0, -1., -1., -1.],\n",
    "                     [1.0, 1.0, 1.0, -1., -1., -1., -1.]])\n",
    "\n",
    "diag_down1 = np.array([[-1., -1., -1., -1., -1., -1., -1.],\n",
    "                       [-1., -1., -1., -1., -1., -1., -1.],\n",
    "                       [-1., -1., -1., -1., -1., -1., -1.],\n",
    "                       [-1., -1., -1., 1.0, 1.0, 0.0, -1.],\n",
    "                       [-1., -1., -1., 1.0, 1.0, 1.0, 1.0],\n",
    "                       [-1., -1., -1., 0.0, 1.0, 1.0, 1.0],\n",
    "                       [-1., -1., -1., -1., 1.0, 1.0, 1.0]])\n",
    "\n",
    "diag_down2 = np.array([[1.0, 1.0, 1.0, -1., -1., -1., -1.],\n",
    "                       [1.0, 1.0, 1.0, 0.0, -1., -1., -1.],\n",
    "                       [1.0, 1.0, 1.0, 1.0, -1., -1., -1.],\n",
    "                       [-1., 0.0, 1.0, 1.0, -1., -1., -1.],\n",
    "                       [-1., -1., -1., -1., -1., -1., -1.],\n",
    "                       [-1., -1., -1., -1., -1., -1., -1.],\n",
    "                       [-1., -1., -1., -1., -1., -1., -1.]])\n",
    "\n",
    "primers = np.array([[vert1, vert2],\n",
    "                    [hor1, hor2],\n",
    "                    [diag_up1, diag_up2],\n",
    "                    [diag_down1, diag_down2]])\n",
    "print(\"shape primers\", np.shape(primers))\n",
    "\n",
    "# normalize input and filters\n",
    "test_image_norm = test_image / 255.\n",
    "primers_norm = primers / 12\n",
    "primer_top_pos = find_primers(test_image_norm, primers_norm, do_plot=False)\n",
    "print(\"primer_top_pos\", primer_top_pos)"
   ],
   "metadata": {
    "collapsed": false,
    "pycharm": {
     "name": "#%%\n"
    }
   }
  },
  {
   "cell_type": "code",
   "execution_count": null,
   "outputs": [],
   "source": [
    "# plot found vectors\n"
   ],
   "metadata": {
    "collapsed": false,
    "pycharm": {
     "name": "#%%\n"
    }
   }
  }
 ],
 "metadata": {
  "kernelspec": {
   "display_name": "Python 3",
   "language": "python",
   "name": "python3"
  },
  "language_info": {
   "codemirror_mode": {
    "name": "ipython",
    "version": 2
   },
   "file_extension": ".py",
   "mimetype": "text/x-python",
   "name": "python",
   "nbconvert_exporter": "python",
   "pygments_lexer": "ipython2",
   "version": "2.7.6"
  }
 },
 "nbformat": 4,
 "nbformat_minor": 0
}