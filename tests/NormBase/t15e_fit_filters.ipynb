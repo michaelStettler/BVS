{
 "cells": [
  {
   "cell_type": "markdown",
   "metadata": {
    "collapsed": true,
    "pycharm": {
     "name": "#%% md\n"
    }
   },
   "source": [
    "# IMPORT LIBRAIRIES"
   ]
  },
  {
   "cell_type": "code",
   "execution_count": 1,
   "outputs": [],
   "source": [
    "import numpy as np\n",
    "import matplotlib.pyplot as plt\n",
    "import matplotlib.cm as cm\n",
    "import tensorflow as tf\n",
    "\n",
    "np.set_printoptions(precision=1, suppress=True, linewidth=200)"
   ],
   "metadata": {
    "collapsed": false,
    "pycharm": {
     "name": "#%%\n"
    }
   }
  },
  {
   "cell_type": "markdown",
   "source": [
    "# DECLARE HYPERPARAMETERS"
   ],
   "metadata": {
    "collapsed": false,
    "pycharm": {
     "name": "#%% md\n"
    }
   }
  },
  {
   "cell_type": "code",
   "execution_count": 2,
   "outputs": [],
   "source": [
    "FILTER_SIZE = (9, 9)\n",
    "N_GROUPS = 4\n",
    "GRP_1 = [0, 1, 2, 3]  # I (end) primers\n",
    "GRP_2 = [4, 5, 6, 7]  # T primers\n",
    "GRP_3 = [8, 9, 10, 11]  # L (corner) primers\n",
    "GRP_4 = [12]  # X (cross) primers\n",
    "N_FILTERS = 32"
   ],
   "metadata": {
    "collapsed": false,
    "pycharm": {
     "name": "#%%\n"
    }
   }
  },
  {
   "cell_type": "markdown",
   "source": [
    "# LOAD DATA"
   ],
   "metadata": {
    "collapsed": false,
    "pycharm": {
     "name": "#%% md\n"
    }
   }
  },
  {
   "cell_type": "code",
   "execution_count": 3,
   "outputs": [
    {
     "name": "stdout",
     "output_type": "stream",
     "text": [
      "Loaded 603 primers for 130 digits\n",
      "n_cat: 12\n"
     ]
    }
   ],
   "source": [
    "(x_train, y_train), (x_test, y_test) = tf.keras.datasets.mnist.load_data()\n",
    "lmks_pos = np.load(\"_lmk_pos_train130.npy\")\n",
    "num_digits = int(np.amax(lmks_pos[:, 0])) + 1\n",
    "print(\"Loaded {} primers for {} digits\".format(len(lmks_pos), num_digits))\n",
    "n_cat = int(np.amax(lmks_pos[:, 3]))\n",
    "print(\"n_cat:\", n_cat)"
   ],
   "metadata": {
    "collapsed": false,
    "pycharm": {
     "name": "#%%\n"
    }
   }
  },
  {
   "cell_type": "code",
   "execution_count": 4,
   "outputs": [
    {
     "name": "stdout",
     "output_type": "stream",
     "text": [
      "num type1: 231 (0.38%)\n",
      "num type2: 42 (0.07%)\n",
      "num type3: 310 (0.51%)\n",
      "num type4: 20 (0.033%)\n",
      "total labeld primers: 603\n"
     ]
    }
   ],
   "source": [
    "idx = np.arange(len(lmks_pos))\n",
    "type_1 = [idx[i] for i in range(len(lmks_pos)) if lmks_pos[i, 3] in GRP_1]\n",
    "type_2 = [idx[i] for i in range(len(lmks_pos)) if lmks_pos[i, 3] in GRP_2]\n",
    "type_3 = [idx[i] for i in range(len(lmks_pos)) if lmks_pos[i, 3] in GRP_3]\n",
    "type_4 = [idx[i] for i in range(len(lmks_pos)) if lmks_pos[i, 3] in GRP_4]\n",
    "print(\"num type1: {} ({:.2}%)\".format(len(type_1), len(type_1)/len(lmks_pos)))\n",
    "print(\"num type2: {} ({:.2}%)\".format(len(type_2), len(type_2)/len(lmks_pos)))\n",
    "print(\"num type3: {} ({:.2}%)\".format(len(type_3), len(type_3)/len(lmks_pos)))\n",
    "print(\"num type4: {} ({:.2}%)\".format(len(type_4), len(type_4)/len(lmks_pos)))\n",
    "print(\"total labeld primers:\", len(lmks_pos))"
   ],
   "metadata": {
    "collapsed": false,
    "pycharm": {
     "name": "#%%\n"
    }
   }
  },
  {
   "cell_type": "markdown",
   "source": [
    "# CREATE PATCH DATASET"
   ],
   "metadata": {
    "collapsed": false,
    "pycharm": {
     "name": "#%% md\n"
    }
   }
  },
  {
   "cell_type": "code",
   "execution_count": 5,
   "outputs": [],
   "source": [
    "def get_patch(lmk, x_train, filt_size=FILTER_SIZE):\n",
    "    \"\"\"\n",
    "\n",
    "    :param lmk_pos: nx4 matrix, with 4 the following parameters: 0: idx of the mnsit img, 1: posX, 2: posX, 3: n_rotate\n",
    "    :x_train\n",
    "    :param filt_size:\n",
    "    :return:\n",
    "    \"\"\"\n",
    "    pad_x = int(filt_size[0] / 2)\n",
    "    pad_y = int(filt_size[1] / 2)\n",
    "\n",
    "    # define start and stop\n",
    "    start_x = lmk[1]-pad_x\n",
    "    end_x = lmk[1]+pad_x+1\n",
    "    start_y = lmk[2]-pad_y\n",
    "    end_y = lmk[2]+pad_y+1\n",
    "    # print(start_x, end_x, start_y, end_y)\n",
    "\n",
    "    # define filter for primer\n",
    "    img = x_train[lmk[0]] / 255.\n",
    "    patch = img[np.maximum(start_x, 0):end_x, np.maximum(start_y, 0):end_y]\n",
    "\n",
    "    # add zeros if patch is smaller than the dimension\n",
    "    if start_x < 0:\n",
    "        zeros_patch = np.zeros((filt_size[0] - np.shape(patch)[0], np.shape(patch)[1]))\n",
    "        patch = np.vstack([zeros_patch, patch])\n",
    "    elif end_x > np.shape(img)[0]:\n",
    "        zeros_patch = np.zeros((end_x - np.shape(img)[0], np.shape(patch)[1]))\n",
    "        patch = np.vstack([patch, zeros_patch])\n",
    "    if start_y < 0:\n",
    "        zeros_patch = np.zeros((np.shape(patch)[0], filt_size[1] - np.shape(patch)[1]))\n",
    "        patch = np.hstack([zeros_patch, patch])\n",
    "    elif end_y > np.shape(img)[1]:\n",
    "        zeros_patch = np.zeros((np.shape(patch)[0], end_y - np.shape(img)[1]))\n",
    "        patch = np.hstack([patch, zeros_patch])\n",
    "\n",
    "    # control size\n",
    "    if np.shape(patch)[0] != filt_size[0]:\n",
    "        print(\"Dimension 0 of patch is not matching ,expected {}, received {}\".format(filt_size[0], np.shape(patch)[0]))\n",
    "    if np.shape(patch)[1] != filt_size[1]:\n",
    "        print(\"Dimension 1 of patch is not matching ,expected {}, received {}\".format(filt_size[1], np.shape(patch)[1]))\n",
    "\n",
    "    return patch"
   ],
   "metadata": {
    "collapsed": false,
    "pycharm": {
     "name": "#%%\n"
    }
   }
  },
  {
   "cell_type": "code",
   "execution_count": 6,
   "outputs": [],
   "source": [
    "def create_patch_dataset(lmks, x_train, group_labels, filt_size=FILTER_SIZE):\n",
    "    \"\"\"\n",
    "\n",
    "    :param lmk_pos: nx4 matrix, with 4 the following parameters: 0: idx of the mnsit img, 1: posX, 2: posX, 3: n_rotate\n",
    "    :param filt_size:\n",
    "    :return:\n",
    "    \"\"\"\n",
    "    data = []\n",
    "    labels = []\n",
    "\n",
    "    for primer in lmks:\n",
    "        # print(primer)\n",
    "        primer_label = primer[3]\n",
    "\n",
    "        # get patch\n",
    "        patch = get_patch(primer, x_train, filt_size=filt_size)\n",
    "        # print(patch)\n",
    "\n",
    "        # rotate patch\n",
    "        n_rotate = (N_GROUPS - primer_label%N_GROUPS)%N_GROUPS\n",
    "        # print(\"primer_label: {}, n_rotate:{}\".format(primer_label, n_rotate))\n",
    "        patch = np.rot90(patch, n_rotate)\n",
    "        # print(patch)\n",
    "\n",
    "        # append patch to dataset\n",
    "        data.append(patch)\n",
    "\n",
    "        # set labels\n",
    "        if primer_label in group_labels:\n",
    "            labels.append(1)\n",
    "        else:\n",
    "            labels.append(0)\n",
    "\n",
    "\n",
    "    return (np.array(data), np.array(labels))"
   ],
   "metadata": {
    "collapsed": false,
    "pycharm": {
     "name": "#%%\n"
    }
   }
  },
  {
   "cell_type": "code",
   "execution_count": 7,
   "outputs": [
    {
     "name": "stdout",
     "output_type": "stream",
     "text": [
      "shape train_x_grp (603, 9, 9)\n",
      "shape train_y_grp (603,)\n"
     ]
    }
   ],
   "source": [
    "# (train_x_grp, train_y_grp) = create_patch_dataset(lmks_pos, x_train, GRP_1)\n",
    "(train_x_grp, train_y_grp) = create_patch_dataset(lmks_pos, x_train, GRP_2)\n",
    "print(\"shape train_x_grp\", np.shape(train_x_grp))\n",
    "print(\"shape train_y_grp\", np.shape(train_y_grp))"
   ],
   "metadata": {
    "collapsed": false,
    "pycharm": {
     "name": "#%%\n"
    }
   }
  },
  {
   "cell_type": "code",
   "execution_count": 8,
   "outputs": [
    {
     "name": "stdout",
     "output_type": "stream",
     "text": [
      "primer_type7_idx (25)\n",
      "[ 14  19  95 102 109 120 161 211 221 238 273 287 294 301 321 363 422 430 444 474 506 519 524 538 543]\n",
      "\n",
      "id to test: 14, value: 1, lmk_label: [ 2 14 18  7]\n",
      "rotated patch\n",
      "[[0.  0.  0.  0.  0.  0.  0.  0.  0. ]\n",
      " [0.2 0.1 0.1 0.  0.  0.  0.  0.  0. ]\n",
      " [1.  1.  0.8 0.4 0.2 0.  0.  0.  0. ]\n",
      " [0.8 0.9 1.  1.  1.  1.  0.9 0.5 0.2]\n",
      " [0.  0.1 0.6 1.  0.9 0.9 1.  1.  1. ]\n",
      " [0.  0.  0.  0.7 0.7 0.  0.4 0.7 0.7]\n",
      " [0.  0.  0.  0.3 0.9 0.1 0.  0.  0. ]\n",
      " [0.  0.  0.  0.1 1.  0.4 0.  0.  0. ]\n",
      " [0.  0.  0.  0.  0.9 0.6 0.  0.  0. ]]\n"
     ]
    },
    {
     "data": {
      "text/plain": "<Figure size 432x288 with 1 Axes>",
      "image/png": "[encoded data removed]"
     },
     "metadata": {
      "needs_background": "light"
     },
     "output_type": "display_data"
    }
   ],
   "source": [
    "# test rotation\n",
    "type = 7\n",
    "idx = np.arange(len(lmks_pos))\n",
    "primer_type_idx = idx[lmks_pos[:, 3] == type]\n",
    "print(\"primer_type{}_idx ({})\".format(type, len(primer_type_idx)))\n",
    "print(primer_type_idx)\n",
    "print()\n",
    "\n",
    "id_to_test = 14\n",
    "print(\"id to test: {}, value: {}, lmk_label: {}\".format(id_to_test, train_y_grp[id_to_test], lmks_pos[id_to_test]))\n",
    "print(\"rotated patch\")\n",
    "print(train_x_grp[id_to_test])\n",
    "\n",
    "plt.figure()\n",
    "image = x_train[lmks_pos[id_to_test][0]]\n",
    "rgb_image = np.repeat(np.expand_dims(image, axis=2), 3, axis=2)\n",
    "rgb_image[lmks_pos[id_to_test][1], lmks_pos[id_to_test][2]] = [255, 0, 0]\n",
    "plt.imshow(rgb_image)\n",
    "plt.show()"
   ],
   "metadata": {
    "collapsed": false,
    "pycharm": {
     "name": "#%%\n"
    }
   }
  },
  {
   "cell_type": "markdown",
   "source": [
    "# CREATE MODEL"
   ],
   "metadata": {
    "collapsed": false,
    "pycharm": {
     "name": "#%% md\n"
    }
   }
  },
  {
   "cell_type": "code",
   "execution_count": 19,
   "outputs": [],
   "source": [
    "def create_simple_model(lr, momentum, n_filters=[N_FILTERS, N_FILTERS, N_FILTERS, N_FILTERS, N_FILTERS], filter_size=FILTER_SIZE, verbose=True, learning_decay=False):\n",
    "    inputs = tf.keras.Input(shape=(filter_size[0], filter_size[1], 1))\n",
    "\n",
    "    x = tf.keras.layers.Conv2D(filters=n_filters[0], kernel_size=3, padding='valid', use_bias=False, name=\"conv_1\")(inputs)\n",
    "    x = tf.keras.activations.relu(x)\n",
    "    x = tf.keras.layers.Conv2D(filters=n_filters[1], kernel_size=3, padding='valid', use_bias=False, name=\"conv_2\")(x)\n",
    "    x = tf.keras.activations.relu(x)\n",
    "    x = tf.keras.layers.Conv2D(filters=n_filters[2], kernel_size=3, padding='valid', use_bias=False, name=\"conv_3\")(x)\n",
    "    x = tf.keras.activations.relu(x)\n",
    "    x = tf.keras.layers.Conv2D(filters=n_filters[3], kernel_size=3, padding='valid', use_bias=False, name=\"conv_4\")(x)\n",
    "\n",
    "    x = tf.keras.layers.Flatten()(x)\n",
    "    x = tf.keras.layers.MaxPool1D(pool_size=n_filters[4], padding='valid')(tf.reshape(x, [-1, N_FILTERS, 1]))\n",
    "    outputs = tf.keras.layers.Flatten()(x)\n",
    "    model = tf.keras.Model(inputs=inputs, outputs=outputs, name='LNet')\n",
    "\n",
    "    if learning_decay:\n",
    "        lr = tf.keras.optimizers.schedules.ExponentialDecay(\n",
    "            initial_learning_rate=lr,\n",
    "            decay_steps=1000,\n",
    "            decay_rate=0.9)\n",
    "\n",
    "    model.compile(optimizer=tf.optimizers.SGD(learning_rate=lr, momentum=momentum), loss='mean_absolute_error')\n",
    "\n",
    "    if verbose:\n",
    "        print(model.summary())\n",
    "\n",
    "    return model"
   ],
   "metadata": {
    "collapsed": false,
    "pycharm": {
     "name": "#%%\n"
    }
   }
  },
  {
   "cell_type": "code",
   "execution_count": 20,
   "outputs": [
    {
     "name": "stdout",
     "output_type": "stream",
     "text": [
      "Weight for class 0: 0.54\n",
      "Weight for class 1: 7.18\n",
      "Model: \"LNet\"\n",
      "_________________________________________________________________\n",
      "Layer (type)                 Output Shape              Param #   \n",
      "=================================================================\n",
      "input_3 (InputLayer)         [(None, 9, 9, 1)]         0         \n",
      "_________________________________________________________________\n",
      "conv_1 (Conv2D)              (None, 7, 7, 32)          288       \n",
      "_________________________________________________________________\n",
      "tf_op_layer_Relu_6 (TensorFl [(None, 7, 7, 32)]        0         \n",
      "_________________________________________________________________\n",
      "conv_2 (Conv2D)              (None, 5, 5, 32)          9216      \n",
      "_________________________________________________________________\n",
      "tf_op_layer_Relu_7 (TensorFl [(None, 5, 5, 32)]        0         \n",
      "_________________________________________________________________\n",
      "conv_3 (Conv2D)              (None, 3, 3, 32)          9216      \n",
      "_________________________________________________________________\n",
      "tf_op_layer_Relu_8 (TensorFl [(None, 3, 3, 32)]        0         \n",
      "_________________________________________________________________\n",
      "conv_4 (Conv2D)              (None, 1, 1, 32)          9216      \n",
      "_________________________________________________________________\n",
      "flatten_4 (Flatten)          (None, 32)                0         \n",
      "_________________________________________________________________\n",
      "tf_op_layer_Reshape_2 (Tenso [(None, 32, 1)]           0         \n",
      "_________________________________________________________________\n",
      "max_pooling1d_2 (MaxPooling1 (None, 1, 1)              0         \n",
      "_________________________________________________________________\n",
      "flatten_5 (Flatten)          (None, 1)                 0         \n",
      "=================================================================\n",
      "Total params: 27,936\n",
      "Trainable params: 27,936\n",
      "Non-trainable params: 0\n",
      "_________________________________________________________________\n",
      "None\n",
      "WARNING:tensorflow:sample_weight modes were coerced from\n",
      "  ...\n",
      "    to  \n",
      "  ['...']\n",
      "Train on 603 samples\n",
      "Epoch 1/60\n",
      "603/603 [==============================] - 1s 1ms/sample - loss: 0.4913\n",
      "Epoch 2/60\n",
      "603/603 [==============================] - 0s 229us/sample - loss: 0.4522\n",
      "Epoch 3/60\n",
      "603/603 [==============================] - 0s 249us/sample - loss: 0.3500\n",
      "Epoch 4/60\n",
      "603/603 [==============================] - 0s 254us/sample - loss: 0.2610\n",
      "Epoch 5/60\n",
      "603/603 [==============================] - 0s 290us/sample - loss: 0.2534\n",
      "Epoch 6/60\n",
      "603/603 [==============================] - 0s 208us/sample - loss: 0.1957\n",
      "Epoch 7/60\n",
      "603/603 [==============================] - 0s 279us/sample - loss: 0.1969\n",
      "Epoch 8/60\n",
      "603/603 [==============================] - 0s 276us/sample - loss: 0.2285\n",
      "Epoch 9/60\n",
      "603/603 [==============================] - 0s 267us/sample - loss: 0.2329\n",
      "Epoch 10/60\n",
      "603/603 [==============================] - 0s 257us/sample - loss: 0.1898\n",
      "Epoch 11/60\n",
      "603/603 [==============================] - 0s 246us/sample - loss: 0.2367\n",
      "Epoch 12/60\n",
      "603/603 [==============================] - 0s 231us/sample - loss: 0.2089\n",
      "Epoch 13/60\n",
      "603/603 [==============================] - 0s 250us/sample - loss: 0.3587\n",
      "Epoch 14/60\n",
      "603/603 [==============================] - 0s 178us/sample - loss: 0.1727\n",
      "Epoch 15/60\n",
      "603/603 [==============================] - 0s 182us/sample - loss: 0.1486\n",
      "Epoch 16/60\n",
      "603/603 [==============================] - 0s 165us/sample - loss: 0.1340\n",
      "Epoch 17/60\n",
      "603/603 [==============================] - 0s 196us/sample - loss: 0.1615\n",
      "Epoch 18/60\n",
      "603/603 [==============================] - 0s 165us/sample - loss: 0.1244\n",
      "Epoch 19/60\n",
      "603/603 [==============================] - 0s 179us/sample - loss: 0.1338\n",
      "Epoch 20/60\n",
      "603/603 [==============================] - 0s 244us/sample - loss: 0.1554\n",
      "Epoch 21/60\n",
      "603/603 [==============================] - 0s 260us/sample - loss: 0.1529\n",
      "Epoch 22/60\n",
      "603/603 [==============================] - 0s 234us/sample - loss: 0.0984\n",
      "Epoch 23/60\n",
      "603/603 [==============================] - 0s 248us/sample - loss: 0.1014\n",
      "Epoch 24/60\n",
      "603/603 [==============================] - 0s 253us/sample - loss: 0.1157\n",
      "Epoch 25/60\n",
      "603/603 [==============================] - 0s 241us/sample - loss: 0.0980\n",
      "Epoch 26/60\n",
      "603/603 [==============================] - 0s 224us/sample - loss: 0.1061\n",
      "Epoch 27/60\n",
      "603/603 [==============================] - 0s 258us/sample - loss: 0.1310\n",
      "Epoch 28/60\n",
      "603/603 [==============================] - 0s 216us/sample - loss: 0.0976\n",
      "Epoch 29/60\n",
      "603/603 [==============================] - 0s 274us/sample - loss: 0.0802\n",
      "Epoch 30/60\n",
      "603/603 [==============================] - 0s 263us/sample - loss: 0.1005\n",
      "Epoch 31/60\n",
      "603/603 [==============================] - 0s 232us/sample - loss: 0.1097\n",
      "Epoch 32/60\n",
      "603/603 [==============================] - 0s 168us/sample - loss: 0.1393\n",
      "Epoch 33/60\n",
      "603/603 [==============================] - 0s 197us/sample - loss: 0.0983\n",
      "Epoch 34/60\n",
      "603/603 [==============================] - 0s 187us/sample - loss: 0.1014\n",
      "Epoch 35/60\n",
      "603/603 [==============================] - 0s 161us/sample - loss: 0.0864\n",
      "Epoch 36/60\n",
      "603/603 [==============================] - 0s 187us/sample - loss: 0.0689\n",
      "Epoch 37/60\n",
      "603/603 [==============================] - 0s 196us/sample - loss: 0.0683\n",
      "Epoch 38/60\n",
      "603/603 [==============================] - 0s 195us/sample - loss: 0.0638\n",
      "Epoch 39/60\n",
      "603/603 [==============================] - 0s 192us/sample - loss: 0.0973\n",
      "Epoch 40/60\n",
      "603/603 [==============================] - 0s 195us/sample - loss: 0.0909\n",
      "Epoch 41/60\n",
      "603/603 [==============================] - 0s 173us/sample - loss: 0.0842\n",
      "Epoch 42/60\n",
      "603/603 [==============================] - 0s 147us/sample - loss: 0.0808\n",
      "Epoch 43/60\n",
      "603/603 [==============================] - 0s 190us/sample - loss: 0.0892\n",
      "Epoch 44/60\n",
      "603/603 [==============================] - 0s 165us/sample - loss: 0.0773\n",
      "Epoch 45/60\n",
      "603/603 [==============================] - 0s 197us/sample - loss: 0.0656\n",
      "Epoch 46/60\n",
      "603/603 [==============================] - 0s 161us/sample - loss: 0.0591\n",
      "Epoch 47/60\n",
      "603/603 [==============================] - 0s 166us/sample - loss: 0.0618\n",
      "Epoch 48/60\n",
      "603/603 [==============================] - 0s 161us/sample - loss: 0.0581\n",
      "Epoch 49/60\n",
      "603/603 [==============================] - 0s 192us/sample - loss: 0.0640\n",
      "Epoch 50/60\n",
      "603/603 [==============================] - 0s 149us/sample - loss: 0.0744\n",
      "Epoch 51/60\n",
      "603/603 [==============================] - 0s 186us/sample - loss: 0.1035\n",
      "Epoch 52/60\n",
      "603/603 [==============================] - 0s 159us/sample - loss: 0.0636\n",
      "Epoch 53/60\n",
      "603/603 [==============================] - 0s 169us/sample - loss: 0.0885\n",
      "Epoch 54/60\n",
      "603/603 [==============================] - 0s 173us/sample - loss: 0.0794\n",
      "Epoch 55/60\n",
      "603/603 [==============================] - 0s 131us/sample - loss: 0.0676\n",
      "Epoch 56/60\n",
      "603/603 [==============================] - 0s 181us/sample - loss: 0.0962\n",
      "Epoch 57/60\n",
      "603/603 [==============================] - 0s 184us/sample - loss: 0.0890\n",
      "Epoch 58/60\n",
      "603/603 [==============================] - 0s 177us/sample - loss: 0.0675\n",
      "Epoch 59/60\n",
      "603/603 [==============================] - 0s 214us/sample - loss: 0.0594\n",
      "Epoch 60/60\n",
      "603/603 [==============================] - 0s 153us/sample - loss: 0.0838\n"
     ]
    }
   ],
   "source": [
    "# Scaling by total/2 helps keep the loss to a similar magnitude.\n",
    "# The sum of the weights of all examples stays the same.\n",
    "weight_for_0 = (1 / len(train_y_grp[train_y_grp == 0])) * (len(train_y_grp) / 2.0)\n",
    "weight_for_1 = (1 / len(train_y_grp[train_y_grp == 1])) * (len(train_y_grp) / 2.0)\n",
    "\n",
    "class_weight = {0: weight_for_0, 1: weight_for_1}\n",
    "\n",
    "print('Weight for class 0: {:.2f}'.format(weight_for_0))\n",
    "print('Weight for class 1: {:.2f}'.format(weight_for_1))\n",
    "\n",
    "grp_model = create_simple_model(lr=0.01, momentum=0.9)\n",
    "hist = grp_model.fit(x=np.expand_dims(train_x_grp, axis=3), y=train_y_grp, batch_size=64, epochs=60, verbose=1, class_weight=class_weight)"
   ],
   "metadata": {
    "collapsed": false,
    "pycharm": {
     "name": "#%%\n"
    }
   }
  },
  {
   "cell_type": "code",
   "execution_count": 21,
   "outputs": [],
   "source": [
    "def predict_primer(image, weights):\n",
    "    image = tf.convert_to_tensor(np.expand_dims(image, axis=[0, 3]), dtype='float32')\n",
    "    x_pred = tf.nn.conv2d(image, weights[0], strides=1, padding='SAME', name=\"conv_1\")\n",
    "    x_pred = tf.keras.activations.relu(x_pred)\n",
    "    x_pred = tf.nn.conv2d(x_pred, weights[1], strides=1, padding='SAME', name=\"conv_1\")\n",
    "    x_pred = tf.keras.activations.relu(x_pred)\n",
    "    x_pred = tf.nn.conv2d(x_pred, weights[2], strides=1, padding='SAME', name=\"conv_1\")\n",
    "    x_pred = tf.keras.activations.relu(x_pred)\n",
    "    primers = tf.nn.conv2d(x_pred, weights[3], strides=1, padding='SAME', name=\"conv_1\")\n",
    "\n",
    "    primers = np.amax(primers.numpy(), axis=(0, -1))\n",
    "\n",
    "    return primers"
   ],
   "metadata": {
    "collapsed": false,
    "pycharm": {
     "name": "#%%\n"
    }
   }
  },
  {
   "cell_type": "code",
   "execution_count": 22,
   "outputs": [
    {
     "name": "stdout",
     "output_type": "stream",
     "text": [
      "shape primers (28, 28)\n",
      "min max primers -0.025126405 0.9117926\n"
     ]
    }
   ],
   "source": [
    "# test filters model 2\n",
    "idx = 2\n",
    "# image = train_x_grp[14]  # test a patch\n",
    "image = x_train[idx]/255.\n",
    "weights = [grp_model.get_layer(\"conv_1\").weights[0],\n",
    "           grp_model.get_layer(\"conv_2\").weights[0],\n",
    "           grp_model.get_layer(\"conv_3\").weights[0],\n",
    "           grp_model.get_layer(\"conv_4\").weights[0]]\n",
    "primers = predict_primer(image, weights)\n",
    "print(\"shape primers\", np.shape(primers))\n",
    "print(\"min max primers\", np.amin(primers), np.amax(primers))"
   ],
   "metadata": {
    "collapsed": false,
    "pycharm": {
     "name": "#%%\n"
    }
   }
  },
  {
   "cell_type": "code",
   "execution_count": 23,
   "outputs": [
    {
     "name": "stdout",
     "output_type": "stream",
     "text": [
      "min max filt_primers -0.025126405 0.9117926\n",
      "[[ 0.   0.   0.   0.   0.   0.   0.   0.   0.   0.   0.   0.   0.   0.   0.   0.   0.   0.   0.   0.   0.   0.   0.   0.   0.   0.   0.   0. ]\n",
      " [ 0.   0.   0.   0.   0.   0.   0.   0.   0.   0.   0.   0.   0.   0.   0.   0.   0.   0.   0.   0.   0.   0.   0.   0.   0.   0.   0.   0. ]\n",
      " [ 0.   0.   0.   0.   0.   0.   0.   0.   0.   0.   0.   0.   0.   0.   0.   0.   0.   0.   0.   0.   0.   0.   0.   0.   0.2  0.2  0.   0. ]\n",
      " [ 0.   0.   0.   0.   0.   0.   0.   0.   0.1  0.1  0.   0.   0.   0.   0.   0.   0.   0.   0.   0.   0.   0.   0.   0.   0.3  0.4  0.1  0. ]\n",
      " [ 0.   0.   0.   0.   0.   0.   0.   0.   0.3  0.2  0.   0.   0.   0.   0.   0.   0.   0.   0.   0.   0.  -0.  -0.   0.   0.4  0.4  0.1  0. ]\n",
      " [ 0.   0.   0.   0.   0.  -0.   0.   0.   0.4  0.3  0.   0.   0.   0.   0.   0.   0.   0.   0.   0.   0.   0.   0.   0.2  0.5  0.3  0.1  0. ]\n",
      " [ 0.   0.   0.   0.   0.   0.   0.   0.   0.4  0.3  0.   0.   0.   0.   0.   0.   0.   0.   0.   0.   0.  -0.  -0.   0.5  0.5  0.3  0.   0. ]\n",
      " [ 0.   0.   0.   0.   0.   0.   0.   0.3  0.4  0.2  0.   0.   0.   0.   0.   0.   0.   0.   0.1  0.   0.  -0.   0.1  0.7  0.5  0.3  0.   0. ]\n",
      " [ 0.   0.   0.   0.   0.   0.   0.1  0.4  0.4  0.3  0.   0.   0.   0.   0.   0.   0.   0.   0.1  0.   0.  -0.   0.4  0.7  0.5  0.2  0.   0. ]\n",
      " [ 0.   0.   0.   0.   0.  -0.   0.3  0.5  0.4  0.2  0.   0.   0.   0.   0.   0.   0.   0.   0.   0.   0.   0.   0.6  0.7  0.5  0.2  0.   0. ]\n",
      " [ 0.   0.   0.   0.   0.  -0.   0.4  0.6  0.4  0.2  0.   0.   0.   0.   0.   0.   0.   0.   0.   0.  -0.   0.1  0.8  0.6  0.5  0.1  0.   0. ]\n",
      " [ 0.   0.   0.   0.   0.  -0.   0.5  0.5  0.4  0.2  0.   0.   0.   0.   0.   0.   0.   0.1  0.  -0.  -0.   0.5  0.9  0.6  0.4  0.1  0.   0. ]\n",
      " [ 0.   0.   0.   0.  -0.   0.   0.6  0.3  0.3  0.1  0.   0.   0.   0.   0.   0.   0.1  0.1  0.   0.  -0.   0.6  0.8  0.6  0.3  0.   0.   0. ]\n",
      " [ 0.   0.   0.   0.   0.   0.3  0.7  0.1  0.1  0.1  0.   0.   0.   0.   0.   0.   0.2  0.6  0.3 -0.  -0.   0.7  0.8  0.6  0.2  0.   0.   0. ]\n",
      " [ 0.   0.   0.  -0.   0.   0.3  0.4  0.  -0.   0.   0.   0.1  0.4  0.6  0.7  0.6  0.7  0.8  0.1 -0.   0.2  0.7  0.7  0.5  0.2  0.   0.   0. ]\n",
      " [ 0.   0.   0.   0.  -0.   0.4  0.6  0.7  0.8  0.8  0.7  0.7  0.6  0.6  0.6  0.6  0.8  0.7  0.  -0.   0.4  0.8  0.7  0.4  0.1  0.   0.   0. ]\n",
      " [ 0.   0.   0.   0.   0.   0.4  0.7  0.8  0.7  0.6  0.6  0.7  0.6  0.6  0.6  0.7  0.8  0.3 -0.  -0.   0.6  0.8  0.6  0.3  0.   0.   0.   0. ]\n",
      " [ 0.   0.   0.   0.   0.   0.3  0.7  0.7  0.6  0.5  0.5  0.6  0.5  0.4  0.4  0.5  0.3  0.   0.   0.   0.6  0.7  0.6  0.3  0.   0.   0.   0. ]\n",
      " [ 0.   0.   0.   0.   0.   0.1  0.2  0.3  0.2  0.3  0.3  0.4  0.3  0.2  0.2  0.2  0.   0.  -0.   0.   0.6  0.6  0.5  0.2  0.   0.   0.   0. ]\n",
      " [ 0.   0.   0.   0.   0.   0.   0.   0.1  0.1  0.1  0.1  0.2  0.1  0.1  0.1  0.   0.   0.  -0.   0.2  0.5  0.4  0.5  0.2  0.   0.   0.   0. ]\n",
      " [ 0.   0.   0.   0.   0.   0.   0.   0.   0.   0.   0.   0.   0.   0.   0.   0.   0.   0.  -0.   0.3  0.4  0.3  0.4  0.2  0.   0.   0.   0. ]\n",
      " [ 0.   0.   0.   0.   0.   0.   0.   0.   0.   0.   0.   0.   0.   0.   0.   0.   0.   0.  -0.   0.3  0.5  0.3  0.4  0.2  0.   0.   0.   0. ]\n",
      " [ 0.   0.   0.   0.   0.   0.   0.   0.   0.   0.   0.   0.   0.   0.   0.   0.   0.  -0.  -0.   0.4  0.7  0.5  0.4  0.2  0.   0.   0.   0. ]\n",
      " [ 0.   0.   0.   0.   0.   0.   0.   0.   0.   0.   0.   0.   0.   0.   0.   0.   0.  -0.  -0.   0.3  0.8  0.7  0.4  0.2  0.   0.   0.   0. ]\n",
      " [ 0.   0.   0.   0.   0.   0.   0.   0.   0.   0.   0.   0.   0.   0.   0.   0.   0.   0.  -0.   0.4  0.9  0.7  0.4  0.2  0.   0.   0.   0. ]\n",
      " [ 0.   0.   0.   0.   0.   0.   0.   0.   0.   0.   0.   0.   0.   0.   0.   0.   0.   0.   0.   0.5  0.9  0.7  0.4  0.1  0.   0.   0.   0. ]\n",
      " [ 0.   0.   0.   0.   0.   0.   0.   0.   0.   0.   0.   0.   0.   0.   0.   0.   0.   0.   0.1  0.4  0.6  0.5  0.2  0.1  0.   0.   0.   0. ]\n",
      " [ 0.   0.   0.   0.   0.   0.   0.   0.   0.   0.   0.   0.   0.   0.   0.   0.   0.   0.   0.   0.1  0.3  0.2  0.1  0.   0.   0.   0.   0. ]]"
     ]
    },
    {
     "name": "stderr",
     "output_type": "stream",
     "text": [
      "Clipping input data to the valid range for imshow with RGB data ([0..1] for floats or [0..255] for integers).\n"
     ]
    },
    {
     "name": "stdout",
     "output_type": "stream",
     "text": [
      "\n"
     ]
    },
    {
     "data": {
      "text/plain": "<matplotlib.image.AxesImage at 0x11cfebb38>"
     },
     "execution_count": 23,
     "metadata": {},
     "output_type": "execute_result"
    },
    {
     "data": {
      "text/plain": "<Figure size 432x288 with 1 Axes>",
      "image/png": "[encoded data removed]"
     },
     "metadata": {
      "needs_background": "light"
     },
     "output_type": "display_data"
    }
   ],
   "source": [
    "print(\"min max filt_primers\", np.amin(primers), np.amax(primers))\n",
    "print(primers)\n",
    "plt.figure()\n",
    "plt.title(\"primers\")\n",
    "rgb_image = np.repeat(np.expand_dims(primers, axis=2), 3, axis=2)\n",
    "plt.imshow(rgb_image)"
   ],
   "metadata": {
    "collapsed": false,
    "pycharm": {
     "name": "#%%\n"
    }
   }
  },
  {
   "cell_type": "markdown",
   "source": [
    "# TRAIN ALL NETWORKS"
   ],
   "metadata": {
    "collapsed": false,
    "pycharm": {
     "name": "#%% md\n"
    }
   }
  },
  {
   "cell_type": "code",
   "execution_count": 101,
   "outputs": [],
   "source": [
    "class LNet:  # LandmarksNet\n",
    "    def __init__(self, groups):\n",
    "        self.groups = groups\n",
    "        self.models = []\n",
    "        self.predict_models = []\n",
    "        self.n_max_group = 4\n",
    "\n",
    "    def train(self, x, lmks, lr, momentum, learning_decay=False):\n",
    "        for group in self.groups:\n",
    "            print(\"group:\", group)\n",
    "            # create dataset\n",
    "            (train_x_grp, train_y_grp) = create_patch_dataset(lmks, x, group)\n",
    "\n",
    "            # compute class weights\n",
    "            # Scaling by total/2 helps keep the loss to a similar magnitude.\n",
    "            # The sum of the weights of all examples stays the same.\n",
    "            weight_for_0 = (1 / len(train_y_grp[train_y_grp == 0])) * (len(train_y_grp) / 2.0)\n",
    "            weight_for_1 = (1 / len(train_y_grp[train_y_grp == 1])) * (len(train_y_grp) / 2.0)\n",
    "\n",
    "            class_weight = {0: weight_for_0, 1: weight_for_1}\n",
    "\n",
    "            print('Weight for class 0: {:.2f}'.format(weight_for_0))\n",
    "            print('Weight for class 1: {:.2f}'.format(weight_for_1))\n",
    "            # create model for each group\n",
    "            grp_model = create_simple_model(lr=lr, momentum=momentum, verbose=False, learning_decay=learning_decay)\n",
    "            # callback = tf.keras.callbacks.EarlyStopping(monitor='loss', patience=5)\n",
    "\n",
    "            # fit models\n",
    "            hist = grp_model.fit(x=np.expand_dims(train_x_grp, axis=3), y=train_y_grp, batch_size=64, epochs=50, verbose=1, class_weight=class_weight)\n",
    "\n",
    "            self.models.append(grp_model)\n",
    "\n",
    "    def predict(self, image):\n",
    "        preds = []\n",
    "        for g, group in enumerate(self.groups):\n",
    "            grp_weights = [self.models[g].get_layer(\"conv_1\").weights[0],\n",
    "                           self.models[g].get_layer(\"conv_2\").weights[0],\n",
    "                           self.models[g].get_layer(\"conv_3\").weights[0],\n",
    "                           self.models[g].get_layer(\"conv_4\").weights[0]]\n",
    "            for primer in group:\n",
    "                # compute n_rotate\n",
    "                n_rotate = primer%self.n_max_group\n",
    "\n",
    "                # get weights\n",
    "                weights = []\n",
    "                for w in grp_weights:\n",
    "                    rot_weights = np.rot90(w.numpy(), n_rotate, axes=(0, 1))\n",
    "                    weights.append(rot_weights)  # tf weights:[k_size, k_size, n_in_chanel, n_out_chanel]\n",
    "\n",
    "                # predict primers\n",
    "                primers = predict_primer(image, weights)\n",
    "                preds.append(primers)\n",
    "\n",
    "        return preds\n"
   ],
   "metadata": {
    "collapsed": false,
    "pycharm": {
     "name": "#%%\n"
    }
   }
  },
  {
   "cell_type": "code",
   "execution_count": 102,
   "outputs": [],
   "source": [
    "# build landmark detectors\n",
    "groups = [[0, 1, 2, 3],  # I (end) primers\n",
    "          [4, 5, 6, 7],  # T primers\n",
    "          [8, 9, 10, 11],  # L (corner) primers\n",
    "          [12]]  # X primers\n",
    "pimer_detector = LNet(groups)"
   ],
   "metadata": {
    "collapsed": false,
    "pycharm": {
     "name": "#%%\n"
    }
   }
  },
  {
   "cell_type": "code",
   "execution_count": 103,
   "outputs": [
    {
     "name": "stdout",
     "output_type": "stream",
     "text": [
      "group: [0, 1, 2, 3]\n",
      "Weight for class 0: 0.81\n",
      "Weight for class 1: 1.31\n",
      "WARNING:tensorflow:sample_weight modes were coerced from\n",
      "  ...\n",
      "    to  \n",
      "  ['...']\n",
      "Train on 603 samples\n",
      "Epoch 1/50\n",
      "603/603 [==============================] - 1s 2ms/sample - loss: 0.5044\n",
      "Epoch 2/50\n",
      "603/603 [==============================] - 0s 157us/sample - loss: 0.4611\n",
      "Epoch 3/50\n",
      "603/603 [==============================] - 0s 245us/sample - loss: 0.3402\n",
      "Epoch 4/50\n",
      "603/603 [==============================] - 0s 138us/sample - loss: 0.1993\n",
      "Epoch 5/50\n",
      "603/603 [==============================] - 0s 143us/sample - loss: 0.1501\n",
      "Epoch 6/50\n",
      "603/603 [==============================] - 0s 197us/sample - loss: 0.1397\n",
      "Epoch 7/50\n",
      "603/603 [==============================] - 0s 182us/sample - loss: 0.1222\n",
      "Epoch 8/50\n",
      "603/603 [==============================] - 0s 167us/sample - loss: 0.0996\n",
      "Epoch 9/50\n",
      "603/603 [==============================] - 0s 147us/sample - loss: 0.0928\n",
      "Epoch 10/50\n",
      "603/603 [==============================] - 0s 212us/sample - loss: 0.0871\n",
      "Epoch 11/50\n",
      "603/603 [==============================] - 0s 209us/sample - loss: 0.0833\n",
      "Epoch 12/50\n",
      "603/603 [==============================] - 0s 238us/sample - loss: 0.0794\n",
      "Epoch 13/50\n",
      "603/603 [==============================] - 0s 227us/sample - loss: 0.0755\n",
      "Epoch 14/50\n",
      "603/603 [==============================] - 0s 205us/sample - loss: 0.0780\n",
      "Epoch 15/50\n",
      "603/603 [==============================] - 0s 181us/sample - loss: 0.0700\n",
      "Epoch 16/50\n",
      "603/603 [==============================] - 0s 189us/sample - loss: 0.0705\n",
      "Epoch 17/50\n",
      "603/603 [==============================] - 0s 164us/sample - loss: 0.0647\n",
      "Epoch 18/50\n",
      "603/603 [==============================] - 0s 193us/sample - loss: 0.0734\n",
      "Epoch 19/50\n",
      "603/603 [==============================] - 0s 165us/sample - loss: 0.0640\n",
      "Epoch 20/50\n",
      "603/603 [==============================] - 0s 204us/sample - loss: 0.0629\n",
      "Epoch 21/50\n",
      "603/603 [==============================] - 0s 195us/sample - loss: 0.0747\n",
      "Epoch 22/50\n",
      "603/603 [==============================] - 0s 142us/sample - loss: 0.0791\n",
      "Epoch 23/50\n",
      "603/603 [==============================] - 0s 174us/sample - loss: 0.0759\n",
      "Epoch 24/50\n",
      "603/603 [==============================] - 0s 191us/sample - loss: 0.0722\n",
      "Epoch 25/50\n",
      "603/603 [==============================] - 0s 257us/sample - loss: 0.0645\n",
      "Epoch 26/50\n",
      "603/603 [==============================] - 0s 247us/sample - loss: 0.0580\n",
      "Epoch 27/50\n",
      "603/603 [==============================] - 0s 220us/sample - loss: 0.0710\n",
      "Epoch 28/50\n",
      "603/603 [==============================] - 0s 240us/sample - loss: 0.0567\n",
      "Epoch 29/50\n",
      "603/603 [==============================] - 0s 247us/sample - loss: 0.0591\n",
      "Epoch 30/50\n",
      "603/603 [==============================] - 0s 269us/sample - loss: 0.0664\n",
      "Epoch 31/50\n",
      "603/603 [==============================] - 0s 195us/sample - loss: 0.0531\n",
      "Epoch 32/50\n",
      "603/603 [==============================] - 0s 243us/sample - loss: 0.0507\n",
      "Epoch 33/50\n",
      "603/603 [==============================] - 0s 217us/sample - loss: 0.0784\n",
      "Epoch 34/50\n",
      "603/603 [==============================] - 0s 245us/sample - loss: 0.0630\n",
      "Epoch 35/50\n",
      "603/603 [==============================] - 0s 223us/sample - loss: 0.0529\n",
      "Epoch 36/50\n",
      "603/603 [==============================] - 0s 224us/sample - loss: 0.0515\n",
      "Epoch 37/50\n",
      "603/603 [==============================] - 0s 247us/sample - loss: 0.0497\n",
      "Epoch 38/50\n",
      "603/603 [==============================] - 0s 217us/sample - loss: 0.0479\n",
      "Epoch 39/50\n",
      "603/603 [==============================] - 0s 213us/sample - loss: 0.0449\n",
      "Epoch 40/50\n",
      "603/603 [==============================] - 0s 185us/sample - loss: 0.0469\n",
      "Epoch 41/50\n",
      "603/603 [==============================] - 0s 210us/sample - loss: 0.0448\n",
      "Epoch 42/50\n",
      "603/603 [==============================] - 0s 202us/sample - loss: 0.0483\n",
      "Epoch 43/50\n",
      "603/603 [==============================] - 0s 220us/sample - loss: 0.0484\n",
      "Epoch 44/50\n",
      "603/603 [==============================] - 0s 225us/sample - loss: 0.0440\n",
      "Epoch 45/50\n",
      "603/603 [==============================] - 0s 203us/sample - loss: 0.0673\n",
      "Epoch 46/50\n",
      "603/603 [==============================] - 0s 225us/sample - loss: 0.1059\n",
      "Epoch 47/50\n",
      "603/603 [==============================] - 0s 265us/sample - loss: 0.0677\n",
      "Epoch 48/50\n",
      "603/603 [==============================] - 0s 194us/sample - loss: 0.0451\n",
      "Epoch 49/50\n",
      "603/603 [==============================] - 0s 174us/sample - loss: 0.0550\n",
      "Epoch 50/50\n",
      "603/603 [==============================] - 0s 170us/sample - loss: 0.0479\n",
      "group: [4, 5, 6, 7]\n",
      "Weight for class 0: 0.54\n",
      "Weight for class 1: 7.18\n",
      "WARNING:tensorflow:sample_weight modes were coerced from\n",
      "  ...\n",
      "    to  \n",
      "  ['...']\n",
      "Train on 603 samples\n",
      "Epoch 1/50\n",
      "603/603 [==============================] - 1s 841us/sample - loss: 0.4853\n",
      "Epoch 2/50\n",
      "603/603 [==============================] - 0s 153us/sample - loss: 0.4221\n",
      "Epoch 3/50\n",
      "603/603 [==============================] - 0s 229us/sample - loss: 0.2919\n",
      "Epoch 4/50\n",
      "603/603 [==============================] - 0s 174us/sample - loss: 0.2369\n",
      "Epoch 5/50\n",
      "603/603 [==============================] - 0s 167us/sample - loss: 0.2346\n",
      "Epoch 6/50\n",
      "603/603 [==============================] - 0s 171us/sample - loss: 0.2731\n",
      "Epoch 7/50\n",
      "603/603 [==============================] - 0s 165us/sample - loss: 0.1844\n",
      "Epoch 8/50\n",
      "603/603 [==============================] - 0s 166us/sample - loss: 0.1679\n",
      "Epoch 9/50\n",
      "603/603 [==============================] - 0s 162us/sample - loss: 0.1257\n",
      "Epoch 10/50\n",
      "603/603 [==============================] - 0s 151us/sample - loss: 0.1439\n",
      "Epoch 11/50\n",
      "603/603 [==============================] - 0s 153us/sample - loss: 0.1299\n",
      "Epoch 12/50\n",
      "603/603 [==============================] - 0s 166us/sample - loss: 0.1332\n",
      "Epoch 13/50\n",
      "603/603 [==============================] - 0s 176us/sample - loss: 0.1528\n",
      "Epoch 14/50\n",
      "603/603 [==============================] - 0s 165us/sample - loss: 0.1715\n",
      "Epoch 15/50\n",
      "603/603 [==============================] - 0s 152us/sample - loss: 0.1645\n",
      "Epoch 16/50\n",
      "603/603 [==============================] - 0s 169us/sample - loss: 0.2046\n",
      "Epoch 17/50\n",
      "603/603 [==============================] - 0s 174us/sample - loss: 0.1242\n",
      "Epoch 18/50\n",
      "603/603 [==============================] - 0s 180us/sample - loss: 0.1418\n",
      "Epoch 19/50\n",
      "603/603 [==============================] - 0s 191us/sample - loss: 0.2036\n",
      "Epoch 20/50\n",
      "603/603 [==============================] - 0s 152us/sample - loss: 0.1893\n",
      "Epoch 21/50\n",
      "603/603 [==============================] - 0s 140us/sample - loss: 0.1983\n",
      "Epoch 22/50\n",
      "603/603 [==============================] - 0s 156us/sample - loss: 0.1731\n",
      "Epoch 23/50\n",
      "603/603 [==============================] - 0s 157us/sample - loss: 0.1370\n",
      "Epoch 24/50\n",
      "603/603 [==============================] - 0s 158us/sample - loss: 0.1134\n",
      "Epoch 25/50\n",
      "603/603 [==============================] - 0s 167us/sample - loss: 0.0999\n",
      "Epoch 26/50\n",
      "603/603 [==============================] - 0s 167us/sample - loss: 0.0894\n",
      "Epoch 27/50\n",
      "603/603 [==============================] - 0s 171us/sample - loss: 0.0822\n",
      "Epoch 28/50\n",
      "603/603 [==============================] - 0s 199us/sample - loss: 0.0964\n",
      "Epoch 29/50\n",
      "603/603 [==============================] - 0s 229us/sample - loss: 0.1217\n",
      "Epoch 30/50\n",
      "603/603 [==============================] - 0s 263us/sample - loss: 0.1056\n",
      "Epoch 31/50\n",
      "603/603 [==============================] - 0s 213us/sample - loss: 0.0945\n",
      "Epoch 32/50\n",
      "603/603 [==============================] - 0s 251us/sample - loss: 0.1412\n",
      "Epoch 33/50\n",
      "603/603 [==============================] - 0s 230us/sample - loss: 0.0937\n",
      "Epoch 34/50\n",
      "603/603 [==============================] - 0s 235us/sample - loss: 0.0929\n",
      "Epoch 35/50\n",
      "603/603 [==============================] - 0s 260us/sample - loss: 0.1092\n",
      "Epoch 36/50\n",
      "603/603 [==============================] - 0s 208us/sample - loss: 0.0883\n",
      "Epoch 37/50\n",
      "603/603 [==============================] - 0s 181us/sample - loss: 0.1150\n",
      "Epoch 38/50\n",
      "603/603 [==============================] - 0s 212us/sample - loss: 0.0897\n",
      "Epoch 39/50\n",
      "603/603 [==============================] - 0s 239us/sample - loss: 0.0954\n",
      "Epoch 40/50\n",
      "603/603 [==============================] - 0s 246us/sample - loss: 0.1121\n",
      "Epoch 41/50\n",
      "603/603 [==============================] - 0s 193us/sample - loss: 0.0764\n",
      "Epoch 42/50\n",
      "603/603 [==============================] - 0s 220us/sample - loss: 0.0746\n",
      "Epoch 43/50\n",
      "603/603 [==============================] - 0s 278us/sample - loss: 0.0817\n",
      "Epoch 44/50\n",
      "603/603 [==============================] - 0s 214us/sample - loss: 0.0945\n",
      "Epoch 45/50\n",
      "603/603 [==============================] - 0s 203us/sample - loss: 0.0952\n",
      "Epoch 46/50\n",
      "603/603 [==============================] - 0s 234us/sample - loss: 0.0840\n",
      "Epoch 47/50\n",
      "603/603 [==============================] - 0s 218us/sample - loss: 0.0735\n",
      "Epoch 48/50\n",
      "603/603 [==============================] - 0s 164us/sample - loss: 0.0730\n",
      "Epoch 49/50\n",
      "603/603 [==============================] - 0s 161us/sample - loss: 0.0657\n",
      "Epoch 50/50\n",
      "603/603 [==============================] - 0s 179us/sample - loss: 0.0819\n",
      "group: [8, 9, 10, 11]\n",
      "Weight for class 0: 1.03\n",
      "Weight for class 1: 0.97\n",
      "WARNING:tensorflow:sample_weight modes were coerced from\n",
      "  ...\n",
      "    to  \n",
      "  ['...']\n",
      "Train on 603 samples\n",
      "Epoch 1/50\n",
      "603/603 [==============================] - 1s 880us/sample - loss: 0.4957\n",
      "Epoch 2/50\n",
      "603/603 [==============================] - 0s 167us/sample - loss: 0.4724\n",
      "Epoch 3/50\n",
      "603/603 [==============================] - 0s 170us/sample - loss: 0.4040\n",
      "Epoch 4/50\n",
      "603/603 [==============================] - 0s 167us/sample - loss: 0.2968\n",
      "Epoch 5/50\n",
      "603/603 [==============================] - 0s 179us/sample - loss: 0.2336\n",
      "Epoch 6/50\n",
      "603/603 [==============================] - 0s 177us/sample - loss: 0.2084\n",
      "Epoch 7/50\n",
      "603/603 [==============================] - 0s 170us/sample - loss: 0.1948\n",
      "Epoch 8/50\n",
      "603/603 [==============================] - 0s 166us/sample - loss: 0.1825\n",
      "Epoch 9/50\n",
      "603/603 [==============================] - 0s 179us/sample - loss: 0.1774\n",
      "Epoch 10/50\n",
      "603/603 [==============================] - 0s 208us/sample - loss: 0.1681\n",
      "Epoch 11/50\n",
      "603/603 [==============================] - 0s 213us/sample - loss: 0.1611\n",
      "Epoch 12/50\n",
      "603/603 [==============================] - 0s 166us/sample - loss: 0.1592\n",
      "Epoch 13/50\n",
      "603/603 [==============================] - 0s 200us/sample - loss: 0.1530\n",
      "Epoch 14/50\n",
      "603/603 [==============================] - 0s 176us/sample - loss: 0.1485\n",
      "Epoch 15/50\n",
      "603/603 [==============================] - 0s 168us/sample - loss: 0.1558\n",
      "Epoch 16/50\n",
      "603/603 [==============================] - 0s 181us/sample - loss: 0.1511\n",
      "Epoch 17/50\n",
      "603/603 [==============================] - 0s 211us/sample - loss: 0.1599\n",
      "Epoch 18/50\n",
      "603/603 [==============================] - 0s 239us/sample - loss: 0.1457\n",
      "Epoch 19/50\n",
      "603/603 [==============================] - 0s 231us/sample - loss: 0.1287\n",
      "Epoch 20/50\n",
      "603/603 [==============================] - 0s 213us/sample - loss: 0.1189\n",
      "Epoch 21/50\n",
      "603/603 [==============================] - 0s 191us/sample - loss: 0.1233\n",
      "Epoch 22/50\n",
      "603/603 [==============================] - 0s 173us/sample - loss: 0.1160\n",
      "Epoch 23/50\n",
      "603/603 [==============================] - 0s 174us/sample - loss: 0.1257\n",
      "Epoch 24/50\n",
      "603/603 [==============================] - 0s 159us/sample - loss: 0.1093\n",
      "Epoch 25/50\n",
      "603/603 [==============================] - 0s 219us/sample - loss: 0.1031\n",
      "Epoch 26/50\n",
      "603/603 [==============================] - 0s 221us/sample - loss: 0.1012\n",
      "Epoch 27/50\n",
      "603/603 [==============================] - 0s 182us/sample - loss: 0.1019\n",
      "Epoch 28/50\n",
      "603/603 [==============================] - 0s 209us/sample - loss: 0.1005\n",
      "Epoch 29/50\n",
      "603/603 [==============================] - 0s 208us/sample - loss: 0.1052\n",
      "Epoch 30/50\n",
      "603/603 [==============================] - 0s 178us/sample - loss: 0.1135\n",
      "Epoch 31/50\n",
      "603/603 [==============================] - 0s 176us/sample - loss: 0.1006\n",
      "Epoch 32/50\n",
      "603/603 [==============================] - 0s 172us/sample - loss: 0.1406\n",
      "Epoch 33/50\n",
      "603/603 [==============================] - 0s 204us/sample - loss: 0.1421\n",
      "Epoch 34/50\n",
      "603/603 [==============================] - 0s 189us/sample - loss: 0.1095\n",
      "Epoch 35/50\n",
      "603/603 [==============================] - 0s 181us/sample - loss: 0.1223\n",
      "Epoch 36/50\n",
      "603/603 [==============================] - 0s 185us/sample - loss: 0.1026\n",
      "Epoch 37/50\n",
      "603/603 [==============================] - 0s 188us/sample - loss: 0.0952\n",
      "Epoch 38/50\n",
      "603/603 [==============================] - 0s 206us/sample - loss: 0.0858\n",
      "Epoch 39/50\n",
      "603/603 [==============================] - 0s 193us/sample - loss: 0.0834\n",
      "Epoch 40/50\n",
      "603/603 [==============================] - 0s 184us/sample - loss: 0.0861\n",
      "Epoch 41/50\n",
      "603/603 [==============================] - 0s 186us/sample - loss: 0.1202\n",
      "Epoch 42/50\n",
      "603/603 [==============================] - 0s 188us/sample - loss: 0.1231\n",
      "Epoch 43/50\n",
      "603/603 [==============================] - 0s 194us/sample - loss: 0.0919\n",
      "Epoch 44/50\n",
      "603/603 [==============================] - 0s 196us/sample - loss: 0.0860\n",
      "Epoch 45/50\n",
      "603/603 [==============================] - 0s 192us/sample - loss: 0.0859\n",
      "Epoch 46/50\n",
      "603/603 [==============================] - 0s 175us/sample - loss: 0.0794\n",
      "Epoch 47/50\n",
      "603/603 [==============================] - 0s 208us/sample - loss: 0.0747\n",
      "Epoch 48/50\n",
      "603/603 [==============================] - 0s 203us/sample - loss: 0.0729\n",
      "Epoch 49/50\n",
      "603/603 [==============================] - 0s 181us/sample - loss: 0.0810\n",
      "Epoch 50/50\n",
      "603/603 [==============================] - 0s 190us/sample - loss: 0.0776\n",
      "group: [12]\n",
      "Weight for class 0: 0.52\n",
      "Weight for class 1: 15.08\n",
      "WARNING:tensorflow:sample_weight modes were coerced from\n",
      "  ...\n",
      "    to  \n",
      "  ['...']\n",
      "Train on 603 samples\n",
      "Epoch 1/50\n",
      "603/603 [==============================] - 1s 1ms/sample - loss: 0.4514\n",
      "Epoch 2/50\n",
      "603/603 [==============================] - 0s 234us/sample - loss: 0.4195\n",
      "Epoch 3/50\n",
      "603/603 [==============================] - 0s 205us/sample - loss: 0.3322\n",
      "Epoch 4/50\n",
      "603/603 [==============================] - 0s 167us/sample - loss: 0.2015\n",
      "Epoch 5/50\n",
      "603/603 [==============================] - 0s 188us/sample - loss: 0.2393\n",
      "Epoch 6/50\n",
      "603/603 [==============================] - 0s 190us/sample - loss: 0.2410\n",
      "Epoch 7/50\n",
      "603/603 [==============================] - 0s 178us/sample - loss: 0.1662\n",
      "Epoch 8/50\n",
      "603/603 [==============================] - 0s 191us/sample - loss: 0.2681\n",
      "Epoch 9/50\n",
      "603/603 [==============================] - 0s 223us/sample - loss: 0.3650\n",
      "Epoch 10/50\n",
      "603/603 [==============================] - 0s 142us/sample - loss: 0.2421\n",
      "Epoch 11/50\n",
      "603/603 [==============================] - 0s 271us/sample - loss: 0.1516\n",
      "Epoch 12/50\n",
      "603/603 [==============================] - 0s 286us/sample - loss: 0.1181\n",
      "Epoch 13/50\n",
      "603/603 [==============================] - 0s 262us/sample - loss: 0.1726\n",
      "Epoch 14/50\n",
      "603/603 [==============================] - 0s 235us/sample - loss: 0.1765\n",
      "Epoch 15/50\n",
      "603/603 [==============================] - 0s 260us/sample - loss: 0.2641\n",
      "Epoch 16/50\n",
      "603/603 [==============================] - 0s 221us/sample - loss: 0.1357\n",
      "Epoch 17/50\n",
      "603/603 [==============================] - 0s 301us/sample - loss: 0.1280\n",
      "Epoch 18/50\n",
      "603/603 [==============================] - 0s 191us/sample - loss: 0.1108\n",
      "Epoch 19/50\n",
      "603/603 [==============================] - 0s 176us/sample - loss: 0.2323\n",
      "Epoch 20/50\n",
      "603/603 [==============================] - 0s 209us/sample - loss: 0.3530\n",
      "Epoch 21/50\n",
      "603/603 [==============================] - 0s 269us/sample - loss: 0.2530\n",
      "Epoch 22/50\n",
      "603/603 [==============================] - 0s 222us/sample - loss: 0.1568\n",
      "Epoch 23/50\n",
      "603/603 [==============================] - 0s 226us/sample - loss: 0.1624\n",
      "Epoch 24/50\n",
      "603/603 [==============================] - 0s 217us/sample - loss: 0.1282\n",
      "Epoch 25/50\n",
      "603/603 [==============================] - 0s 214us/sample - loss: 0.1241\n",
      "Epoch 26/50\n",
      "603/603 [==============================] - 0s 205us/sample - loss: 0.1054\n",
      "Epoch 27/50\n",
      "603/603 [==============================] - 0s 226us/sample - loss: 0.1521\n",
      "Epoch 28/50\n",
      "603/603 [==============================] - 0s 246us/sample - loss: 0.1414\n",
      "Epoch 29/50\n",
      "603/603 [==============================] - 0s 218us/sample - loss: 0.1220\n",
      "Epoch 30/50\n",
      "603/603 [==============================] - 0s 242us/sample - loss: 0.1064\n",
      "Epoch 31/50\n",
      "603/603 [==============================] - 0s 209us/sample - loss: 0.1024\n",
      "Epoch 32/50\n",
      "603/603 [==============================] - 0s 248us/sample - loss: 0.0994\n",
      "Epoch 33/50\n",
      "603/603 [==============================] - 0s 149us/sample - loss: 0.0971\n",
      "Epoch 34/50\n",
      "603/603 [==============================] - 0s 257us/sample - loss: 0.0916\n",
      "Epoch 35/50\n",
      "603/603 [==============================] - 0s 220us/sample - loss: 0.0742\n",
      "Epoch 36/50\n",
      "603/603 [==============================] - 0s 219us/sample - loss: 0.1855\n",
      "Epoch 37/50\n",
      "603/603 [==============================] - 0s 217us/sample - loss: 0.1682\n",
      "Epoch 38/50\n",
      "603/603 [==============================] - 0s 242us/sample - loss: 0.1577\n",
      "Epoch 39/50\n",
      "603/603 [==============================] - 0s 206us/sample - loss: 0.1375\n",
      "Epoch 40/50\n",
      "603/603 [==============================] - 0s 197us/sample - loss: 0.1231\n",
      "Epoch 41/50\n",
      "603/603 [==============================] - 0s 213us/sample - loss: 0.0628\n",
      "Epoch 42/50\n",
      "603/603 [==============================] - 0s 173us/sample - loss: 0.0720\n",
      "Epoch 43/50\n",
      "603/603 [==============================] - 0s 206us/sample - loss: 0.1040\n",
      "Epoch 44/50\n",
      "603/603 [==============================] - 0s 224us/sample - loss: 0.0734\n",
      "Epoch 45/50\n",
      "603/603 [==============================] - 0s 220us/sample - loss: 0.0574\n",
      "Epoch 46/50\n",
      "603/603 [==============================] - 0s 225us/sample - loss: 0.0818\n",
      "Epoch 47/50\n",
      "603/603 [==============================] - 0s 254us/sample - loss: 0.0641\n",
      "Epoch 48/50\n",
      "603/603 [==============================] - 0s 224us/sample - loss: 0.0495\n",
      "Epoch 49/50\n",
      "603/603 [==============================] - 0s 178us/sample - loss: 0.0934\n",
      "Epoch 50/50\n",
      "603/603 [==============================] - 0s 180us/sample - loss: 0.1254\n"
     ]
    }
   ],
   "source": [
    "# train model\n",
    "pimer_detector.train(x_train, lmks_pos, lr=0.01, momentum=0.9, learning_decay=True)"
   ],
   "metadata": {
    "collapsed": false,
    "pycharm": {
     "name": "#%%\n"
    }
   }
  },
  {
   "cell_type": "code",
   "execution_count": 104,
   "outputs": [
    {
     "name": "stdout",
     "output_type": "stream",
     "text": [
      "shape preds (13, 28, 28)\n"
     ]
    }
   ],
   "source": [
    "preds = pimer_detector.predict(x_train[2]/255.)\n",
    "print(\"shape preds\", np.shape(preds))"
   ],
   "metadata": {
    "collapsed": false,
    "pycharm": {
     "name": "#%%\n"
    }
   }
  },
  {
   "cell_type": "code",
   "execution_count": 105,
   "outputs": [
    {
     "name": "stderr",
     "output_type": "stream",
     "text": [
      "Clipping input data to the valid range for imshow with RGB data ([0..1] for floats or [0..255] for integers).\n",
      "Clipping input data to the valid range for imshow with RGB data ([0..1] for floats or [0..255] for integers).\n",
      "Clipping input data to the valid range for imshow with RGB data ([0..1] for floats or [0..255] for integers).\n",
      "Clipping input data to the valid range for imshow with RGB data ([0..1] for floats or [0..255] for integers).\n",
      "Clipping input data to the valid range for imshow with RGB data ([0..1] for floats or [0..255] for integers).\n",
      "Clipping input data to the valid range for imshow with RGB data ([0..1] for floats or [0..255] for integers).\n",
      "Clipping input data to the valid range for imshow with RGB data ([0..1] for floats or [0..255] for integers).\n",
      "Clipping input data to the valid range for imshow with RGB data ([0..1] for floats or [0..255] for integers).\n",
      "Clipping input data to the valid range for imshow with RGB data ([0..1] for floats or [0..255] for integers).\n",
      "Clipping input data to the valid range for imshow with RGB data ([0..1] for floats or [0..255] for integers).\n",
      "Clipping input data to the valid range for imshow with RGB data ([0..1] for floats or [0..255] for integers).\n",
      "Clipping input data to the valid range for imshow with RGB data ([0..1] for floats or [0..255] for integers).\n",
      "Clipping input data to the valid range for imshow with RGB data ([0..1] for floats or [0..255] for integers).\n"
     ]
    },
    {
     "data": {
      "text/plain": "<Figure size 432x288 with 13 Axes>",
      "image/png": "[encoded data removed]"
     },
     "metadata": {
      "needs_background": "light"
     },
     "output_type": "display_data"
    }
   ],
   "source": [
    "plt.figure()\n",
    "im_idx = 0\n",
    "for i in range(4):\n",
    "    for j in range(4):\n",
    "        if im_idx < len(preds):\n",
    "            plt.subplot(4, 4, i*4 + j + 1)\n",
    "            plt.axis('off')\n",
    "            rgb_primers = np.repeat(np.expand_dims(preds[im_idx], axis=2), 3, axis=2)\n",
    "            plt.imshow(rgb_primers)\n",
    "            im_idx += 1"
   ],
   "metadata": {
    "collapsed": false,
    "pycharm": {
     "name": "#%%\n"
    }
   }
  },
  {
   "cell_type": "code",
   "execution_count": 110,
   "outputs": [],
   "source": [
    "filt_preds = np.copy(preds)\n",
    "filt_preds[filt_preds < .9] = 0\n",
    "filt_preds[filt_preds > 1] = 1"
   ],
   "metadata": {
    "collapsed": false,
    "pycharm": {
     "name": "#%%\n"
    }
   }
  },
  {
   "cell_type": "code",
   "execution_count": 111,
   "outputs": [
    {
     "data": {
      "text/plain": "<Figure size 432x288 with 13 Axes>",
      "image/png": "[encoded data removed]"
     },
     "metadata": {
      "needs_background": "light"
     },
     "output_type": "display_data"
    }
   ],
   "source": [
    "plt.figure()\n",
    "im_idx = 0\n",
    "for i in range(4):\n",
    "    for j in range(4):\n",
    "        if im_idx < len(filt_preds):\n",
    "            plt.subplot(4, 4, i*4 + j + 1)\n",
    "            plt.axis('off')\n",
    "            rgb_primers = np.repeat(np.expand_dims(filt_preds[im_idx], axis=2), 3, axis=2)\n",
    "            plt.imshow(rgb_primers)\n",
    "            im_idx += 1"
   ],
   "metadata": {
    "collapsed": false,
    "pycharm": {
     "name": "#%%\n"
    }
   }
  },
  {
   "cell_type": "code",
   "execution_count": null,
   "outputs": [],
   "source": [],
   "metadata": {
    "collapsed": false,
    "pycharm": {
     "name": "#%%\n"
    }
   }
  }
 ],
 "metadata": {
  "kernelspec": {
   "display_name": "Python 3",
   "language": "python",
   "name": "python3"
  },
  "language_info": {
   "codemirror_mode": {
    "name": "ipython",
    "version": 2
   },
   "file_extension": ".py",
   "mimetype": "text/x-python",
   "name": "python",
   "nbconvert_exporter": "python",
   "pygments_lexer": "ipython2",
   "version": "2.7.6"
  }
 },
 "nbformat": 4,
 "nbformat_minor": 0
}